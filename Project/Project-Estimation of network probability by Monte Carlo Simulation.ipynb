{
 "metadata": {
  "language_info": {
   "codemirror_mode": {
    "name": "ipython",
    "version": 3
   },
   "file_extension": ".py",
   "mimetype": "text/x-python",
   "name": "python",
   "nbconvert_exporter": "python",
   "pygments_lexer": "ipython3",
   "version": "3.8.8"
  },
  "orig_nbformat": 2,
  "kernelspec": {
   "name": "python388jvsc74a57bd046b9dc6d2b7cffca86f10cfc6629a675913fc288cf586b16d1984440fcaf60c7",
   "display_name": "Python 3.8.8 64-bit ('jnb': conda)"
  }
 },
 "nbformat": 4,
 "nbformat_minor": 2,
 "cells": [
  {
   "source": [
    "### 540 Final Project\n",
    "\n",
    "#### Estimation of network reliability probability by Monte Carlo Simulation "
   ],
   "cell_type": "markdown",
   "metadata": {}
  },
  {
   "source": [
    "Network reliability is a provident filed by the development of the AI and the Internet, A signal sent from A to B in the network must follow a path along any available edges.\n",
    "\n",
    "Impertinent network reliability means that the signal may fail to be transmitted correctly.\n",
    "\n",
    "\n"
   ],
   "cell_type": "markdown",
   "metadata": {}
  },
  {
   "source": [
    "\n",
    "\n",
    "\n",
    "Method: Evaluate the probability of network faliure given specific probabilities for the failure of each egde.\n",
    "\n",
    "Assupution: Consider the simplest case: each egde is assumed to fail independently with the same probability with P.\n",
    "\n",
    "Generate the samples:$\\vec{x}=\\left(x_{1}, x_{2} \\ldots x_{20}\\right)$,where $x_{i}'s$ are independent Bernouli Distribution\n",
    "\n",
    "$$b(\\vec{x})=\\text {number of broken edges in the network} $$\n",
    "\n",
    "$$h(\\vec{x})=\\left\\{\\begin{array}{l}0, \\text { if } A \\text { and } B \\text { are connected (working)} \\\\ 1, \\text { if } A \\text { and } B \\text { are not connected (failure) }\\end{array}\\right.$$\n",
    "\n",
    "\n",
    "Then, the probability of network failure is:\n",
    "\n",
    "\n",
    "$$E[h(\\vec{x})]=\\mu$$\n",
    "\n",
    "\n",
    "However, Calculating the $\\mu$ of any network in realistic size can be a very difficult combinational probelm. \n",
    "\n",
    "So we introduced the `Monte Carlo simulation` to sovle the problem.\n",
    "\n",
    "the first method is Monte Carlo Integration, and the second is Impotance sampling method\n"
   ],
   "cell_type": "markdown",
   "metadata": {}
  },
  {
   "source": [
    "#### 1.1 Draw the network graph\n",
    "\n",
    "#### Assuming that the network is `undirected`, each edge has the same `weight` and `capacity`.\n",
    "\n",
    "Since we would like to study the network failure from the beginnin, we need these assuption, and the results did tell us we can have a lot work to do in the future.\n"
   ],
   "cell_type": "markdown",
   "metadata": {}
  },
  {
   "cell_type": "code",
   "execution_count": 1,
   "metadata": {},
   "outputs": [],
   "source": [
    "import matplotlib.pyplot as plt \n",
    "import networkx as nx "
   ]
  },
  {
   "cell_type": "code",
   "execution_count": 2,
   "metadata": {},
   "outputs": [],
   "source": [
    "Gn = nx.Graph()\n",
    "\n",
    "edges_list = [('A', '1'), ('A', '2'), ('A', '3'), ('A', '4'), ('1', '2'), ('1', '5'), ('1', '6'), ('2', '6'), ('2', '3'), ('3', '7'), ('3', '4'), ('4', '7'), ('4', '8'), ('5', '6'), ('5', 'B'), ('6', '7'), ('6', 'B'), ('7', '8'), ('7', 'B'), ('8', 'B')]\n",
    "\n",
    "pos = {\n",
    "        'A':(-2,0),\n",
    "        '1':(-1,1.5),\n",
    "        '2':(-1,0.5),\n",
    "        '3':(-1,-0.5),\n",
    "        '4':(-1,-1.5),\n",
    "        '5':(0,1.5),\n",
    "        '6': (0,0.5),\n",
    "        '7':(0,-0.5),\n",
    "        '8':(0,-1.5),\n",
    "        'B':(1,-0),\n",
    "       }\n",
    "\n",
    "Gn.add_edges_from(edges_list, weight=1,capacity=1)"
   ]
  },
  {
   "cell_type": "code",
   "execution_count": 148,
   "metadata": {},
   "outputs": [
    {
     "output_type": "execute_result",
     "data": {
      "text/plain": [
       "{('A', '1'): Text(-1.5, 0.75, '$X_1$'),\n",
       " ('A', '2'): Text(-1.5, 0.25, '$X_2$'),\n",
       " ('A', '3'): Text(-1.5, -0.25, '$X_3$'),\n",
       " ('A', '4'): Text(-1.5, -0.75, '$X_4$'),\n",
       " ('1', '2'): Text(-1.0, 1.0, '$X_5$'),\n",
       " ('1', '5'): Text(-0.5, 1.5, '$X_8$'),\n",
       " ('1', '6'): Text(-0.5, 1.0, '$X_9$'),\n",
       " ('2', '6'): Text(-0.5, 0.5, '$X_{10}$'),\n",
       " ('2', '3'): Text(-1.0, 0.0, '$X_{6}$'),\n",
       " ('3', '7'): Text(-0.5, -0.5, '$X_{11}$'),\n",
       " ('3', '4'): Text(-1.0, -1.0, '$X_{7}$'),\n",
       " ('4', '7'): Text(-0.5, -1.0, '$X_{12}$'),\n",
       " ('4', '8'): Text(-0.5, -1.5, '$X_{13}$'),\n",
       " ('5', '6'): Text(0.0, 1.0, '$X_{14}$'),\n",
       " ('5', 'B'): Text(0.5, 0.75, '$X_{17}$'),\n",
       " ('6', '7'): Text(0.0, 0.0, '$X_{15}$'),\n",
       " ('6', 'B'): Text(0.5, 0.25, '$X_{18}$'),\n",
       " ('7', '8'): Text(0.0, -1.0, '$X_{16}$'),\n",
       " ('7', 'B'): Text(0.5, -0.25, '$X_{19}$'),\n",
       " ('8', 'B'): Text(0.5, -0.75, '$X_{20}$')}"
      ]
     },
     "metadata": {},
     "execution_count": 148
    },
    {
     "output_type": "display_data",
     "data": {
      "text/plain": "<Figure size 720x432 with 1 Axes>",
      "image/svg+xml": "<?xml version=\"1.0\" encoding=\"utf-8\" standalone=\"no\"?>\n<!DOCTYPE svg PUBLIC \"-//W3C//DTD SVG 1.1//EN\"\n  \"http://www.w3.org/Graphics/SVG/1.1/DTD/svg11.dtd\">\n<svg height=\"446.4pt\" version=\"1.1\" viewBox=\"0 0 734.4 446.4\" width=\"734.4pt\" xmlns=\"http://www.w3.org/2000/svg\" xmlns:xlink=\"http://www.w3.org/1999/xlink\">\n <metadata>\n  <rdf:RDF xmlns:cc=\"http://creativecommons.org/ns#\" xmlns:dc=\"http://purl.org/dc/elements/1.1/\" xmlns:rdf=\"http://www.w3.org/1999/02/22-rdf-syntax-ns#\">\n   <cc:Work>\n    <dc:type rdf:resource=\"http://purl.org/dc/dcmitype/StillImage\"/>\n    <dc:date>2021-05-10T18:28:18.517431</dc:date>\n    <dc:format>image/svg+xml</dc:format>\n    <dc:creator>\n     <cc:Agent>\n      <dc:title>Matplotlib v3.4.1, https://matplotlib.org/</dc:title>\n     </cc:Agent>\n    </dc:creator>\n   </cc:Work>\n  </rdf:RDF>\n </metadata>\n <defs>\n  <style type=\"text/css\">*{stroke-linecap:butt;stroke-linejoin:round;}</style>\n </defs>\n <g id=\"figure_1\">\n  <g id=\"patch_1\">\n   <path d=\"M 0 446.4 \nL 734.4 446.4 \nL 734.4 0 \nL 0 0 \nz\n\" style=\"fill:#ffffff;\"/>\n  </g>\n  <g id=\"axes_1\">\n   <g id=\"LineCollection_1\">\n    <path clip-path=\"url(#p906ee21c53)\" d=\"M 39.927273 223.2 \nL 258.109091 26.836364 \n\" style=\"fill:none;stroke:#000000;\"/>\n    <path clip-path=\"url(#p906ee21c53)\" d=\"M 39.927273 223.2 \nL 258.109091 157.745455 \n\" style=\"fill:none;stroke:#000000;\"/>\n    <path clip-path=\"url(#p906ee21c53)\" d=\"M 39.927273 223.2 \nL 258.109091 288.654545 \n\" style=\"fill:none;stroke:#000000;\"/>\n    <path clip-path=\"url(#p906ee21c53)\" d=\"M 39.927273 223.2 \nL 258.109091 419.563636 \n\" style=\"fill:none;stroke:#000000;\"/>\n    <path clip-path=\"url(#p906ee21c53)\" d=\"M 258.109091 26.836364 \nL 258.109091 157.745455 \n\" style=\"fill:none;stroke:#000000;\"/>\n    <path clip-path=\"url(#p906ee21c53)\" d=\"M 258.109091 26.836364 \nL 476.290909 26.836364 \n\" style=\"fill:none;stroke:#000000;\"/>\n    <path clip-path=\"url(#p906ee21c53)\" d=\"M 258.109091 26.836364 \nL 476.290909 157.745455 \n\" style=\"fill:none;stroke:#000000;\"/>\n    <path clip-path=\"url(#p906ee21c53)\" d=\"M 258.109091 157.745455 \nL 476.290909 157.745455 \n\" style=\"fill:none;stroke:#000000;\"/>\n    <path clip-path=\"url(#p906ee21c53)\" d=\"M 258.109091 157.745455 \nL 258.109091 288.654545 \n\" style=\"fill:none;stroke:#000000;\"/>\n    <path clip-path=\"url(#p906ee21c53)\" d=\"M 258.109091 288.654545 \nL 476.290909 288.654545 \n\" style=\"fill:none;stroke:#000000;\"/>\n    <path clip-path=\"url(#p906ee21c53)\" d=\"M 258.109091 288.654545 \nL 258.109091 419.563636 \n\" style=\"fill:none;stroke:#000000;\"/>\n    <path clip-path=\"url(#p906ee21c53)\" d=\"M 258.109091 419.563636 \nL 476.290909 288.654545 \n\" style=\"fill:none;stroke:#000000;\"/>\n    <path clip-path=\"url(#p906ee21c53)\" d=\"M 258.109091 419.563636 \nL 476.290909 419.563636 \n\" style=\"fill:none;stroke:#000000;\"/>\n    <path clip-path=\"url(#p906ee21c53)\" d=\"M 476.290909 26.836364 \nL 476.290909 157.745455 \n\" style=\"fill:none;stroke:#000000;\"/>\n    <path clip-path=\"url(#p906ee21c53)\" d=\"M 476.290909 26.836364 \nL 694.472727 223.2 \n\" style=\"fill:none;stroke:#000000;\"/>\n    <path clip-path=\"url(#p906ee21c53)\" d=\"M 476.290909 157.745455 \nL 476.290909 288.654545 \n\" style=\"fill:none;stroke:#000000;\"/>\n    <path clip-path=\"url(#p906ee21c53)\" d=\"M 476.290909 157.745455 \nL 694.472727 223.2 \n\" style=\"fill:none;stroke:#000000;\"/>\n    <path clip-path=\"url(#p906ee21c53)\" d=\"M 476.290909 288.654545 \nL 476.290909 419.563636 \n\" style=\"fill:none;stroke:#000000;\"/>\n    <path clip-path=\"url(#p906ee21c53)\" d=\"M 476.290909 288.654545 \nL 694.472727 223.2 \n\" style=\"fill:none;stroke:#000000;\"/>\n    <path clip-path=\"url(#p906ee21c53)\" d=\"M 476.290909 419.563636 \nL 694.472727 223.2 \n\" style=\"fill:none;stroke:#000000;\"/>\n   </g>\n   <g id=\"text_1\">\n    <g id=\"patch_2\">\n     <path clip-path=\"url(#p906ee21c53)\" d=\"M 150.884082 144.431631 \nL 168.128507 128.911649 \nQ 172.588271 124.897861 168.574483 120.438096 \nL 155.625834 106.050709 \nQ 151.612046 101.590944 147.152281 105.604732 \nL 129.907857 121.124714 \nQ 125.448092 125.138503 129.461881 129.598267 \nL 142.410529 143.985655 \nQ 146.424318 148.44542 150.884082 144.431631 \nz\n\" style=\"fill:#ffffff;stroke:#ffffff;stroke-linejoin:miter;\"/>\n    </g>\n    <g clip-path=\"url(#p906ee21c53)\">\n     <!-- $X_1$ -->\n     <g style=\"fill:#ff0000;\" transform=\"translate(144.087819 136.880227)rotate(-41.987212)scale(0.2 -0.2)\">\n      <defs>\n       <path d=\"M 878 4666 \nL 1516 4666 \nL 2316 2981 \nL 3763 4666 \nL 4500 4666 \nL 2578 2438 \nL 3738 0 \nL 3103 0 \nL 2163 1966 \nL 459 0 \nL -275 0 \nL 1906 2509 \nL 878 4666 \nz\n\" id=\"DejaVuSans-Oblique-58\" transform=\"scale(0.015625)\"/>\n       <path d=\"M 794 531 \nL 1825 531 \nL 1825 4091 \nL 703 3866 \nL 703 4441 \nL 1819 4666 \nL 2450 4666 \nL 2450 531 \nL 3481 531 \nL 3481 0 \nL 794 0 \nL 794 531 \nz\n\" id=\"DejaVuSans-31\" transform=\"scale(0.015625)\"/>\n      </defs>\n      <use transform=\"translate(0 0.09375)\" xlink:href=\"#DejaVuSans-Oblique-58\"/>\n      <use transform=\"translate(68.505859 -16.3125)scale(0.7)\" xlink:href=\"#DejaVuSans-31\"/>\n     </g>\n    </g>\n   </g>\n   <g id=\"text_2\">\n    <g id=\"patch_3\">\n     <path clip-path=\"url(#p906ee21c53)\" d=\"M 142.412473 208.822883 \nL 164.634043 202.156412 \nQ 170.381001 200.432325 168.656913 194.685367 \nL 163.094936 176.145442 \nQ 161.370848 170.398484 155.623891 172.122572 \nL 133.402321 178.789043 \nQ 127.655363 180.51313 129.37945 186.260088 \nL 134.941428 204.800013 \nQ 136.665515 210.54697 142.412473 208.822883 \nz\n\" style=\"fill:#ffffff;stroke:#ffffff;stroke-linejoin:miter;\"/>\n    </g>\n    <g clip-path=\"url(#p906ee21c53)\">\n     <!-- $X_2$ -->\n     <g style=\"fill:#ff0000;\" transform=\"translate(139.493198 199.091967)rotate(-16.699244)scale(0.2 -0.2)\">\n      <defs>\n       <path d=\"M 1228 531 \nL 3431 531 \nL 3431 0 \nL 469 0 \nL 469 531 \nQ 828 903 1448 1529 \nQ 2069 2156 2228 2338 \nQ 2531 2678 2651 2914 \nQ 2772 3150 2772 3378 \nQ 2772 3750 2511 3984 \nQ 2250 4219 1831 4219 \nQ 1534 4219 1204 4116 \nQ 875 4013 500 3803 \nL 500 4441 \nQ 881 4594 1212 4672 \nQ 1544 4750 1819 4750 \nQ 2544 4750 2975 4387 \nQ 3406 4025 3406 3419 \nQ 3406 3131 3298 2873 \nQ 3191 2616 2906 2266 \nQ 2828 2175 2409 1742 \nQ 1991 1309 1228 531 \nz\n\" id=\"DejaVuSans-32\" transform=\"scale(0.015625)\"/>\n      </defs>\n      <use transform=\"translate(0 0.09375)\" xlink:href=\"#DejaVuSans-Oblique-58\"/>\n      <use transform=\"translate(68.505859 -16.3125)scale(0.7)\" xlink:href=\"#DejaVuSans-32\"/>\n     </g>\n    </g>\n   </g>\n   <g id=\"text_3\">\n    <g id=\"patch_4\">\n     <path clip-path=\"url(#p906ee21c53)\" d=\"M 133.402321 267.610957 \nL 155.623891 274.277428 \nQ 161.370848 276.001516 163.094936 270.254558 \nL 168.656913 251.714633 \nQ 170.381001 245.967675 164.634043 244.243588 \nL 142.412473 237.577117 \nQ 136.665515 235.85303 134.941428 241.599987 \nL 129.37945 260.139912 \nQ 127.655363 265.88687 133.402321 267.610957 \nz\n\" style=\"fill:#ffffff;stroke:#ffffff;stroke-linejoin:miter;\"/>\n    </g>\n    <g clip-path=\"url(#p906ee21c53)\">\n     <!-- $X_3$ -->\n     <g style=\"fill:#ff0000;\" transform=\"translate(136.321596 257.880041)rotate(-343.300756)scale(0.2 -0.2)\">\n      <defs>\n       <path d=\"M 2597 2516 \nQ 3050 2419 3304 2112 \nQ 3559 1806 3559 1356 \nQ 3559 666 3084 287 \nQ 2609 -91 1734 -91 \nQ 1441 -91 1130 -33 \nQ 819 25 488 141 \nL 488 750 \nQ 750 597 1062 519 \nQ 1375 441 1716 441 \nQ 2309 441 2620 675 \nQ 2931 909 2931 1356 \nQ 2931 1769 2642 2001 \nQ 2353 2234 1838 2234 \nL 1294 2234 \nL 1294 2753 \nL 1863 2753 \nQ 2328 2753 2575 2939 \nQ 2822 3125 2822 3475 \nQ 2822 3834 2567 4026 \nQ 2313 4219 1838 4219 \nQ 1578 4219 1281 4162 \nQ 984 4106 628 3988 \nL 628 4550 \nQ 988 4650 1302 4700 \nQ 1616 4750 1894 4750 \nQ 2613 4750 3031 4423 \nQ 3450 4097 3450 3541 \nQ 3450 3153 3228 2886 \nQ 3006 2619 2597 2516 \nz\n\" id=\"DejaVuSans-33\" transform=\"scale(0.015625)\"/>\n      </defs>\n      <use transform=\"translate(0 0.09375)\" xlink:href=\"#DejaVuSans-Oblique-58\"/>\n      <use transform=\"translate(68.505859 -16.3125)scale(0.7)\" xlink:href=\"#DejaVuSans-33\"/>\n     </g>\n    </g>\n   </g>\n   <g id=\"text_4\">\n    <g id=\"patch_5\">\n     <path clip-path=\"url(#p906ee21c53)\" d=\"M 129.907857 325.275286 \nL 147.152281 340.795268 \nQ 151.612046 344.809056 155.625834 340.349291 \nL 168.574483 325.961904 \nQ 172.588271 321.502139 168.128507 317.488351 \nL 150.884082 301.968369 \nQ 146.424318 297.95458 142.410529 302.414345 \nL 129.461881 316.801733 \nQ 125.448092 321.261497 129.907857 325.275286 \nz\n\" style=\"fill:#ffffff;stroke:#ffffff;stroke-linejoin:miter;\"/>\n    </g>\n    <g clip-path=\"url(#p906ee21c53)\">\n     <!-- $X_4$ -->\n     <g style=\"fill:#ff0000;\" transform=\"translate(136.704121 317.723882)rotate(-318.012788)scale(0.2 -0.2)\">\n      <defs>\n       <path d=\"M 2419 4116 \nL 825 1625 \nL 2419 1625 \nL 2419 4116 \nz\nM 2253 4666 \nL 3047 4666 \nL 3047 1625 \nL 3713 1625 \nL 3713 1100 \nL 3047 1100 \nL 3047 0 \nL 2419 0 \nL 2419 1100 \nL 313 1100 \nL 313 1709 \nL 2253 4666 \nz\n\" id=\"DejaVuSans-34\" transform=\"scale(0.015625)\"/>\n      </defs>\n      <use transform=\"translate(0 0.09375)\" xlink:href=\"#DejaVuSans-Oblique-58\"/>\n      <use transform=\"translate(68.505859 -16.3125)scale(0.7)\" xlink:href=\"#DejaVuSans-34\"/>\n     </g>\n    </g>\n   </g>\n   <g id=\"text_5\">\n    <g id=\"patch_6\">\n     <path clip-path=\"url(#p906ee21c53)\" d=\"M 242.430966 80.690909 \nL 242.430966 103.890909 \nQ 242.430966 109.890909 248.430966 109.890909 \nL 267.787216 109.890909 \nQ 273.787216 109.890909 273.787216 103.890909 \nL 273.787216 80.690909 \nQ 273.787216 74.690909 267.787216 74.690909 \nL 248.430966 74.690909 \nQ 242.430966 74.690909 242.430966 80.690909 \nz\n\" style=\"fill:#ffffff;stroke:#ffffff;stroke-linejoin:miter;\"/>\n    </g>\n    <g clip-path=\"url(#p906ee21c53)\">\n     <!-- $X_5$ -->\n     <g style=\"fill:#ff0000;\" transform=\"translate(252.590341 80.690909)rotate(-270)scale(0.2 -0.2)\">\n      <defs>\n       <path d=\"M 691 4666 \nL 3169 4666 \nL 3169 4134 \nL 1269 4134 \nL 1269 2991 \nQ 1406 3038 1543 3061 \nQ 1681 3084 1819 3084 \nQ 2600 3084 3056 2656 \nQ 3513 2228 3513 1497 \nQ 3513 744 3044 326 \nQ 2575 -91 1722 -91 \nQ 1428 -91 1123 -41 \nQ 819 9 494 109 \nL 494 744 \nQ 775 591 1075 516 \nQ 1375 441 1709 441 \nQ 2250 441 2565 725 \nQ 2881 1009 2881 1497 \nQ 2881 1984 2565 2268 \nQ 2250 2553 1709 2553 \nQ 1456 2553 1204 2497 \nQ 953 2441 691 2322 \nL 691 4666 \nz\n\" id=\"DejaVuSans-35\" transform=\"scale(0.015625)\"/>\n      </defs>\n      <use transform=\"translate(0 0.09375)\" xlink:href=\"#DejaVuSans-Oblique-58\"/>\n      <use transform=\"translate(68.505859 -16.3125)scale(0.7)\" xlink:href=\"#DejaVuSans-35\"/>\n     </g>\n    </g>\n   </g>\n   <g id=\"text_6\">\n    <g id=\"patch_7\">\n     <path clip-path=\"url(#p906ee21c53)\" d=\"M 355.6 42.514489 \nL 378.8 42.514489 \nQ 384.8 42.514489 384.8 36.514489 \nL 384.8 17.158239 \nQ 384.8 11.158239 378.8 11.158239 \nL 355.6 11.158239 \nQ 349.6 11.158239 349.6 17.158239 \nL 349.6 36.514489 \nQ 349.6 42.514489 355.6 42.514489 \nz\n\" style=\"fill:#ffffff;stroke:#ffffff;stroke-linejoin:miter;\"/>\n    </g>\n    <g clip-path=\"url(#p906ee21c53)\">\n     <!-- $X_8$ -->\n     <g style=\"fill:#ff0000;\" transform=\"translate(355.6 32.355114)scale(0.2 -0.2)\">\n      <defs>\n       <path d=\"M 2034 2216 \nQ 1584 2216 1326 1975 \nQ 1069 1734 1069 1313 \nQ 1069 891 1326 650 \nQ 1584 409 2034 409 \nQ 2484 409 2743 651 \nQ 3003 894 3003 1313 \nQ 3003 1734 2745 1975 \nQ 2488 2216 2034 2216 \nz\nM 1403 2484 \nQ 997 2584 770 2862 \nQ 544 3141 544 3541 \nQ 544 4100 942 4425 \nQ 1341 4750 2034 4750 \nQ 2731 4750 3128 4425 \nQ 3525 4100 3525 3541 \nQ 3525 3141 3298 2862 \nQ 3072 2584 2669 2484 \nQ 3125 2378 3379 2068 \nQ 3634 1759 3634 1313 \nQ 3634 634 3220 271 \nQ 2806 -91 2034 -91 \nQ 1263 -91 848 271 \nQ 434 634 434 1313 \nQ 434 1759 690 2068 \nQ 947 2378 1403 2484 \nz\nM 1172 3481 \nQ 1172 3119 1398 2916 \nQ 1625 2713 2034 2713 \nQ 2441 2713 2670 2916 \nQ 2900 3119 2900 3481 \nQ 2900 3844 2670 4047 \nQ 2441 4250 2034 4250 \nQ 1625 4250 1398 4047 \nQ 1172 3844 1172 3481 \nz\n\" id=\"DejaVuSans-38\" transform=\"scale(0.015625)\"/>\n      </defs>\n      <use transform=\"translate(0 0.09375)\" xlink:href=\"#DejaVuSans-Oblique-58\"/>\n      <use transform=\"translate(68.505859 -16.3125)scale(0.7)\" xlink:href=\"#DejaVuSans-38\"/>\n     </g>\n    </g>\n   </g>\n   <g id=\"text_7\">\n    <g id=\"patch_8\">\n     <path clip-path=\"url(#p906ee21c53)\" d=\"M 349.186753 99.76664 \nL 369.080589 111.702941 \nQ 374.225547 114.789916 377.312521 109.644958 \nL 387.27123 93.047111 \nQ 390.358204 87.902153 385.213247 84.815179 \nL 365.319411 72.878877 \nQ 360.174453 69.791903 357.087479 74.93686 \nL 347.12877 91.534708 \nQ 344.041796 96.679665 349.186753 99.76664 \nz\n\" style=\"fill:#ffffff;stroke:#ffffff;stroke-linejoin:miter;\"/>\n    </g>\n    <g clip-path=\"url(#p906ee21c53)\">\n     <!-- $X_9$ -->\n     <g style=\"fill:#ff0000;\" transform=\"translate(354.413709 91.055047)rotate(-329.036243)scale(0.2 -0.2)\">\n      <defs>\n       <path d=\"M 703 97 \nL 703 672 \nQ 941 559 1184 500 \nQ 1428 441 1663 441 \nQ 2288 441 2617 861 \nQ 2947 1281 2994 2138 \nQ 2813 1869 2534 1725 \nQ 2256 1581 1919 1581 \nQ 1219 1581 811 2004 \nQ 403 2428 403 3163 \nQ 403 3881 828 4315 \nQ 1253 4750 1959 4750 \nQ 2769 4750 3195 4129 \nQ 3622 3509 3622 2328 \nQ 3622 1225 3098 567 \nQ 2575 -91 1691 -91 \nQ 1453 -91 1209 -44 \nQ 966 3 703 97 \nz\nM 1959 2075 \nQ 2384 2075 2632 2365 \nQ 2881 2656 2881 3163 \nQ 2881 3666 2632 3958 \nQ 2384 4250 1959 4250 \nQ 1534 4250 1286 3958 \nQ 1038 3666 1038 3163 \nQ 1038 2656 1286 2365 \nQ 1534 2075 1959 2075 \nz\n\" id=\"DejaVuSans-39\" transform=\"scale(0.015625)\"/>\n      </defs>\n      <use transform=\"translate(0 0.09375)\" xlink:href=\"#DejaVuSans-Oblique-58\"/>\n      <use transform=\"translate(68.505859 -16.3125)scale(0.7)\" xlink:href=\"#DejaVuSans-39\"/>\n     </g>\n    </g>\n   </g>\n   <g id=\"text_8\">\n    <g id=\"patch_9\">\n     <path clip-path=\"url(#p906ee21c53)\" d=\"M 351.1 173.42358 \nL 383.3 173.42358 \nQ 389.3 173.42358 389.3 167.42358 \nL 389.3 148.06733 \nQ 389.3 142.06733 383.3 142.06733 \nL 351.1 142.06733 \nQ 345.1 142.06733 345.1 148.06733 \nL 345.1 167.42358 \nQ 345.1 173.42358 351.1 173.42358 \nz\n\" style=\"fill:#ffffff;stroke:#ffffff;stroke-linejoin:miter;\"/>\n    </g>\n    <g clip-path=\"url(#p906ee21c53)\">\n     <!-- $X_{10}$ -->\n     <g style=\"fill:#ff0000;\" transform=\"translate(351.1 163.264205)scale(0.2 -0.2)\">\n      <defs>\n       <path d=\"M 2034 4250 \nQ 1547 4250 1301 3770 \nQ 1056 3291 1056 2328 \nQ 1056 1369 1301 889 \nQ 1547 409 2034 409 \nQ 2525 409 2770 889 \nQ 3016 1369 3016 2328 \nQ 3016 3291 2770 3770 \nQ 2525 4250 2034 4250 \nz\nM 2034 4750 \nQ 2819 4750 3233 4129 \nQ 3647 3509 3647 2328 \nQ 3647 1150 3233 529 \nQ 2819 -91 2034 -91 \nQ 1250 -91 836 529 \nQ 422 1150 422 2328 \nQ 422 3509 836 4129 \nQ 1250 4750 2034 4750 \nz\n\" id=\"DejaVuSans-30\" transform=\"scale(0.015625)\"/>\n      </defs>\n      <use transform=\"translate(0 0.09375)\" xlink:href=\"#DejaVuSans-Oblique-58\"/>\n      <use transform=\"translate(68.505859 -16.3125)scale(0.7)\" xlink:href=\"#DejaVuSans-31\"/>\n      <use transform=\"translate(113.041992 -16.3125)scale(0.7)\" xlink:href=\"#DejaVuSans-30\"/>\n     </g>\n    </g>\n   </g>\n   <g id=\"text_9\">\n    <g id=\"patch_10\">\n     <path clip-path=\"url(#p906ee21c53)\" d=\"M 242.430966 211.6 \nL 242.430966 234.8 \nQ 242.430966 240.8 248.430966 240.8 \nL 267.787216 240.8 \nQ 273.787216 240.8 273.787216 234.8 \nL 273.787216 211.6 \nQ 273.787216 205.6 267.787216 205.6 \nL 248.430966 205.6 \nQ 242.430966 205.6 242.430966 211.6 \nz\n\" style=\"fill:#ffffff;stroke:#ffffff;stroke-linejoin:miter;\"/>\n    </g>\n    <g clip-path=\"url(#p906ee21c53)\">\n     <!-- $X_{6}$ -->\n     <g style=\"fill:#ff0000;\" transform=\"translate(252.590341 211.6)rotate(-270)scale(0.2 -0.2)\">\n      <defs>\n       <path d=\"M 2113 2584 \nQ 1688 2584 1439 2293 \nQ 1191 2003 1191 1497 \nQ 1191 994 1439 701 \nQ 1688 409 2113 409 \nQ 2538 409 2786 701 \nQ 3034 994 3034 1497 \nQ 3034 2003 2786 2293 \nQ 2538 2584 2113 2584 \nz\nM 3366 4563 \nL 3366 3988 \nQ 3128 4100 2886 4159 \nQ 2644 4219 2406 4219 \nQ 1781 4219 1451 3797 \nQ 1122 3375 1075 2522 \nQ 1259 2794 1537 2939 \nQ 1816 3084 2150 3084 \nQ 2853 3084 3261 2657 \nQ 3669 2231 3669 1497 \nQ 3669 778 3244 343 \nQ 2819 -91 2113 -91 \nQ 1303 -91 875 529 \nQ 447 1150 447 2328 \nQ 447 3434 972 4092 \nQ 1497 4750 2381 4750 \nQ 2619 4750 2861 4703 \nQ 3103 4656 3366 4563 \nz\n\" id=\"DejaVuSans-36\" transform=\"scale(0.015625)\"/>\n      </defs>\n      <use transform=\"translate(0 0.09375)\" xlink:href=\"#DejaVuSans-Oblique-58\"/>\n      <use transform=\"translate(68.505859 -16.3125)scale(0.7)\" xlink:href=\"#DejaVuSans-36\"/>\n     </g>\n    </g>\n   </g>\n   <g id=\"text_10\">\n    <g id=\"patch_11\">\n     <path clip-path=\"url(#p906ee21c53)\" d=\"M 351.1 304.33267 \nL 383.3 304.33267 \nQ 389.3 304.33267 389.3 298.33267 \nL 389.3 278.97642 \nQ 389.3 272.97642 383.3 272.97642 \nL 351.1 272.97642 \nQ 345.1 272.97642 345.1 278.97642 \nL 345.1 298.33267 \nQ 345.1 304.33267 351.1 304.33267 \nz\n\" style=\"fill:#ffffff;stroke:#ffffff;stroke-linejoin:miter;\"/>\n    </g>\n    <g clip-path=\"url(#p906ee21c53)\">\n     <!-- $X_{11}$ -->\n     <g style=\"fill:#ff0000;\" transform=\"translate(351.1 294.173295)scale(0.2 -0.2)\">\n      <use transform=\"translate(0 0.09375)\" xlink:href=\"#DejaVuSans-Oblique-58\"/>\n      <use transform=\"translate(68.505859 -16.3125)scale(0.7)\" xlink:href=\"#DejaVuSans-31\"/>\n      <use transform=\"translate(113.041992 -16.3125)scale(0.7)\" xlink:href=\"#DejaVuSans-31\"/>\n     </g>\n    </g>\n   </g>\n   <g id=\"text_11\">\n    <g id=\"patch_12\">\n     <path clip-path=\"url(#p906ee21c53)\" d=\"M 242.430966 342.509091 \nL 242.430966 365.709091 \nQ 242.430966 371.709091 248.430966 371.709091 \nL 267.787216 371.709091 \nQ 273.787216 371.709091 273.787216 365.709091 \nL 273.787216 342.509091 \nQ 273.787216 336.509091 267.787216 336.509091 \nL 248.430966 336.509091 \nQ 242.430966 336.509091 242.430966 342.509091 \nz\n\" style=\"fill:#ffffff;stroke:#ffffff;stroke-linejoin:miter;\"/>\n    </g>\n    <g clip-path=\"url(#p906ee21c53)\">\n     <!-- $X_{7}$ -->\n     <g style=\"fill:#ff0000;\" transform=\"translate(252.590341 342.509091)rotate(-270)scale(0.2 -0.2)\">\n      <defs>\n       <path d=\"M 525 4666 \nL 3525 4666 \nL 3525 4397 \nL 1831 0 \nL 1172 0 \nL 2766 4134 \nL 525 4134 \nL 525 4666 \nz\n\" id=\"DejaVuSans-37\" transform=\"scale(0.015625)\"/>\n      </defs>\n      <use transform=\"translate(0 0.09375)\" xlink:href=\"#DejaVuSans-Oblique-58\"/>\n      <use transform=\"translate(68.505859 -16.3125)scale(0.7)\" xlink:href=\"#DejaVuSans-37\"/>\n     </g>\n    </g>\n   </g>\n   <g id=\"text_12\">\n    <g id=\"patch_13\">\n     <path clip-path=\"url(#p906ee21c53)\" d=\"M 361.460693 375.836354 \nL 389.071965 359.269591 \nQ 394.216922 356.182616 391.129948 351.037658 \nL 381.171239 334.439811 \nQ 378.084265 329.294853 372.939307 332.381828 \nL 345.328035 348.948591 \nQ 340.183078 352.035566 343.270052 357.180523 \nL 353.228761 373.778371 \nQ 356.315735 378.923328 361.460693 375.836354 \nz\n\" style=\"fill:#ffffff;stroke:#ffffff;stroke-linejoin:miter;\"/>\n    </g>\n    <g clip-path=\"url(#p906ee21c53)\">\n     <!-- $X_{12}$ -->\n     <g style=\"fill:#ff0000;\" transform=\"translate(356.233737 367.124762)rotate(-30.963757)scale(0.2 -0.2)\">\n      <use transform=\"translate(0 0.09375)\" xlink:href=\"#DejaVuSans-Oblique-58\"/>\n      <use transform=\"translate(68.505859 -16.3125)scale(0.7)\" xlink:href=\"#DejaVuSans-31\"/>\n      <use transform=\"translate(113.041992 -16.3125)scale(0.7)\" xlink:href=\"#DejaVuSans-32\"/>\n     </g>\n    </g>\n   </g>\n   <g id=\"text_13\">\n    <g id=\"patch_14\">\n     <path clip-path=\"url(#p906ee21c53)\" d=\"M 351.1 435.241761 \nL 383.3 435.241761 \nQ 389.3 435.241761 389.3 429.241761 \nL 389.3 409.885511 \nQ 389.3 403.885511 383.3 403.885511 \nL 351.1 403.885511 \nQ 345.1 403.885511 345.1 409.885511 \nL 345.1 429.241761 \nQ 345.1 435.241761 351.1 435.241761 \nz\n\" style=\"fill:#ffffff;stroke:#ffffff;stroke-linejoin:miter;\"/>\n    </g>\n    <g clip-path=\"url(#p906ee21c53)\">\n     <!-- $X_{13}$ -->\n     <g style=\"fill:#ff0000;\" transform=\"translate(351.1 425.082386)scale(0.2 -0.2)\">\n      <use transform=\"translate(0 0.09375)\" xlink:href=\"#DejaVuSans-Oblique-58\"/>\n      <use transform=\"translate(68.505859 -16.3125)scale(0.7)\" xlink:href=\"#DejaVuSans-31\"/>\n      <use transform=\"translate(113.041992 -16.3125)scale(0.7)\" xlink:href=\"#DejaVuSans-33\"/>\n     </g>\n    </g>\n   </g>\n   <g id=\"text_14\">\n    <g id=\"patch_15\">\n     <path clip-path=\"url(#p906ee21c53)\" d=\"M 460.612784 76.190909 \nL 460.612784 108.390909 \nQ 460.612784 114.390909 466.612784 114.390909 \nL 485.969034 114.390909 \nQ 491.969034 114.390909 491.969034 108.390909 \nL 491.969034 76.190909 \nQ 491.969034 70.190909 485.969034 70.190909 \nL 466.612784 70.190909 \nQ 460.612784 70.190909 460.612784 76.190909 \nz\n\" style=\"fill:#ffffff;stroke:#ffffff;stroke-linejoin:miter;\"/>\n    </g>\n    <g clip-path=\"url(#p906ee21c53)\">\n     <!-- $X_{14}$ -->\n     <g style=\"fill:#ff0000;\" transform=\"translate(470.772159 76.190909)rotate(-270)scale(0.2 -0.2)\">\n      <use transform=\"translate(0 0.09375)\" xlink:href=\"#DejaVuSans-Oblique-58\"/>\n      <use transform=\"translate(68.505859 -16.3125)scale(0.7)\" xlink:href=\"#DejaVuSans-31\"/>\n      <use transform=\"translate(113.041992 -16.3125)scale(0.7)\" xlink:href=\"#DejaVuSans-34\"/>\n     </g>\n    </g>\n   </g>\n   <g id=\"text_15\">\n    <g id=\"patch_16\">\n     <path clip-path=\"url(#p906ee21c53)\" d=\"M 562.92667 125.901308 \nL 586.860741 147.441973 \nQ 591.320506 151.455761 595.334295 146.995996 \nL 608.282943 132.608609 \nQ 612.296731 128.148844 607.836967 124.135055 \nL 583.902895 102.594391 \nQ 579.44313 98.580603 575.429342 103.040368 \nL 562.480693 117.427755 \nQ 558.466905 121.88752 562.92667 125.901308 \nz\n\" style=\"fill:#ffffff;stroke:#ffffff;stroke-linejoin:miter;\"/>\n    </g>\n    <g clip-path=\"url(#p906ee21c53)\">\n     <!-- $X_{17}$ -->\n     <g style=\"fill:#ff0000;\" transform=\"translate(569.722933 118.349904)rotate(-318.012788)scale(0.2 -0.2)\">\n      <use transform=\"translate(0 0.09375)\" xlink:href=\"#DejaVuSans-Oblique-58\"/>\n      <use transform=\"translate(68.505859 -16.3125)scale(0.7)\" xlink:href=\"#DejaVuSans-31\"/>\n      <use transform=\"translate(113.041992 -16.3125)scale(0.7)\" xlink:href=\"#DejaVuSans-37\"/>\n     </g>\n    </g>\n   </g>\n   <g id=\"text_16\">\n    <g id=\"patch_17\">\n     <path clip-path=\"url(#p906ee21c53)\" d=\"M 460.612784 207.1 \nL 460.612784 239.3 \nQ 460.612784 245.3 466.612784 245.3 \nL 485.969034 245.3 \nQ 491.969034 245.3 491.969034 239.3 \nL 491.969034 207.1 \nQ 491.969034 201.1 485.969034 201.1 \nL 466.612784 201.1 \nQ 460.612784 201.1 460.612784 207.1 \nz\n\" style=\"fill:#ffffff;stroke:#ffffff;stroke-linejoin:miter;\"/>\n    </g>\n    <g clip-path=\"url(#p906ee21c53)\">\n     <!-- $X_{15}$ -->\n     <g style=\"fill:#ff0000;\" transform=\"translate(470.772159 207.1)rotate(-270)scale(0.2 -0.2)\">\n      <use transform=\"translate(0 0.09375)\" xlink:href=\"#DejaVuSans-Oblique-58\"/>\n      <use transform=\"translate(68.505859 -16.3125)scale(0.7)\" xlink:href=\"#DejaVuSans-31\"/>\n      <use transform=\"translate(113.041992 -16.3125)scale(0.7)\" xlink:href=\"#DejaVuSans-35\"/>\n     </g>\n    </g>\n   </g>\n   <g id=\"text_17\">\n    <g id=\"patch_18\">\n     <path clip-path=\"url(#p906ee21c53)\" d=\"M 565.455739 200.863347 \nL 596.297745 210.115948 \nQ 602.044703 211.840036 603.76879 206.093078 \nL 609.330768 187.553153 \nQ 611.054855 181.806195 605.307897 180.082108 \nL 574.465891 170.829506 \nQ 568.718933 169.105419 566.994846 174.852376 \nL 561.432869 193.392302 \nQ 559.708781 199.139259 565.455739 200.863347 \nz\n\" style=\"fill:#ffffff;stroke:#ffffff;stroke-linejoin:miter;\"/>\n    </g>\n    <g clip-path=\"url(#p906ee21c53)\">\n     <!-- $X_{18}$ -->\n     <g style=\"fill:#ff0000;\" transform=\"translate(568.375014 191.13243)rotate(-343.300756)scale(0.2 -0.2)\">\n      <use transform=\"translate(0 0.09375)\" xlink:href=\"#DejaVuSans-Oblique-58\"/>\n      <use transform=\"translate(68.505859 -16.3125)scale(0.7)\" xlink:href=\"#DejaVuSans-31\"/>\n      <use transform=\"translate(113.041992 -16.3125)scale(0.7)\" xlink:href=\"#DejaVuSans-38\"/>\n     </g>\n    </g>\n   </g>\n   <g id=\"text_18\">\n    <g id=\"patch_19\">\n     <path clip-path=\"url(#p906ee21c53)\" d=\"M 460.612784 338.009091 \nL 460.612784 370.209091 \nQ 460.612784 376.209091 466.612784 376.209091 \nL 485.969034 376.209091 \nQ 491.969034 376.209091 491.969034 370.209091 \nL 491.969034 338.009091 \nQ 491.969034 332.009091 485.969034 332.009091 \nL 466.612784 332.009091 \nQ 460.612784 332.009091 460.612784 338.009091 \nz\n\" style=\"fill:#ffffff;stroke:#ffffff;stroke-linejoin:miter;\"/>\n    </g>\n    <g clip-path=\"url(#p906ee21c53)\">\n     <!-- $X_{16}$ -->\n     <g style=\"fill:#ff0000;\" transform=\"translate(470.772159 338.009091)rotate(-270)scale(0.2 -0.2)\">\n      <use transform=\"translate(0 0.09375)\" xlink:href=\"#DejaVuSans-Oblique-58\"/>\n      <use transform=\"translate(68.505859 -16.3125)scale(0.7)\" xlink:href=\"#DejaVuSans-31\"/>\n      <use transform=\"translate(113.041992 -16.3125)scale(0.7)\" xlink:href=\"#DejaVuSans-36\"/>\n     </g>\n    </g>\n   </g>\n   <g id=\"text_19\">\n    <g id=\"patch_20\">\n     <path clip-path=\"url(#p906ee21c53)\" d=\"M 574.465891 275.570494 \nL 605.307897 266.317892 \nQ 611.054855 264.593805 609.330768 258.846847 \nL 603.76879 240.306922 \nQ 602.044703 234.559964 596.297745 236.284052 \nL 565.455739 245.536653 \nQ 559.708781 247.260741 561.432869 253.007698 \nL 566.994846 271.547624 \nQ 568.718933 277.294581 574.465891 275.570494 \nz\n\" style=\"fill:#ffffff;stroke:#ffffff;stroke-linejoin:miter;\"/>\n    </g>\n    <g clip-path=\"url(#p906ee21c53)\">\n     <!-- $X_{19}$ -->\n     <g style=\"fill:#ff0000;\" transform=\"translate(571.546616 265.839577)rotate(-16.699244)scale(0.2 -0.2)\">\n      <use transform=\"translate(0 0.09375)\" xlink:href=\"#DejaVuSans-Oblique-58\"/>\n      <use transform=\"translate(68.505859 -16.3125)scale(0.7)\" xlink:href=\"#DejaVuSans-31\"/>\n      <use transform=\"translate(113.041992 -16.3125)scale(0.7)\" xlink:href=\"#DejaVuSans-39\"/>\n     </g>\n    </g>\n   </g>\n   <g id=\"text_20\">\n    <g id=\"patch_21\">\n     <path clip-path=\"url(#p906ee21c53)\" d=\"M 583.902895 343.805609 \nL 607.836967 322.264945 \nQ 612.296731 318.251156 608.282943 313.791391 \nL 595.334295 299.404004 \nQ 591.320506 294.944239 586.860741 298.958027 \nL 562.92667 320.498692 \nQ 558.466905 324.51248 562.480693 328.972245 \nL 575.429342 343.359632 \nQ 579.44313 347.819397 583.902895 343.805609 \nz\n\" style=\"fill:#ffffff;stroke:#ffffff;stroke-linejoin:miter;\"/>\n    </g>\n    <g clip-path=\"url(#p906ee21c53)\">\n     <!-- $X_{20}$ -->\n     <g style=\"fill:#ff0000;\" transform=\"translate(577.106632 336.254205)rotate(-41.987212)scale(0.2 -0.2)\">\n      <use transform=\"translate(0 0.09375)\" xlink:href=\"#DejaVuSans-Oblique-58\"/>\n      <use transform=\"translate(68.505859 -16.3125)scale(0.7)\" xlink:href=\"#DejaVuSans-32\"/>\n      <use transform=\"translate(113.041992 -16.3125)scale(0.7)\" xlink:href=\"#DejaVuSans-30\"/>\n     </g>\n    </g>\n   </g>\n   <g id=\"PathCollection_1\">\n    <defs>\n     <path d=\"M 0 11.18034 \nC 2.965061 11.18034 5.80908 10.002309 7.905694 7.905694 \nC 10.002309 5.80908 11.18034 2.965061 11.18034 0 \nC 11.18034 -2.965061 10.002309 -5.80908 7.905694 -7.905694 \nC 5.80908 -10.002309 2.965061 -11.18034 0 -11.18034 \nC -2.965061 -11.18034 -5.80908 -10.002309 -7.905694 -7.905694 \nC -10.002309 -5.80908 -11.18034 -2.965061 -11.18034 0 \nC -11.18034 2.965061 -10.002309 5.80908 -7.905694 7.905694 \nC -5.80908 10.002309 -2.965061 11.18034 0 11.18034 \nz\n\" id=\"mbe4086df90\" style=\"stroke:#ffff00;\"/>\n    </defs>\n    <g clip-path=\"url(#p906ee21c53)\">\n     <use style=\"fill:#ffff00;stroke:#ffff00;\" x=\"39.927273\" xlink:href=\"#mbe4086df90\" y=\"223.2\"/>\n     <use style=\"fill:#ffff00;stroke:#ffff00;\" x=\"258.109091\" xlink:href=\"#mbe4086df90\" y=\"26.836364\"/>\n     <use style=\"fill:#ffff00;stroke:#ffff00;\" x=\"258.109091\" xlink:href=\"#mbe4086df90\" y=\"157.745455\"/>\n     <use style=\"fill:#ffff00;stroke:#ffff00;\" x=\"258.109091\" xlink:href=\"#mbe4086df90\" y=\"288.654545\"/>\n     <use style=\"fill:#ffff00;stroke:#ffff00;\" x=\"258.109091\" xlink:href=\"#mbe4086df90\" y=\"419.563636\"/>\n     <use style=\"fill:#ffff00;stroke:#ffff00;\" x=\"476.290909\" xlink:href=\"#mbe4086df90\" y=\"26.836364\"/>\n     <use style=\"fill:#ffff00;stroke:#ffff00;\" x=\"476.290909\" xlink:href=\"#mbe4086df90\" y=\"157.745455\"/>\n     <use style=\"fill:#ffff00;stroke:#ffff00;\" x=\"476.290909\" xlink:href=\"#mbe4086df90\" y=\"288.654545\"/>\n     <use style=\"fill:#ffff00;stroke:#ffff00;\" x=\"476.290909\" xlink:href=\"#mbe4086df90\" y=\"419.563636\"/>\n     <use style=\"fill:#ffff00;stroke:#ffff00;\" x=\"694.472727\" xlink:href=\"#mbe4086df90\" y=\"223.2\"/>\n    </g>\n   </g>\n   <g id=\"text_21\">\n    <g clip-path=\"url(#p906ee21c53)\">\n     <!-- A -->\n     <g transform=\"translate(35.822898 226.51125)scale(0.12 -0.12)\">\n      <defs>\n       <path d=\"M 2188 4044 \nL 1331 1722 \nL 3047 1722 \nL 2188 4044 \nz\nM 1831 4666 \nL 2547 4666 \nL 4325 0 \nL 3669 0 \nL 3244 1197 \nL 1141 1197 \nL 716 0 \nL 50 0 \nL 1831 4666 \nz\n\" id=\"DejaVuSans-41\" transform=\"scale(0.015625)\"/>\n      </defs>\n      <use xlink:href=\"#DejaVuSans-41\"/>\n     </g>\n    </g>\n   </g>\n   <g id=\"text_22\">\n    <g clip-path=\"url(#p906ee21c53)\">\n     <!-- 1 -->\n     <g transform=\"translate(254.291591 30.147614)scale(0.12 -0.12)\">\n      <use xlink:href=\"#DejaVuSans-31\"/>\n     </g>\n    </g>\n   </g>\n   <g id=\"text_23\">\n    <g clip-path=\"url(#p906ee21c53)\">\n     <!-- 2 -->\n     <g transform=\"translate(254.291591 161.056705)scale(0.12 -0.12)\">\n      <use xlink:href=\"#DejaVuSans-32\"/>\n     </g>\n    </g>\n   </g>\n   <g id=\"text_24\">\n    <g clip-path=\"url(#p906ee21c53)\">\n     <!-- 3 -->\n     <g transform=\"translate(254.291591 291.965795)scale(0.12 -0.12)\">\n      <use xlink:href=\"#DejaVuSans-33\"/>\n     </g>\n    </g>\n   </g>\n   <g id=\"text_25\">\n    <g clip-path=\"url(#p906ee21c53)\">\n     <!-- 4 -->\n     <g transform=\"translate(254.291591 422.874886)scale(0.12 -0.12)\">\n      <use xlink:href=\"#DejaVuSans-34\"/>\n     </g>\n    </g>\n   </g>\n   <g id=\"text_26\">\n    <g clip-path=\"url(#p906ee21c53)\">\n     <!-- 5 -->\n     <g transform=\"translate(472.473409 30.147614)scale(0.12 -0.12)\">\n      <use xlink:href=\"#DejaVuSans-35\"/>\n     </g>\n    </g>\n   </g>\n   <g id=\"text_27\">\n    <g clip-path=\"url(#p906ee21c53)\">\n     <!-- 6 -->\n     <g transform=\"translate(472.473409 161.056705)scale(0.12 -0.12)\">\n      <use xlink:href=\"#DejaVuSans-36\"/>\n     </g>\n    </g>\n   </g>\n   <g id=\"text_28\">\n    <g clip-path=\"url(#p906ee21c53)\">\n     <!-- 7 -->\n     <g transform=\"translate(472.473409 291.965795)scale(0.12 -0.12)\">\n      <use xlink:href=\"#DejaVuSans-37\"/>\n     </g>\n    </g>\n   </g>\n   <g id=\"text_29\">\n    <g clip-path=\"url(#p906ee21c53)\">\n     <!-- 8 -->\n     <g transform=\"translate(472.473409 422.874886)scale(0.12 -0.12)\">\n      <use xlink:href=\"#DejaVuSans-38\"/>\n     </g>\n    </g>\n   </g>\n   <g id=\"text_30\">\n    <g clip-path=\"url(#p906ee21c53)\">\n     <!-- B -->\n     <g transform=\"translate(690.356165 226.51125)scale(0.12 -0.12)\">\n      <defs>\n       <path d=\"M 1259 2228 \nL 1259 519 \nL 2272 519 \nQ 2781 519 3026 730 \nQ 3272 941 3272 1375 \nQ 3272 1813 3026 2020 \nQ 2781 2228 2272 2228 \nL 1259 2228 \nz\nM 1259 4147 \nL 1259 2741 \nL 2194 2741 \nQ 2656 2741 2882 2914 \nQ 3109 3088 3109 3444 \nQ 3109 3797 2882 3972 \nQ 2656 4147 2194 4147 \nL 1259 4147 \nz\nM 628 4666 \nL 2241 4666 \nQ 2963 4666 3353 4366 \nQ 3744 4066 3744 3513 \nQ 3744 3084 3544 2831 \nQ 3344 2578 2956 2516 \nQ 3422 2416 3680 2098 \nQ 3938 1781 3938 1306 \nQ 3938 681 3513 340 \nQ 3088 0 2303 0 \nL 628 0 \nL 628 4666 \nz\n\" id=\"DejaVuSans-42\" transform=\"scale(0.015625)\"/>\n      </defs>\n      <use xlink:href=\"#DejaVuSans-42\"/>\n     </g>\n    </g>\n   </g>\n  </g>\n </g>\n <defs>\n  <clipPath id=\"p906ee21c53\">\n   <rect height=\"432\" width=\"720\" x=\"7.2\" y=\"7.2\"/>\n  </clipPath>\n </defs>\n</svg>\n",
      "image/png": "[encoded data removed]"
     },
     "metadata": {}
    }
   ],
   "source": [
    "plt.figure(figsize=(10,6))\n",
    "\n",
    "nx.draw(Gn, pos= pos,with_labels=True,node_size=500,node_color='yellow')\n",
    "\n",
    "# labeling the edges\n",
    "nx.draw_networkx_edge_labels(Gn,pos,edge_labels={('A','1'):'$X_1$', ('A', '2'):'$X_2$',('A', '3'):\"$X_3$\", ('A', '4'):\"$X_4$\",('1', '2'):\"$X_5$\", ('1', '5'):\"$X_8$\", ('1', '6'):\"$X_9$\", ('2', '6'):\"$X_{10}$\", ('2', '3'):\"$X_{6}$\", ('3', '7'):\"$X_{11}$\", ('3', '4'):\"$X_{7}$\", ('4', '7'):\"$X_{12}$\", ('4', '8'):\"$X_{13}$\", ('5', '6'):\"$X_{14}$\", ('5', 'B'):\"$X_{17}$\", ('6', '7'):\"$X_{15}$\", ('6', 'B'):\"$X_{18}$\", ('7', '8'):\"$X_{16}$\", ('7', 'B'):\"$X_{19}$\", ('8', 'B'):\"$X_{20}$\"} ,font_size=20,font_color='red')\n",
    "\n",
    "# plt.savefig(\"Evaluation of network reliability.png\")"
   ]
  },
  {
   "source": [
    "#### 1.2 Find the minimal cut of the network"
   ],
   "cell_type": "markdown",
   "metadata": {}
  },
  {
   "cell_type": "code",
   "execution_count": 111,
   "metadata": {},
   "outputs": [
    {
     "output_type": "stream",
     "name": "stdout",
     "text": [
      "The minimal cut is [('5', 'B'), ('6', 'B'), ('7', 'B'), ('8', 'B')] the cut set is  ({'5', '7', '6', '2', '8', '4', 'A', '3', '1'}, {'B'})\n"
     ]
    }
   ],
   "source": [
    "cut_value, partition = nx.minimum_cut(Gn,  \"A\", \"B\")\n",
    "reachable, non_reachable = partition\n",
    "\n",
    "cutset = set()\n",
    "for u, nbrs in ((n, Gn[n]) for n in reachable):\n",
    "    cutset.update((u, v) for v in nbrs if v in non_reachable)\n",
    "print(f\"The minimal cut is\",sorted(cutset),\"the cut set is \",partition)\n",
    "\n",
    "# cut_value == sum(Gn.edges[u, v][\"capacity\"] for (u, v) in cutset)"
   ]
  },
  {
   "source": [
    "#### So we find the minimal cut of this network, the edges are $X_{17}$ ~ $X_{20}$,which means if the four edges is not working as the same time, the network will fail, the signal will not be transmitted from A to B.Next we will calculted the failure probability."
   ],
   "cell_type": "markdown",
   "metadata": {}
  },
  {
   "source": [
    "#### 2.1 Generate the bernoulli random samples"
   ],
   "cell_type": "markdown",
   "metadata": {}
  },
  {
   "cell_type": "code",
   "execution_count": 112,
   "metadata": {},
   "outputs": [],
   "source": [
    "import numpy as np\n",
    "import pandas as pd\n",
    "import scipy.stats as st\n",
    "from scipy.stats import bernoulli"
   ]
  },
  {
   "cell_type": "code",
   "execution_count": 125,
   "metadata": {},
   "outputs": [
    {
     "output_type": "execute_result",
     "data": {
      "text/plain": [
       "   0   1   2   3   4   5   6   7   8   9   10  11  12  13  14  15  16  17  18  \\\n",
       "0   0   0   0   0   0   0   1   0   0   0   0   1   0   0   0   0   0   0   0   \n",
       "1   0   0   0   0   0   0   0   0   0   0   0   0   0   0   0   0   0   0   0   \n",
       "2   0   0   0   1   0   0   0   0   0   0   0   0   0   0   0   0   1   1   0   \n",
       "3   0   0   0   0   0   0   0   0   1   0   0   0   0   0   1   0   0   0   0   \n",
       "4   1   0   0   0   0   1   0   0   0   0   0   0   1   0   0   0   0   0   0   \n",
       "\n",
       "   19  \n",
       "0   0  \n",
       "1   0  \n",
       "2   0  \n",
       "3   0  \n",
       "4   0  "
      ],
      "text/html": "<div>\n<style scoped>\n    .dataframe tbody tr th:only-of-type {\n        vertical-align: middle;\n    }\n\n    .dataframe tbody tr th {\n        vertical-align: top;\n    }\n\n    .dataframe thead th {\n        text-align: right;\n    }\n</style>\n<table border=\"1\" class=\"dataframe\">\n  <thead>\n    <tr style=\"text-align: right;\">\n      <th></th>\n      <th>0</th>\n      <th>1</th>\n      <th>2</th>\n      <th>3</th>\n      <th>4</th>\n      <th>5</th>\n      <th>6</th>\n      <th>7</th>\n      <th>8</th>\n      <th>9</th>\n      <th>10</th>\n      <th>11</th>\n      <th>12</th>\n      <th>13</th>\n      <th>14</th>\n      <th>15</th>\n      <th>16</th>\n      <th>17</th>\n      <th>18</th>\n      <th>19</th>\n    </tr>\n  </thead>\n  <tbody>\n    <tr>\n      <th>0</th>\n      <td>0</td>\n      <td>0</td>\n      <td>0</td>\n      <td>0</td>\n      <td>0</td>\n      <td>0</td>\n      <td>1</td>\n      <td>0</td>\n      <td>0</td>\n      <td>0</td>\n      <td>0</td>\n      <td>1</td>\n      <td>0</td>\n      <td>0</td>\n      <td>0</td>\n      <td>0</td>\n      <td>0</td>\n      <td>0</td>\n      <td>0</td>\n      <td>0</td>\n    </tr>\n    <tr>\n      <th>1</th>\n      <td>0</td>\n      <td>0</td>\n      <td>0</td>\n      <td>0</td>\n      <td>0</td>\n      <td>0</td>\n      <td>0</td>\n      <td>0</td>\n      <td>0</td>\n      <td>0</td>\n      <td>0</td>\n      <td>0</td>\n      <td>0</td>\n      <td>0</td>\n      <td>0</td>\n      <td>0</td>\n      <td>0</td>\n      <td>0</td>\n      <td>0</td>\n      <td>0</td>\n    </tr>\n    <tr>\n      <th>2</th>\n      <td>0</td>\n      <td>0</td>\n      <td>0</td>\n      <td>1</td>\n      <td>0</td>\n      <td>0</td>\n      <td>0</td>\n      <td>0</td>\n      <td>0</td>\n      <td>0</td>\n      <td>0</td>\n      <td>0</td>\n      <td>0</td>\n      <td>0</td>\n      <td>0</td>\n      <td>0</td>\n      <td>1</td>\n      <td>1</td>\n      <td>0</td>\n      <td>0</td>\n    </tr>\n    <tr>\n      <th>3</th>\n      <td>0</td>\n      <td>0</td>\n      <td>0</td>\n      <td>0</td>\n      <td>0</td>\n      <td>0</td>\n      <td>0</td>\n      <td>0</td>\n      <td>1</td>\n      <td>0</td>\n      <td>0</td>\n      <td>0</td>\n      <td>0</td>\n      <td>0</td>\n      <td>1</td>\n      <td>0</td>\n      <td>0</td>\n      <td>0</td>\n      <td>0</td>\n      <td>0</td>\n    </tr>\n    <tr>\n      <th>4</th>\n      <td>1</td>\n      <td>0</td>\n      <td>0</td>\n      <td>0</td>\n      <td>0</td>\n      <td>1</td>\n      <td>0</td>\n      <td>0</td>\n      <td>0</td>\n      <td>0</td>\n      <td>0</td>\n      <td>0</td>\n      <td>1</td>\n      <td>0</td>\n      <td>0</td>\n      <td>0</td>\n      <td>0</td>\n      <td>0</td>\n      <td>0</td>\n      <td>0</td>\n    </tr>\n  </tbody>\n</table>\n</div>"
     },
     "metadata": {},
     "execution_count": 125
    }
   ],
   "source": [
    "# generate 20-dimension bernoulli verctor\n",
    "np.random.seed(seed=540)\n",
    "\n",
    "N=100000\n",
    "p = 0.1\n",
    "n=20\n",
    "\n",
    "bernoulli_rvs=bernoulli.rvs(size=N * n,p=p)\n",
    "data=np.reshape(np.mat(bernoulli_rvs),(N,n))\n",
    "\n",
    "h_x =pd.DataFrame(data)\n",
    "h_x.head() # samples generated from the bernouli distribution"
   ]
  },
  {
   "source": [
    "#### 2.2 calculate the failure probability of each edge using monte carlo integration "
   ],
   "cell_type": "markdown",
   "metadata": {}
  },
  {
   "cell_type": "code",
   "execution_count": 114,
   "metadata": {},
   "outputs": [
    {
     "output_type": "execute_result",
     "data": {
      "text/plain": [
       "0     0.09762\n",
       "1     0.09997\n",
       "2     0.10044\n",
       "3     0.09962\n",
       "4     0.10102\n",
       "5     0.10096\n",
       "6     0.10074\n",
       "7     0.10005\n",
       "8     0.10146\n",
       "9     0.09863\n",
       "10    0.09842\n",
       "11    0.10087\n",
       "12    0.09944\n",
       "13    0.10119\n",
       "14    0.10010\n",
       "15    0.10137\n",
       "16    0.10104\n",
       "17    0.10091\n",
       "18    0.10086\n",
       "19    0.10042\n",
       "dtype: float64"
      ]
     },
     "metadata": {},
     "execution_count": 114
    }
   ],
   "source": [
    "p_edge_fail = h_x.sum() / N #monte carlo integration\n",
    "p_edge_fail #the failure probability of each edge "
   ]
  },
  {
   "source": [
    "The failure probability of edge $X_{17}$ ~ $X_{20}$:"
   ],
   "cell_type": "markdown",
   "metadata": {}
  },
  {
   "cell_type": "code",
   "execution_count": 136,
   "metadata": {},
   "outputs": [],
   "source": [
    "p_17 = p_edge_fail[16]\n",
    "p_18 = p_edge_fail[17]\n",
    "p_19 = p_edge_fail[18]\n",
    "p_20 = p_edge_fail[19]"
   ]
  },
  {
   "cell_type": "code",
   "execution_count": 141,
   "metadata": {},
   "outputs": [],
   "source": [
    "P_relia_MCI = 1- p_17 * p_18 * p_19 * p_20"
   ]
  },
  {
   "cell_type": "code",
   "execution_count": 142,
   "metadata": {},
   "outputs": [
    {
     "output_type": "stream",
     "name": "stdout",
     "text": [
      "0.9998967317720849\n"
     ]
    }
   ],
   "source": [
    "print(P_relia_MCI)"
   ]
  },
  {
   "source": [
    "we can see when the failure probability of each edge is small, the $h(\\vec{x}) $  rarely reaches 1.So a large amount of simulations should be perfoemed to estimate the u with sufficient  precision. To be more accurate , we need the IS sampling, to improve the integral approximation: use importance samling approach."
   ],
   "cell_type": "markdown",
   "metadata": {}
  },
  {
   "source": [
    "Previously, we generate the bernouli random samples $\\vec{x}=\\left(x_{1}, x_{2} \\ldots x_{20}\\right)$. Now with the Importance samplling method, we need to generate bernouli random samples $\\vec{x}_{1}^{*}, \\vec{x}_{2}^{*}, \\ldots, \\vec{x}_{n}^{*}$ from $ g(\\vec{x})=g\\left(x_{1}, x_{2} \\cdots, x_{20}\\right)$ ,where $\\left.x_{i} \\text { ~Bernouli }\\left(p^{*}\\right) \\text { where } p^{*}\\right \\rangle p$\n",
    "\n",
    "$g(\\vec{x})$ is the proposal function in the Importance samplling approach."
   ],
   "cell_type": "markdown",
   "metadata": {}
  },
  {
   "source": [
    "generate bernouli random samples $\\vec{x}_{1}^{*}, \\vec{x}_{2}^{*}, \\ldots, \\vec{x}_{n}^{*}$ "
   ],
   "cell_type": "markdown",
   "metadata": {}
  },
  {
   "cell_type": "code",
   "execution_count": 126,
   "metadata": {},
   "outputs": [
    {
     "output_type": "execute_result",
     "data": {
      "text/plain": [
       "   0   1   2   3   4   5   6   7   8   9   10  11  12  13  14  15  16  17  18  \\\n",
       "0   0   1   0   0   0   0   0   1   0   0   0   1   1   0   0   0   0   0   0   \n",
       "1   0   0   0   0   0   0   0   0   0   0   0   0   0   1   1   1   0   0   0   \n",
       "2   0   0   0   1   0   0   0   0   0   0   1   0   1   1   0   1   0   0   0   \n",
       "3   0   0   1   0   0   0   0   1   0   1   0   0   0   1   0   0   0   0   0   \n",
       "4   1   0   0   0   0   0   0   0   1   0   0   0   0   0   0   0   0   0   0   \n",
       "\n",
       "   19  \n",
       "0   0  \n",
       "1   0  \n",
       "2   0  \n",
       "3   0  \n",
       "4   0  "
      ],
      "text/html": "<div>\n<style scoped>\n    .dataframe tbody tr th:only-of-type {\n        vertical-align: middle;\n    }\n\n    .dataframe tbody tr th {\n        vertical-align: top;\n    }\n\n    .dataframe thead th {\n        text-align: right;\n    }\n</style>\n<table border=\"1\" class=\"dataframe\">\n  <thead>\n    <tr style=\"text-align: right;\">\n      <th></th>\n      <th>0</th>\n      <th>1</th>\n      <th>2</th>\n      <th>3</th>\n      <th>4</th>\n      <th>5</th>\n      <th>6</th>\n      <th>7</th>\n      <th>8</th>\n      <th>9</th>\n      <th>10</th>\n      <th>11</th>\n      <th>12</th>\n      <th>13</th>\n      <th>14</th>\n      <th>15</th>\n      <th>16</th>\n      <th>17</th>\n      <th>18</th>\n      <th>19</th>\n    </tr>\n  </thead>\n  <tbody>\n    <tr>\n      <th>0</th>\n      <td>0</td>\n      <td>1</td>\n      <td>0</td>\n      <td>0</td>\n      <td>0</td>\n      <td>0</td>\n      <td>0</td>\n      <td>1</td>\n      <td>0</td>\n      <td>0</td>\n      <td>0</td>\n      <td>1</td>\n      <td>1</td>\n      <td>0</td>\n      <td>0</td>\n      <td>0</td>\n      <td>0</td>\n      <td>0</td>\n      <td>0</td>\n      <td>0</td>\n    </tr>\n    <tr>\n      <th>1</th>\n      <td>0</td>\n      <td>0</td>\n      <td>0</td>\n      <td>0</td>\n      <td>0</td>\n      <td>0</td>\n      <td>0</td>\n      <td>0</td>\n      <td>0</td>\n      <td>0</td>\n      <td>0</td>\n      <td>0</td>\n      <td>0</td>\n      <td>1</td>\n      <td>1</td>\n      <td>1</td>\n      <td>0</td>\n      <td>0</td>\n      <td>0</td>\n      <td>0</td>\n    </tr>\n    <tr>\n      <th>2</th>\n      <td>0</td>\n      <td>0</td>\n      <td>0</td>\n      <td>1</td>\n      <td>0</td>\n      <td>0</td>\n      <td>0</td>\n      <td>0</td>\n      <td>0</td>\n      <td>0</td>\n      <td>1</td>\n      <td>0</td>\n      <td>1</td>\n      <td>1</td>\n      <td>0</td>\n      <td>1</td>\n      <td>0</td>\n      <td>0</td>\n      <td>0</td>\n      <td>0</td>\n    </tr>\n    <tr>\n      <th>3</th>\n      <td>0</td>\n      <td>0</td>\n      <td>1</td>\n      <td>0</td>\n      <td>0</td>\n      <td>0</td>\n      <td>0</td>\n      <td>1</td>\n      <td>0</td>\n      <td>1</td>\n      <td>0</td>\n      <td>0</td>\n      <td>0</td>\n      <td>1</td>\n      <td>0</td>\n      <td>0</td>\n      <td>0</td>\n      <td>0</td>\n      <td>0</td>\n      <td>0</td>\n    </tr>\n    <tr>\n      <th>4</th>\n      <td>1</td>\n      <td>0</td>\n      <td>0</td>\n      <td>0</td>\n      <td>0</td>\n      <td>0</td>\n      <td>0</td>\n      <td>0</td>\n      <td>1</td>\n      <td>0</td>\n      <td>0</td>\n      <td>0</td>\n      <td>0</td>\n      <td>0</td>\n      <td>0</td>\n      <td>0</td>\n      <td>0</td>\n      <td>0</td>\n      <td>0</td>\n      <td>0</td>\n    </tr>\n  </tbody>\n</table>\n</div>"
     },
     "metadata": {},
     "execution_count": 126
    }
   ],
   "source": [
    "np.random.seed(seed=42)\n",
    "\n",
    "p_star = 0.2 #p_star should be greater than p\n",
    "n=20\n",
    "\n",
    "bernoulli_rvs_star=bernoulli.rvs(size=N * n,p=p_star)\n",
    "data_star =np.reshape(np.mat(bernoulli_rvs_star),(N,n))\n",
    "\n",
    "h_x_star =pd.DataFrame(data_star)\n",
    "h_x_star.head()"
   ]
  },
  {
   "cell_type": "code",
   "execution_count": 127,
   "metadata": {},
   "outputs": [
    {
     "output_type": "execute_result",
     "data": {
      "text/plain": [
       "0    4\n",
       "1    3\n",
       "2    5\n",
       "3    4\n",
       "4    2\n",
       "dtype: int64"
      ]
     },
     "metadata": {},
     "execution_count": 127
    }
   ],
   "source": [
    "n_faill = h_x_star.T.sum()\n",
    "n_faill.head()"
   ]
  },
  {
   "cell_type": "code",
   "execution_count": 128,
   "metadata": {},
   "outputs": [],
   "source": [
    "# x_17 = h_x_star[16]\n",
    "# x_18 = h_x_star[17]\n",
    "# x_19 = h_x_star[18]\n",
    "# x_20 = h_x_star[19]\n",
    "# h_x_star.loc[(x_17 == 1) & (x_18 ==1) & (x_19 ==1) & (x_20 == 1)].head()\n",
    "# h_x_star.drop('name',axis=1)"
   ]
  },
  {
   "cell_type": "code",
   "execution_count": 129,
   "metadata": {},
   "outputs": [
    {
     "output_type": "execute_result",
     "data": {
      "text/plain": [
       "      0   1   2   3   4   5   6   7   8   9   10  11  12  13  14  15  16  17  \\\n",
       "777    0   0   0   0   0   0   0   0   0   1   0   0   0   0   0   1   1   1   \n",
       "1355   0   0   0   1   0   0   0   0   0   0   1   1   1   0   1   0   1   1   \n",
       "3060   0   0   0   0   0   0   0   0   0   0   0   0   0   0   1   1   1   1   \n",
       "3124   1   0   1   0   0   0   0   0   0   0   0   1   0   1   0   0   1   1   \n",
       "5011   1   1   0   0   0   0   0   0   0   1   0   0   0   0   1   0   1   1   \n",
       "\n",
       "      18  19  \n",
       "777    1   1  \n",
       "1355   1   1  \n",
       "3060   1   1  \n",
       "3124   1   1  \n",
       "5011   1   1  "
      ],
      "text/html": "<div>\n<style scoped>\n    .dataframe tbody tr th:only-of-type {\n        vertical-align: middle;\n    }\n\n    .dataframe tbody tr th {\n        vertical-align: top;\n    }\n\n    .dataframe thead th {\n        text-align: right;\n    }\n</style>\n<table border=\"1\" class=\"dataframe\">\n  <thead>\n    <tr style=\"text-align: right;\">\n      <th></th>\n      <th>0</th>\n      <th>1</th>\n      <th>2</th>\n      <th>3</th>\n      <th>4</th>\n      <th>5</th>\n      <th>6</th>\n      <th>7</th>\n      <th>8</th>\n      <th>9</th>\n      <th>10</th>\n      <th>11</th>\n      <th>12</th>\n      <th>13</th>\n      <th>14</th>\n      <th>15</th>\n      <th>16</th>\n      <th>17</th>\n      <th>18</th>\n      <th>19</th>\n    </tr>\n  </thead>\n  <tbody>\n    <tr>\n      <th>777</th>\n      <td>0</td>\n      <td>0</td>\n      <td>0</td>\n      <td>0</td>\n      <td>0</td>\n      <td>0</td>\n      <td>0</td>\n      <td>0</td>\n      <td>0</td>\n      <td>1</td>\n      <td>0</td>\n      <td>0</td>\n      <td>0</td>\n      <td>0</td>\n      <td>0</td>\n      <td>1</td>\n      <td>1</td>\n      <td>1</td>\n      <td>1</td>\n      <td>1</td>\n    </tr>\n    <tr>\n      <th>1355</th>\n      <td>0</td>\n      <td>0</td>\n      <td>0</td>\n      <td>1</td>\n      <td>0</td>\n      <td>0</td>\n      <td>0</td>\n      <td>0</td>\n      <td>0</td>\n      <td>0</td>\n      <td>1</td>\n      <td>1</td>\n      <td>1</td>\n      <td>0</td>\n      <td>1</td>\n      <td>0</td>\n      <td>1</td>\n      <td>1</td>\n      <td>1</td>\n      <td>1</td>\n    </tr>\n    <tr>\n      <th>3060</th>\n      <td>0</td>\n      <td>0</td>\n      <td>0</td>\n      <td>0</td>\n      <td>0</td>\n      <td>0</td>\n      <td>0</td>\n      <td>0</td>\n      <td>0</td>\n      <td>0</td>\n      <td>0</td>\n      <td>0</td>\n      <td>0</td>\n      <td>0</td>\n      <td>1</td>\n      <td>1</td>\n      <td>1</td>\n      <td>1</td>\n      <td>1</td>\n      <td>1</td>\n    </tr>\n    <tr>\n      <th>3124</th>\n      <td>1</td>\n      <td>0</td>\n      <td>1</td>\n      <td>0</td>\n      <td>0</td>\n      <td>0</td>\n      <td>0</td>\n      <td>0</td>\n      <td>0</td>\n      <td>0</td>\n      <td>0</td>\n      <td>1</td>\n      <td>0</td>\n      <td>1</td>\n      <td>0</td>\n      <td>0</td>\n      <td>1</td>\n      <td>1</td>\n      <td>1</td>\n      <td>1</td>\n    </tr>\n    <tr>\n      <th>5011</th>\n      <td>1</td>\n      <td>1</td>\n      <td>0</td>\n      <td>0</td>\n      <td>0</td>\n      <td>0</td>\n      <td>0</td>\n      <td>0</td>\n      <td>0</td>\n      <td>1</td>\n      <td>0</td>\n      <td>0</td>\n      <td>0</td>\n      <td>0</td>\n      <td>1</td>\n      <td>0</td>\n      <td>1</td>\n      <td>1</td>\n      <td>1</td>\n      <td>1</td>\n    </tr>\n  </tbody>\n</table>\n</div>"
     },
     "metadata": {},
     "execution_count": 129
    }
   ],
   "source": [
    "net_faill= h_x_star[(x_17 == 1) & (x_18 ==1) & (x_19 ==1) & (x_20 == 1)]\n",
    "net_faill.head()"
   ]
  },
  {
   "cell_type": "code",
   "execution_count": 130,
   "metadata": {},
   "outputs": [],
   "source": [
    "h_x_star.loc[(x_17 == 1) & (x_18 ==1) & (x_19 ==1) & (x_20 == 1),'hx'] = 1  #let the failure network label 1"
   ]
  },
  {
   "cell_type": "code",
   "execution_count": 131,
   "metadata": {},
   "outputs": [],
   "source": [
    "h_x_star['hx'].fillna(0,inplace=True)"
   ]
  },
  {
   "cell_type": "code",
   "execution_count": 132,
   "metadata": {},
   "outputs": [],
   "source": [
    "h_x_star_plus = h_x_star['hx']"
   ]
  },
  {
   "cell_type": "code",
   "execution_count": 133,
   "metadata": {},
   "outputs": [
    {
     "output_type": "execute_result",
     "data": {
      "text/plain": [
       "              0\n",
       "0      0.411453\n",
       "1      0.925770\n",
       "2      0.182868\n",
       "3      0.411453\n",
       "4      2.082981\n",
       "...         ...\n",
       "99995  0.925770\n",
       "99996  0.182868\n",
       "99997  4.686708\n",
       "99998  0.081275\n",
       "99999  0.925770\n",
       "\n",
       "[100000 rows x 1 columns]"
      ],
      "text/html": "<div>\n<style scoped>\n    .dataframe tbody tr th:only-of-type {\n        vertical-align: middle;\n    }\n\n    .dataframe tbody tr th {\n        vertical-align: top;\n    }\n\n    .dataframe thead th {\n        text-align: right;\n    }\n</style>\n<table border=\"1\" class=\"dataframe\">\n  <thead>\n    <tr style=\"text-align: right;\">\n      <th></th>\n      <th>0</th>\n    </tr>\n  </thead>\n  <tbody>\n    <tr>\n      <th>0</th>\n      <td>0.411453</td>\n    </tr>\n    <tr>\n      <th>1</th>\n      <td>0.925770</td>\n    </tr>\n    <tr>\n      <th>2</th>\n      <td>0.182868</td>\n    </tr>\n    <tr>\n      <th>3</th>\n      <td>0.411453</td>\n    </tr>\n    <tr>\n      <th>4</th>\n      <td>2.082981</td>\n    </tr>\n    <tr>\n      <th>...</th>\n      <td>...</td>\n    </tr>\n    <tr>\n      <th>99995</th>\n      <td>0.925770</td>\n    </tr>\n    <tr>\n      <th>99996</th>\n      <td>0.182868</td>\n    </tr>\n    <tr>\n      <th>99997</th>\n      <td>4.686708</td>\n    </tr>\n    <tr>\n      <th>99998</th>\n      <td>0.081275</td>\n    </tr>\n    <tr>\n      <th>99999</th>\n      <td>0.925770</td>\n    </tr>\n  </tbody>\n</table>\n<p>100000 rows × 1 columns</p>\n</div>"
     },
     "metadata": {},
     "execution_count": 133
    }
   ],
   "source": [
    "w_star = p ** n_faill * (1-p)**(n-n_faill) /(p_star ** n_faill * (1-p_star) ** (n-n_faill))\n",
    "pd.DataFrame(w_star)"
   ]
  },
  {
   "cell_type": "code",
   "execution_count": 143,
   "metadata": {},
   "outputs": [],
   "source": [
    "P_relia_IS =  1 - sum(w_star * h_x_star_plus)/N"
   ]
  },
  {
   "cell_type": "code",
   "execution_count": 144,
   "metadata": {},
   "outputs": [
    {
     "output_type": "stream",
     "name": "stdout",
     "text": [
      "0.9999024463239379\n"
     ]
    }
   ],
   "source": [
    "print(P_relia_IS)"
   ]
  },
  {
   "source": [
    "The result shows us the probablity of netwok failure could be very small(on the other hand ,the reliability is very high),that proves what profssor told us on the class the bit error rate for many types signal transmission can range from $ 10 ^{-10} $ to $10^{-3}$ or even lower."
   ],
   "cell_type": "markdown",
   "metadata": {}
  },
  {
   "cell_type": "code",
   "execution_count": null,
   "metadata": {},
   "outputs": [],
   "source": []
  },
  {
   "cell_type": "code",
   "execution_count": null,
   "metadata": {},
   "outputs": [],
   "source": []
  },
  {
   "cell_type": "code",
   "execution_count": null,
   "metadata": {},
   "outputs": [],
   "source": []
  }
 ]
}