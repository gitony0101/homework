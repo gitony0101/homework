{
 "cells": [
  {
   "cell_type": "markdown",
   "metadata": {},
   "source": [
    "# 知乎练手"
   ]
  },
  {
   "cell_type": "markdown",
   "metadata": {},
   "source": [
    "## 高效的10个Pandas函数\n",
    "https://zhuanlan.zhihu.com/p/185044102"
   ]
  },
  {
   "cell_type": "code",
   "execution_count": 1,
   "metadata": {},
   "outputs": [],
   "source": [
    "import numpy as np\n",
    "import pandas as pd"
   ]
  },
  {
   "cell_type": "markdown",
   "metadata": {},
   "source": [
    "1. Query\n",
    "\n",
    "Query是pandas的过滤查询函数，使用布尔表达式来查询DataFrame的列，就是说按照列的规则进行过滤操作。\n",
    "\n",
    "用法：\n",
    "\n",
    "pandas.DataFrame.query(self, expr, inplace = False, **kwargs)\n",
    "\n",
    "参数作用：\n",
    "\n",
    "    expr：要评估的查询字符串；inplace=False：查询是应该修改数据还是返回修改后的副本kwargs：dict关键字参数\n",
    "\n",
    "首先生成一段df："
   ]
  },
  {
   "cell_type": "code",
   "execution_count": 2,
   "metadata": {},
   "outputs": [
    {
     "data": {
      "text/html": "<div>\n<style scoped>\n    .dataframe tbody tr th:only-of-type {\n        vertical-align: middle;\n    }\n\n    .dataframe tbody tr th {\n        vertical-align: top;\n    }\n\n    .dataframe thead th {\n        text-align: right;\n    }\n</style>\n<table border=\"1\" class=\"dataframe\">\n  <thead>\n    <tr style=\"text-align: right;\">\n      <th></th>\n      <th>group</th>\n      <th>year</th>\n      <th>value_1</th>\n      <th>value_2</th>\n    </tr>\n  </thead>\n  <tbody>\n    <tr>\n      <th>0</th>\n      <td>A</td>\n      <td>2010</td>\n      <td>4</td>\n      <td>1</td>\n    </tr>\n    <tr>\n      <th>1</th>\n      <td>A</td>\n      <td>2011</td>\n      <td>4</td>\n      <td>7</td>\n    </tr>\n    <tr>\n      <th>2</th>\n      <td>B</td>\n      <td>2012</td>\n      <td>6</td>\n      <td>3</td>\n    </tr>\n    <tr>\n      <th>3</th>\n      <td>A</td>\n      <td>2013</td>\n      <td>6</td>\n      <td>5</td>\n    </tr>\n    <tr>\n      <th>4</th>\n      <td>B</td>\n      <td>2014</td>\n      <td>6</td>\n      <td>5</td>\n    </tr>\n    <tr>\n      <th>5</th>\n      <td>B</td>\n      <td>2015</td>\n      <td>4</td>\n      <td>7</td>\n    </tr>\n    <tr>\n      <th>6</th>\n      <td>C</td>\n      <td>2016</td>\n      <td>3</td>\n      <td>8</td>\n    </tr>\n    <tr>\n      <th>7</th>\n      <td>A</td>\n      <td>2017</td>\n      <td>3</td>\n      <td>1</td>\n    </tr>\n    <tr>\n      <th>8</th>\n      <td>C</td>\n      <td>2018</td>\n      <td>5</td>\n      <td>4</td>\n    </tr>\n    <tr>\n      <th>9</th>\n      <td>C</td>\n      <td>2019</td>\n      <td>8</td>\n      <td>8</td>\n    </tr>\n  </tbody>\n</table>\n</div>",
      "text/plain": "  group  year  value_1  value_2\n0     A  2010        4        1\n1     A  2011        4        7\n2     B  2012        6        3\n3     A  2013        6        5\n4     B  2014        6        5\n5     B  2015        4        7\n6     C  2016        3        8\n7     A  2017        3        1\n8     C  2018        5        4\n9     C  2019        8        8"
     },
     "execution_count": 2,
     "metadata": {},
     "output_type": "execute_result"
    }
   ],
   "source": [
    "values_1 = np.random.randint(10, size=10)\n",
    "values_2 = np.random.randint(10, size=10)\n",
    "years = np.arange(2010,2020) #注意这里是arange\n",
    "groups =['A','A','B','A','B','B','C','A','C','C']\n",
    "df = pd.DataFrame({'group':groups, 'year':years, 'value_1':values_1, 'value_2':values_2})\n",
    "df #这个地方每次都要从头运行"
   ]
  },
  {
   "cell_type": "code",
   "execution_count": 3,
   "metadata": {},
   "outputs": [
    {
     "data": {
      "text/html": "<div>\n<style scoped>\n    .dataframe tbody tr th:only-of-type {\n        vertical-align: middle;\n    }\n\n    .dataframe tbody tr th {\n        vertical-align: top;\n    }\n\n    .dataframe thead th {\n        text-align: right;\n    }\n</style>\n<table border=\"1\" class=\"dataframe\">\n  <thead>\n    <tr style=\"text-align: right;\">\n      <th></th>\n      <th>group</th>\n      <th>year</th>\n      <th>value_1</th>\n      <th>value_2</th>\n    </tr>\n  </thead>\n  <tbody>\n    <tr>\n      <th>1</th>\n      <td>A</td>\n      <td>2011</td>\n      <td>4</td>\n      <td>7</td>\n    </tr>\n    <tr>\n      <th>5</th>\n      <td>B</td>\n      <td>2015</td>\n      <td>4</td>\n      <td>7</td>\n    </tr>\n    <tr>\n      <th>6</th>\n      <td>C</td>\n      <td>2016</td>\n      <td>3</td>\n      <td>8</td>\n    </tr>\n  </tbody>\n</table>\n</div>",
      "text/plain": "  group  year  value_1  value_2\n1     A  2011        4        7\n5     B  2015        4        7\n6     C  2016        3        8"
     },
     "execution_count": 3,
     "metadata": {},
     "output_type": "execute_result"
    }
   ],
   "source": [
    "#过滤查询用起来比较简单，比如要查列value_1<value_2的行记录：\n",
    "df.query('value_1 < value_2')"
   ]
  },
  {
   "cell_type": "code",
   "execution_count": 4,
   "metadata": {},
   "outputs": [
    {
     "data": {
      "text/html": "<div>\n<style scoped>\n    .dataframe tbody tr th:only-of-type {\n        vertical-align: middle;\n    }\n\n    .dataframe tbody tr th {\n        vertical-align: top;\n    }\n\n    .dataframe thead th {\n        text-align: right;\n    }\n</style>\n<table border=\"1\" class=\"dataframe\">\n  <thead>\n    <tr style=\"text-align: right;\">\n      <th></th>\n      <th>group</th>\n      <th>year</th>\n      <th>value_1</th>\n      <th>value_2</th>\n    </tr>\n  </thead>\n  <tbody>\n    <tr>\n      <th>6</th>\n      <td>C</td>\n      <td>2016</td>\n      <td>3</td>\n      <td>8</td>\n    </tr>\n    <tr>\n      <th>7</th>\n      <td>A</td>\n      <td>2017</td>\n      <td>3</td>\n      <td>1</td>\n    </tr>\n    <tr>\n      <th>8</th>\n      <td>C</td>\n      <td>2018</td>\n      <td>5</td>\n      <td>4</td>\n    </tr>\n    <tr>\n      <th>9</th>\n      <td>C</td>\n      <td>2019</td>\n      <td>8</td>\n      <td>8</td>\n    </tr>\n  </tbody>\n</table>\n</div>",
      "text/plain": "  group  year  value_1  value_2\n6     C  2016        3        8\n7     A  2017        3        1\n8     C  2018        5        4\n9     C  2019        8        8"
     },
     "execution_count": 4,
     "metadata": {},
     "output_type": "execute_result"
    }
   ],
   "source": [
    "#查询列year>=2016的行记录：\n",
    "df.query('year>=2016')"
   ]
  },
  {
   "cell_type": "markdown",
   "metadata": {},
   "source": [
    "2. Insert\n",
    "\n",
    "Insert用于在DataFrame的指定位置中插入新的数据列。默认情况下新列是添加到末尾的，但可以更改位置参数，将新列添加到任何位置。\n",
    "\n",
    "用法：\n",
    "\n",
    "Dataframe.insert(loc, column, value, allow_duplicates=False)\n",
    "\n",
    "参数作用：\n",
    "\n",
    "    loc: int型，表示插入位置在第几列；若在第一列插入数据，则 loc=0column: 给插入的列取名，如 column='新的一列'value：新列的值，数字、array、series等都可以allow_duplicates: 是否允许列名重复，选择Ture表示允许新的列名与已存在的列名重复\n",
    "\n",
    "接着用前面的df"
   ]
  },
  {
   "cell_type": "code",
   "execution_count": 5,
   "metadata": {},
   "outputs": [
    {
     "data": {
      "text/html": "<div>\n<style scoped>\n    .dataframe tbody tr th:only-of-type {\n        vertical-align: middle;\n    }\n\n    .dataframe tbody tr th {\n        vertical-align: top;\n    }\n\n    .dataframe thead th {\n        text-align: right;\n    }\n</style>\n<table border=\"1\" class=\"dataframe\">\n  <thead>\n    <tr style=\"text-align: right;\">\n      <th></th>\n      <th>group</th>\n      <th>year</th>\n      <th>value_1</th>\n      <th>value_2</th>\n    </tr>\n  </thead>\n  <tbody>\n    <tr>\n      <th>0</th>\n      <td>A</td>\n      <td>2010</td>\n      <td>4</td>\n      <td>1</td>\n    </tr>\n    <tr>\n      <th>1</th>\n      <td>A</td>\n      <td>2011</td>\n      <td>4</td>\n      <td>7</td>\n    </tr>\n    <tr>\n      <th>2</th>\n      <td>B</td>\n      <td>2012</td>\n      <td>6</td>\n      <td>3</td>\n    </tr>\n    <tr>\n      <th>3</th>\n      <td>A</td>\n      <td>2013</td>\n      <td>6</td>\n      <td>5</td>\n    </tr>\n    <tr>\n      <th>4</th>\n      <td>B</td>\n      <td>2014</td>\n      <td>6</td>\n      <td>5</td>\n    </tr>\n    <tr>\n      <th>5</th>\n      <td>B</td>\n      <td>2015</td>\n      <td>4</td>\n      <td>7</td>\n    </tr>\n    <tr>\n      <th>6</th>\n      <td>C</td>\n      <td>2016</td>\n      <td>3</td>\n      <td>8</td>\n    </tr>\n    <tr>\n      <th>7</th>\n      <td>A</td>\n      <td>2017</td>\n      <td>3</td>\n      <td>1</td>\n    </tr>\n    <tr>\n      <th>8</th>\n      <td>C</td>\n      <td>2018</td>\n      <td>5</td>\n      <td>4</td>\n    </tr>\n    <tr>\n      <th>9</th>\n      <td>C</td>\n      <td>2019</td>\n      <td>8</td>\n      <td>8</td>\n    </tr>\n  </tbody>\n</table>\n</div>",
      "text/plain": "  group  year  value_1  value_2\n0     A  2010        4        1\n1     A  2011        4        7\n2     B  2012        6        3\n3     A  2013        6        5\n4     B  2014        6        5\n5     B  2015        4        7\n6     C  2016        3        8\n7     A  2017        3        1\n8     C  2018        5        4\n9     C  2019        8        8"
     },
     "execution_count": 5,
     "metadata": {},
     "output_type": "execute_result"
    }
   ],
   "source": [
    "df"
   ]
  },
  {
   "cell_type": "code",
   "execution_count": 6,
   "metadata": {},
   "outputs": [
    {
     "data": {
      "text/html": [
       "<div>\n",
       "<style scoped>\n",
       "    .dataframe tbody tr th:only-of-type {\n",
       "        vertical-align: middle;\n",
       "    }\n",
       "\n",
       "    .dataframe tbody tr th {\n",
       "        vertical-align: top;\n",
       "    }\n",
       "\n",
       "    .dataframe thead th {\n",
       "        text-align: right;\n",
       "    }\n",
       "</style>\n",
       "<table border=\"1\" class=\"dataframe\">\n",
       "  <thead>\n",
       "    <tr style=\"text-align: right;\">\n",
       "      <th></th>\n",
       "      <th>group</th>\n",
       "      <th>year</th>\n",
       "      <th>new_col</th>\n",
       "      <th>value_1</th>\n",
       "      <th>value_2</th>\n",
       "    </tr>\n",
       "  </thead>\n",
       "  <tbody>\n",
       "    <tr>\n",
       "      <th>0</th>\n",
       "      <td>A</td>\n",
       "      <td>2010</td>\n",
       "      <td>0.401467</td>\n",
       "      <td>6</td>\n",
       "      <td>9</td>\n",
       "    </tr>\n",
       "    <tr>\n",
       "      <th>1</th>\n",
       "      <td>A</td>\n",
       "      <td>2011</td>\n",
       "      <td>0.676830</td>\n",
       "      <td>3</td>\n",
       "      <td>6</td>\n",
       "    </tr>\n",
       "    <tr>\n",
       "      <th>2</th>\n",
       "      <td>B</td>\n",
       "      <td>2012</td>\n",
       "      <td>0.659246</td>\n",
       "      <td>7</td>\n",
       "      <td>6</td>\n",
       "    </tr>\n",
       "    <tr>\n",
       "      <th>3</th>\n",
       "      <td>A</td>\n",
       "      <td>2013</td>\n",
       "      <td>0.714661</td>\n",
       "      <td>8</td>\n",
       "      <td>2</td>\n",
       "    </tr>\n",
       "    <tr>\n",
       "      <th>4</th>\n",
       "      <td>B</td>\n",
       "      <td>2014</td>\n",
       "      <td>0.431855</td>\n",
       "      <td>7</td>\n",
       "      <td>5</td>\n",
       "    </tr>\n",
       "    <tr>\n",
       "      <th>5</th>\n",
       "      <td>B</td>\n",
       "      <td>2015</td>\n",
       "      <td>0.251253</td>\n",
       "      <td>5</td>\n",
       "      <td>5</td>\n",
       "    </tr>\n",
       "    <tr>\n",
       "      <th>6</th>\n",
       "      <td>C</td>\n",
       "      <td>2016</td>\n",
       "      <td>0.271038</td>\n",
       "      <td>0</td>\n",
       "      <td>9</td>\n",
       "    </tr>\n",
       "    <tr>\n",
       "      <th>7</th>\n",
       "      <td>A</td>\n",
       "      <td>2017</td>\n",
       "      <td>0.981026</td>\n",
       "      <td>3</td>\n",
       "      <td>0</td>\n",
       "    </tr>\n",
       "    <tr>\n",
       "      <th>8</th>\n",
       "      <td>C</td>\n",
       "      <td>2018</td>\n",
       "      <td>0.190140</td>\n",
       "      <td>5</td>\n",
       "      <td>1</td>\n",
       "    </tr>\n",
       "    <tr>\n",
       "      <th>9</th>\n",
       "      <td>C</td>\n",
       "      <td>2019</td>\n",
       "      <td>0.547002</td>\n",
       "      <td>7</td>\n",
       "      <td>9</td>\n",
       "    </tr>\n",
       "  </tbody>\n",
       "</table>\n",
       "</div>"
      ],
      "text/plain": [
       "  group  year   new_col  value_1  value_2\n",
       "0     A  2010  0.401467        6        9\n",
       "1     A  2011  0.676830        3        6\n",
       "2     B  2012  0.659246        7        6\n",
       "3     A  2013  0.714661        8        2\n",
       "4     B  2014  0.431855        7        5\n",
       "5     B  2015  0.251253        5        5\n",
       "6     C  2016  0.271038        0        9\n",
       "7     A  2017  0.981026        3        0\n",
       "8     C  2018  0.190140        5        1\n",
       "9     C  2019  0.547002        7        9"
      ]
     },
     "execution_count": 6,
     "metadata": {},
     "output_type": "execute_result"
    }
   ],
   "source": [
    "# 在第三列的位置插入新列：\n",
    "new_col = np.random.rand(10)\n",
    "#在第三列位置插入新列，从0开始计算\n",
    "df.insert(2,'new_col',new_col)\n",
    "df"
   ]
  }
 ],
 "metadata": {
  "kernelspec": {
   "display_name": "Python 3",
   "language": "python",
   "name": "python3"
  },
  "language_info": {
   "codemirror_mode": {
    "name": "ipython",
    "version": 3
   },
   "file_extension": ".py",
   "mimetype": "text/x-python",
   "name": "python",
   "nbconvert_exporter": "python",
   "pygments_lexer": "ipython3",
   "version": "3.9.1"
  },
  "toc": {
   "base_numbering": 1,
   "nav_menu": {},
   "number_sections": true,
   "sideBar": true,
   "skip_h1_title": false,
   "title_cell": "Table of Contents",
   "title_sidebar": "Contents",
   "toc_cell": false,
   "toc_position": {},
   "toc_section_display": true,
   "toc_window_display": false
  },
  "varInspector": {
   "cols": {
    "lenName": 16,
    "lenType": 16,
    "lenVar": 40
   },
   "kernels_config": {
    "python": {
     "delete_cmd_postfix": "",
     "delete_cmd_prefix": "del ",
     "library": "var_list.py",
     "varRefreshCmd": "print(var_dic_list())"
    },
    "r": {
     "delete_cmd_postfix": ") ",
     "delete_cmd_prefix": "rm(",
     "library": "var_list.r",
     "varRefreshCmd": "cat(var_dic_list()) "
    }
   },
   "types_to_exclude": [
    "module",
    "function",
    "builtin_function_or_method",
    "instance",
    "_Feature"
   ],
   "window_display": false
  }
 },
 "nbformat": 4,
 "nbformat_minor": 2
}