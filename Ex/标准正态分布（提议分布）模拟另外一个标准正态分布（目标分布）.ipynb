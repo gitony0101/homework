{
 "metadata": {
  "language_info": {
   "codemirror_mode": {
    "name": "ipython",
    "version": 3
   },
   "file_extension": ".py",
   "mimetype": "text/x-python",
   "name": "python",
   "nbconvert_exporter": "python",
   "pygments_lexer": "ipython3",
   "version": 3
  },
  "orig_nbformat": 2
 },
 "nbformat": 4,
 "nbformat_minor": 2,
 "cells": [
  {
   "source": [
    "仿真\n",
    "目的：用标准正态分布（提议分布）模拟另外一个标准正态分布（目标分布），我们想生成符合这个密度函数的随机采样。（这里再强调一下，我们的提议分布函数为 proposal distribution，是比较好采样的，目标函数 target distribution 是不好采样的，我们通过好采样的函数采样，然后判断采到的样本是否被接受）；\n",
    "目标分布：μ=0，σ=5的正态分布；\n",
    "提议分布：μ= 采样点处，σ=2的正态分布。\n",
    "https://blog.csdn.net/qq_23981335/article/details/89950979"
   ],
   "cell_type": "markdown",
   "metadata": {}
  },
  {
   "cell_type": "code",
   "execution_count": null,
   "metadata": {},
   "outputs": [],
   "source": [
    "import numpy as np\n",
    "import matplotlib.pyplot as plt\n",
    "from scipy import stats\n",
    " \n",
    "np.random.seed(42)\n",
    "x=np.linspace(-20,20,100)\n",
    "# raw_y=stats.expon(scale=1).pdf(x)\n",
    "raw_y=stats.norm.pdf(x,0,5)\n",
    " \n",
    "Samp_Num=10000\n",
    "result=[]\n",
    "init=1\n",
    "result.append(init)\n",
    "# p=lambda r:stats.expon(scale=1).pdf(r)\n",
    "p=lambda r:stats.norm.pdf(r,0,5)\n",
    "q=lambda v:stats.norm.rvs(loc = v,scale = 2, size = 1)\n",
    " \n",
    "for i in range(Samp_Num):\n",
    "    xstar=q(result[i])\n",
    "    alpha=min(1,p(xstar)/p(result[i]))\n",
    "    u=np.random.rand(1)\n",
    "    if u<alpha:\n",
    "        result.append(xstar)\n",
    "    else:\n",
    "        result.append(result[i])\n",
    "    print(i)\n",
    " \n",
    "n, bins, patches = plt.hist(result, 50, density=1, facecolor='blue', alpha=0.5)\n",
    "plt.plot(x,raw_y)\n",
    "plt.show()"
   ]
  }
 ]
}