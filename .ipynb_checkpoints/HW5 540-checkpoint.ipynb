{
 "cells": [
  {
   "cell_type": "markdown",
   "metadata": {},
   "source": [
    "### Computational Methods (16:540:540) ###\n",
    "\n",
    "#### Spring 2021 Homework 5 – Python Coding ####\n",
    "\n",
    "\n",
    "1. Generate 100 random samples from univariate normal and exponential distributions. Then, calculate the means and the standard deviation.\n",
    "2. Generate 100 random samples from multivariate normal distribution. Then, calculate means and covariance matrix.\n",
    "3. Perform Multiple Linear Regression using the same dataset generated in the\n",
    "class as follows: predict 𝑦\n",
    "a) Using only 𝑥1 ,\n",
    "b) Using variables 𝑥1 , ... , 𝑥3\n",
    "c) Using all variables 𝑥1 , ... , 𝑥𝑝\n",
    "d) Compare the performance for both training and test data using MSE and R-squared."
   ]
  },
  {
   "cell_type": "code",
   "execution_count": 1,
   "metadata": {},
   "outputs": [],
   "source": [
    "import numpy as np\n",
    "import pandas as pd\n",
    "from numpy.random import default_rng\n",
    "rng = default_rng(5)"
   ]
  },
  {
   "cell_type": "code",
   "execution_count": 2,
   "metadata": {},
   "outputs": [],
   "source": [
    "# 1. Generate 100 random samples from univariate normal and exponential distributions. Then, calculate the means and the standard deviation."
   ]
  },
  {
   "cell_type": "code",
   "execution_count": 3,
   "metadata": {},
   "outputs": [
    {
     "name": "stdout",
     "output_type": "stream",
     "text": [
      "From univariate normal distribution,the mean of 100 random the samples is 4.775992733090337,the variance is 0.7791377243518098\n"
     ]
    }
   ],
   "source": [
    "mu, sigma = 5,1\n",
    "n = 100\n",
    "x1 = rng.normal(mu,sigma,n)\n",
    "x1_mean = np.mean(x1)\n",
    "x1_var = np.var(x1)\n",
    "\n",
    "print(f'From univariate normal distribution,the mean of 100 random the samples is {x1_mean},the variance is {x1_var}')"
   ]
  },
  {
   "cell_type": "code",
   "execution_count": 4,
   "metadata": {},
   "outputs": [
    {
     "name": "stdout",
     "output_type": "stream",
     "text": [
      "From exponential distribution,the mean of 100 random the samples is 0.9659351362133682,the variance is 0.7781621514620671\n"
     ]
    }
   ],
   "source": [
    "y1 =rng.exponential(size=n)\n",
    "y1_mean = np.mean(y1)\n",
    "y1_var = np.var(y1)\n",
    "\n",
    "print(f'From exponential distribution,the mean of 100 random the samples is {y1_mean},the variance is {y1_var}')"
   ]
  },
  {
   "cell_type": "code",
   "execution_count": 5,
   "metadata": {},
   "outputs": [],
   "source": [
    "# 2. Generate 100 random samples from multivariate normal distribution. Then, calculate means and covariance matrix."
   ]
  },
  {
   "cell_type": "code",
   "execution_count": 6,
   "metadata": {},
   "outputs": [],
   "source": [
    "# P=6, N=100\n",
    "mu = np.random.uniform(-10,10,size=6)\n",
    "C = np.random.random((6,6))\n",
    "cov = C @ C.T # positive semi-definite\n",
    "x2 = rng.multivariate_normal(mu, cov, n)"
   ]
  },
  {
   "cell_type": "code",
   "execution_count": 7,
   "metadata": {},
   "outputs": [],
   "source": [
    "# pd.DataFrame(mu).info()"
   ]
  },
  {
   "cell_type": "code",
   "execution_count": 8,
   "metadata": {},
   "outputs": [],
   "source": [
    "# pd.DataFrame(cov).info()"
   ]
  },
  {
   "cell_type": "code",
   "execution_count": 9,
   "metadata": {},
   "outputs": [
    {
     "name": "stdout",
     "output_type": "stream",
     "text": [
      "From univariate normal distribution,the mean of 100 random the samples is -2.638756312975505,the variance is 19.811529113744072\n"
     ]
    }
   ],
   "source": [
    "x2_mean = np.mean(x2)\n",
    "x2_var = np.var(x2)\n",
    "\n",
    "print(f'From univariate normal distribution,the mean of 100 random the samples is {x2_mean},the variance is {x2_var}')"
   ]
  },
  {
   "cell_type": "code",
   "execution_count": 10,
   "metadata": {},
   "outputs": [],
   "source": [
    "# 3. Perform Multiple Linear Regression using the same dataset generated in the\n",
    "# class as follows: \n",
    "# predict 𝑦\n",
    "# a) Using only 𝑥1 ,\n",
    "# b) Using variables 𝑥1 , ... , 𝑥3\n",
    "# c) Using all variables 𝑥1 , ... , 𝑥𝑝\n",
    "#  d) Compare the performance for both training and test data using MSE and R-squared."
   ]
  },
  {
   "cell_type": "markdown",
   "metadata": {},
   "source": [
    "The output\n",
    "\n",
    "𝑦=9+3∗𝑥2 +2∗𝑥5+𝜀 \n",
    "\n",
    "𝜀~𝑁(0,1)"
   ]
  },
  {
   "cell_type": "code",
   "execution_count": 11,
   "metadata": {},
   "outputs": [],
   "source": [
    "from sklearn import datasets, linear_model\n",
    "from sklearn.metrics import mean_squared_error,r2_score\n",
    "regr = linear_model.LinearRegression()\n",
    "import matplotlib.pyplot as plt\n",
    "from sklearn.model_selection import train_test_split\n",
    "x = x2"
   ]
  },
  {
   "cell_type": "code",
   "execution_count": 12,
   "metadata": {},
   "outputs": [],
   "source": [
    "# a) Using only 𝑥1 "
   ]
  },
  {
   "cell_type": "code",
   "execution_count": 13,
   "metadata": {},
   "outputs": [],
   "source": [
    "rng = default_rng(5)\n",
    "y = 9+3*x[:,1]+2*x[:,4] + rng.normal(0,1,n) "
   ]
  },
  {
   "cell_type": "code",
   "execution_count": 14,
   "metadata": {},
   "outputs": [],
   "source": [
    "# y"
   ]
  },
  {
   "cell_type": "code",
   "execution_count": 15,
   "metadata": {},
   "outputs": [],
   "source": [
    "x_train, x_test, y_train, y_test = train_test_split(x, y, test_size=0.3, random_state=123)"
   ]
  },
  {
   "cell_type": "code",
   "execution_count": 16,
   "metadata": {},
   "outputs": [],
   "source": [
    "X1_train = x_train[:, 0:1]\n",
    "X1_test = x_test[:, 0:1]"
   ]
  },
  {
   "cell_type": "code",
   "execution_count": 17,
   "metadata": {},
   "outputs": [],
   "source": [
    "# pd.DataFrame(x_train),\n",
    "# pd.DataFrame(X1_test),\n",
    "# pd.DataFrame(y_train)"
   ]
  },
  {
   "cell_type": "code",
   "execution_count": 18,
   "metadata": {},
   "outputs": [],
   "source": [
    "regr_1 = linear_model.LinearRegression()"
   ]
  },
  {
   "cell_type": "code",
   "execution_count": 19,
   "metadata": {},
   "outputs": [],
   "source": [
    "regr1 = linear_model.LinearRegression()\n",
    "regr1.fit(X1_train, y_train)\n",
    "pred1_test = regr1.predict(X1_test)"
   ]
  },
  {
   "cell_type": "code",
   "execution_count": 20,
   "metadata": {},
   "outputs": [
    {
     "name": "stdout",
     "output_type": "stream",
     "text": [
      "Mean squared error: 18.89\n",
      "Variance score: 0.71(best fit = 1)\n"
     ]
    }
   ],
   "source": [
    "print(\"Mean squared error: %.2f\"% mean_squared_error(y_test, pred1_test))\n",
    "print('Variance score: %.2f(best fit = 1)' % r2_score(y_test, pred1_test))"
   ]
  },
  {
   "cell_type": "code",
   "execution_count": 21,
   "metadata": {},
   "outputs": [
    {
     "data": {
      "text/plain": [
       "Text(0, 0.5, 'Predicted')"
      ]
     },
     "execution_count": 21,
     "metadata": {},
     "output_type": "execute_result"
    },
    {
     "data": {
      "image/png": "[encoded data removed]",
      "text/plain": [
       "<Figure size 432x288 with 1 Axes>"
      ]
     },
     "metadata": {
      "needs_background": "light"
     },
     "output_type": "display_data"
    }
   ],
   "source": [
    "fig, ax = plt.subplots()\n",
    "ax.scatter(y_test, pred1_test)\n",
    "ax.plot([y_test.min(), y_test.max()], [y_test.min(), y_test.max()], 'k--', lw=4)\n",
    "ax.set_xlabel('Measured')\n",
    "ax.set_ylabel('Predicted')"
   ]
  },
  {
   "cell_type": "code",
   "execution_count": 22,
   "metadata": {},
   "outputs": [],
   "source": [
    "# b) Using variables 𝑥1 , ... , 𝑥3"
   ]
  },
  {
   "cell_type": "code",
   "execution_count": 32,
   "metadata": {},
   "outputs": [],
   "source": [
    "X2_train = x_train[:, 0:3]\n",
    "X2_test = x_test[:, 0:3]"
   ]
  },
  {
   "cell_type": "code",
   "execution_count": 24,
   "metadata": {},
   "outputs": [],
   "source": [
    "regr2 = linear_model.LinearRegression()\n",
    "regr2.fit(X2_train, y_train)\n",
    "pred2_test = regr2.predict(X2_test) "
   ]
  },
  {
   "cell_type": "code",
   "execution_count": 25,
   "metadata": {},
   "outputs": [
    {
     "name": "stdout",
     "output_type": "stream",
     "text": [
      "Mean squared error: 2.04\n",
      "Variance score: 0.97(best fit = 1)\n"
     ]
    }
   ],
   "source": [
    "print(\"Mean squared error: %.2f\"% mean_squared_error(y_test, pred2_test))\n",
    "print('Variance score: %.2f(best fit = 1)' % r2_score(y_test, pred2_test))"
   ]
  },
  {
   "cell_type": "code",
   "execution_count": 26,
   "metadata": {},
   "outputs": [
    {
     "data": {
      "text/plain": [
       "Text(0, 0.5, 'Predicted')"
      ]
     },
     "execution_count": 26,
     "metadata": {},
     "output_type": "execute_result"
    },
    {
     "data": {
      "image/png": "[encoded data removed]",
      "text/plain": [
       "<Figure size 432x288 with 1 Axes>"
      ]
     },
     "metadata": {
      "needs_background": "light"
     },
     "output_type": "display_data"
    }
   ],
   "source": [
    "fig, ax = plt.subplots()\n",
    "ax.scatter(y_test, pred2_test)\n",
    "ax.plot([y_test.min(), y_test.max()], [y_test.min(), y_test.max()], 'k--', lw=4)\n",
    "ax.set_xlabel('Measured')\n",
    "ax.set_ylabel('Predicted')"
   ]
  },
  {
   "cell_type": "code",
   "execution_count": 27,
   "metadata": {},
   "outputs": [],
   "source": [
    "# c) Using all variables 𝑥1 , ... , 𝑥𝑝\n",
    "X3_train = x_train[:, 0:6]\n",
    "X3_test = x_test[:, 0:6]"
   ]
  },
  {
   "cell_type": "code",
   "execution_count": 28,
   "metadata": {},
   "outputs": [],
   "source": [
    "regr3 = linear_model.LinearRegression()\n",
    "regr3.fit(X3_train, y_train)\n",
    "pred3_test = regr3.predict(X3_test) "
   ]
  },
  {
   "cell_type": "code",
   "execution_count": 29,
   "metadata": {},
   "outputs": [
    {
     "name": "stdout",
     "output_type": "stream",
     "text": [
      "Mean squared error: 1.17\n",
      "Variance score: 0.98(best fit = 1)\n"
     ]
    }
   ],
   "source": [
    "print(\"Mean squared error: %.2f\"% mean_squared_error(y_test, pred3_test))\n",
    "print('Variance score: %.2f(best fit = 1)' % r2_score(y_test, pred3_test))"
   ]
  },
  {
   "cell_type": "code",
   "execution_count": 30,
   "metadata": {},
   "outputs": [
    {
     "data": {
      "text/plain": [
       "Text(0, 0.5, 'Predicted')"
      ]
     },
     "execution_count": 30,
     "metadata": {},
     "output_type": "execute_result"
    },
    {
     "data": {
      "image/png": "[encoded data removed]",
      "text/plain": [
       "<Figure size 432x288 with 1 Axes>"
      ]
     },
     "metadata": {
      "needs_background": "light"
     },
     "output_type": "display_data"
    }
   ],
   "source": [
    "fig, ax = plt.subplots()\n",
    "ax.scatter(y_test, pred3_test)\n",
    "ax.plot([y_test.min(), y_test.max()], [y_test.min(), y_test.max()], 'k--', lw=4)\n",
    "ax.set_xlabel('Measured')\n",
    "ax.set_ylabel('Predicted')"
   ]
  },
  {
   "cell_type": "code",
   "execution_count": 31,
   "metadata": {},
   "outputs": [],
   "source": [
    "#  d) Compare the performance for both training and test data using MSE and R-squared."
   ]
  },
  {
   "cell_type": "markdown",
   "metadata": {},
   "source": [
    "Based on the results of MSE and $R^2$ error from a b and c , we can find from c results which use all varaiables works best to fit the data set. "
   ]
  }
 ],
 "metadata": {
  "kernelspec": {
   "display_name": "Python 3.8.6 64-bit ('jnb': conda)",
   "language": "python",
   "name": "python38664bitjnbconda655227b73531428493f2526547618ad4"
  },
  "language_info": {
   "codemirror_mode": {
    "name": "ipython",
    "version": 3
   },
   "file_extension": ".py",
   "mimetype": "text/x-python",
   "name": "python",
   "nbconvert_exporter": "python",
   "pygments_lexer": "ipython3",
   "version": "3.8.8"
  },
  "metadata": {
   "interpreter": {
    "hash": "0142100476a55ad2707e4ee89bdff33f958300b25bb6983b2c86b093430e9fda"
   }
  },
  "toc": {
   "base_numbering": 1,
   "nav_menu": {},
   "number_sections": true,
   "sideBar": true,
   "skip_h1_title": false,
   "title_cell": "Table of Contents",
   "title_sidebar": "Contents",
   "toc_cell": false,
   "toc_position": {},
   "toc_section_display": true,
   "toc_window_display": false
  },
  "varInspector": {
   "cols": {
    "lenName": 16,
    "lenType": 16,
    "lenVar": 40
   },
   "kernels_config": {
    "python": {
     "delete_cmd_postfix": "",
     "delete_cmd_prefix": "del ",
     "library": "var_list.py",
     "varRefreshCmd": "print(var_dic_list())"
    },
    "r": {
     "delete_cmd_postfix": ") ",
     "delete_cmd_prefix": "rm(",
     "library": "var_list.r",
     "varRefreshCmd": "cat(var_dic_list()) "
    }
   },
   "types_to_exclude": [
    "module",
    "function",
    "builtin_function_or_method",
    "instance",
    "_Feature"
   ],
   "window_display": false
  }
 },
 "nbformat": 4,
 "nbformat_minor": 2
}
