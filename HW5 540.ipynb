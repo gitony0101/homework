{
 "metadata": {
  "language_info": {
   "codemirror_mode": {
    "name": "ipython",
    "version": 3
   },
   "file_extension": ".py",
   "mimetype": "text/x-python",
   "name": "python",
   "nbconvert_exporter": "python",
   "pygments_lexer": "ipython3",
   "version": "3.8.8-final"
  },
  "orig_nbformat": 2,
  "kernelspec": {
   "name": "python388jvsc74a57bd046b9dc6d2b7cffca86f10cfc6629a675913fc288cf586b16d1984440fcaf60c7",
   "display_name": "Python 3.8.8 64-bit ('jnb': conda)"
  }
 },
 "nbformat": 4,
 "nbformat_minor": 2,
 "cells": [
  {
   "source": [
    "### Computational Methods (16:540:540) ###\n",
    "\n",
    "#### Spring 2021 Homework 5 – Python Coding ####\n",
    "\n",
    "\n",
    "1. Generate 100 random samples from univariate normal and exponential distributions. Then, calculate the means and the standard deviation.\n",
    "2. Generate 100 random samples from multivariate normal distribution. Then, calculate means and covariance matrix.\n",
    "3. Perform Multiple Linear Regression using the same dataset generated in the\n",
    "class as follows: predict 𝑦\n",
    "a) Using only 𝑥1 ,\n",
    "b) Using variables 𝑥1 , ... , 𝑥3\n",
    "c) Using all variables 𝑥1 , ... , 𝑥𝑝\n",
    "d) Compare the performance for both training and test data using MSE and R-squared."
   ],
   "cell_type": "markdown",
   "metadata": {}
  },
  {
   "cell_type": "code",
   "execution_count": 4,
   "metadata": {},
   "outputs": [],
   "source": [
    "import numpy as np\n",
    "import pandas as pd"
   ]
  },
  {
   "cell_type": "code",
   "execution_count": 5,
   "metadata": {},
   "outputs": [],
   "source": [
    "# 1. Generate 100 random samples from univariate normal and exponential distributions. Then, calculate the means and the standard deviation."
   ]
  },
  {
   "cell_type": "code",
   "execution_count": 8,
   "metadata": {},
   "outputs": [
    {
     "output_type": "stream",
     "name": "stdout",
     "text": [
      "From univariate normal distribution,the mean of 100 random the samples is 2.75992733090338,the variance is 77.91377243518097\n"
     ]
    }
   ],
   "source": [
    "from numpy.random import default_rng\n",
    "rng = default_rng(5)\n",
    "\n",
    "mu, sigma = 5,10\n",
    "n = 100\n",
    "x1 = rng.normal(mu,sigma,n)\n",
    "x1_mean = np.mean(x1)\n",
    "x1_var = np.var(x1)\n",
    "\n",
    "print(f'From univariate normal distribution,the mean of 100 random the samples is {x1_mean},the variance is {x1_var}')"
   ]
  },
  {
   "cell_type": "code",
   "execution_count": 11,
   "metadata": {},
   "outputs": [],
   "source": []
  },
  {
   "cell_type": "code",
   "execution_count": 10,
   "metadata": {},
   "outputs": [
    {
     "output_type": "execute_result",
     "data": {
      "text/plain": [
       "114.99013717619387"
      ]
     },
     "metadata": {},
     "execution_count": 10
    }
   ],
   "source": []
  },
  {
   "cell_type": "code",
   "execution_count": null,
   "metadata": {},
   "outputs": [],
   "source": []
  },
  {
   "cell_type": "code",
   "execution_count": null,
   "metadata": {},
   "outputs": [],
   "source": []
  },
  {
   "cell_type": "code",
   "execution_count": null,
   "metadata": {},
   "outputs": [],
   "source": []
  },
  {
   "cell_type": "code",
   "execution_count": null,
   "metadata": {},
   "outputs": [],
   "source": []
  },
  {
   "cell_type": "code",
   "execution_count": null,
   "metadata": {},
   "outputs": [],
   "source": []
  },
  {
   "cell_type": "code",
   "execution_count": null,
   "metadata": {},
   "outputs": [],
   "source": []
  }
 ]
}