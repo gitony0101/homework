{
 "metadata": {
  "language_info": {
   "codemirror_mode": {
    "name": "ipython",
    "version": 3
   },
   "file_extension": ".py",
   "mimetype": "text/x-python",
   "name": "python",
   "nbconvert_exporter": "python",
   "pygments_lexer": "ipython3",
   "version": "3.8.8"
  },
  "orig_nbformat": 2,
  "kernelspec": {
   "name": "python388jvsc74a57bd046b9dc6d2b7cffca86f10cfc6629a675913fc288cf586b16d1984440fcaf60c7",
   "display_name": "Python 3.8.8 64-bit ('jnb': conda)"
  },
  "metadata": {
   "interpreter": {
    "hash": "0142100476a55ad2707e4ee89bdff33f958300b25bb6983b2c86b093430e9fda"
   }
  }
 },
 "nbformat": 4,
 "nbformat_minor": 2,
 "cells": [
  {
   "source": [
    "### Computational Methods (16:540:540) ###\n",
    "\n",
    "#### Spring 2021 Homework 5 – Python Coding ####\n",
    "\n",
    "\n",
    "1. Generate 100 random samples from univariate normal and exponential distributions. Then, calculate the means and the standard deviation.\n",
    "2. Generate 100 random samples from multivariate normal distribution. Then, calculate means and covariance matrix.\n",
    "3. Perform Multiple Linear Regression using the same dataset generated in the\n",
    "class as follows: predict 𝑦\n",
    "a) Using only 𝑥1 ,\n",
    "b) Using variables 𝑥1 , ... , 𝑥3\n",
    "c) Using all variables 𝑥1 , ... , 𝑥𝑝\n",
    "d) Compare the performance for both training and test data using MSE and R-squared."
   ],
   "cell_type": "markdown",
   "metadata": {}
  },
  {
   "cell_type": "code",
   "execution_count": 27,
   "metadata": {},
   "outputs": [],
   "source": [
    "import numpy as np\n",
    "import pandas as pd\n",
    "\n",
    "from numpy.random import default_rng\n",
    "rng = default_rng(5)"
   ]
  },
  {
   "cell_type": "code",
   "execution_count": 28,
   "metadata": {},
   "outputs": [],
   "source": [
    "# 1. Generate 100 random samples from univariate normal and exponential distributions. Then, calculate the means and the standard deviation."
   ]
  },
  {
   "cell_type": "code",
   "execution_count": 29,
   "metadata": {},
   "outputs": [
    {
     "output_type": "stream",
     "name": "stdout",
     "text": [
      "From univariate normal distribution,the mean of 100 random the samples is 4.775992733090337,the variance is 0.7791377243518098\n"
     ]
    }
   ],
   "source": [
    "mu, sigma = 5,1\n",
    "n = 100\n",
    "x1 = rng.normal(mu,sigma,n)\n",
    "x1_mean = np.mean(x1)\n",
    "x1_var = np.var(x1)\n",
    "\n",
    "print(f'From univariate normal distribution,the mean of 100 random the samples is {x1_mean},the variance is {x1_var}')"
   ]
  },
  {
   "cell_type": "code",
   "execution_count": 30,
   "metadata": {},
   "outputs": [
    {
     "output_type": "stream",
     "name": "stdout",
     "text": [
      "From exponential distribution,the mean of 100 random the samples is 0.9659351362133682,the variance is 0.7781621514620671\n"
     ]
    }
   ],
   "source": [
    "y1 =rng.exponential(size=n)\n",
    "y1_mean = np.mean(y1)\n",
    "y1_var = np.var(y1)\n",
    "\n",
    "print(f'From exponential distribution,the mean of 100 random the samples is {y1_mean},the variance is {y1_var}')"
   ]
  },
  {
   "cell_type": "code",
   "execution_count": 31,
   "metadata": {},
   "outputs": [],
   "source": [
    "# 2. Generate 100 random samples from multivariate normal distribution. Then, calculate means and covariance matrix."
   ]
  },
  {
   "cell_type": "code",
   "execution_count": 32,
   "metadata": {},
   "outputs": [],
   "source": [
    "# P=6, N=100\n",
    "mu = np.random.uniform(-10,10,size=6)\n",
    "C = np.random.random((6,6))\n",
    "cov = C @ C.T # positive semi-definite\n",
    "x2 = rng.multivariate_normal(mu, cov, n)"
   ]
  },
  {
   "cell_type": "code",
   "execution_count": 33,
   "metadata": {},
   "outputs": [
    {
     "output_type": "execute_result",
     "data": {
      "text/plain": [
       "          0\n",
       "0  2.272939\n",
       "1 -1.033150\n",
       "2  1.452607\n",
       "3  8.393968\n",
       "4  9.355586\n",
       "5  8.172576"
      ],
      "text/html": "<div>\n<style scoped>\n    .dataframe tbody tr th:only-of-type {\n        vertical-align: middle;\n    }\n\n    .dataframe tbody tr th {\n        vertical-align: top;\n    }\n\n    .dataframe thead th {\n        text-align: right;\n    }\n</style>\n<table border=\"1\" class=\"dataframe\">\n  <thead>\n    <tr style=\"text-align: right;\">\n      <th></th>\n      <th>0</th>\n    </tr>\n  </thead>\n  <tbody>\n    <tr>\n      <th>0</th>\n      <td>2.272939</td>\n    </tr>\n    <tr>\n      <th>1</th>\n      <td>-1.033150</td>\n    </tr>\n    <tr>\n      <th>2</th>\n      <td>1.452607</td>\n    </tr>\n    <tr>\n      <th>3</th>\n      <td>8.393968</td>\n    </tr>\n    <tr>\n      <th>4</th>\n      <td>9.355586</td>\n    </tr>\n    <tr>\n      <th>5</th>\n      <td>8.172576</td>\n    </tr>\n  </tbody>\n</table>\n</div>"
     },
     "metadata": {},
     "execution_count": 33
    }
   ],
   "source": [
    "pd.DataFrame(mu)"
   ]
  },
  {
   "cell_type": "code",
   "execution_count": 34,
   "metadata": {},
   "outputs": [
    {
     "output_type": "execute_result",
     "data": {
      "text/plain": [
       "          0         1         2         3         4         5\n",
       "0  2.480782  1.609926  2.082241  2.374403  2.038036  1.836675\n",
       "1  1.609926  1.196142  1.353228  1.663294  1.314745  1.335691\n",
       "2  2.082241  1.353228  1.936956  2.341047  2.081499  1.713193\n",
       "3  2.374403  1.663294  2.341047  3.239747  2.835629  2.250554\n",
       "4  2.038036  1.314745  2.081499  2.835629  2.707498  1.900864\n",
       "5  1.836675  1.335691  1.713193  2.250554  1.900864  1.888945"
      ],
      "text/html": "<div>\n<style scoped>\n    .dataframe tbody tr th:only-of-type {\n        vertical-align: middle;\n    }\n\n    .dataframe tbody tr th {\n        vertical-align: top;\n    }\n\n    .dataframe thead th {\n        text-align: right;\n    }\n</style>\n<table border=\"1\" class=\"dataframe\">\n  <thead>\n    <tr style=\"text-align: right;\">\n      <th></th>\n      <th>0</th>\n      <th>1</th>\n      <th>2</th>\n      <th>3</th>\n      <th>4</th>\n      <th>5</th>\n    </tr>\n  </thead>\n  <tbody>\n    <tr>\n      <th>0</th>\n      <td>2.480782</td>\n      <td>1.609926</td>\n      <td>2.082241</td>\n      <td>2.374403</td>\n      <td>2.038036</td>\n      <td>1.836675</td>\n    </tr>\n    <tr>\n      <th>1</th>\n      <td>1.609926</td>\n      <td>1.196142</td>\n      <td>1.353228</td>\n      <td>1.663294</td>\n      <td>1.314745</td>\n      <td>1.335691</td>\n    </tr>\n    <tr>\n      <th>2</th>\n      <td>2.082241</td>\n      <td>1.353228</td>\n      <td>1.936956</td>\n      <td>2.341047</td>\n      <td>2.081499</td>\n      <td>1.713193</td>\n    </tr>\n    <tr>\n      <th>3</th>\n      <td>2.374403</td>\n      <td>1.663294</td>\n      <td>2.341047</td>\n      <td>3.239747</td>\n      <td>2.835629</td>\n      <td>2.250554</td>\n    </tr>\n    <tr>\n      <th>4</th>\n      <td>2.038036</td>\n      <td>1.314745</td>\n      <td>2.081499</td>\n      <td>2.835629</td>\n      <td>2.707498</td>\n      <td>1.900864</td>\n    </tr>\n    <tr>\n      <th>5</th>\n      <td>1.836675</td>\n      <td>1.335691</td>\n      <td>1.713193</td>\n      <td>2.250554</td>\n      <td>1.900864</td>\n      <td>1.888945</td>\n    </tr>\n  </tbody>\n</table>\n</div>"
     },
     "metadata": {},
     "execution_count": 34
    }
   ],
   "source": [
    "pd.DataFrame(cov)"
   ]
  },
  {
   "cell_type": "code",
   "execution_count": 35,
   "metadata": {},
   "outputs": [
    {
     "output_type": "stream",
     "name": "stdout",
     "text": [
      "From univariate normal distribution,the mean of 100 random the samples is 4.727550365895933,the variance is 19.251999302094287\n"
     ]
    }
   ],
   "source": [
    "x2_mean = np.mean(x2)\n",
    "x2_var = np.var(x2)\n",
    "\n",
    "print(f'From univariate normal distribution,the mean of 100 random the samples is {x2_mean},the variance is {x2_var}')"
   ]
  },
  {
   "cell_type": "code",
   "execution_count": 36,
   "metadata": {},
   "outputs": [],
   "source": [
    "# 3. Perform Multiple Linear Regression using the same dataset generated in the\n",
    "# class as follows: \n",
    "# predict 𝑦\n",
    "# a) Using only 𝑥1 ,\n",
    "# b) Using variables 𝑥1 , ... , 𝑥3\n",
    "# c) Using all variables 𝑥1 , ... , 𝑥𝑝\n",
    "#  d) Compare the performance for both training and test data using MSE and R-squared."
   ]
  },
  {
   "source": [
    "The output\n",
    "\n",
    "𝑦=9+3∗𝑥2 +2∗𝑥5+𝜀 \n",
    "\n",
    "𝜀~𝑁(0,1)"
   ],
   "cell_type": "markdown",
   "metadata": {}
  },
  {
   "cell_type": "code",
   "execution_count": 42,
   "metadata": {},
   "outputs": [],
   "source": [
    "from sklearn import datasets, linear_model\n",
    "from sklearn.metrics import mean_squared_error,r2_score\n",
    "regr = linear_model.LinearRegression()\n",
    "import matplotlib.pyplot as plt\n",
    "from scipy.stats import *\n",
    "from sklearn.model_selection import train_test_split\n",
    "x = x2"
   ]
  },
  {
   "cell_type": "code",
   "execution_count": 43,
   "metadata": {},
   "outputs": [],
   "source": [
    "# a) Using only 𝑥1 "
   ]
  },
  {
   "cell_type": "code",
   "execution_count": 44,
   "metadata": {},
   "outputs": [],
   "source": [
    "rng = default_rng(5)\n",
    "y = 9+3*x[:,1]+2*x[:,4] + rng.normal(0,1,n) "
   ]
  },
  {
   "cell_type": "code",
   "execution_count": 45,
   "metadata": {},
   "outputs": [],
   "source": [
    "# y"
   ]
  },
  {
   "cell_type": "code",
   "execution_count": 48,
   "metadata": {},
   "outputs": [],
   "source": [
    "x_train, x_test, y_train, y_test = train_test_split(x, y, test_size=0.7, random_state=123)"
   ]
  },
  {
   "cell_type": "code",
   "execution_count": 49,
   "metadata": {},
   "outputs": [],
   "source": [
    "X1_train = x_train[:, 0:1]\n",
    "X1_test = x_test[:, 0:1]\n",
    "\n",
    "regr1 = linear_model.LinearRegression()\n",
    "regr1.fit(X1_train, y_train)\n",
    "\n",
    "pred1_train = regr1.predict(X1_train) \n",
    "pred1_test = regr1.predict(X1_test) "
   ]
  },
  {
   "cell_type": "code",
   "execution_count": null,
   "metadata": {},
   "outputs": [],
   "source": []
  },
  {
   "cell_type": "code",
   "execution_count": null,
   "metadata": {},
   "outputs": [],
   "source": []
  },
  {
   "cell_type": "code",
   "execution_count": null,
   "metadata": {},
   "outputs": [],
   "source": []
  },
  {
   "cell_type": "code",
   "execution_count": null,
   "metadata": {},
   "outputs": [],
   "source": []
  },
  {
   "cell_type": "code",
   "execution_count": null,
   "metadata": {},
   "outputs": [],
   "source": []
  },
  {
   "cell_type": "code",
   "execution_count": null,
   "metadata": {},
   "outputs": [],
   "source": []
  },
  {
   "cell_type": "code",
   "execution_count": 15,
   "metadata": {},
   "outputs": [],
   "source": [
    "#  MuLtipLe Linear Regression\n",
    "import numpy as np\n",
    "from numpy.random import default_rng\n",
    "from sklearn import linear_model\n",
    "rng=default_rng(5)"
   ]
  },
  {
   "cell_type": "code",
   "execution_count": 16,
   "metadata": {},
   "outputs": [],
   "source": [
    "# generate mean from uniform\n",
    "p=6\n",
    "mu = rng.uniform(low=0.0, high=10, size=p)\n",
    "A=rng.uniform(low=0.5, high=2.5, size=(p, p))\n",
    "sigma=np. dot(A, A.transpose())\n",
    "# sigma"
   ]
  },
  {
   "cell_type": "code",
   "execution_count": 17,
   "metadata": {},
   "outputs": [],
   "source": [
    "n =100\n",
    "x = rng.multivariate_normal(mu, sigma, (n))\n",
    "# x"
   ]
  },
  {
   "cell_type": "code",
   "execution_count": 18,
   "metadata": {},
   "outputs": [],
   "source": [
    "#y=9+3*x2 + 2 *x5 + rng.normal(0,1,n)\n",
    "y = 9 +3*x[:,1]+2*x[:,4]+rng.normal(0,1,n)"
   ]
  },
  {
   "cell_type": "code",
   "execution_count": 19,
   "metadata": {},
   "outputs": [
    {
     "output_type": "display_data",
     "data": {
      "text/plain": "<Figure size 432x288 with 1 Axes>",
      "image/svg+xml": "<?xml version=\"1.0\" encoding=\"utf-8\" standalone=\"no\"?>\n<!DOCTYPE svg PUBLIC \"-//W3C//DTD SVG 1.1//EN\"\n  \"http://www.w3.org/Graphics/SVG/1.1/DTD/svg11.dtd\">\n<svg height=\"269.93875pt\" version=\"1.1\" viewBox=\"0 0 378.505 269.93875\" width=\"378.505pt\" xmlns=\"http://www.w3.org/2000/svg\" xmlns:xlink=\"http://www.w3.org/1999/xlink\">\n <metadata>\n  <rdf:RDF xmlns:cc=\"http://creativecommons.org/ns#\" xmlns:dc=\"http://purl.org/dc/elements/1.1/\" xmlns:rdf=\"http://www.w3.org/1999/02/22-rdf-syntax-ns#\">\n   <cc:Work>\n    <dc:type rdf:resource=\"http://purl.org/dc/dcmitype/StillImage\"/>\n    <dc:date>2021-04-25T06:43:28.736034</dc:date>\n    <dc:format>image/svg+xml</dc:format>\n    <dc:creator>\n     <cc:Agent>\n      <dc:title>Matplotlib v3.4.1, https://matplotlib.org/</dc:title>\n     </cc:Agent>\n    </dc:creator>\n   </cc:Work>\n  </rdf:RDF>\n </metadata>\n <defs>\n  <style type=\"text/css\">*{stroke-linecap:butt;stroke-linejoin:round;}</style>\n </defs>\n <g id=\"figure_1\">\n  <g id=\"patch_1\">\n   <path d=\"M 0 269.93875 \nL 378.505 269.93875 \nL 378.505 0 \nL 0 0 \nz\n\" style=\"fill:none;\"/>\n  </g>\n  <g id=\"axes_1\">\n   <g id=\"patch_2\">\n    <path d=\"M 36.505 224.64 \nL 371.305 224.64 \nL 371.305 7.2 \nL 36.505 7.2 \nz\n\" style=\"fill:#ffffff;\"/>\n   </g>\n   <g id=\"matplotlib.axis_1\">\n    <g id=\"xtick_1\">\n     <g id=\"line2d_1\">\n      <defs>\n       <path d=\"M 0 0 \nL 0 3.5 \n\" id=\"mb1410b8213\" style=\"stroke:#000000;stroke-width:0.8;\"/>\n      </defs>\n      <g>\n       <use style=\"stroke:#000000;stroke-width:0.8;\" x=\"81.946601\" xlink:href=\"#mb1410b8213\" y=\"224.64\"/>\n      </g>\n     </g>\n     <g id=\"text_1\">\n      <!-- 0 -->\n      <g transform=\"translate(78.765351 239.238437)scale(0.1 -0.1)\">\n       <defs>\n        <path d=\"M 2034 4250 \nQ 1547 4250 1301 3770 \nQ 1056 3291 1056 2328 \nQ 1056 1369 1301 889 \nQ 1547 409 2034 409 \nQ 2525 409 2770 889 \nQ 3016 1369 3016 2328 \nQ 3016 3291 2770 3770 \nQ 2525 4250 2034 4250 \nz\nM 2034 4750 \nQ 2819 4750 3233 4129 \nQ 3647 3509 3647 2328 \nQ 3647 1150 3233 529 \nQ 2819 -91 2034 -91 \nQ 1250 -91 836 529 \nQ 422 1150 422 2328 \nQ 422 3509 836 4129 \nQ 1250 4750 2034 4750 \nz\n\" id=\"DejaVuSans-30\" transform=\"scale(0.015625)\"/>\n       </defs>\n       <use xlink:href=\"#DejaVuSans-30\"/>\n      </g>\n     </g>\n    </g>\n    <g id=\"xtick_2\">\n     <g id=\"line2d_2\">\n      <g>\n       <use style=\"stroke:#000000;stroke-width:0.8;\" x=\"148.161428\" xlink:href=\"#mb1410b8213\" y=\"224.64\"/>\n      </g>\n     </g>\n     <g id=\"text_2\">\n      <!-- 5 -->\n      <g transform=\"translate(144.980178 239.238437)scale(0.1 -0.1)\">\n       <defs>\n        <path d=\"M 691 4666 \nL 3169 4666 \nL 3169 4134 \nL 1269 4134 \nL 1269 2991 \nQ 1406 3038 1543 3061 \nQ 1681 3084 1819 3084 \nQ 2600 3084 3056 2656 \nQ 3513 2228 3513 1497 \nQ 3513 744 3044 326 \nQ 2575 -91 1722 -91 \nQ 1428 -91 1123 -41 \nQ 819 9 494 109 \nL 494 744 \nQ 775 591 1075 516 \nQ 1375 441 1709 441 \nQ 2250 441 2565 725 \nQ 2881 1009 2881 1497 \nQ 2881 1984 2565 2268 \nQ 2250 2553 1709 2553 \nQ 1456 2553 1204 2497 \nQ 953 2441 691 2322 \nL 691 4666 \nz\n\" id=\"DejaVuSans-35\" transform=\"scale(0.015625)\"/>\n       </defs>\n       <use xlink:href=\"#DejaVuSans-35\"/>\n      </g>\n     </g>\n    </g>\n    <g id=\"xtick_3\">\n     <g id=\"line2d_3\">\n      <g>\n       <use style=\"stroke:#000000;stroke-width:0.8;\" x=\"214.376255\" xlink:href=\"#mb1410b8213\" y=\"224.64\"/>\n      </g>\n     </g>\n     <g id=\"text_3\">\n      <!-- 10 -->\n      <g transform=\"translate(208.013755 239.238437)scale(0.1 -0.1)\">\n       <defs>\n        <path d=\"M 794 531 \nL 1825 531 \nL 1825 4091 \nL 703 3866 \nL 703 4441 \nL 1819 4666 \nL 2450 4666 \nL 2450 531 \nL 3481 531 \nL 3481 0 \nL 794 0 \nL 794 531 \nz\n\" id=\"DejaVuSans-31\" transform=\"scale(0.015625)\"/>\n       </defs>\n       <use xlink:href=\"#DejaVuSans-31\"/>\n       <use x=\"63.623047\" xlink:href=\"#DejaVuSans-30\"/>\n      </g>\n     </g>\n    </g>\n    <g id=\"xtick_4\">\n     <g id=\"line2d_4\">\n      <g>\n       <use style=\"stroke:#000000;stroke-width:0.8;\" x=\"280.591082\" xlink:href=\"#mb1410b8213\" y=\"224.64\"/>\n      </g>\n     </g>\n     <g id=\"text_4\">\n      <!-- 15 -->\n      <g transform=\"translate(274.228582 239.238437)scale(0.1 -0.1)\">\n       <use xlink:href=\"#DejaVuSans-31\"/>\n       <use x=\"63.623047\" xlink:href=\"#DejaVuSans-35\"/>\n      </g>\n     </g>\n    </g>\n    <g id=\"xtick_5\">\n     <g id=\"line2d_5\">\n      <g>\n       <use style=\"stroke:#000000;stroke-width:0.8;\" x=\"346.805909\" xlink:href=\"#mb1410b8213\" y=\"224.64\"/>\n      </g>\n     </g>\n     <g id=\"text_5\">\n      <!-- 20 -->\n      <g transform=\"translate(340.443409 239.238437)scale(0.1 -0.1)\">\n       <defs>\n        <path d=\"M 1228 531 \nL 3431 531 \nL 3431 0 \nL 469 0 \nL 469 531 \nQ 828 903 1448 1529 \nQ 2069 2156 2228 2338 \nQ 2531 2678 2651 2914 \nQ 2772 3150 2772 3378 \nQ 2772 3750 2511 3984 \nQ 2250 4219 1831 4219 \nQ 1534 4219 1204 4116 \nQ 875 4013 500 3803 \nL 500 4441 \nQ 881 4594 1212 4672 \nQ 1544 4750 1819 4750 \nQ 2544 4750 2975 4387 \nQ 3406 4025 3406 3419 \nQ 3406 3131 3298 2873 \nQ 3191 2616 2906 2266 \nQ 2828 2175 2409 1742 \nQ 1991 1309 1228 531 \nz\n\" id=\"DejaVuSans-32\" transform=\"scale(0.015625)\"/>\n       </defs>\n       <use xlink:href=\"#DejaVuSans-32\"/>\n       <use x=\"63.623047\" xlink:href=\"#DejaVuSans-30\"/>\n      </g>\n     </g>\n    </g>\n    <g id=\"text_6\">\n     <!-- $x_2$ -->\n     <g transform=\"translate(194.275 258.995312)scale(0.18 -0.18)\">\n      <defs>\n       <path d=\"M 3841 3500 \nL 2234 1784 \nL 3219 0 \nL 2559 0 \nL 1819 1388 \nL 531 0 \nL -166 0 \nL 1556 1844 \nL 641 3500 \nL 1300 3500 \nL 1972 2234 \nL 3144 3500 \nL 3841 3500 \nz\n\" id=\"DejaVuSans-Oblique-78\" transform=\"scale(0.015625)\"/>\n      </defs>\n      <use transform=\"translate(0 0.3125)\" xlink:href=\"#DejaVuSans-Oblique-78\"/>\n      <use transform=\"translate(59.179688 -16.09375)scale(0.7)\" xlink:href=\"#DejaVuSans-32\"/>\n     </g>\n    </g>\n   </g>\n   <g id=\"matplotlib.axis_2\">\n    <g id=\"ytick_1\">\n     <g id=\"line2d_6\">\n      <defs>\n       <path d=\"M 0 0 \nL -3.5 0 \n\" id=\"m634443b1ea\" style=\"stroke:#000000;stroke-width:0.8;\"/>\n      </defs>\n      <g>\n       <use style=\"stroke:#000000;stroke-width:0.8;\" x=\"36.505\" xlink:href=\"#m634443b1ea\" y=\"199.11182\"/>\n      </g>\n     </g>\n     <g id=\"text_7\">\n      <!-- 0 -->\n      <g transform=\"translate(23.1425 202.911039)scale(0.1 -0.1)\">\n       <use xlink:href=\"#DejaVuSans-30\"/>\n      </g>\n     </g>\n    </g>\n    <g id=\"ytick_2\">\n     <g id=\"line2d_7\">\n      <g>\n       <use style=\"stroke:#000000;stroke-width:0.8;\" x=\"36.505\" xlink:href=\"#m634443b1ea\" y=\"159.452349\"/>\n      </g>\n     </g>\n     <g id=\"text_8\">\n      <!-- 20 -->\n      <g transform=\"translate(16.78 163.251568)scale(0.1 -0.1)\">\n       <use xlink:href=\"#DejaVuSans-32\"/>\n       <use x=\"63.623047\" xlink:href=\"#DejaVuSans-30\"/>\n      </g>\n     </g>\n    </g>\n    <g id=\"ytick_3\">\n     <g id=\"line2d_8\">\n      <g>\n       <use style=\"stroke:#000000;stroke-width:0.8;\" x=\"36.505\" xlink:href=\"#m634443b1ea\" y=\"119.792878\"/>\n      </g>\n     </g>\n     <g id=\"text_9\">\n      <!-- 40 -->\n      <g transform=\"translate(16.78 123.592097)scale(0.1 -0.1)\">\n       <defs>\n        <path d=\"M 2419 4116 \nL 825 1625 \nL 2419 1625 \nL 2419 4116 \nz\nM 2253 4666 \nL 3047 4666 \nL 3047 1625 \nL 3713 1625 \nL 3713 1100 \nL 3047 1100 \nL 3047 0 \nL 2419 0 \nL 2419 1100 \nL 313 1100 \nL 313 1709 \nL 2253 4666 \nz\n\" id=\"DejaVuSans-34\" transform=\"scale(0.015625)\"/>\n       </defs>\n       <use xlink:href=\"#DejaVuSans-34\"/>\n       <use x=\"63.623047\" xlink:href=\"#DejaVuSans-30\"/>\n      </g>\n     </g>\n    </g>\n    <g id=\"ytick_4\">\n     <g id=\"line2d_9\">\n      <g>\n       <use style=\"stroke:#000000;stroke-width:0.8;\" x=\"36.505\" xlink:href=\"#m634443b1ea\" y=\"80.133407\"/>\n      </g>\n     </g>\n     <g id=\"text_10\">\n      <!-- 60 -->\n      <g transform=\"translate(16.78 83.932626)scale(0.1 -0.1)\">\n       <defs>\n        <path d=\"M 2113 2584 \nQ 1688 2584 1439 2293 \nQ 1191 2003 1191 1497 \nQ 1191 994 1439 701 \nQ 1688 409 2113 409 \nQ 2538 409 2786 701 \nQ 3034 994 3034 1497 \nQ 3034 2003 2786 2293 \nQ 2538 2584 2113 2584 \nz\nM 3366 4563 \nL 3366 3988 \nQ 3128 4100 2886 4159 \nQ 2644 4219 2406 4219 \nQ 1781 4219 1451 3797 \nQ 1122 3375 1075 2522 \nQ 1259 2794 1537 2939 \nQ 1816 3084 2150 3084 \nQ 2853 3084 3261 2657 \nQ 3669 2231 3669 1497 \nQ 3669 778 3244 343 \nQ 2819 -91 2113 -91 \nQ 1303 -91 875 529 \nQ 447 1150 447 2328 \nQ 447 3434 972 4092 \nQ 1497 4750 2381 4750 \nQ 2619 4750 2861 4703 \nQ 3103 4656 3366 4563 \nz\n\" id=\"DejaVuSans-36\" transform=\"scale(0.015625)\"/>\n       </defs>\n       <use xlink:href=\"#DejaVuSans-36\"/>\n       <use x=\"63.623047\" xlink:href=\"#DejaVuSans-30\"/>\n      </g>\n     </g>\n    </g>\n    <g id=\"ytick_5\">\n     <g id=\"line2d_10\">\n      <g>\n       <use style=\"stroke:#000000;stroke-width:0.8;\" x=\"36.505\" xlink:href=\"#m634443b1ea\" y=\"40.473936\"/>\n      </g>\n     </g>\n     <g id=\"text_11\">\n      <!-- 80 -->\n      <g transform=\"translate(16.78 44.273155)scale(0.1 -0.1)\">\n       <defs>\n        <path d=\"M 2034 2216 \nQ 1584 2216 1326 1975 \nQ 1069 1734 1069 1313 \nQ 1069 891 1326 650 \nQ 1584 409 2034 409 \nQ 2484 409 2743 651 \nQ 3003 894 3003 1313 \nQ 3003 1734 2745 1975 \nQ 2488 2216 2034 2216 \nz\nM 1403 2484 \nQ 997 2584 770 2862 \nQ 544 3141 544 3541 \nQ 544 4100 942 4425 \nQ 1341 4750 2034 4750 \nQ 2731 4750 3128 4425 \nQ 3525 4100 3525 3541 \nQ 3525 3141 3298 2862 \nQ 3072 2584 2669 2484 \nQ 3125 2378 3379 2068 \nQ 3634 1759 3634 1313 \nQ 3634 634 3220 271 \nQ 2806 -91 2034 -91 \nQ 1263 -91 848 271 \nQ 434 634 434 1313 \nQ 434 1759 690 2068 \nQ 947 2378 1403 2484 \nz\nM 1172 3481 \nQ 1172 3119 1398 2916 \nQ 1625 2713 2034 2713 \nQ 2441 2713 2670 2916 \nQ 2900 3119 2900 3481 \nQ 2900 3844 2670 4047 \nQ 2441 4250 2034 4250 \nQ 1625 4250 1398 4047 \nQ 1172 3844 1172 3481 \nz\n\" id=\"DejaVuSans-38\" transform=\"scale(0.015625)\"/>\n       </defs>\n       <use xlink:href=\"#DejaVuSans-38\"/>\n       <use x=\"63.623047\" xlink:href=\"#DejaVuSans-30\"/>\n      </g>\n     </g>\n    </g>\n    <g id=\"text_12\">\n     <!-- $Y$ -->\n     <g transform=\"translate(7.2 112.176562)scale(0.18 -0.18)\">\n      <defs>\n       <path d=\"M 403 4666 \nL 1081 4666 \nL 1953 2747 \nL 3616 4666 \nL 4325 4666 \nL 2209 2222 \nL 1778 0 \nL 1147 0 \nL 1575 2222 \nL 403 4666 \nz\n\" id=\"DejaVuSans-Oblique-59\" transform=\"scale(0.015625)\"/>\n      </defs>\n      <use transform=\"translate(0 0.09375)\" xlink:href=\"#DejaVuSans-Oblique-59\"/>\n     </g>\n    </g>\n   </g>\n   <g id=\"line2d_11\">\n    <defs>\n     <path d=\"M 0 1.5 \nC 0.397805 1.5 0.77937 1.341951 1.06066 1.06066 \nC 1.341951 0.77937 1.5 0.397805 1.5 0 \nC 1.5 -0.397805 1.341951 -0.77937 1.06066 -1.06066 \nC 0.77937 -1.341951 0.397805 -1.5 0 -1.5 \nC -0.397805 -1.5 -0.77937 -1.341951 -1.06066 -1.06066 \nC -1.341951 -0.77937 -1.5 -0.397805 -1.5 0 \nC -1.5 0.397805 -1.341951 0.77937 -1.06066 1.06066 \nC -0.77937 1.341951 -0.397805 1.5 0 1.5 \nz\n\" id=\"m4d01508c6d\" style=\"stroke:#0000ff;\"/>\n    </defs>\n    <g clip-path=\"url(#pe0d72535fc)\">\n     <use style=\"fill:#0000ff;stroke:#0000ff;\" x=\"304.286152\" xlink:href=\"#m4d01508c6d\" y=\"49.456013\"/>\n     <use style=\"fill:#0000ff;stroke:#0000ff;\" x=\"203.89291\" xlink:href=\"#m4d01508c6d\" y=\"118.048116\"/>\n     <use style=\"fill:#0000ff;stroke:#0000ff;\" x=\"223.681694\" xlink:href=\"#m4d01508c6d\" y=\"116.67724\"/>\n     <use style=\"fill:#0000ff;stroke:#0000ff;\" x=\"131.118723\" xlink:href=\"#m4d01508c6d\" y=\"160.980311\"/>\n     <use style=\"fill:#0000ff;stroke:#0000ff;\" x=\"175.138012\" xlink:href=\"#m4d01508c6d\" y=\"139.250756\"/>\n     <use style=\"fill:#0000ff;stroke:#0000ff;\" x=\"189.447463\" xlink:href=\"#m4d01508c6d\" y=\"132.511414\"/>\n     <use style=\"fill:#0000ff;stroke:#0000ff;\" x=\"145.395719\" xlink:href=\"#m4d01508c6d\" y=\"157.285315\"/>\n     <use style=\"fill:#0000ff;stroke:#0000ff;\" x=\"258.653157\" xlink:href=\"#m4d01508c6d\" y=\"81.705247\"/>\n     <use style=\"fill:#0000ff;stroke:#0000ff;\" x=\"165.733367\" xlink:href=\"#m4d01508c6d\" y=\"135.470839\"/>\n     <use style=\"fill:#0000ff;stroke:#0000ff;\" x=\"204.801771\" xlink:href=\"#m4d01508c6d\" y=\"119.067433\"/>\n     <use style=\"fill:#0000ff;stroke:#0000ff;\" x=\"182.817241\" xlink:href=\"#m4d01508c6d\" y=\"136.08041\"/>\n     <use style=\"fill:#0000ff;stroke:#0000ff;\" x=\"84.279261\" xlink:href=\"#m4d01508c6d\" y=\"191.625487\"/>\n     <use style=\"fill:#0000ff;stroke:#0000ff;\" x=\"242.461942\" xlink:href=\"#m4d01508c6d\" y=\"101.928002\"/>\n     <use style=\"fill:#0000ff;stroke:#0000ff;\" x=\"95.263366\" xlink:href=\"#m4d01508c6d\" y=\"196.981078\"/>\n     <use style=\"fill:#0000ff;stroke:#0000ff;\" x=\"187.555573\" xlink:href=\"#m4d01508c6d\" y=\"129.038859\"/>\n     <use style=\"fill:#0000ff;stroke:#0000ff;\" x=\"126.815071\" xlink:href=\"#m4d01508c6d\" y=\"170.524783\"/>\n     <use style=\"fill:#0000ff;stroke:#0000ff;\" x=\"169.633079\" xlink:href=\"#m4d01508c6d\" y=\"149.502513\"/>\n     <use style=\"fill:#0000ff;stroke:#0000ff;\" x=\"201.724258\" xlink:href=\"#m4d01508c6d\" y=\"140.546732\"/>\n     <use style=\"fill:#0000ff;stroke:#0000ff;\" x=\"227.192623\" xlink:href=\"#m4d01508c6d\" y=\"112.885794\"/>\n     <use style=\"fill:#0000ff;stroke:#0000ff;\" x=\"214.488784\" xlink:href=\"#m4d01508c6d\" y=\"112.899054\"/>\n     <use style=\"fill:#0000ff;stroke:#0000ff;\" x=\"172.564064\" xlink:href=\"#m4d01508c6d\" y=\"141.53736\"/>\n     <use style=\"fill:#0000ff;stroke:#0000ff;\" x=\"252.46193\" xlink:href=\"#m4d01508c6d\" y=\"84.499248\"/>\n     <use style=\"fill:#0000ff;stroke:#0000ff;\" x=\"339.820491\" xlink:href=\"#m4d01508c6d\" y=\"35.924087\"/>\n     <use style=\"fill:#0000ff;stroke:#0000ff;\" x=\"147.928625\" xlink:href=\"#m4d01508c6d\" y=\"161.138609\"/>\n     <use style=\"fill:#0000ff;stroke:#0000ff;\" x=\"260.031422\" xlink:href=\"#m4d01508c6d\" y=\"90.537161\"/>\n     <use style=\"fill:#0000ff;stroke:#0000ff;\" x=\"225.030411\" xlink:href=\"#m4d01508c6d\" y=\"101.12495\"/>\n     <use style=\"fill:#0000ff;stroke:#0000ff;\" x=\"227.199885\" xlink:href=\"#m4d01508c6d\" y=\"95.602736\"/>\n     <use style=\"fill:#0000ff;stroke:#0000ff;\" x=\"130.696297\" xlink:href=\"#m4d01508c6d\" y=\"177.858774\"/>\n     <use style=\"fill:#0000ff;stroke:#0000ff;\" x=\"51.723182\" xlink:href=\"#m4d01508c6d\" y=\"214.756364\"/>\n     <use style=\"fill:#0000ff;stroke:#0000ff;\" x=\"218.906006\" xlink:href=\"#m4d01508c6d\" y=\"116.316722\"/>\n     <use style=\"fill:#0000ff;stroke:#0000ff;\" x=\"83.081944\" xlink:href=\"#m4d01508c6d\" y=\"193.717971\"/>\n     <use style=\"fill:#0000ff;stroke:#0000ff;\" x=\"185.590383\" xlink:href=\"#m4d01508c6d\" y=\"142.975081\"/>\n     <use style=\"fill:#0000ff;stroke:#0000ff;\" x=\"214.268357\" xlink:href=\"#m4d01508c6d\" y=\"119.62072\"/>\n     <use style=\"fill:#0000ff;stroke:#0000ff;\" x=\"162.508078\" xlink:href=\"#m4d01508c6d\" y=\"138.895446\"/>\n     <use style=\"fill:#0000ff;stroke:#0000ff;\" x=\"214.146163\" xlink:href=\"#m4d01508c6d\" y=\"107.565343\"/>\n     <use style=\"fill:#0000ff;stroke:#0000ff;\" x=\"219.264169\" xlink:href=\"#m4d01508c6d\" y=\"115.509757\"/>\n     <use style=\"fill:#0000ff;stroke:#0000ff;\" x=\"106.437954\" xlink:href=\"#m4d01508c6d\" y=\"181.355032\"/>\n     <use style=\"fill:#0000ff;stroke:#0000ff;\" x=\"187.680837\" xlink:href=\"#m4d01508c6d\" y=\"130.416553\"/>\n     <use style=\"fill:#0000ff;stroke:#0000ff;\" x=\"182.526704\" xlink:href=\"#m4d01508c6d\" y=\"132.626033\"/>\n     <use style=\"fill:#0000ff;stroke:#0000ff;\" x=\"207.170457\" xlink:href=\"#m4d01508c6d\" y=\"121.245109\"/>\n     <use style=\"fill:#0000ff;stroke:#0000ff;\" x=\"193.274125\" xlink:href=\"#m4d01508c6d\" y=\"126.509117\"/>\n     <use style=\"fill:#0000ff;stroke:#0000ff;\" x=\"205.513366\" xlink:href=\"#m4d01508c6d\" y=\"116.281503\"/>\n     <use style=\"fill:#0000ff;stroke:#0000ff;\" x=\"229.910052\" xlink:href=\"#m4d01508c6d\" y=\"106.865153\"/>\n     <use style=\"fill:#0000ff;stroke:#0000ff;\" x=\"229.21587\" xlink:href=\"#m4d01508c6d\" y=\"100.21304\"/>\n     <use style=\"fill:#0000ff;stroke:#0000ff;\" x=\"130.19893\" xlink:href=\"#m4d01508c6d\" y=\"171.437538\"/>\n     <use style=\"fill:#0000ff;stroke:#0000ff;\" x=\"277.41936\" xlink:href=\"#m4d01508c6d\" y=\"81.816746\"/>\n     <use style=\"fill:#0000ff;stroke:#0000ff;\" x=\"356.086818\" xlink:href=\"#m4d01508c6d\" y=\"38.437137\"/>\n     <use style=\"fill:#0000ff;stroke:#0000ff;\" x=\"74.88506\" xlink:href=\"#m4d01508c6d\" y=\"204.687442\"/>\n     <use style=\"fill:#0000ff;stroke:#0000ff;\" x=\"244.810218\" xlink:href=\"#m4d01508c6d\" y=\"94.270813\"/>\n     <use style=\"fill:#0000ff;stroke:#0000ff;\" x=\"168.714886\" xlink:href=\"#m4d01508c6d\" y=\"141.331536\"/>\n     <use style=\"fill:#0000ff;stroke:#0000ff;\" x=\"167.382031\" xlink:href=\"#m4d01508c6d\" y=\"149.690589\"/>\n     <use style=\"fill:#0000ff;stroke:#0000ff;\" x=\"288.057064\" xlink:href=\"#m4d01508c6d\" y=\"72.45361\"/>\n     <use style=\"fill:#0000ff;stroke:#0000ff;\" x=\"229.516446\" xlink:href=\"#m4d01508c6d\" y=\"104.741261\"/>\n     <use style=\"fill:#0000ff;stroke:#0000ff;\" x=\"157.248898\" xlink:href=\"#m4d01508c6d\" y=\"148.00398\"/>\n     <use style=\"fill:#0000ff;stroke:#0000ff;\" x=\"255.417709\" xlink:href=\"#m4d01508c6d\" y=\"98.881025\"/>\n     <use style=\"fill:#0000ff;stroke:#0000ff;\" x=\"146.016894\" xlink:href=\"#m4d01508c6d\" y=\"155.779062\"/>\n     <use style=\"fill:#0000ff;stroke:#0000ff;\" x=\"151.063891\" xlink:href=\"#m4d01508c6d\" y=\"156.421848\"/>\n     <use style=\"fill:#0000ff;stroke:#0000ff;\" x=\"242.103873\" xlink:href=\"#m4d01508c6d\" y=\"105.943628\"/>\n     <use style=\"fill:#0000ff;stroke:#0000ff;\" x=\"140.672049\" xlink:href=\"#m4d01508c6d\" y=\"152.870766\"/>\n     <use style=\"fill:#0000ff;stroke:#0000ff;\" x=\"208.364334\" xlink:href=\"#m4d01508c6d\" y=\"123.27687\"/>\n     <use style=\"fill:#0000ff;stroke:#0000ff;\" x=\"241.472726\" xlink:href=\"#m4d01508c6d\" y=\"85.566147\"/>\n     <use style=\"fill:#0000ff;stroke:#0000ff;\" x=\"182.379789\" xlink:href=\"#m4d01508c6d\" y=\"132.372876\"/>\n     <use style=\"fill:#0000ff;stroke:#0000ff;\" x=\"172.476634\" xlink:href=\"#m4d01508c6d\" y=\"141.891972\"/>\n     <use style=\"fill:#0000ff;stroke:#0000ff;\" x=\"140.244014\" xlink:href=\"#m4d01508c6d\" y=\"155.431436\"/>\n     <use style=\"fill:#0000ff;stroke:#0000ff;\" x=\"258.323438\" xlink:href=\"#m4d01508c6d\" y=\"77.243748\"/>\n     <use style=\"fill:#0000ff;stroke:#0000ff;\" x=\"136.104616\" xlink:href=\"#m4d01508c6d\" y=\"179.269169\"/>\n     <use style=\"fill:#0000ff;stroke:#0000ff;\" x=\"190.096207\" xlink:href=\"#m4d01508c6d\" y=\"128.716585\"/>\n     <use style=\"fill:#0000ff;stroke:#0000ff;\" x=\"139.573183\" xlink:href=\"#m4d01508c6d\" y=\"171.001449\"/>\n     <use style=\"fill:#0000ff;stroke:#0000ff;\" x=\"163.149714\" xlink:href=\"#m4d01508c6d\" y=\"152.029604\"/>\n     <use style=\"fill:#0000ff;stroke:#0000ff;\" x=\"216.140298\" xlink:href=\"#m4d01508c6d\" y=\"117.258703\"/>\n     <use style=\"fill:#0000ff;stroke:#0000ff;\" x=\"183.713561\" xlink:href=\"#m4d01508c6d\" y=\"128.730445\"/>\n     <use style=\"fill:#0000ff;stroke:#0000ff;\" x=\"140.922452\" xlink:href=\"#m4d01508c6d\" y=\"163.059583\"/>\n     <use style=\"fill:#0000ff;stroke:#0000ff;\" x=\"128.145794\" xlink:href=\"#m4d01508c6d\" y=\"168.566157\"/>\n     <use style=\"fill:#0000ff;stroke:#0000ff;\" x=\"179.790137\" xlink:href=\"#m4d01508c6d\" y=\"139.489617\"/>\n     <use style=\"fill:#0000ff;stroke:#0000ff;\" x=\"145.718935\" xlink:href=\"#m4d01508c6d\" y=\"157.857854\"/>\n     <use style=\"fill:#0000ff;stroke:#0000ff;\" x=\"89.909084\" xlink:href=\"#m4d01508c6d\" y=\"188.298476\"/>\n     <use style=\"fill:#0000ff;stroke:#0000ff;\" x=\"170.378377\" xlink:href=\"#m4d01508c6d\" y=\"144.107637\"/>\n     <use style=\"fill:#0000ff;stroke:#0000ff;\" x=\"181.129521\" xlink:href=\"#m4d01508c6d\" y=\"131.745844\"/>\n     <use style=\"fill:#0000ff;stroke:#0000ff;\" x=\"176.713726\" xlink:href=\"#m4d01508c6d\" y=\"135.494624\"/>\n     <use style=\"fill:#0000ff;stroke:#0000ff;\" x=\"303.954696\" xlink:href=\"#m4d01508c6d\" y=\"66.947397\"/>\n     <use style=\"fill:#0000ff;stroke:#0000ff;\" x=\"272.193497\" xlink:href=\"#m4d01508c6d\" y=\"82.424166\"/>\n     <use style=\"fill:#0000ff;stroke:#0000ff;\" x=\"236.345856\" xlink:href=\"#m4d01508c6d\" y=\"102.106086\"/>\n     <use style=\"fill:#0000ff;stroke:#0000ff;\" x=\"134.499276\" xlink:href=\"#m4d01508c6d\" y=\"174.518607\"/>\n     <use style=\"fill:#0000ff;stroke:#0000ff;\" x=\"333.042924\" xlink:href=\"#m4d01508c6d\" y=\"49.789696\"/>\n     <use style=\"fill:#0000ff;stroke:#0000ff;\" x=\"275.373557\" xlink:href=\"#m4d01508c6d\" y=\"72.995246\"/>\n     <use style=\"fill:#0000ff;stroke:#0000ff;\" x=\"222.814917\" xlink:href=\"#m4d01508c6d\" y=\"105.489025\"/>\n     <use style=\"fill:#0000ff;stroke:#0000ff;\" x=\"263.99672\" xlink:href=\"#m4d01508c6d\" y=\"91.495494\"/>\n     <use style=\"fill:#0000ff;stroke:#0000ff;\" x=\"353.074004\" xlink:href=\"#m4d01508c6d\" y=\"17.083636\"/>\n     <use style=\"fill:#0000ff;stroke:#0000ff;\" x=\"203.532258\" xlink:href=\"#m4d01508c6d\" y=\"127.307617\"/>\n     <use style=\"fill:#0000ff;stroke:#0000ff;\" x=\"267.393703\" xlink:href=\"#m4d01508c6d\" y=\"76.252455\"/>\n     <use style=\"fill:#0000ff;stroke:#0000ff;\" x=\"259.569898\" xlink:href=\"#m4d01508c6d\" y=\"85.788218\"/>\n     <use style=\"fill:#0000ff;stroke:#0000ff;\" x=\"127.853128\" xlink:href=\"#m4d01508c6d\" y=\"163.79382\"/>\n     <use style=\"fill:#0000ff;stroke:#0000ff;\" x=\"197.767747\" xlink:href=\"#m4d01508c6d\" y=\"120.46706\"/>\n     <use style=\"fill:#0000ff;stroke:#0000ff;\" x=\"80.041254\" xlink:href=\"#m4d01508c6d\" y=\"204.661519\"/>\n     <use style=\"fill:#0000ff;stroke:#0000ff;\" x=\"228.305379\" xlink:href=\"#m4d01508c6d\" y=\"102.834734\"/>\n     <use style=\"fill:#0000ff;stroke:#0000ff;\" x=\"137.425631\" xlink:href=\"#m4d01508c6d\" y=\"166.406093\"/>\n     <use style=\"fill:#0000ff;stroke:#0000ff;\" x=\"215.845659\" xlink:href=\"#m4d01508c6d\" y=\"124.203786\"/>\n     <use style=\"fill:#0000ff;stroke:#0000ff;\" x=\"88.206549\" xlink:href=\"#m4d01508c6d\" y=\"185.892167\"/>\n     <use style=\"fill:#0000ff;stroke:#0000ff;\" x=\"158.108864\" xlink:href=\"#m4d01508c6d\" y=\"164.985091\"/>\n     <use style=\"fill:#0000ff;stroke:#0000ff;\" x=\"74.780147\" xlink:href=\"#m4d01508c6d\" y=\"207.515531\"/>\n    </g>\n   </g>\n   <g id=\"patch_3\">\n    <path d=\"M 36.505 224.64 \nL 36.505 7.2 \n\" style=\"fill:none;stroke:#000000;stroke-linecap:square;stroke-linejoin:miter;stroke-width:0.8;\"/>\n   </g>\n   <g id=\"patch_4\">\n    <path d=\"M 371.305 224.64 \nL 371.305 7.2 \n\" style=\"fill:none;stroke:#000000;stroke-linecap:square;stroke-linejoin:miter;stroke-width:0.8;\"/>\n   </g>\n   <g id=\"patch_5\">\n    <path d=\"M 36.505 224.64 \nL 371.305 224.64 \n\" style=\"fill:none;stroke:#000000;stroke-linecap:square;stroke-linejoin:miter;stroke-width:0.8;\"/>\n   </g>\n   <g id=\"patch_6\">\n    <path d=\"M 36.505 7.2 \nL 371.305 7.2 \n\" style=\"fill:none;stroke:#000000;stroke-linecap:square;stroke-linejoin:miter;stroke-width:0.8;\"/>\n   </g>\n  </g>\n </g>\n <defs>\n  <clipPath id=\"pe0d72535fc\">\n   <rect height=\"217.44\" width=\"334.8\" x=\"36.505\" y=\"7.2\"/>\n  </clipPath>\n </defs>\n</svg>\n",
      "image/png": "[encoded data removed]"
     },
     "metadata": {
      "needs_background": "light"
     }
    }
   ],
   "source": [
    "import matplotlib. pyplot as plt\n",
    "# Plot the data\n",
    "plt.plot(x[:,1],y,\"b.\")\n",
    "plt.xlabel(\"$x_2$\", fontsize=18)\n",
    "plt.ylabel(\"$Y$\", rotation = 0, fontsize=18)\n",
    "plt.axis()\n",
    "plt. show()"
   ]
  },
  {
   "cell_type": "code",
   "execution_count": 20,
   "metadata": {},
   "outputs": [
    {
     "output_type": "execute_result",
     "data": {
      "text/plain": [
       "array([17.41764316, -0.15689429,  4.76151212])"
      ]
     },
     "metadata": {},
     "execution_count": 20
    }
   ],
   "source": [
    "# using x1 and x6\n",
    "X_b =np.c_[np.ones((n,1)),x[:,0],x[:,5]]\n",
    "theta_best= np.dot(np.dot(np.linalg.inv(np.dot(X_b.T,X_b)),X_b.T),y)\n",
    "theta_best"
   ]
  },
  {
   "cell_type": "code",
   "execution_count": 21,
   "metadata": {},
   "outputs": [
    {
     "output_type": "execute_result",
     "data": {
      "text/plain": [
       "array([45.62239589, 44.31692625, 47.7201165 , 48.45059231, 35.24717666,\n",
       "       58.65565225, 44.37864522, 72.69099697, 28.4887216 , 30.86922178])"
      ]
     },
     "metadata": {},
     "execution_count": 21
    }
   ],
   "source": [
    "from numpy.random import default_rng\n",
    "rng = default_rng(5)\n",
    "n_new=10\n",
    "x_new = rng.multivariate_normal(mu, sigma, (n_new))\n",
    "y_new = 9 + 3* x_new[:,1]+2*x_new[:,4]+ rng.normal(0,1,n_new)\n",
    "x_b_new = np.c_[np.ones((x_new.shape[0],1)),x_new[:,0],x_new[:,5]]\n",
    "y_pred = np.dot(x_b_new, theta_best)\n",
    "y_pred"
   ]
  },
  {
   "cell_type": "code",
   "execution_count": 22,
   "metadata": {},
   "outputs": [
    {
     "output_type": "stream",
     "name": "stdout",
     "text": [
      "Mean squared error: 67.06\nCoefficient of determination:0.57\n"
     ]
    }
   ],
   "source": [
    "# using x1 and x6\n",
    "# Accuracy\n",
    "from sklearn.metrics import mean_squared_error, r2_score\n",
    "# The mean squared error\n",
    "print('Mean squared error: %.2f'% mean_squared_error(y_new, y_pred))\n",
    "# The coefficient of determination: l is perfect prediction\n",
    "print('Coefficient of determination:%.2f'% r2_score(y_new, y_pred))"
   ]
  },
  {
   "cell_type": "code",
   "execution_count": 23,
   "metadata": {},
   "outputs": [
    {
     "output_type": "execute_result",
     "data": {
      "text/plain": [
       "array([-2.8172434 ,  4.57364512])"
      ]
     },
     "metadata": {},
     "execution_count": 23
    }
   ],
   "source": [
    "# using x1\n",
    "X_b =np.c_[np.ones((n,1)),x[:,0]]\n",
    "theta_best= np.dot(np.dot(np.linalg.inv(np.dot(X_b.T,X_b)),X_b.T),y)\n",
    "theta_best"
   ]
  },
  {
   "cell_type": "code",
   "execution_count": 24,
   "metadata": {},
   "outputs": [
    {
     "output_type": "error",
     "ename": "ValueError",
     "evalue": "shapes (10,3) and (2,) not aligned: 3 (dim 1) != 2 (dim 0)",
     "traceback": [
      "\u001b[0;31m---------------------------------------------------------------------------\u001b[0m",
      "\u001b[0;31mValueError\u001b[0m                                Traceback (most recent call last)",
      "\u001b[0;32m<ipython-input-24-694d67102deb>\u001b[0m in \u001b[0;36m<module>\u001b[0;34m\u001b[0m\n\u001b[1;32m      5\u001b[0m \u001b[0my_new\u001b[0m \u001b[0;34m=\u001b[0m \u001b[0;36m9\u001b[0m \u001b[0;34m+\u001b[0m \u001b[0;36m3\u001b[0m\u001b[0;34m*\u001b[0m \u001b[0mx_new\u001b[0m\u001b[0;34m[\u001b[0m\u001b[0;34m:\u001b[0m\u001b[0;34m,\u001b[0m\u001b[0;36m1\u001b[0m\u001b[0;34m]\u001b[0m\u001b[0;34m+\u001b[0m\u001b[0;36m2\u001b[0m\u001b[0;34m*\u001b[0m\u001b[0mx_new\u001b[0m\u001b[0;34m[\u001b[0m\u001b[0;34m:\u001b[0m\u001b[0;34m,\u001b[0m\u001b[0;36m4\u001b[0m\u001b[0;34m]\u001b[0m\u001b[0;34m+\u001b[0m \u001b[0mrng\u001b[0m\u001b[0;34m.\u001b[0m\u001b[0mnormal\u001b[0m\u001b[0;34m(\u001b[0m\u001b[0;36m0\u001b[0m\u001b[0;34m,\u001b[0m\u001b[0;36m1\u001b[0m\u001b[0;34m,\u001b[0m\u001b[0mn_new\u001b[0m\u001b[0;34m)\u001b[0m\u001b[0;34m\u001b[0m\u001b[0;34m\u001b[0m\u001b[0m\n\u001b[1;32m      6\u001b[0m \u001b[0mx_b_new\u001b[0m \u001b[0;34m=\u001b[0m \u001b[0mnp\u001b[0m\u001b[0;34m.\u001b[0m\u001b[0mc_\u001b[0m\u001b[0;34m[\u001b[0m\u001b[0mnp\u001b[0m\u001b[0;34m.\u001b[0m\u001b[0mones\u001b[0m\u001b[0;34m(\u001b[0m\u001b[0;34m(\u001b[0m\u001b[0mx_new\u001b[0m\u001b[0;34m.\u001b[0m\u001b[0mshape\u001b[0m\u001b[0;34m[\u001b[0m\u001b[0;36m0\u001b[0m\u001b[0;34m]\u001b[0m\u001b[0;34m,\u001b[0m\u001b[0;36m1\u001b[0m\u001b[0;34m)\u001b[0m\u001b[0;34m)\u001b[0m\u001b[0;34m,\u001b[0m\u001b[0mx_new\u001b[0m\u001b[0;34m[\u001b[0m\u001b[0;34m:\u001b[0m\u001b[0;34m,\u001b[0m\u001b[0;36m0\u001b[0m\u001b[0;34m]\u001b[0m\u001b[0;34m,\u001b[0m\u001b[0mx_new\u001b[0m\u001b[0;34m[\u001b[0m\u001b[0;34m:\u001b[0m\u001b[0;34m,\u001b[0m\u001b[0;36m5\u001b[0m\u001b[0;34m]\u001b[0m\u001b[0;34m]\u001b[0m\u001b[0;34m\u001b[0m\u001b[0;34m\u001b[0m\u001b[0m\n\u001b[0;32m----> 7\u001b[0;31m \u001b[0my_pred\u001b[0m \u001b[0;34m=\u001b[0m \u001b[0mnp\u001b[0m\u001b[0;34m.\u001b[0m\u001b[0mdot\u001b[0m\u001b[0;34m(\u001b[0m\u001b[0mx_b_new\u001b[0m\u001b[0;34m,\u001b[0m \u001b[0mtheta_best\u001b[0m\u001b[0;34m)\u001b[0m\u001b[0;34m\u001b[0m\u001b[0;34m\u001b[0m\u001b[0m\n\u001b[0m\u001b[1;32m      8\u001b[0m \u001b[0my_pred\u001b[0m\u001b[0;34m\u001b[0m\u001b[0;34m\u001b[0m\u001b[0m\n",
      "\u001b[0;32m<__array_function__ internals>\u001b[0m in \u001b[0;36mdot\u001b[0;34m(*args, **kwargs)\u001b[0m\n",
      "\u001b[0;31mValueError\u001b[0m: shapes (10,3) and (2,) not aligned: 3 (dim 1) != 2 (dim 0)"
     ]
    }
   ],
   "source": [
    "from numpy.random import default_rng\n",
    "rng = default_rng(5)\n",
    "n_new=10\n",
    "x_new = rng.multivariate_normal(mu, sigma, (n_new))\n",
    "y_new = 9 + 3* x_new[:,1]+2*x_new[:,4]+ rng.normal(0,1,n_new)\n",
    "x_b_new = np.c_[np.ones((x_new.shape[0],1)),x_new[:,0],x_new[:,5]]\n",
    "y_pred = np.dot(x_b_new, theta_best)\n",
    "y_pred"
   ]
  },
  {
   "cell_type": "code",
   "execution_count": null,
   "metadata": {},
   "outputs": [],
   "source": []
  },
  {
   "cell_type": "code",
   "execution_count": null,
   "metadata": {},
   "outputs": [],
   "source": []
  },
  {
   "cell_type": "code",
   "execution_count": 65,
   "metadata": {},
   "outputs": [
    {
     "output_type": "execute_result",
     "data": {
      "text/plain": [
       "array([9.1436399 , 2.98410747, 2.02728756])"
      ]
     },
     "metadata": {},
     "execution_count": 65
    }
   ],
   "source": [
    "# using x2 and x5\n",
    "X_b =np.c_[np.ones((n,1)),x[:,1],x[:,4]]\n",
    "theta_best= np.dot(np.dot(np.linalg.inv(np.dot(X_b.T,X_b)),X_b.T),y)\n",
    "theta_best"
   ]
  },
  {
   "cell_type": "code",
   "execution_count": 66,
   "metadata": {},
   "outputs": [
    {
     "output_type": "execute_result",
     "data": {
      "text/plain": [
       "array([55.74867714, 44.92485455, 48.64874587, 50.03064092, 27.88742181,\n",
       "       58.70214369, 60.99213335, 76.18753939, 38.90578227, 40.88294498])"
      ]
     },
     "metadata": {},
     "execution_count": 66
    }
   ],
   "source": [
    "x_b_new=np.c_[np.ones((x_new.shape[0],1)),x_new[:,1],x_new[:,4]]\n",
    "y_pred =np.dot(x_b_new,theta_best)\n",
    "y_pred"
   ]
  },
  {
   "cell_type": "code",
   "execution_count": 67,
   "metadata": {},
   "outputs": [
    {
     "output_type": "stream",
     "name": "stdout",
     "text": [
      "Mean squared error: 0.43\nCoefficient of determination:1.00\n"
     ]
    }
   ],
   "source": [
    "# using x2 and x5\n",
    "# Accuracy\n",
    "from sklearn.metrics import mean_squared_error, r2_score\n",
    "# The mean squared error\n",
    "print('Mean squared error: %.2f'% mean_squared_error(y_new, y_pred))\n",
    "# The coefficient of determination: l is perfect prediction\n",
    "print('Coefficient of determination:%.2f'% r2_score(y_new, y_pred))"
   ]
  },
  {
   "cell_type": "code",
   "execution_count": null,
   "metadata": {},
   "outputs": [],
   "source": []
  },
  {
   "cell_type": "code",
   "execution_count": null,
   "metadata": {},
   "outputs": [],
   "source": []
  }
 ]
}