{
 "metadata": {
  "language_info": {
   "codemirror_mode": {
    "name": "ipython",
    "version": 3
   },
   "file_extension": ".py",
   "mimetype": "text/x-python",
   "name": "python",
   "nbconvert_exporter": "python",
   "pygments_lexer": "ipython3",
   "version": "3.8.8"
  },
  "orig_nbformat": 2,
  "kernelspec": {
   "name": "python388jvsc74a57bd00142100476a55ad2707e4ee89bdff33f958300b25bb6983b2c86b093430e9fda",
   "display_name": "Python 3.8.8 64-bit ('jnb': conda)"
  },
  "metadata": {
   "interpreter": {
    "hash": "0142100476a55ad2707e4ee89bdff33f958300b25bb6983b2c86b093430e9fda"
   }
  }
 },
 "nbformat": 4,
 "nbformat_minor": 2,
 "cells": [
  {
   "source": [
    "### Computational Methods (16:540:540) ###\n",
    "\n",
    "#### Spring 2021 Homework 5 – Python Coding ####\n",
    "\n",
    "\n",
    "1. Generate 100 random samples from univariate normal and exponential distributions. Then, calculate the means and the standard deviation.\n",
    "2. Generate 100 random samples from multivariate normal distribution. Then, calculate means and covariance matrix.\n",
    "3. Perform Multiple Linear Regression using the same dataset generated in the\n",
    "class as follows: predict 𝑦\n",
    "a) Using only 𝑥1 ,\n",
    "b) Using variables 𝑥1 , ... , 𝑥3\n",
    "c) Using all variables 𝑥1 , ... , 𝑥𝑝\n",
    "d) Compare the performance for both training and test data using MSE and R-squared."
   ],
   "cell_type": "markdown",
   "metadata": {}
  },
  {
   "cell_type": "code",
   "execution_count": 1,
   "metadata": {},
   "outputs": [],
   "source": [
    "import numpy as np\n",
    "import pandas as pd\n",
    "\n",
    "from numpy.random import default_rng\n",
    "rng = default_rng(5)"
   ]
  },
  {
   "cell_type": "code",
   "execution_count": 2,
   "metadata": {},
   "outputs": [],
   "source": [
    "# 1. Generate 100 random samples from univariate normal and exponential distributions. Then, calculate the means and the standard deviation."
   ]
  },
  {
   "cell_type": "code",
   "execution_count": 3,
   "metadata": {},
   "outputs": [
    {
     "output_type": "stream",
     "name": "stdout",
     "text": [
      "From univariate normal distribution,the mean of 100 random the samples is 4.775992733090337,the variance is 0.7791377243518098\n"
     ]
    }
   ],
   "source": [
    "mu, sigma = 5,1\n",
    "n = 100\n",
    "x1 = rng.normal(mu,sigma,n)\n",
    "x1_mean = np.mean(x1)\n",
    "x1_var = np.var(x1)\n",
    "\n",
    "print(f'From univariate normal distribution,the mean of 100 random the samples is {x1_mean},the variance is {x1_var}')"
   ]
  },
  {
   "cell_type": "code",
   "execution_count": 4,
   "metadata": {},
   "outputs": [
    {
     "output_type": "stream",
     "name": "stdout",
     "text": [
      "From exponential distribution,the mean of 100 random the samples is 0.9659351362133682,the variance is 0.7781621514620671\n"
     ]
    }
   ],
   "source": [
    "y1 =rng.exponential(size=n)\n",
    "y1_mean = np.mean(y1)\n",
    "y1_var = np.var(y1)\n",
    "\n",
    "print(f'From exponential distribution,the mean of 100 random the samples is {y1_mean},the variance is {y1_var}')"
   ]
  },
  {
   "cell_type": "code",
   "execution_count": 5,
   "metadata": {},
   "outputs": [],
   "source": [
    "# 2. Generate 100 random samples from multivariate normal distribution. Then, calculate means and covariance matrix."
   ]
  },
  {
   "cell_type": "code",
   "execution_count": 6,
   "metadata": {},
   "outputs": [],
   "source": [
    "# P=6, N=100\n",
    "mu = np.random.uniform(-10,10,size=6)\n",
    "C = np.random.random((6,6))\n",
    "cov = C @ C.T # positive semi-definite\n",
    "x2 = rng.multivariate_normal(mu, cov, n)"
   ]
  },
  {
   "cell_type": "code",
   "execution_count": 7,
   "metadata": {},
   "outputs": [
    {
     "output_type": "execute_result",
     "data": {
      "text/plain": [
       "          0\n",
       "0 -5.650358\n",
       "1 -5.370882\n",
       "2 -5.356234\n",
       "3  5.771301\n",
       "4  4.608734\n",
       "5 -4.798362"
      ],
      "text/html": "<div>\n<style scoped>\n    .dataframe tbody tr th:only-of-type {\n        vertical-align: middle;\n    }\n\n    .dataframe tbody tr th {\n        vertical-align: top;\n    }\n\n    .dataframe thead th {\n        text-align: right;\n    }\n</style>\n<table border=\"1\" class=\"dataframe\">\n  <thead>\n    <tr style=\"text-align: right;\">\n      <th></th>\n      <th>0</th>\n    </tr>\n  </thead>\n  <tbody>\n    <tr>\n      <th>0</th>\n      <td>-5.650358</td>\n    </tr>\n    <tr>\n      <th>1</th>\n      <td>-5.370882</td>\n    </tr>\n    <tr>\n      <th>2</th>\n      <td>-5.356234</td>\n    </tr>\n    <tr>\n      <th>3</th>\n      <td>5.771301</td>\n    </tr>\n    <tr>\n      <th>4</th>\n      <td>4.608734</td>\n    </tr>\n    <tr>\n      <th>5</th>\n      <td>-4.798362</td>\n    </tr>\n  </tbody>\n</table>\n</div>"
     },
     "metadata": {},
     "execution_count": 7
    }
   ],
   "source": [
    "pd.DataFrame(mu)"
   ]
  },
  {
   "cell_type": "code",
   "execution_count": 8,
   "metadata": {},
   "outputs": [
    {
     "output_type": "execute_result",
     "data": {
      "text/plain": [
       "          0         1         2         3         4         5\n",
       "0  1.504616  0.985409  1.904842  1.658436  0.837779  0.826988\n",
       "1  0.985409  1.925289  2.434050  1.705159  1.374846  1.288849\n",
       "2  1.904842  2.434050  3.798976  2.706143  1.714451  1.811351\n",
       "3  1.658436  1.705159  2.706143  2.387109  1.379215  1.090070\n",
       "4  0.837779  1.374846  1.714451  1.379215  1.202464  0.770919\n",
       "5  0.826988  1.288849  1.811351  1.090070  0.770919  1.118572"
      ],
      "text/html": "<div>\n<style scoped>\n    .dataframe tbody tr th:only-of-type {\n        vertical-align: middle;\n    }\n\n    .dataframe tbody tr th {\n        vertical-align: top;\n    }\n\n    .dataframe thead th {\n        text-align: right;\n    }\n</style>\n<table border=\"1\" class=\"dataframe\">\n  <thead>\n    <tr style=\"text-align: right;\">\n      <th></th>\n      <th>0</th>\n      <th>1</th>\n      <th>2</th>\n      <th>3</th>\n      <th>4</th>\n      <th>5</th>\n    </tr>\n  </thead>\n  <tbody>\n    <tr>\n      <th>0</th>\n      <td>1.504616</td>\n      <td>0.985409</td>\n      <td>1.904842</td>\n      <td>1.658436</td>\n      <td>0.837779</td>\n      <td>0.826988</td>\n    </tr>\n    <tr>\n      <th>1</th>\n      <td>0.985409</td>\n      <td>1.925289</td>\n      <td>2.434050</td>\n      <td>1.705159</td>\n      <td>1.374846</td>\n      <td>1.288849</td>\n    </tr>\n    <tr>\n      <th>2</th>\n      <td>1.904842</td>\n      <td>2.434050</td>\n      <td>3.798976</td>\n      <td>2.706143</td>\n      <td>1.714451</td>\n      <td>1.811351</td>\n    </tr>\n    <tr>\n      <th>3</th>\n      <td>1.658436</td>\n      <td>1.705159</td>\n      <td>2.706143</td>\n      <td>2.387109</td>\n      <td>1.379215</td>\n      <td>1.090070</td>\n    </tr>\n    <tr>\n      <th>4</th>\n      <td>0.837779</td>\n      <td>1.374846</td>\n      <td>1.714451</td>\n      <td>1.379215</td>\n      <td>1.202464</td>\n      <td>0.770919</td>\n    </tr>\n    <tr>\n      <th>5</th>\n      <td>0.826988</td>\n      <td>1.288849</td>\n      <td>1.811351</td>\n      <td>1.090070</td>\n      <td>0.770919</td>\n      <td>1.118572</td>\n    </tr>\n  </tbody>\n</table>\n</div>"
     },
     "metadata": {},
     "execution_count": 8
    }
   ],
   "source": [
    "pd.DataFrame(cov)"
   ]
  },
  {
   "cell_type": "code",
   "execution_count": 9,
   "metadata": {},
   "outputs": [
    {
     "output_type": "stream",
     "name": "stdout",
     "text": [
      "From univariate normal distribution,the mean of 100 random the samples is -1.8312456408514723,the variance is 27.04511338739436\n"
     ]
    }
   ],
   "source": [
    "x2_mean = np.mean(x2)\n",
    "x2_var = np.var(x2)\n",
    "\n",
    "print(f'From univariate normal distribution,the mean of 100 random the samples is {x2_mean},the variance is {x2_var}')"
   ]
  },
  {
   "cell_type": "code",
   "execution_count": 10,
   "metadata": {},
   "outputs": [],
   "source": [
    "# 3. Perform Multiple Linear Regression using the same dataset generated in the\n",
    "# class as follows: \n",
    "# predict 𝑦\n",
    "# a) Using only 𝑥1 ,\n",
    "# b) Using variables 𝑥1 , ... , 𝑥3\n",
    "# c) Using all variables 𝑥1 , ... , 𝑥𝑝\n",
    "#  d) Compare the performance for both training and test data using MSE and R-squared."
   ]
  },
  {
   "source": [
    "The output\n",
    "\n",
    "𝑦=9+3∗𝑥2 +2∗𝑥5+𝜀 \n",
    "\n",
    "𝜀~𝑁(0,1)"
   ],
   "cell_type": "markdown",
   "metadata": {}
  },
  {
   "cell_type": "code",
   "execution_count": 11,
   "metadata": {},
   "outputs": [],
   "source": [
    "from sklearn import datasets, linear_model\n",
    "from sklearn.metrics import mean_squared_error,r2_score\n",
    "regr = linear_model.LinearRegression()\n",
    "import matplotlib.pyplot as plt\n",
    "from scipy.stats import *\n",
    "from sklearn.model_selection import train_test_split\n",
    "x = x2"
   ]
  },
  {
   "cell_type": "code",
   "execution_count": 12,
   "metadata": {},
   "outputs": [],
   "source": [
    "# a) Using only 𝑥1 "
   ]
  },
  {
   "cell_type": "code",
   "execution_count": 13,
   "metadata": {},
   "outputs": [],
   "source": [
    "rng = default_rng(5)\n",
    "y = 9+3*x[:,1]+2*x[:,4] + rng.normal(0,1,n) "
   ]
  },
  {
   "cell_type": "code",
   "execution_count": 14,
   "metadata": {},
   "outputs": [],
   "source": [
    "# y"
   ]
  },
  {
   "cell_type": "code",
   "execution_count": 15,
   "metadata": {},
   "outputs": [],
   "source": [
    "x_train, x_test, y_train, y_test = train_test_split(x, y, test_size=0.3, random_state=123)"
   ]
  },
  {
   "cell_type": "code",
   "execution_count": 32,
   "metadata": {},
   "outputs": [
    {
     "output_type": "error",
     "ename": "IndexError",
     "evalue": "too many indices for array: array is 1-dimensional, but 2 were indexed",
     "traceback": [
      "\u001b[0;31m---------------------------------------------------------------------------\u001b[0m",
      "\u001b[0;31mIndexError\u001b[0m                                Traceback (most recent call last)",
      "\u001b[0;32m<ipython-input-32-a1eb61a14554>\u001b[0m in \u001b[0;36m<module>\u001b[0;34m\u001b[0m\n\u001b[1;32m      1\u001b[0m \u001b[0mx1_train\u001b[0m \u001b[0;34m=\u001b[0m \u001b[0mx_train\u001b[0m\u001b[0;34m[\u001b[0m\u001b[0;34m:\u001b[0m\u001b[0;34m,\u001b[0m \u001b[0;36m0\u001b[0m\u001b[0;34m:\u001b[0m\u001b[0;36m1\u001b[0m\u001b[0;34m]\u001b[0m\u001b[0;34m\u001b[0m\u001b[0;34m\u001b[0m\u001b[0m\n\u001b[0;32m----> 2\u001b[0;31m \u001b[0my1_train\u001b[0m \u001b[0;34m=\u001b[0m \u001b[0my_train\u001b[0m\u001b[0;34m[\u001b[0m\u001b[0;34m:\u001b[0m\u001b[0;34m,\u001b[0m \u001b[0;36m0\u001b[0m\u001b[0;34m:\u001b[0m\u001b[0;36m1\u001b[0m\u001b[0;34m]\u001b[0m\u001b[0;34m\u001b[0m\u001b[0;34m\u001b[0m\u001b[0m\n\u001b[0m\u001b[1;32m      3\u001b[0m \u001b[0;34m\u001b[0m\u001b[0m\n\u001b[1;32m      4\u001b[0m \u001b[0mx1_test\u001b[0m \u001b[0;34m=\u001b[0m \u001b[0mx_test\u001b[0m\u001b[0;34m[\u001b[0m\u001b[0;34m:\u001b[0m\u001b[0;34m,\u001b[0m \u001b[0;36m0\u001b[0m\u001b[0;34m:\u001b[0m\u001b[0;36m1\u001b[0m\u001b[0;34m]\u001b[0m\u001b[0;34m\u001b[0m\u001b[0;34m\u001b[0m\u001b[0m\n\u001b[1;32m      5\u001b[0m \u001b[0my1_test\u001b[0m \u001b[0;34m=\u001b[0m \u001b[0my_test\u001b[0m\u001b[0;34m[\u001b[0m\u001b[0;34m:\u001b[0m\u001b[0;34m,\u001b[0m \u001b[0;36m0\u001b[0m\u001b[0;34m:\u001b[0m\u001b[0;36m1\u001b[0m\u001b[0;34m]\u001b[0m\u001b[0;34m\u001b[0m\u001b[0;34m\u001b[0m\u001b[0m\n",
      "\u001b[0;31mIndexError\u001b[0m: too many indices for array: array is 1-dimensional, but 2 were indexed"
     ]
    }
   ],
   "source": [
    "x1_train = x_train[:, 0:1]\n",
    "y1_train = y_train[:, 0:1]\n",
    "\n",
    "x1_test = x_test[:, 0:1]\n",
    "y1_test = y_test[:, 0:1]"
   ]
  },
  {
   "cell_type": "code",
   "execution_count": 33,
   "metadata": {},
   "outputs": [],
   "source": [
    "# pd.DataFrame(X1_train),\n",
    "# pd.DataFrame(X1_test)"
   ]
  },
  {
   "cell_type": "code",
   "execution_count": 30,
   "metadata": {},
   "outputs": [],
   "source": [
    "regr_1 = linear_model.LinearRegression()"
   ]
  },
  {
   "cell_type": "code",
   "execution_count": 31,
   "metadata": {},
   "outputs": [
    {
     "output_type": "error",
     "ename": "ValueError",
     "evalue": "Found input variables with inconsistent numbers of samples: [70, 30]",
     "traceback": [
      "\u001b[0;31m---------------------------------------------------------------------------\u001b[0m",
      "\u001b[0;31mValueError\u001b[0m                                Traceback (most recent call last)",
      "\u001b[0;32m<ipython-input-31-e6de876827f9>\u001b[0m in \u001b[0;36m<module>\u001b[0;34m\u001b[0m\n\u001b[0;32m----> 1\u001b[0;31m \u001b[0mregr_1\u001b[0m\u001b[0;34m.\u001b[0m\u001b[0mfit\u001b[0m\u001b[0;34m(\u001b[0m\u001b[0mX1_train\u001b[0m\u001b[0;34m,\u001b[0m\u001b[0mX1_test\u001b[0m\u001b[0;34m)\u001b[0m\u001b[0;34m\u001b[0m\u001b[0;34m\u001b[0m\u001b[0m\n\u001b[0m",
      "\u001b[0;32m/opt/homebrew/Caskroom/miniconda/base/envs/jnb/lib/python3.8/site-packages/sklearn/linear_model/_base.py\u001b[0m in \u001b[0;36mfit\u001b[0;34m(self, X, y, sample_weight)\u001b[0m\n\u001b[1;32m    516\u001b[0m         \u001b[0maccept_sparse\u001b[0m \u001b[0;34m=\u001b[0m \u001b[0;32mFalse\u001b[0m \u001b[0;32mif\u001b[0m \u001b[0mself\u001b[0m\u001b[0;34m.\u001b[0m\u001b[0mpositive\u001b[0m \u001b[0;32melse\u001b[0m \u001b[0;34m[\u001b[0m\u001b[0;34m'csr'\u001b[0m\u001b[0;34m,\u001b[0m \u001b[0;34m'csc'\u001b[0m\u001b[0;34m,\u001b[0m \u001b[0;34m'coo'\u001b[0m\u001b[0;34m]\u001b[0m\u001b[0;34m\u001b[0m\u001b[0;34m\u001b[0m\u001b[0m\n\u001b[1;32m    517\u001b[0m \u001b[0;34m\u001b[0m\u001b[0m\n\u001b[0;32m--> 518\u001b[0;31m         X, y = self._validate_data(X, y, accept_sparse=accept_sparse,\n\u001b[0m\u001b[1;32m    519\u001b[0m                                    y_numeric=True, multi_output=True)\n\u001b[1;32m    520\u001b[0m \u001b[0;34m\u001b[0m\u001b[0m\n",
      "\u001b[0;32m/opt/homebrew/Caskroom/miniconda/base/envs/jnb/lib/python3.8/site-packages/sklearn/base.py\u001b[0m in \u001b[0;36m_validate_data\u001b[0;34m(self, X, y, reset, validate_separately, **check_params)\u001b[0m\n\u001b[1;32m    431\u001b[0m                 \u001b[0my\u001b[0m \u001b[0;34m=\u001b[0m \u001b[0mcheck_array\u001b[0m\u001b[0;34m(\u001b[0m\u001b[0my\u001b[0m\u001b[0;34m,\u001b[0m \u001b[0;34m**\u001b[0m\u001b[0mcheck_y_params\u001b[0m\u001b[0;34m)\u001b[0m\u001b[0;34m\u001b[0m\u001b[0;34m\u001b[0m\u001b[0m\n\u001b[1;32m    432\u001b[0m             \u001b[0;32melse\u001b[0m\u001b[0;34m:\u001b[0m\u001b[0;34m\u001b[0m\u001b[0;34m\u001b[0m\u001b[0m\n\u001b[0;32m--> 433\u001b[0;31m                 \u001b[0mX\u001b[0m\u001b[0;34m,\u001b[0m \u001b[0my\u001b[0m \u001b[0;34m=\u001b[0m \u001b[0mcheck_X_y\u001b[0m\u001b[0;34m(\u001b[0m\u001b[0mX\u001b[0m\u001b[0;34m,\u001b[0m \u001b[0my\u001b[0m\u001b[0;34m,\u001b[0m \u001b[0;34m**\u001b[0m\u001b[0mcheck_params\u001b[0m\u001b[0;34m)\u001b[0m\u001b[0;34m\u001b[0m\u001b[0;34m\u001b[0m\u001b[0m\n\u001b[0m\u001b[1;32m    434\u001b[0m             \u001b[0mout\u001b[0m \u001b[0;34m=\u001b[0m \u001b[0mX\u001b[0m\u001b[0;34m,\u001b[0m \u001b[0my\u001b[0m\u001b[0;34m\u001b[0m\u001b[0;34m\u001b[0m\u001b[0m\n\u001b[1;32m    435\u001b[0m \u001b[0;34m\u001b[0m\u001b[0m\n",
      "\u001b[0;32m/opt/homebrew/Caskroom/miniconda/base/envs/jnb/lib/python3.8/site-packages/sklearn/utils/validation.py\u001b[0m in \u001b[0;36minner_f\u001b[0;34m(*args, **kwargs)\u001b[0m\n\u001b[1;32m     61\u001b[0m             \u001b[0mextra_args\u001b[0m \u001b[0;34m=\u001b[0m \u001b[0mlen\u001b[0m\u001b[0;34m(\u001b[0m\u001b[0margs\u001b[0m\u001b[0;34m)\u001b[0m \u001b[0;34m-\u001b[0m \u001b[0mlen\u001b[0m\u001b[0;34m(\u001b[0m\u001b[0mall_args\u001b[0m\u001b[0;34m)\u001b[0m\u001b[0;34m\u001b[0m\u001b[0;34m\u001b[0m\u001b[0m\n\u001b[1;32m     62\u001b[0m             \u001b[0;32mif\u001b[0m \u001b[0mextra_args\u001b[0m \u001b[0;34m<=\u001b[0m \u001b[0;36m0\u001b[0m\u001b[0;34m:\u001b[0m\u001b[0;34m\u001b[0m\u001b[0;34m\u001b[0m\u001b[0m\n\u001b[0;32m---> 63\u001b[0;31m                 \u001b[0;32mreturn\u001b[0m \u001b[0mf\u001b[0m\u001b[0;34m(\u001b[0m\u001b[0;34m*\u001b[0m\u001b[0margs\u001b[0m\u001b[0;34m,\u001b[0m \u001b[0;34m**\u001b[0m\u001b[0mkwargs\u001b[0m\u001b[0;34m)\u001b[0m\u001b[0;34m\u001b[0m\u001b[0;34m\u001b[0m\u001b[0m\n\u001b[0m\u001b[1;32m     64\u001b[0m \u001b[0;34m\u001b[0m\u001b[0m\n\u001b[1;32m     65\u001b[0m             \u001b[0;31m# extra_args > 0\u001b[0m\u001b[0;34m\u001b[0m\u001b[0;34m\u001b[0m\u001b[0;34m\u001b[0m\u001b[0m\n",
      "\u001b[0;32m/opt/homebrew/Caskroom/miniconda/base/envs/jnb/lib/python3.8/site-packages/sklearn/utils/validation.py\u001b[0m in \u001b[0;36mcheck_X_y\u001b[0;34m(X, y, accept_sparse, accept_large_sparse, dtype, order, copy, force_all_finite, ensure_2d, allow_nd, multi_output, ensure_min_samples, ensure_min_features, y_numeric, estimator)\u001b[0m\n\u001b[1;32m    829\u001b[0m         \u001b[0my\u001b[0m \u001b[0;34m=\u001b[0m \u001b[0my\u001b[0m\u001b[0;34m.\u001b[0m\u001b[0mastype\u001b[0m\u001b[0;34m(\u001b[0m\u001b[0mnp\u001b[0m\u001b[0;34m.\u001b[0m\u001b[0mfloat64\u001b[0m\u001b[0;34m)\u001b[0m\u001b[0;34m\u001b[0m\u001b[0;34m\u001b[0m\u001b[0m\n\u001b[1;32m    830\u001b[0m \u001b[0;34m\u001b[0m\u001b[0m\n\u001b[0;32m--> 831\u001b[0;31m     \u001b[0mcheck_consistent_length\u001b[0m\u001b[0;34m(\u001b[0m\u001b[0mX\u001b[0m\u001b[0;34m,\u001b[0m \u001b[0my\u001b[0m\u001b[0;34m)\u001b[0m\u001b[0;34m\u001b[0m\u001b[0;34m\u001b[0m\u001b[0m\n\u001b[0m\u001b[1;32m    832\u001b[0m \u001b[0;34m\u001b[0m\u001b[0m\n\u001b[1;32m    833\u001b[0m     \u001b[0;32mreturn\u001b[0m \u001b[0mX\u001b[0m\u001b[0;34m,\u001b[0m \u001b[0my\u001b[0m\u001b[0;34m\u001b[0m\u001b[0;34m\u001b[0m\u001b[0m\n",
      "\u001b[0;32m/opt/homebrew/Caskroom/miniconda/base/envs/jnb/lib/python3.8/site-packages/sklearn/utils/validation.py\u001b[0m in \u001b[0;36mcheck_consistent_length\u001b[0;34m(*arrays)\u001b[0m\n\u001b[1;32m    260\u001b[0m     \u001b[0muniques\u001b[0m \u001b[0;34m=\u001b[0m \u001b[0mnp\u001b[0m\u001b[0;34m.\u001b[0m\u001b[0munique\u001b[0m\u001b[0;34m(\u001b[0m\u001b[0mlengths\u001b[0m\u001b[0;34m)\u001b[0m\u001b[0;34m\u001b[0m\u001b[0;34m\u001b[0m\u001b[0m\n\u001b[1;32m    261\u001b[0m     \u001b[0;32mif\u001b[0m \u001b[0mlen\u001b[0m\u001b[0;34m(\u001b[0m\u001b[0muniques\u001b[0m\u001b[0;34m)\u001b[0m \u001b[0;34m>\u001b[0m \u001b[0;36m1\u001b[0m\u001b[0;34m:\u001b[0m\u001b[0;34m\u001b[0m\u001b[0;34m\u001b[0m\u001b[0m\n\u001b[0;32m--> 262\u001b[0;31m         raise ValueError(\"Found input variables with inconsistent numbers of\"\n\u001b[0m\u001b[1;32m    263\u001b[0m                          \" samples: %r\" % [int(l) for l in lengths])\n\u001b[1;32m    264\u001b[0m \u001b[0;34m\u001b[0m\u001b[0m\n",
      "\u001b[0;31mValueError\u001b[0m: Found input variables with inconsistent numbers of samples: [70, 30]"
     ]
    }
   ],
   "source": []
  },
  {
   "cell_type": "code",
   "execution_count": null,
   "metadata": {},
   "outputs": [],
   "source": []
  },
  {
   "cell_type": "code",
   "execution_count": null,
   "metadata": {},
   "outputs": [],
   "source": []
  },
  {
   "cell_type": "code",
   "execution_count": null,
   "metadata": {},
   "outputs": [],
   "source": []
  },
  {
   "cell_type": "code",
   "execution_count": 18,
   "metadata": {},
   "outputs": [],
   "source": [
    "#  MuLtipLe Linear Regression\n",
    "import numpy as np\n",
    "from numpy.random import default_rng\n",
    "from sklearn import linear_model\n",
    "rng=default_rng(5)"
   ]
  },
  {
   "cell_type": "code",
   "execution_count": 19,
   "metadata": {},
   "outputs": [],
   "source": [
    "# generate mean from uniform\n",
    "p=6\n",
    "mu = rng.uniform(low=0.0, high=10, size=p)\n",
    "A=rng.uniform(low=0.5, high=2.5, size=(p, p))\n",
    "sigma=np. dot(A, A.transpose())\n",
    "# sigma"
   ]
  },
  {
   "cell_type": "code",
   "execution_count": 20,
   "metadata": {},
   "outputs": [],
   "source": [
    "n =100\n",
    "x = rng.multivariate_normal(mu, sigma, (n))\n",
    "# x"
   ]
  },
  {
   "cell_type": "code",
   "execution_count": 21,
   "metadata": {},
   "outputs": [],
   "source": [
    "#y=9+3*x2 + 2 *x5 + rng.normal(0,1,n)\n",
    "y = 9 +3*x[:,1]+2*x[:,4]+rng.normal(0,1,n)"
   ]
  },
  {
   "cell_type": "code",
   "execution_count": 22,
   "metadata": {},
   "outputs": [
    {
     "output_type": "display_data",
     "data": {
      "text/plain": "<Figure size 432x288 with 1 Axes>",
      "image/svg+xml": "<?xml version=\"1.0\" encoding=\"utf-8\" standalone=\"no\"?>\n<!DOCTYPE svg PUBLIC \"-//W3C//DTD SVG 1.1//EN\"\n  \"http://www.w3.org/Graphics/SVG/1.1/DTD/svg11.dtd\">\n<!-- Created with matplotlib (https://matplotlib.org/) -->\n<svg height=\"269.93875pt\" version=\"1.1\" viewBox=\"0 0 378.505 269.93875\" width=\"378.505pt\" xmlns=\"http://www.w3.org/2000/svg\" xmlns:xlink=\"http://www.w3.org/1999/xlink\">\n <metadata>\n  <rdf:RDF xmlns:cc=\"http://creativecommons.org/ns#\" xmlns:dc=\"http://purl.org/dc/elements/1.1/\" xmlns:rdf=\"http://www.w3.org/1999/02/22-rdf-syntax-ns#\">\n   <cc:Work>\n    <dc:type rdf:resource=\"http://purl.org/dc/dcmitype/StillImage\"/>\n    <dc:date>2021-04-25T09:35:50.628199</dc:date>\n    <dc:format>image/svg+xml</dc:format>\n    <dc:creator>\n     <cc:Agent>\n      <dc:title>Matplotlib v3.3.4, https://matplotlib.org/</dc:title>\n     </cc:Agent>\n    </dc:creator>\n   </cc:Work>\n  </rdf:RDF>\n </metadata>\n <defs>\n  <style type=\"text/css\">*{stroke-linecap:butt;stroke-linejoin:round;}</style>\n </defs>\n <g id=\"figure_1\">\n  <g id=\"patch_1\">\n   <path d=\"M 0 269.93875 \nL 378.505 269.93875 \nL 378.505 0 \nL 0 0 \nz\n\" style=\"fill:none;\"/>\n  </g>\n  <g id=\"axes_1\">\n   <g id=\"patch_2\">\n    <path d=\"M 36.505 224.64 \nL 371.305 224.64 \nL 371.305 7.2 \nL 36.505 7.2 \nz\n\" style=\"fill:#ffffff;\"/>\n   </g>\n   <g id=\"matplotlib.axis_1\">\n    <g id=\"xtick_1\">\n     <g id=\"line2d_1\">\n      <defs>\n       <path d=\"M 0 0 \nL 0 3.5 \n\" id=\"mc6c51b90d0\" style=\"stroke:#000000;stroke-width:0.8;\"/>\n      </defs>\n      <g>\n       <use style=\"stroke:#000000;stroke-width:0.8;\" x=\"81.946601\" xlink:href=\"#mc6c51b90d0\" y=\"224.64\"/>\n      </g>\n     </g>\n     <g id=\"text_1\">\n      <!-- 0 -->\n      <g transform=\"translate(78.765351 239.238437)scale(0.1 -0.1)\">\n       <defs>\n        <path d=\"M 31.78125 66.40625 \nQ 24.171875 66.40625 20.328125 58.90625 \nQ 16.5 51.421875 16.5 36.375 \nQ 16.5 21.390625 20.328125 13.890625 \nQ 24.171875 6.390625 31.78125 6.390625 \nQ 39.453125 6.390625 43.28125 13.890625 \nQ 47.125 21.390625 47.125 36.375 \nQ 47.125 51.421875 43.28125 58.90625 \nQ 39.453125 66.40625 31.78125 66.40625 \nz\nM 31.78125 74.21875 \nQ 44.046875 74.21875 50.515625 64.515625 \nQ 56.984375 54.828125 56.984375 36.375 \nQ 56.984375 17.96875 50.515625 8.265625 \nQ 44.046875 -1.421875 31.78125 -1.421875 \nQ 19.53125 -1.421875 13.0625 8.265625 \nQ 6.59375 17.96875 6.59375 36.375 \nQ 6.59375 54.828125 13.0625 64.515625 \nQ 19.53125 74.21875 31.78125 74.21875 \nz\n\" id=\"DejaVuSans-48\"/>\n       </defs>\n       <use xlink:href=\"#DejaVuSans-48\"/>\n      </g>\n     </g>\n    </g>\n    <g id=\"xtick_2\">\n     <g id=\"line2d_2\">\n      <g>\n       <use style=\"stroke:#000000;stroke-width:0.8;\" x=\"148.161428\" xlink:href=\"#mc6c51b90d0\" y=\"224.64\"/>\n      </g>\n     </g>\n     <g id=\"text_2\">\n      <!-- 5 -->\n      <g transform=\"translate(144.980178 239.238437)scale(0.1 -0.1)\">\n       <defs>\n        <path d=\"M 10.796875 72.90625 \nL 49.515625 72.90625 \nL 49.515625 64.59375 \nL 19.828125 64.59375 \nL 19.828125 46.734375 \nQ 21.96875 47.46875 24.109375 47.828125 \nQ 26.265625 48.1875 28.421875 48.1875 \nQ 40.625 48.1875 47.75 41.5 \nQ 54.890625 34.8125 54.890625 23.390625 \nQ 54.890625 11.625 47.5625 5.09375 \nQ 40.234375 -1.421875 26.90625 -1.421875 \nQ 22.3125 -1.421875 17.546875 -0.640625 \nQ 12.796875 0.140625 7.71875 1.703125 \nL 7.71875 11.625 \nQ 12.109375 9.234375 16.796875 8.0625 \nQ 21.484375 6.890625 26.703125 6.890625 \nQ 35.15625 6.890625 40.078125 11.328125 \nQ 45.015625 15.765625 45.015625 23.390625 \nQ 45.015625 31 40.078125 35.4375 \nQ 35.15625 39.890625 26.703125 39.890625 \nQ 22.75 39.890625 18.8125 39.015625 \nQ 14.890625 38.140625 10.796875 36.28125 \nz\n\" id=\"DejaVuSans-53\"/>\n       </defs>\n       <use xlink:href=\"#DejaVuSans-53\"/>\n      </g>\n     </g>\n    </g>\n    <g id=\"xtick_3\">\n     <g id=\"line2d_3\">\n      <g>\n       <use style=\"stroke:#000000;stroke-width:0.8;\" x=\"214.376255\" xlink:href=\"#mc6c51b90d0\" y=\"224.64\"/>\n      </g>\n     </g>\n     <g id=\"text_3\">\n      <!-- 10 -->\n      <g transform=\"translate(208.013755 239.238437)scale(0.1 -0.1)\">\n       <defs>\n        <path d=\"M 12.40625 8.296875 \nL 28.515625 8.296875 \nL 28.515625 63.921875 \nL 10.984375 60.40625 \nL 10.984375 69.390625 \nL 28.421875 72.90625 \nL 38.28125 72.90625 \nL 38.28125 8.296875 \nL 54.390625 8.296875 \nL 54.390625 0 \nL 12.40625 0 \nz\n\" id=\"DejaVuSans-49\"/>\n       </defs>\n       <use xlink:href=\"#DejaVuSans-49\"/>\n       <use x=\"63.623047\" xlink:href=\"#DejaVuSans-48\"/>\n      </g>\n     </g>\n    </g>\n    <g id=\"xtick_4\">\n     <g id=\"line2d_4\">\n      <g>\n       <use style=\"stroke:#000000;stroke-width:0.8;\" x=\"280.591082\" xlink:href=\"#mc6c51b90d0\" y=\"224.64\"/>\n      </g>\n     </g>\n     <g id=\"text_4\">\n      <!-- 15 -->\n      <g transform=\"translate(274.228582 239.238437)scale(0.1 -0.1)\">\n       <use xlink:href=\"#DejaVuSans-49\"/>\n       <use x=\"63.623047\" xlink:href=\"#DejaVuSans-53\"/>\n      </g>\n     </g>\n    </g>\n    <g id=\"xtick_5\">\n     <g id=\"line2d_5\">\n      <g>\n       <use style=\"stroke:#000000;stroke-width:0.8;\" x=\"346.805909\" xlink:href=\"#mc6c51b90d0\" y=\"224.64\"/>\n      </g>\n     </g>\n     <g id=\"text_5\">\n      <!-- 20 -->\n      <g transform=\"translate(340.443409 239.238437)scale(0.1 -0.1)\">\n       <defs>\n        <path d=\"M 19.1875 8.296875 \nL 53.609375 8.296875 \nL 53.609375 0 \nL 7.328125 0 \nL 7.328125 8.296875 \nQ 12.9375 14.109375 22.625 23.890625 \nQ 32.328125 33.6875 34.8125 36.53125 \nQ 39.546875 41.84375 41.421875 45.53125 \nQ 43.3125 49.21875 43.3125 52.78125 \nQ 43.3125 58.59375 39.234375 62.25 \nQ 35.15625 65.921875 28.609375 65.921875 \nQ 23.96875 65.921875 18.8125 64.3125 \nQ 13.671875 62.703125 7.8125 59.421875 \nL 7.8125 69.390625 \nQ 13.765625 71.78125 18.9375 73 \nQ 24.125 74.21875 28.421875 74.21875 \nQ 39.75 74.21875 46.484375 68.546875 \nQ 53.21875 62.890625 53.21875 53.421875 \nQ 53.21875 48.921875 51.53125 44.890625 \nQ 49.859375 40.875 45.40625 35.40625 \nQ 44.1875 33.984375 37.640625 27.21875 \nQ 31.109375 20.453125 19.1875 8.296875 \nz\n\" id=\"DejaVuSans-50\"/>\n       </defs>\n       <use xlink:href=\"#DejaVuSans-50\"/>\n       <use x=\"63.623047\" xlink:href=\"#DejaVuSans-48\"/>\n      </g>\n     </g>\n    </g>\n    <g id=\"text_6\">\n     <!-- $x_2$ -->\n     <g transform=\"translate(194.275 258.995312)scale(0.18 -0.18)\">\n      <defs>\n       <path d=\"M 60.015625 54.6875 \nL 34.90625 27.875 \nL 50.296875 0 \nL 39.984375 0 \nL 28.421875 21.6875 \nL 8.296875 0 \nL -2.59375 0 \nL 24.3125 28.8125 \nL 10.015625 54.6875 \nL 20.3125 54.6875 \nL 30.8125 34.90625 \nL 49.125 54.6875 \nz\n\" id=\"DejaVuSans-Oblique-120\"/>\n      </defs>\n      <use transform=\"translate(0 0.3125)\" xlink:href=\"#DejaVuSans-Oblique-120\"/>\n      <use transform=\"translate(59.179688 -16.09375)scale(0.7)\" xlink:href=\"#DejaVuSans-50\"/>\n     </g>\n    </g>\n   </g>\n   <g id=\"matplotlib.axis_2\">\n    <g id=\"ytick_1\">\n     <g id=\"line2d_6\">\n      <defs>\n       <path d=\"M 0 0 \nL -3.5 0 \n\" id=\"m12e44cfaed\" style=\"stroke:#000000;stroke-width:0.8;\"/>\n      </defs>\n      <g>\n       <use style=\"stroke:#000000;stroke-width:0.8;\" x=\"36.505\" xlink:href=\"#m12e44cfaed\" y=\"199.11182\"/>\n      </g>\n     </g>\n     <g id=\"text_7\">\n      <!-- 0 -->\n      <g transform=\"translate(23.1425 202.911039)scale(0.1 -0.1)\">\n       <use xlink:href=\"#DejaVuSans-48\"/>\n      </g>\n     </g>\n    </g>\n    <g id=\"ytick_2\">\n     <g id=\"line2d_7\">\n      <g>\n       <use style=\"stroke:#000000;stroke-width:0.8;\" x=\"36.505\" xlink:href=\"#m12e44cfaed\" y=\"159.452349\"/>\n      </g>\n     </g>\n     <g id=\"text_8\">\n      <!-- 20 -->\n      <g transform=\"translate(16.78 163.251568)scale(0.1 -0.1)\">\n       <use xlink:href=\"#DejaVuSans-50\"/>\n       <use x=\"63.623047\" xlink:href=\"#DejaVuSans-48\"/>\n      </g>\n     </g>\n    </g>\n    <g id=\"ytick_3\">\n     <g id=\"line2d_8\">\n      <g>\n       <use style=\"stroke:#000000;stroke-width:0.8;\" x=\"36.505\" xlink:href=\"#m12e44cfaed\" y=\"119.792878\"/>\n      </g>\n     </g>\n     <g id=\"text_9\">\n      <!-- 40 -->\n      <g transform=\"translate(16.78 123.592097)scale(0.1 -0.1)\">\n       <defs>\n        <path d=\"M 37.796875 64.3125 \nL 12.890625 25.390625 \nL 37.796875 25.390625 \nz\nM 35.203125 72.90625 \nL 47.609375 72.90625 \nL 47.609375 25.390625 \nL 58.015625 25.390625 \nL 58.015625 17.1875 \nL 47.609375 17.1875 \nL 47.609375 0 \nL 37.796875 0 \nL 37.796875 17.1875 \nL 4.890625 17.1875 \nL 4.890625 26.703125 \nz\n\" id=\"DejaVuSans-52\"/>\n       </defs>\n       <use xlink:href=\"#DejaVuSans-52\"/>\n       <use x=\"63.623047\" xlink:href=\"#DejaVuSans-48\"/>\n      </g>\n     </g>\n    </g>\n    <g id=\"ytick_4\">\n     <g id=\"line2d_9\">\n      <g>\n       <use style=\"stroke:#000000;stroke-width:0.8;\" x=\"36.505\" xlink:href=\"#m12e44cfaed\" y=\"80.133407\"/>\n      </g>\n     </g>\n     <g id=\"text_10\">\n      <!-- 60 -->\n      <g transform=\"translate(16.78 83.932626)scale(0.1 -0.1)\">\n       <defs>\n        <path d=\"M 33.015625 40.375 \nQ 26.375 40.375 22.484375 35.828125 \nQ 18.609375 31.296875 18.609375 23.390625 \nQ 18.609375 15.53125 22.484375 10.953125 \nQ 26.375 6.390625 33.015625 6.390625 \nQ 39.65625 6.390625 43.53125 10.953125 \nQ 47.40625 15.53125 47.40625 23.390625 \nQ 47.40625 31.296875 43.53125 35.828125 \nQ 39.65625 40.375 33.015625 40.375 \nz\nM 52.59375 71.296875 \nL 52.59375 62.3125 \nQ 48.875 64.0625 45.09375 64.984375 \nQ 41.3125 65.921875 37.59375 65.921875 \nQ 27.828125 65.921875 22.671875 59.328125 \nQ 17.53125 52.734375 16.796875 39.40625 \nQ 19.671875 43.65625 24.015625 45.921875 \nQ 28.375 48.1875 33.59375 48.1875 \nQ 44.578125 48.1875 50.953125 41.515625 \nQ 57.328125 34.859375 57.328125 23.390625 \nQ 57.328125 12.15625 50.6875 5.359375 \nQ 44.046875 -1.421875 33.015625 -1.421875 \nQ 20.359375 -1.421875 13.671875 8.265625 \nQ 6.984375 17.96875 6.984375 36.375 \nQ 6.984375 53.65625 15.1875 63.9375 \nQ 23.390625 74.21875 37.203125 74.21875 \nQ 40.921875 74.21875 44.703125 73.484375 \nQ 48.484375 72.75 52.59375 71.296875 \nz\n\" id=\"DejaVuSans-54\"/>\n       </defs>\n       <use xlink:href=\"#DejaVuSans-54\"/>\n       <use x=\"63.623047\" xlink:href=\"#DejaVuSans-48\"/>\n      </g>\n     </g>\n    </g>\n    <g id=\"ytick_5\">\n     <g id=\"line2d_10\">\n      <g>\n       <use style=\"stroke:#000000;stroke-width:0.8;\" x=\"36.505\" xlink:href=\"#m12e44cfaed\" y=\"40.473936\"/>\n      </g>\n     </g>\n     <g id=\"text_11\">\n      <!-- 80 -->\n      <g transform=\"translate(16.78 44.273155)scale(0.1 -0.1)\">\n       <defs>\n        <path d=\"M 31.78125 34.625 \nQ 24.75 34.625 20.71875 30.859375 \nQ 16.703125 27.09375 16.703125 20.515625 \nQ 16.703125 13.921875 20.71875 10.15625 \nQ 24.75 6.390625 31.78125 6.390625 \nQ 38.8125 6.390625 42.859375 10.171875 \nQ 46.921875 13.96875 46.921875 20.515625 \nQ 46.921875 27.09375 42.890625 30.859375 \nQ 38.875 34.625 31.78125 34.625 \nz\nM 21.921875 38.8125 \nQ 15.578125 40.375 12.03125 44.71875 \nQ 8.5 49.078125 8.5 55.328125 \nQ 8.5 64.0625 14.71875 69.140625 \nQ 20.953125 74.21875 31.78125 74.21875 \nQ 42.671875 74.21875 48.875 69.140625 \nQ 55.078125 64.0625 55.078125 55.328125 \nQ 55.078125 49.078125 51.53125 44.71875 \nQ 48 40.375 41.703125 38.8125 \nQ 48.828125 37.15625 52.796875 32.3125 \nQ 56.78125 27.484375 56.78125 20.515625 \nQ 56.78125 9.90625 50.3125 4.234375 \nQ 43.84375 -1.421875 31.78125 -1.421875 \nQ 19.734375 -1.421875 13.25 4.234375 \nQ 6.78125 9.90625 6.78125 20.515625 \nQ 6.78125 27.484375 10.78125 32.3125 \nQ 14.796875 37.15625 21.921875 38.8125 \nz\nM 18.3125 54.390625 \nQ 18.3125 48.734375 21.84375 45.5625 \nQ 25.390625 42.390625 31.78125 42.390625 \nQ 38.140625 42.390625 41.71875 45.5625 \nQ 45.3125 48.734375 45.3125 54.390625 \nQ 45.3125 60.0625 41.71875 63.234375 \nQ 38.140625 66.40625 31.78125 66.40625 \nQ 25.390625 66.40625 21.84375 63.234375 \nQ 18.3125 60.0625 18.3125 54.390625 \nz\n\" id=\"DejaVuSans-56\"/>\n       </defs>\n       <use xlink:href=\"#DejaVuSans-56\"/>\n       <use x=\"63.623047\" xlink:href=\"#DejaVuSans-48\"/>\n      </g>\n     </g>\n    </g>\n    <g id=\"text_12\">\n     <!-- $Y$ -->\n     <g transform=\"translate(7.2 112.176562)scale(0.18 -0.18)\">\n      <defs>\n       <path d=\"M 6.296875 72.90625 \nL 16.890625 72.90625 \nL 30.515625 42.921875 \nL 56.5 72.90625 \nL 67.578125 72.90625 \nL 34.515625 34.71875 \nL 27.78125 0 \nL 17.921875 0 \nL 24.609375 34.71875 \nz\n\" id=\"DejaVuSans-Oblique-89\"/>\n      </defs>\n      <use transform=\"translate(0 0.09375)\" xlink:href=\"#DejaVuSans-Oblique-89\"/>\n     </g>\n    </g>\n   </g>\n   <g id=\"line2d_11\">\n    <defs>\n     <path d=\"M 0 1.5 \nC 0.397805 1.5 0.77937 1.341951 1.06066 1.06066 \nC 1.341951 0.77937 1.5 0.397805 1.5 0 \nC 1.5 -0.397805 1.341951 -0.77937 1.06066 -1.06066 \nC 0.77937 -1.341951 0.397805 -1.5 0 -1.5 \nC -0.397805 -1.5 -0.77937 -1.341951 -1.06066 -1.06066 \nC -1.341951 -0.77937 -1.5 -0.397805 -1.5 0 \nC -1.5 0.397805 -1.341951 0.77937 -1.06066 1.06066 \nC -0.77937 1.341951 -0.397805 1.5 0 1.5 \nz\n\" id=\"m08817a7841\" style=\"stroke:#0000ff;\"/>\n    </defs>\n    <g clip-path=\"url(#p5bfe2881d1)\">\n     <use style=\"fill:#0000ff;stroke:#0000ff;\" x=\"304.286152\" xlink:href=\"#m08817a7841\" y=\"49.456013\"/>\n     <use style=\"fill:#0000ff;stroke:#0000ff;\" x=\"203.89291\" xlink:href=\"#m08817a7841\" y=\"118.048116\"/>\n     <use style=\"fill:#0000ff;stroke:#0000ff;\" x=\"223.681694\" xlink:href=\"#m08817a7841\" y=\"116.67724\"/>\n     <use style=\"fill:#0000ff;stroke:#0000ff;\" x=\"131.118723\" xlink:href=\"#m08817a7841\" y=\"160.980311\"/>\n     <use style=\"fill:#0000ff;stroke:#0000ff;\" x=\"175.138012\" xlink:href=\"#m08817a7841\" y=\"139.250756\"/>\n     <use style=\"fill:#0000ff;stroke:#0000ff;\" x=\"189.447463\" xlink:href=\"#m08817a7841\" y=\"132.511414\"/>\n     <use style=\"fill:#0000ff;stroke:#0000ff;\" x=\"145.395719\" xlink:href=\"#m08817a7841\" y=\"157.285315\"/>\n     <use style=\"fill:#0000ff;stroke:#0000ff;\" x=\"258.653157\" xlink:href=\"#m08817a7841\" y=\"81.705247\"/>\n     <use style=\"fill:#0000ff;stroke:#0000ff;\" x=\"165.733367\" xlink:href=\"#m08817a7841\" y=\"135.470839\"/>\n     <use style=\"fill:#0000ff;stroke:#0000ff;\" x=\"204.801771\" xlink:href=\"#m08817a7841\" y=\"119.067433\"/>\n     <use style=\"fill:#0000ff;stroke:#0000ff;\" x=\"182.817241\" xlink:href=\"#m08817a7841\" y=\"136.08041\"/>\n     <use style=\"fill:#0000ff;stroke:#0000ff;\" x=\"84.279261\" xlink:href=\"#m08817a7841\" y=\"191.625487\"/>\n     <use style=\"fill:#0000ff;stroke:#0000ff;\" x=\"242.461942\" xlink:href=\"#m08817a7841\" y=\"101.928002\"/>\n     <use style=\"fill:#0000ff;stroke:#0000ff;\" x=\"95.263366\" xlink:href=\"#m08817a7841\" y=\"196.981078\"/>\n     <use style=\"fill:#0000ff;stroke:#0000ff;\" x=\"187.555573\" xlink:href=\"#m08817a7841\" y=\"129.038859\"/>\n     <use style=\"fill:#0000ff;stroke:#0000ff;\" x=\"126.815071\" xlink:href=\"#m08817a7841\" y=\"170.524783\"/>\n     <use style=\"fill:#0000ff;stroke:#0000ff;\" x=\"169.633079\" xlink:href=\"#m08817a7841\" y=\"149.502513\"/>\n     <use style=\"fill:#0000ff;stroke:#0000ff;\" x=\"201.724258\" xlink:href=\"#m08817a7841\" y=\"140.546732\"/>\n     <use style=\"fill:#0000ff;stroke:#0000ff;\" x=\"227.192623\" xlink:href=\"#m08817a7841\" y=\"112.885794\"/>\n     <use style=\"fill:#0000ff;stroke:#0000ff;\" x=\"214.488784\" xlink:href=\"#m08817a7841\" y=\"112.899054\"/>\n     <use style=\"fill:#0000ff;stroke:#0000ff;\" x=\"172.564064\" xlink:href=\"#m08817a7841\" y=\"141.53736\"/>\n     <use style=\"fill:#0000ff;stroke:#0000ff;\" x=\"252.46193\" xlink:href=\"#m08817a7841\" y=\"84.499248\"/>\n     <use style=\"fill:#0000ff;stroke:#0000ff;\" x=\"339.820491\" xlink:href=\"#m08817a7841\" y=\"35.924087\"/>\n     <use style=\"fill:#0000ff;stroke:#0000ff;\" x=\"147.928625\" xlink:href=\"#m08817a7841\" y=\"161.138609\"/>\n     <use style=\"fill:#0000ff;stroke:#0000ff;\" x=\"260.031422\" xlink:href=\"#m08817a7841\" y=\"90.537161\"/>\n     <use style=\"fill:#0000ff;stroke:#0000ff;\" x=\"225.030411\" xlink:href=\"#m08817a7841\" y=\"101.12495\"/>\n     <use style=\"fill:#0000ff;stroke:#0000ff;\" x=\"227.199885\" xlink:href=\"#m08817a7841\" y=\"95.602736\"/>\n     <use style=\"fill:#0000ff;stroke:#0000ff;\" x=\"130.696297\" xlink:href=\"#m08817a7841\" y=\"177.858774\"/>\n     <use style=\"fill:#0000ff;stroke:#0000ff;\" x=\"51.723182\" xlink:href=\"#m08817a7841\" y=\"214.756364\"/>\n     <use style=\"fill:#0000ff;stroke:#0000ff;\" x=\"218.906006\" xlink:href=\"#m08817a7841\" y=\"116.316722\"/>\n     <use style=\"fill:#0000ff;stroke:#0000ff;\" x=\"83.081944\" xlink:href=\"#m08817a7841\" y=\"193.717971\"/>\n     <use style=\"fill:#0000ff;stroke:#0000ff;\" x=\"185.590383\" xlink:href=\"#m08817a7841\" y=\"142.975081\"/>\n     <use style=\"fill:#0000ff;stroke:#0000ff;\" x=\"214.268357\" xlink:href=\"#m08817a7841\" y=\"119.62072\"/>\n     <use style=\"fill:#0000ff;stroke:#0000ff;\" x=\"162.508078\" xlink:href=\"#m08817a7841\" y=\"138.895446\"/>\n     <use style=\"fill:#0000ff;stroke:#0000ff;\" x=\"214.146163\" xlink:href=\"#m08817a7841\" y=\"107.565343\"/>\n     <use style=\"fill:#0000ff;stroke:#0000ff;\" x=\"219.264169\" xlink:href=\"#m08817a7841\" y=\"115.509757\"/>\n     <use style=\"fill:#0000ff;stroke:#0000ff;\" x=\"106.437954\" xlink:href=\"#m08817a7841\" y=\"181.355032\"/>\n     <use style=\"fill:#0000ff;stroke:#0000ff;\" x=\"187.680837\" xlink:href=\"#m08817a7841\" y=\"130.416553\"/>\n     <use style=\"fill:#0000ff;stroke:#0000ff;\" x=\"182.526704\" xlink:href=\"#m08817a7841\" y=\"132.626033\"/>\n     <use style=\"fill:#0000ff;stroke:#0000ff;\" x=\"207.170457\" xlink:href=\"#m08817a7841\" y=\"121.245109\"/>\n     <use style=\"fill:#0000ff;stroke:#0000ff;\" x=\"193.274125\" xlink:href=\"#m08817a7841\" y=\"126.509117\"/>\n     <use style=\"fill:#0000ff;stroke:#0000ff;\" x=\"205.513366\" xlink:href=\"#m08817a7841\" y=\"116.281503\"/>\n     <use style=\"fill:#0000ff;stroke:#0000ff;\" x=\"229.910052\" xlink:href=\"#m08817a7841\" y=\"106.865153\"/>\n     <use style=\"fill:#0000ff;stroke:#0000ff;\" x=\"229.21587\" xlink:href=\"#m08817a7841\" y=\"100.21304\"/>\n     <use style=\"fill:#0000ff;stroke:#0000ff;\" x=\"130.19893\" xlink:href=\"#m08817a7841\" y=\"171.437538\"/>\n     <use style=\"fill:#0000ff;stroke:#0000ff;\" x=\"277.41936\" xlink:href=\"#m08817a7841\" y=\"81.816746\"/>\n     <use style=\"fill:#0000ff;stroke:#0000ff;\" x=\"356.086818\" xlink:href=\"#m08817a7841\" y=\"38.437137\"/>\n     <use style=\"fill:#0000ff;stroke:#0000ff;\" x=\"74.88506\" xlink:href=\"#m08817a7841\" y=\"204.687442\"/>\n     <use style=\"fill:#0000ff;stroke:#0000ff;\" x=\"244.810218\" xlink:href=\"#m08817a7841\" y=\"94.270813\"/>\n     <use style=\"fill:#0000ff;stroke:#0000ff;\" x=\"168.714886\" xlink:href=\"#m08817a7841\" y=\"141.331536\"/>\n     <use style=\"fill:#0000ff;stroke:#0000ff;\" x=\"167.382031\" xlink:href=\"#m08817a7841\" y=\"149.690589\"/>\n     <use style=\"fill:#0000ff;stroke:#0000ff;\" x=\"288.057064\" xlink:href=\"#m08817a7841\" y=\"72.45361\"/>\n     <use style=\"fill:#0000ff;stroke:#0000ff;\" x=\"229.516446\" xlink:href=\"#m08817a7841\" y=\"104.741261\"/>\n     <use style=\"fill:#0000ff;stroke:#0000ff;\" x=\"157.248898\" xlink:href=\"#m08817a7841\" y=\"148.00398\"/>\n     <use style=\"fill:#0000ff;stroke:#0000ff;\" x=\"255.417709\" xlink:href=\"#m08817a7841\" y=\"98.881025\"/>\n     <use style=\"fill:#0000ff;stroke:#0000ff;\" x=\"146.016894\" xlink:href=\"#m08817a7841\" y=\"155.779062\"/>\n     <use style=\"fill:#0000ff;stroke:#0000ff;\" x=\"151.063891\" xlink:href=\"#m08817a7841\" y=\"156.421848\"/>\n     <use style=\"fill:#0000ff;stroke:#0000ff;\" x=\"242.103873\" xlink:href=\"#m08817a7841\" y=\"105.943628\"/>\n     <use style=\"fill:#0000ff;stroke:#0000ff;\" x=\"140.672049\" xlink:href=\"#m08817a7841\" y=\"152.870766\"/>\n     <use style=\"fill:#0000ff;stroke:#0000ff;\" x=\"208.364334\" xlink:href=\"#m08817a7841\" y=\"123.27687\"/>\n     <use style=\"fill:#0000ff;stroke:#0000ff;\" x=\"241.472726\" xlink:href=\"#m08817a7841\" y=\"85.566147\"/>\n     <use style=\"fill:#0000ff;stroke:#0000ff;\" x=\"182.379789\" xlink:href=\"#m08817a7841\" y=\"132.372876\"/>\n     <use style=\"fill:#0000ff;stroke:#0000ff;\" x=\"172.476634\" xlink:href=\"#m08817a7841\" y=\"141.891972\"/>\n     <use style=\"fill:#0000ff;stroke:#0000ff;\" x=\"140.244014\" xlink:href=\"#m08817a7841\" y=\"155.431436\"/>\n     <use style=\"fill:#0000ff;stroke:#0000ff;\" x=\"258.323438\" xlink:href=\"#m08817a7841\" y=\"77.243748\"/>\n     <use style=\"fill:#0000ff;stroke:#0000ff;\" x=\"136.104616\" xlink:href=\"#m08817a7841\" y=\"179.269169\"/>\n     <use style=\"fill:#0000ff;stroke:#0000ff;\" x=\"190.096207\" xlink:href=\"#m08817a7841\" y=\"128.716585\"/>\n     <use style=\"fill:#0000ff;stroke:#0000ff;\" x=\"139.573183\" xlink:href=\"#m08817a7841\" y=\"171.001449\"/>\n     <use style=\"fill:#0000ff;stroke:#0000ff;\" x=\"163.149714\" xlink:href=\"#m08817a7841\" y=\"152.029604\"/>\n     <use style=\"fill:#0000ff;stroke:#0000ff;\" x=\"216.140298\" xlink:href=\"#m08817a7841\" y=\"117.258703\"/>\n     <use style=\"fill:#0000ff;stroke:#0000ff;\" x=\"183.713561\" xlink:href=\"#m08817a7841\" y=\"128.730445\"/>\n     <use style=\"fill:#0000ff;stroke:#0000ff;\" x=\"140.922452\" xlink:href=\"#m08817a7841\" y=\"163.059583\"/>\n     <use style=\"fill:#0000ff;stroke:#0000ff;\" x=\"128.145794\" xlink:href=\"#m08817a7841\" y=\"168.566157\"/>\n     <use style=\"fill:#0000ff;stroke:#0000ff;\" x=\"179.790137\" xlink:href=\"#m08817a7841\" y=\"139.489617\"/>\n     <use style=\"fill:#0000ff;stroke:#0000ff;\" x=\"145.718935\" xlink:href=\"#m08817a7841\" y=\"157.857854\"/>\n     <use style=\"fill:#0000ff;stroke:#0000ff;\" x=\"89.909084\" xlink:href=\"#m08817a7841\" y=\"188.298476\"/>\n     <use style=\"fill:#0000ff;stroke:#0000ff;\" x=\"170.378377\" xlink:href=\"#m08817a7841\" y=\"144.107637\"/>\n     <use style=\"fill:#0000ff;stroke:#0000ff;\" x=\"181.129521\" xlink:href=\"#m08817a7841\" y=\"131.745844\"/>\n     <use style=\"fill:#0000ff;stroke:#0000ff;\" x=\"176.713726\" xlink:href=\"#m08817a7841\" y=\"135.494624\"/>\n     <use style=\"fill:#0000ff;stroke:#0000ff;\" x=\"303.954696\" xlink:href=\"#m08817a7841\" y=\"66.947397\"/>\n     <use style=\"fill:#0000ff;stroke:#0000ff;\" x=\"272.193497\" xlink:href=\"#m08817a7841\" y=\"82.424166\"/>\n     <use style=\"fill:#0000ff;stroke:#0000ff;\" x=\"236.345856\" xlink:href=\"#m08817a7841\" y=\"102.106086\"/>\n     <use style=\"fill:#0000ff;stroke:#0000ff;\" x=\"134.499276\" xlink:href=\"#m08817a7841\" y=\"174.518607\"/>\n     <use style=\"fill:#0000ff;stroke:#0000ff;\" x=\"333.042924\" xlink:href=\"#m08817a7841\" y=\"49.789696\"/>\n     <use style=\"fill:#0000ff;stroke:#0000ff;\" x=\"275.373557\" xlink:href=\"#m08817a7841\" y=\"72.995246\"/>\n     <use style=\"fill:#0000ff;stroke:#0000ff;\" x=\"222.814917\" xlink:href=\"#m08817a7841\" y=\"105.489025\"/>\n     <use style=\"fill:#0000ff;stroke:#0000ff;\" x=\"263.99672\" xlink:href=\"#m08817a7841\" y=\"91.495494\"/>\n     <use style=\"fill:#0000ff;stroke:#0000ff;\" x=\"353.074004\" xlink:href=\"#m08817a7841\" y=\"17.083636\"/>\n     <use style=\"fill:#0000ff;stroke:#0000ff;\" x=\"203.532258\" xlink:href=\"#m08817a7841\" y=\"127.307617\"/>\n     <use style=\"fill:#0000ff;stroke:#0000ff;\" x=\"267.393703\" xlink:href=\"#m08817a7841\" y=\"76.252455\"/>\n     <use style=\"fill:#0000ff;stroke:#0000ff;\" x=\"259.569898\" xlink:href=\"#m08817a7841\" y=\"85.788218\"/>\n     <use style=\"fill:#0000ff;stroke:#0000ff;\" x=\"127.853128\" xlink:href=\"#m08817a7841\" y=\"163.79382\"/>\n     <use style=\"fill:#0000ff;stroke:#0000ff;\" x=\"197.767747\" xlink:href=\"#m08817a7841\" y=\"120.46706\"/>\n     <use style=\"fill:#0000ff;stroke:#0000ff;\" x=\"80.041254\" xlink:href=\"#m08817a7841\" y=\"204.661519\"/>\n     <use style=\"fill:#0000ff;stroke:#0000ff;\" x=\"228.305379\" xlink:href=\"#m08817a7841\" y=\"102.834734\"/>\n     <use style=\"fill:#0000ff;stroke:#0000ff;\" x=\"137.425631\" xlink:href=\"#m08817a7841\" y=\"166.406093\"/>\n     <use style=\"fill:#0000ff;stroke:#0000ff;\" x=\"215.845659\" xlink:href=\"#m08817a7841\" y=\"124.203786\"/>\n     <use style=\"fill:#0000ff;stroke:#0000ff;\" x=\"88.206549\" xlink:href=\"#m08817a7841\" y=\"185.892167\"/>\n     <use style=\"fill:#0000ff;stroke:#0000ff;\" x=\"158.108864\" xlink:href=\"#m08817a7841\" y=\"164.985091\"/>\n     <use style=\"fill:#0000ff;stroke:#0000ff;\" x=\"74.780147\" xlink:href=\"#m08817a7841\" y=\"207.515531\"/>\n    </g>\n   </g>\n   <g id=\"patch_3\">\n    <path d=\"M 36.505 224.64 \nL 36.505 7.2 \n\" style=\"fill:none;stroke:#000000;stroke-linecap:square;stroke-linejoin:miter;stroke-width:0.8;\"/>\n   </g>\n   <g id=\"patch_4\">\n    <path d=\"M 371.305 224.64 \nL 371.305 7.2 \n\" style=\"fill:none;stroke:#000000;stroke-linecap:square;stroke-linejoin:miter;stroke-width:0.8;\"/>\n   </g>\n   <g id=\"patch_5\">\n    <path d=\"M 36.505 224.64 \nL 371.305 224.64 \n\" style=\"fill:none;stroke:#000000;stroke-linecap:square;stroke-linejoin:miter;stroke-width:0.8;\"/>\n   </g>\n   <g id=\"patch_6\">\n    <path d=\"M 36.505 7.2 \nL 371.305 7.2 \n\" style=\"fill:none;stroke:#000000;stroke-linecap:square;stroke-linejoin:miter;stroke-width:0.8;\"/>\n   </g>\n  </g>\n </g>\n <defs>\n  <clipPath id=\"p5bfe2881d1\">\n   <rect height=\"217.44\" width=\"334.8\" x=\"36.505\" y=\"7.2\"/>\n  </clipPath>\n </defs>\n</svg>\n",
      "image/png": "[encoded data removed]"
     },
     "metadata": {
      "needs_background": "light"
     }
    }
   ],
   "source": [
    "import matplotlib. pyplot as plt\n",
    "# Plot the data\n",
    "plt.plot(x[:,1],y,\"b.\")\n",
    "plt.xlabel(\"$x_2$\", fontsize=18)\n",
    "plt.ylabel(\"$Y$\", rotation = 0, fontsize=18)\n",
    "plt.axis()\n",
    "plt. show()"
   ]
  },
  {
   "cell_type": "code",
   "execution_count": 23,
   "metadata": {},
   "outputs": [
    {
     "output_type": "execute_result",
     "data": {
      "text/plain": [
       "array([17.41764316, -0.15689429,  4.76151212])"
      ]
     },
     "metadata": {},
     "execution_count": 23
    }
   ],
   "source": [
    "# using x1 and x6\n",
    "X_b =np.c_[np.ones((n,1)),x[:,0],x[:,5]]\n",
    "theta_best= np.dot(np.dot(np.linalg.inv(np.dot(X_b.T,X_b)),X_b.T),y)\n",
    "theta_best"
   ]
  },
  {
   "cell_type": "code",
   "execution_count": 24,
   "metadata": {},
   "outputs": [
    {
     "output_type": "execute_result",
     "data": {
      "text/plain": [
       "array([45.62239589, 44.31692625, 47.7201165 , 48.45059231, 35.24717666,\n",
       "       58.65565225, 44.37864522, 72.69099697, 28.4887216 , 30.86922178])"
      ]
     },
     "metadata": {},
     "execution_count": 24
    }
   ],
   "source": [
    "from numpy.random import default_rng\n",
    "rng = default_rng(5)\n",
    "n_new=10\n",
    "x_new = rng.multivariate_normal(mu, sigma, (n_new))\n",
    "y_new = 9 + 3* x_new[:,1]+2*x_new[:,4]+ rng.normal(0,1,n_new)\n",
    "x_b_new = np.c_[np.ones((x_new.shape[0],1)),x_new[:,0],x_new[:,5]]\n",
    "y_pred = np.dot(x_b_new, theta_best)\n",
    "y_pred"
   ]
  },
  {
   "cell_type": "code",
   "execution_count": 25,
   "metadata": {},
   "outputs": [
    {
     "output_type": "stream",
     "name": "stdout",
     "text": [
      "Mean squared error: 67.06\nCoefficient of determination:0.57\n"
     ]
    }
   ],
   "source": [
    "# using x1 and x6\n",
    "# Accuracy\n",
    "from sklearn.metrics import mean_squared_error, r2_score\n",
    "# The mean squared error\n",
    "print('Mean squared error: %.2f'% mean_squared_error(y_new, y_pred))\n",
    "# The coefficient of determination: l is perfect prediction\n",
    "print('Coefficient of determination:%.2f'% r2_score(y_new, y_pred))"
   ]
  },
  {
   "cell_type": "code",
   "execution_count": 26,
   "metadata": {},
   "outputs": [
    {
     "output_type": "execute_result",
     "data": {
      "text/plain": [
       "array([-2.8172434 ,  4.57364512])"
      ]
     },
     "metadata": {},
     "execution_count": 26
    }
   ],
   "source": [
    "# using x1\n",
    "X_b =np.c_[np.ones((n,1)),x[:,0]]\n",
    "theta_best= np.dot(np.dot(np.linalg.inv(np.dot(X_b.T,X_b)),X_b.T),y)\n",
    "theta_best"
   ]
  },
  {
   "cell_type": "code",
   "execution_count": 27,
   "metadata": {},
   "outputs": [
    {
     "output_type": "error",
     "ename": "ValueError",
     "evalue": "shapes (10,3) and (2,) not aligned: 3 (dim 1) != 2 (dim 0)",
     "traceback": [
      "\u001b[0;31m---------------------------------------------------------------------------\u001b[0m",
      "\u001b[0;31mValueError\u001b[0m                                Traceback (most recent call last)",
      "\u001b[0;32m<ipython-input-27-694d67102deb>\u001b[0m in \u001b[0;36m<module>\u001b[0;34m\u001b[0m\n\u001b[1;32m      5\u001b[0m \u001b[0my_new\u001b[0m \u001b[0;34m=\u001b[0m \u001b[0;36m9\u001b[0m \u001b[0;34m+\u001b[0m \u001b[0;36m3\u001b[0m\u001b[0;34m*\u001b[0m \u001b[0mx_new\u001b[0m\u001b[0;34m[\u001b[0m\u001b[0;34m:\u001b[0m\u001b[0;34m,\u001b[0m\u001b[0;36m1\u001b[0m\u001b[0;34m]\u001b[0m\u001b[0;34m+\u001b[0m\u001b[0;36m2\u001b[0m\u001b[0;34m*\u001b[0m\u001b[0mx_new\u001b[0m\u001b[0;34m[\u001b[0m\u001b[0;34m:\u001b[0m\u001b[0;34m,\u001b[0m\u001b[0;36m4\u001b[0m\u001b[0;34m]\u001b[0m\u001b[0;34m+\u001b[0m \u001b[0mrng\u001b[0m\u001b[0;34m.\u001b[0m\u001b[0mnormal\u001b[0m\u001b[0;34m(\u001b[0m\u001b[0;36m0\u001b[0m\u001b[0;34m,\u001b[0m\u001b[0;36m1\u001b[0m\u001b[0;34m,\u001b[0m\u001b[0mn_new\u001b[0m\u001b[0;34m)\u001b[0m\u001b[0;34m\u001b[0m\u001b[0;34m\u001b[0m\u001b[0m\n\u001b[1;32m      6\u001b[0m \u001b[0mx_b_new\u001b[0m \u001b[0;34m=\u001b[0m \u001b[0mnp\u001b[0m\u001b[0;34m.\u001b[0m\u001b[0mc_\u001b[0m\u001b[0;34m[\u001b[0m\u001b[0mnp\u001b[0m\u001b[0;34m.\u001b[0m\u001b[0mones\u001b[0m\u001b[0;34m(\u001b[0m\u001b[0;34m(\u001b[0m\u001b[0mx_new\u001b[0m\u001b[0;34m.\u001b[0m\u001b[0mshape\u001b[0m\u001b[0;34m[\u001b[0m\u001b[0;36m0\u001b[0m\u001b[0;34m]\u001b[0m\u001b[0;34m,\u001b[0m\u001b[0;36m1\u001b[0m\u001b[0;34m)\u001b[0m\u001b[0;34m)\u001b[0m\u001b[0;34m,\u001b[0m\u001b[0mx_new\u001b[0m\u001b[0;34m[\u001b[0m\u001b[0;34m:\u001b[0m\u001b[0;34m,\u001b[0m\u001b[0;36m0\u001b[0m\u001b[0;34m]\u001b[0m\u001b[0;34m,\u001b[0m\u001b[0mx_new\u001b[0m\u001b[0;34m[\u001b[0m\u001b[0;34m:\u001b[0m\u001b[0;34m,\u001b[0m\u001b[0;36m5\u001b[0m\u001b[0;34m]\u001b[0m\u001b[0;34m]\u001b[0m\u001b[0;34m\u001b[0m\u001b[0;34m\u001b[0m\u001b[0m\n\u001b[0;32m----> 7\u001b[0;31m \u001b[0my_pred\u001b[0m \u001b[0;34m=\u001b[0m \u001b[0mnp\u001b[0m\u001b[0;34m.\u001b[0m\u001b[0mdot\u001b[0m\u001b[0;34m(\u001b[0m\u001b[0mx_b_new\u001b[0m\u001b[0;34m,\u001b[0m \u001b[0mtheta_best\u001b[0m\u001b[0;34m)\u001b[0m\u001b[0;34m\u001b[0m\u001b[0;34m\u001b[0m\u001b[0m\n\u001b[0m\u001b[1;32m      8\u001b[0m \u001b[0my_pred\u001b[0m\u001b[0;34m\u001b[0m\u001b[0;34m\u001b[0m\u001b[0m\n",
      "\u001b[0;32m<__array_function__ internals>\u001b[0m in \u001b[0;36mdot\u001b[0;34m(*args, **kwargs)\u001b[0m\n",
      "\u001b[0;31mValueError\u001b[0m: shapes (10,3) and (2,) not aligned: 3 (dim 1) != 2 (dim 0)"
     ]
    }
   ],
   "source": [
    "from numpy.random import default_rng\n",
    "rng = default_rng(5)\n",
    "n_new=10\n",
    "x_new = rng.multivariate_normal(mu, sigma, (n_new))\n",
    "y_new = 9 + 3* x_new[:,1]+2*x_new[:,4]+ rng.normal(0,1,n_new)\n",
    "x_b_new = np.c_[np.ones((x_new.shape[0],1)),x_new[:,0],x_new[:,5]]\n",
    "y_pred = np.dot(x_b_new, theta_best)\n",
    "y_pred"
   ]
  },
  {
   "cell_type": "code",
   "execution_count": null,
   "metadata": {},
   "outputs": [],
   "source": []
  },
  {
   "cell_type": "code",
   "execution_count": null,
   "metadata": {},
   "outputs": [],
   "source": []
  },
  {
   "cell_type": "code",
   "execution_count": 65,
   "metadata": {},
   "outputs": [
    {
     "output_type": "execute_result",
     "data": {
      "text/plain": [
       "array([9.1436399 , 2.98410747, 2.02728756])"
      ]
     },
     "metadata": {},
     "execution_count": 65
    }
   ],
   "source": [
    "# using x2 and x5\n",
    "X_b =np.c_[np.ones((n,1)),x[:,1],x[:,4]]\n",
    "theta_best= np.dot(np.dot(np.linalg.inv(np.dot(X_b.T,X_b)),X_b.T),y)\n",
    "theta_best"
   ]
  },
  {
   "cell_type": "code",
   "execution_count": 66,
   "metadata": {},
   "outputs": [
    {
     "output_type": "execute_result",
     "data": {
      "text/plain": [
       "array([55.74867714, 44.92485455, 48.64874587, 50.03064092, 27.88742181,\n",
       "       58.70214369, 60.99213335, 76.18753939, 38.90578227, 40.88294498])"
      ]
     },
     "metadata": {},
     "execution_count": 66
    }
   ],
   "source": [
    "x_b_new=np.c_[np.ones((x_new.shape[0],1)),x_new[:,1],x_new[:,4]]\n",
    "y_pred =np.dot(x_b_new,theta_best)\n",
    "y_pred"
   ]
  },
  {
   "cell_type": "code",
   "execution_count": 67,
   "metadata": {},
   "outputs": [
    {
     "output_type": "stream",
     "name": "stdout",
     "text": [
      "Mean squared error: 0.43\nCoefficient of determination:1.00\n"
     ]
    }
   ],
   "source": [
    "# using x2 and x5\n",
    "# Accuracy\n",
    "from sklearn.metrics import mean_squared_error, r2_score\n",
    "# The mean squared error\n",
    "print('Mean squared error: %.2f'% mean_squared_error(y_new, y_pred))\n",
    "# The coefficient of determination: l is perfect prediction\n",
    "print('Coefficient of determination:%.2f'% r2_score(y_new, y_pred))"
   ]
  },
  {
   "cell_type": "code",
   "execution_count": null,
   "metadata": {},
   "outputs": [],
   "source": []
  },
  {
   "cell_type": "code",
   "execution_count": null,
   "metadata": {},
   "outputs": [],
   "source": []
  }
 ]
}