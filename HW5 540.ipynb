{
 "metadata": {
  "language_info": {
   "codemirror_mode": {
    "name": "ipython",
    "version": 3
   },
   "file_extension": ".py",
   "mimetype": "text/x-python",
   "name": "python",
   "nbconvert_exporter": "python",
   "pygments_lexer": "ipython3",
   "version": "3.8.8"
  },
  "orig_nbformat": 2,
  "kernelspec": {
   "name": "python388jvsc74a57bd00142100476a55ad2707e4ee89bdff33f958300b25bb6983b2c86b093430e9fda",
   "display_name": "Python 3.8.8 64-bit ('jnb': conda)"
  },
  "metadata": {
   "interpreter": {
    "hash": "0142100476a55ad2707e4ee89bdff33f958300b25bb6983b2c86b093430e9fda"
   }
  }
 },
 "nbformat": 4,
 "nbformat_minor": 2,
 "cells": [
  {
   "source": [
    "### Computational Methods (16:540:540) ###\n",
    "\n",
    "#### Spring 2021 Homework 5 – Python Coding ####\n",
    "\n",
    "\n",
    "1. Generate 100 random samples from univariate normal and exponential distributions. Then, calculate the means and the standard deviation.\n",
    "2. Generate 100 random samples from multivariate normal distribution. Then, calculate means and covariance matrix.\n",
    "3. Perform Multiple Linear Regression using the same dataset generated in the\n",
    "class as follows: predict 𝑦\n",
    "a) Using only 𝑥1 ,\n",
    "b) Using variables 𝑥1 , ... , 𝑥3\n",
    "c) Using all variables 𝑥1 , ... , 𝑥𝑝\n",
    "d) Compare the performance for both training and test data using MSE and R-squared."
   ],
   "cell_type": "markdown",
   "metadata": {}
  },
  {
   "cell_type": "code",
   "execution_count": 18,
   "metadata": {},
   "outputs": [],
   "source": [
    "import numpy as np\n",
    "import pandas as pd"
   ]
  },
  {
   "cell_type": "code",
   "execution_count": 19,
   "metadata": {},
   "outputs": [],
   "source": [
    "# 1. Generate 100 random samples from univariate normal and exponential distributions. Then, calculate the means and the standard deviation."
   ]
  },
  {
   "cell_type": "code",
   "execution_count": 20,
   "metadata": {},
   "outputs": [
    {
     "output_type": "stream",
     "name": "stdout",
     "text": [
      "From univariate normal distribution,the mean of 100 random the samples is 2.75992733090338,the variance is 77.91377243518097\n"
     ]
    }
   ],
   "source": [
    "from numpy.random import default_rng\n",
    "rng = default_rng(5)\n",
    "\n",
    "mu, sigma = 5,10\n",
    "n = 100\n",
    "x1 = rng.normal(mu,sigma,n)\n",
    "x1_mean = np.mean(x1)\n",
    "x1_var = np.var(x1)\n",
    "\n",
    "print(f'From univariate normal distribution,the mean of 100 random the samples is {x1_mean},the variance is {x1_var}')"
   ]
  },
  {
   "cell_type": "code",
   "execution_count": 21,
   "metadata": {},
   "outputs": [
    {
     "output_type": "stream",
     "name": "stdout",
     "text": [
      "From exponential distribution,the mean of 100 random the samples is 0.9659351362133682,the variance is 0.7781621514620671\n"
     ]
    }
   ],
   "source": [
    "y1 =rng.exponential(size=n)\n",
    "y1_mean = np.mean(y1)\n",
    "y1_var = np.var(y1)\n",
    "\n",
    "print(f'From exponential distribution,the mean of 100 random the samples is {y1_mean},the variance is {y1_var}')"
   ]
  },
  {
   "cell_type": "code",
   "execution_count": 22,
   "metadata": {},
   "outputs": [],
   "source": [
    "# 2. Generate 100 random samples from multivariate normal distribution. Then, calculate means and covariance matrix."
   ]
  },
  {
   "cell_type": "code",
   "execution_count": 23,
   "metadata": {},
   "outputs": [],
   "source": [
    "# P=6, N=100\n",
    "mu = np.random.uniform(-10,10,size=6)\n",
    "C = np.random.random((6,6))\n",
    "cov = C @ C.T # positive semi-definite\n",
    "x2 = rng.multivariate_normal(mu, cov, n)"
   ]
  },
  {
   "cell_type": "code",
   "execution_count": 24,
   "metadata": {},
   "outputs": [
    {
     "output_type": "execute_result",
     "data": {
      "text/plain": [
       "          0\n",
       "0  8.195759\n",
       "1 -9.851508\n",
       "2 -5.164871\n",
       "3  4.736580\n",
       "4 -8.509719\n",
       "5  3.945116"
      ],
      "text/html": "<div>\n<style scoped>\n    .dataframe tbody tr th:only-of-type {\n        vertical-align: middle;\n    }\n\n    .dataframe tbody tr th {\n        vertical-align: top;\n    }\n\n    .dataframe thead th {\n        text-align: right;\n    }\n</style>\n<table border=\"1\" class=\"dataframe\">\n  <thead>\n    <tr style=\"text-align: right;\">\n      <th></th>\n      <th>0</th>\n    </tr>\n  </thead>\n  <tbody>\n    <tr>\n      <th>0</th>\n      <td>8.195759</td>\n    </tr>\n    <tr>\n      <th>1</th>\n      <td>-9.851508</td>\n    </tr>\n    <tr>\n      <th>2</th>\n      <td>-5.164871</td>\n    </tr>\n    <tr>\n      <th>3</th>\n      <td>4.736580</td>\n    </tr>\n    <tr>\n      <th>4</th>\n      <td>-8.509719</td>\n    </tr>\n    <tr>\n      <th>5</th>\n      <td>3.945116</td>\n    </tr>\n  </tbody>\n</table>\n</div>"
     },
     "metadata": {},
     "execution_count": 24
    }
   ],
   "source": [
    "pd.DataFrame(mu)"
   ]
  },
  {
   "cell_type": "code",
   "execution_count": 25,
   "metadata": {},
   "outputs": [
    {
     "output_type": "execute_result",
     "data": {
      "text/plain": [
       "          0         1         2         3         4         5\n",
       "0  2.172952  2.080311  1.616769  1.631038  2.181459  0.697724\n",
       "1  2.080311  2.658034  1.503993  1.688398  2.544124  0.661632\n",
       "2  1.616769  1.503993  2.102634  1.578549  2.104567  0.549548\n",
       "3  1.631038  1.688398  1.578549  1.813731  1.899763  0.632944\n",
       "4  2.181459  2.544124  2.104567  1.899763  3.042483  0.686905\n",
       "5  0.697724  0.661632  0.549548  0.632944  0.686905  0.256658"
      ],
      "text/html": "<div>\n<style scoped>\n    .dataframe tbody tr th:only-of-type {\n        vertical-align: middle;\n    }\n\n    .dataframe tbody tr th {\n        vertical-align: top;\n    }\n\n    .dataframe thead th {\n        text-align: right;\n    }\n</style>\n<table border=\"1\" class=\"dataframe\">\n  <thead>\n    <tr style=\"text-align: right;\">\n      <th></th>\n      <th>0</th>\n      <th>1</th>\n      <th>2</th>\n      <th>3</th>\n      <th>4</th>\n      <th>5</th>\n    </tr>\n  </thead>\n  <tbody>\n    <tr>\n      <th>0</th>\n      <td>2.172952</td>\n      <td>2.080311</td>\n      <td>1.616769</td>\n      <td>1.631038</td>\n      <td>2.181459</td>\n      <td>0.697724</td>\n    </tr>\n    <tr>\n      <th>1</th>\n      <td>2.080311</td>\n      <td>2.658034</td>\n      <td>1.503993</td>\n      <td>1.688398</td>\n      <td>2.544124</td>\n      <td>0.661632</td>\n    </tr>\n    <tr>\n      <th>2</th>\n      <td>1.616769</td>\n      <td>1.503993</td>\n      <td>2.102634</td>\n      <td>1.578549</td>\n      <td>2.104567</td>\n      <td>0.549548</td>\n    </tr>\n    <tr>\n      <th>3</th>\n      <td>1.631038</td>\n      <td>1.688398</td>\n      <td>1.578549</td>\n      <td>1.813731</td>\n      <td>1.899763</td>\n      <td>0.632944</td>\n    </tr>\n    <tr>\n      <th>4</th>\n      <td>2.181459</td>\n      <td>2.544124</td>\n      <td>2.104567</td>\n      <td>1.899763</td>\n      <td>3.042483</td>\n      <td>0.686905</td>\n    </tr>\n    <tr>\n      <th>5</th>\n      <td>0.697724</td>\n      <td>0.661632</td>\n      <td>0.549548</td>\n      <td>0.632944</td>\n      <td>0.686905</td>\n      <td>0.256658</td>\n    </tr>\n  </tbody>\n</table>\n</div>"
     },
     "metadata": {},
     "execution_count": 25
    }
   ],
   "source": [
    "pd.DataFrame(cov)"
   ]
  },
  {
   "cell_type": "code",
   "execution_count": 26,
   "metadata": {},
   "outputs": [
    {
     "output_type": "stream",
     "name": "stdout",
     "text": [
      "From univariate normal distribution,the mean of 100 random the samples is -1.1469296495355332,the variance is 51.21429399000511\n"
     ]
    }
   ],
   "source": [
    "x2_mean = np.mean(x2)\n",
    "x2_var = np.var(x2)\n",
    "\n",
    "print(f'From univariate normal distribution,the mean of 100 random the samples is {x2_mean},the variance is {x2_var}')"
   ]
  },
  {
   "cell_type": "code",
   "execution_count": 27,
   "metadata": {},
   "outputs": [],
   "source": [
    "# 3. Perform Multiple Linear Regression using the same dataset generated in the\n",
    "# class as follows: \n",
    "# predict 𝑦\n",
    "# a) Using only 𝑥1 ,\n",
    "# b) Using variables 𝑥1 , ... , 𝑥3\n",
    "# c) Using all variables 𝑥1 , ... , 𝑥𝑝\n",
    "#  d) Compare the performance for both training and test data using MSE and R-squared."
   ]
  },
  {
   "source": [
    "The output\n",
    "\n",
    "𝑦=9+3∗𝑥2 +2∗𝑥5+𝜀 \n",
    "\n",
    "𝜀~𝑁(0,1)"
   ],
   "cell_type": "markdown",
   "metadata": {}
  },
  {
   "cell_type": "code",
   "execution_count": 32,
   "metadata": {},
   "outputs": [],
   "source": [
    "from sklearn import datasets, linear_model\n",
    "from sklearn.metrics import mean_squared_error,r2_score\n",
    "regr = linear_model.LinearRegression()\n",
    "from scipy.stats import *"
   ]
  },
  {
   "cell_type": "code",
   "execution_count": 33,
   "metadata": {},
   "outputs": [],
   "source": [
    "# pd.DataFrame(x2)"
   ]
  },
  {
   "cell_type": "code",
   "execution_count": 39,
   "metadata": {},
   "outputs": [],
   "source": [
    "# now define Gaussian noise:\n",
    "mu_e, sigma_e = 0, 1\n",
    "xe = norm.rvs(mu_e,sigma_e,size=n)\n",
    "\n",
    "# a) Using only 𝑥1 \n",
    "x_1 = pd.DataFrame(x2[:,0]).T\n",
    "\n",
    "y_1 = x_1 +xe"
   ]
  },
  {
   "cell_type": "code",
   "execution_count": 40,
   "metadata": {},
   "outputs": [
    {
     "output_type": "execute_result",
     "data": {
      "text/plain": [
       "array([ -3.01931425,  -8.24358996,   2.51638378,   9.20445238,\n",
       "        16.36046532,   6.09706399,  -0.52647321,  -2.84780355,\n",
       "        12.48745771,  21.34783043,   7.72768776,  -7.33328664,\n",
       "        -4.58265205,  21.00019089,   7.02882441, -12.32134842,\n",
       "         4.16303807,  -6.63225973,  -1.29288094,   0.11994177,\n",
       "        -2.13313372,  10.5337847 ,   4.36914028,  -0.89431258,\n",
       "         9.09637827,  13.29855307, -11.43023371,   2.43269874,\n",
       "        -4.80747356,   3.26844775,  -7.89418747,   5.20690394,\n",
       "         4.62114259,   1.95662249,  -5.47926505,   1.0380967 ,\n",
       "        -5.91328902,  -8.55208746,   7.24785732,  -6.09349938,\n",
       "        16.70296101,  12.16587656, -14.97816692,   7.72128869,\n",
       "        -6.01716628,   5.3305722 ,   5.43631993, -14.88429788,\n",
       "         2.66577476,   2.44209969,  14.62000532,  -6.81446808,\n",
       "        12.38041898,  -5.98972763,   1.68709107,  -3.40473168,\n",
       "        19.48731289,  10.682131  ,  29.31732503,  11.41916379,\n",
       "        13.44992734,  13.40682876,  -1.06611536,   4.29971553,\n",
       "        18.50388868,   1.03449235,   6.88799531,   4.7877654 ,\n",
       "        11.09216493,   1.35091258,   3.47638111,   7.42381429,\n",
       "         6.03023138,  -3.64972746,  13.95783043,  -7.98481208,\n",
       "        -7.01115549,  -7.82491795,  14.66972279,   1.39391631,\n",
       "        -4.71036379,  -6.36021394,   9.21131137,  -5.54840663,\n",
       "        -7.7207821 ,  11.13993062,  -6.96707727,   1.77561849,\n",
       "         4.9323846 ,   0.54664633,   4.45906038,  18.38773499,\n",
       "        -0.16894153,  -7.59307159, -13.36745705,   2.95233883,\n",
       "         1.4774299 ,   7.65090907,   0.35755408,   0.21361537])"
      ]
     },
     "metadata": {},
     "execution_count": 40
    }
   ],
   "source": [
    "\n"
   ]
  },
  {
   "cell_type": "code",
   "execution_count": 13,
   "metadata": {},
   "outputs": [
    {
     "output_type": "execute_result",
     "data": {
      "text/plain": [
       "LinearRegression()"
      ]
     },
     "metadata": {},
     "execution_count": 13
    }
   ],
   "source": [
    "regr.fit()"
   ]
  },
  {
   "cell_type": "code",
   "execution_count": null,
   "metadata": {},
   "outputs": [],
   "source": []
  },
  {
   "cell_type": "code",
   "execution_count": null,
   "metadata": {},
   "outputs": [],
   "source": []
  },
  {
   "cell_type": "code",
   "execution_count": null,
   "metadata": {},
   "outputs": [],
   "source": []
  },
  {
   "cell_type": "code",
   "execution_count": null,
   "metadata": {},
   "outputs": [],
   "source": []
  },
  {
   "cell_type": "code",
   "execution_count": null,
   "metadata": {},
   "outputs": [],
   "source": []
  },
  {
   "cell_type": "code",
   "execution_count": null,
   "metadata": {},
   "outputs": [],
   "source": []
  },
  {
   "cell_type": "code",
   "execution_count": null,
   "metadata": {},
   "outputs": [],
   "source": []
  },
  {
   "cell_type": "code",
   "execution_count": null,
   "metadata": {},
   "outputs": [],
   "source": []
  },
  {
   "cell_type": "code",
   "execution_count": null,
   "metadata": {},
   "outputs": [],
   "source": []
  },
  {
   "cell_type": "code",
   "execution_count": null,
   "metadata": {},
   "outputs": [],
   "source": []
  },
  {
   "cell_type": "code",
   "execution_count": null,
   "metadata": {},
   "outputs": [],
   "source": []
  },
  {
   "cell_type": "code",
   "execution_count": null,
   "metadata": {},
   "outputs": [],
   "source": []
  },
  {
   "cell_type": "code",
   "execution_count": null,
   "metadata": {},
   "outputs": [],
   "source": []
  },
  {
   "cell_type": "code",
   "execution_count": null,
   "metadata": {},
   "outputs": [],
   "source": []
  }
 ]
}