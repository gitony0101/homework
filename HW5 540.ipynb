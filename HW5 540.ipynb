{
 "metadata": {
  "language_info": {
   "codemirror_mode": {
    "name": "ipython",
    "version": 3
   },
   "file_extension": ".py",
   "mimetype": "text/x-python",
   "name": "python",
   "nbconvert_exporter": "python",
   "pygments_lexer": "ipython3",
   "version": "3.8.8-final"
  },
  "orig_nbformat": 2,
  "kernelspec": {
   "name": "python388jvsc74a57bd046b9dc6d2b7cffca86f10cfc6629a675913fc288cf586b16d1984440fcaf60c7",
   "display_name": "Python 3.8.8 64-bit ('jnb': conda)"
  },
  "metadata": {
   "interpreter": {
    "hash": "0142100476a55ad2707e4ee89bdff33f958300b25bb6983b2c86b093430e9fda"
   }
  }
 },
 "nbformat": 4,
 "nbformat_minor": 2,
 "cells": [
  {
   "source": [
    "### Computational Methods (16:540:540) ###\n",
    "\n",
    "#### Spring 2021 Homework 5 – Python Coding ####\n",
    "\n",
    "\n",
    "1. Generate 100 random samples from univariate normal and exponential distributions. Then, calculate the means and the standard deviation.\n",
    "2. Generate 100 random samples from multivariate normal distribution. Then, calculate means and covariance matrix.\n",
    "3. Perform Multiple Linear Regression using the same dataset generated in the\n",
    "class as follows: predict 𝑦\n",
    "a) Using only 𝑥1 ,\n",
    "b) Using variables 𝑥1 , ... , 𝑥3\n",
    "c) Using all variables 𝑥1 , ... , 𝑥𝑝\n",
    "d) Compare the performance for both training and test data using MSE and R-squared."
   ],
   "cell_type": "markdown",
   "metadata": {}
  },
  {
   "cell_type": "code",
   "execution_count": 17,
   "metadata": {},
   "outputs": [],
   "source": [
    "import numpy as np\n",
    "import pandas as pd\n",
    "\n",
    "from numpy.random import default_rng\n",
    "rng = default_rng(5)"
   ]
  },
  {
   "cell_type": "code",
   "execution_count": 18,
   "metadata": {},
   "outputs": [],
   "source": [
    "# 1. Generate 100 random samples from univariate normal and exponential distributions. Then, calculate the means and the standard deviation."
   ]
  },
  {
   "cell_type": "code",
   "execution_count": 19,
   "metadata": {},
   "outputs": [
    {
     "output_type": "stream",
     "name": "stdout",
     "text": [
      "From univariate normal distribution,the mean of 100 random the samples is 2.75992733090338,the variance is 77.91377243518097\n"
     ]
    }
   ],
   "source": [
    "\n",
    "mu, sigma = 5,10\n",
    "n = 100\n",
    "x1 = rng.normal(mu,sigma,n)\n",
    "x1_mean = np.mean(x1)\n",
    "x1_var = np.var(x1)\n",
    "\n",
    "print(f'From univariate normal distribution,the mean of 100 random the samples is {x1_mean},the variance is {x1_var}')"
   ]
  },
  {
   "cell_type": "code",
   "execution_count": 20,
   "metadata": {},
   "outputs": [
    {
     "output_type": "stream",
     "name": "stdout",
     "text": [
      "From exponential distribution,the mean of 100 random the samples is 0.9659351362133682,the variance is 0.7781621514620671\n"
     ]
    }
   ],
   "source": [
    "y1 =rng.exponential(size=n)\n",
    "y1_mean = np.mean(y1)\n",
    "y1_var = np.var(y1)\n",
    "\n",
    "print(f'From exponential distribution,the mean of 100 random the samples is {y1_mean},the variance is {y1_var}')"
   ]
  },
  {
   "cell_type": "code",
   "execution_count": 21,
   "metadata": {},
   "outputs": [],
   "source": [
    "# 2. Generate 100 random samples from multivariate normal distribution. Then, calculate means and covariance matrix."
   ]
  },
  {
   "cell_type": "code",
   "execution_count": 22,
   "metadata": {},
   "outputs": [],
   "source": [
    "# P=6, N=100\n",
    "mu = np.random.uniform(-10,10,size=6)\n",
    "C = np.random.random((6,6))\n",
    "cov = C @ C.T # positive semi-definite\n",
    "x2 = rng.multivariate_normal(mu, cov, n)"
   ]
  },
  {
   "cell_type": "code",
   "execution_count": 23,
   "metadata": {},
   "outputs": [
    {
     "output_type": "execute_result",
     "data": {
      "text/plain": [
       "          0\n",
       "0  3.897084\n",
       "1  5.225423\n",
       "2  6.700838\n",
       "3  2.769794\n",
       "4  5.416923\n",
       "5  5.447845"
      ],
      "text/html": "<div>\n<style scoped>\n    .dataframe tbody tr th:only-of-type {\n        vertical-align: middle;\n    }\n\n    .dataframe tbody tr th {\n        vertical-align: top;\n    }\n\n    .dataframe thead th {\n        text-align: right;\n    }\n</style>\n<table border=\"1\" class=\"dataframe\">\n  <thead>\n    <tr style=\"text-align: right;\">\n      <th></th>\n      <th>0</th>\n    </tr>\n  </thead>\n  <tbody>\n    <tr>\n      <th>0</th>\n      <td>3.897084</td>\n    </tr>\n    <tr>\n      <th>1</th>\n      <td>5.225423</td>\n    </tr>\n    <tr>\n      <th>2</th>\n      <td>6.700838</td>\n    </tr>\n    <tr>\n      <th>3</th>\n      <td>2.769794</td>\n    </tr>\n    <tr>\n      <th>4</th>\n      <td>5.416923</td>\n    </tr>\n    <tr>\n      <th>5</th>\n      <td>5.447845</td>\n    </tr>\n  </tbody>\n</table>\n</div>"
     },
     "metadata": {},
     "execution_count": 23
    }
   ],
   "source": [
    "pd.DataFrame(mu)"
   ]
  },
  {
   "cell_type": "code",
   "execution_count": 24,
   "metadata": {},
   "outputs": [
    {
     "output_type": "execute_result",
     "data": {
      "text/plain": [
       "          0         1         2         3         4         5\n",
       "0  2.317348  1.700666  1.330502  1.522054  1.655275  2.633783\n",
       "1  1.700666  1.983066  1.144976  0.941299  1.298054  2.001214\n",
       "2  1.330502  1.144976  1.574482  0.453620  1.235775  1.447304\n",
       "3  1.522054  0.941299  0.453620  1.877885  1.079806  1.849533\n",
       "4  1.655275  1.298054  1.235775  1.079806  1.819793  1.694370\n",
       "5  2.633783  2.001214  1.447304  1.849533  1.694370  3.097878"
      ],
      "text/html": "<div>\n<style scoped>\n    .dataframe tbody tr th:only-of-type {\n        vertical-align: middle;\n    }\n\n    .dataframe tbody tr th {\n        vertical-align: top;\n    }\n\n    .dataframe thead th {\n        text-align: right;\n    }\n</style>\n<table border=\"1\" class=\"dataframe\">\n  <thead>\n    <tr style=\"text-align: right;\">\n      <th></th>\n      <th>0</th>\n      <th>1</th>\n      <th>2</th>\n      <th>3</th>\n      <th>4</th>\n      <th>5</th>\n    </tr>\n  </thead>\n  <tbody>\n    <tr>\n      <th>0</th>\n      <td>2.317348</td>\n      <td>1.700666</td>\n      <td>1.330502</td>\n      <td>1.522054</td>\n      <td>1.655275</td>\n      <td>2.633783</td>\n    </tr>\n    <tr>\n      <th>1</th>\n      <td>1.700666</td>\n      <td>1.983066</td>\n      <td>1.144976</td>\n      <td>0.941299</td>\n      <td>1.298054</td>\n      <td>2.001214</td>\n    </tr>\n    <tr>\n      <th>2</th>\n      <td>1.330502</td>\n      <td>1.144976</td>\n      <td>1.574482</td>\n      <td>0.453620</td>\n      <td>1.235775</td>\n      <td>1.447304</td>\n    </tr>\n    <tr>\n      <th>3</th>\n      <td>1.522054</td>\n      <td>0.941299</td>\n      <td>0.453620</td>\n      <td>1.877885</td>\n      <td>1.079806</td>\n      <td>1.849533</td>\n    </tr>\n    <tr>\n      <th>4</th>\n      <td>1.655275</td>\n      <td>1.298054</td>\n      <td>1.235775</td>\n      <td>1.079806</td>\n      <td>1.819793</td>\n      <td>1.694370</td>\n    </tr>\n    <tr>\n      <th>5</th>\n      <td>2.633783</td>\n      <td>2.001214</td>\n      <td>1.447304</td>\n      <td>1.849533</td>\n      <td>1.694370</td>\n      <td>3.097878</td>\n    </tr>\n  </tbody>\n</table>\n</div>"
     },
     "metadata": {},
     "execution_count": 24
    }
   ],
   "source": [
    "pd.DataFrame(cov)"
   ]
  },
  {
   "cell_type": "code",
   "execution_count": 25,
   "metadata": {},
   "outputs": [
    {
     "output_type": "stream",
     "name": "stdout",
     "text": [
      "From univariate normal distribution,the mean of 100 random the samples is 4.878444427574132,the variance is 3.9228141614145127\n"
     ]
    }
   ],
   "source": [
    "x2_mean = np.mean(x2)\n",
    "x2_var = np.var(x2)\n",
    "\n",
    "print(f'From univariate normal distribution,the mean of 100 random the samples is {x2_mean},the variance is {x2_var}')"
   ]
  },
  {
   "cell_type": "code",
   "execution_count": 26,
   "metadata": {},
   "outputs": [],
   "source": [
    "# 3. Perform Multiple Linear Regression using the same dataset generated in the\n",
    "# class as follows: \n",
    "# predict 𝑦\n",
    "# a) Using only 𝑥1 ,\n",
    "# b) Using variables 𝑥1 , ... , 𝑥3\n",
    "# c) Using all variables 𝑥1 , ... , 𝑥𝑝\n",
    "#  d) Compare the performance for both training and test data using MSE and R-squared."
   ]
  },
  {
   "source": [
    "The output\n",
    "\n",
    "𝑦=9+3∗𝑥2 +2∗𝑥5+𝜀 \n",
    "\n",
    "𝜀~𝑁(0,1)"
   ],
   "cell_type": "markdown",
   "metadata": {}
  },
  {
   "cell_type": "code",
   "execution_count": 27,
   "metadata": {},
   "outputs": [],
   "source": [
    "from sklearn import datasets, linear_model\n",
    "from sklearn.metrics import mean_squared_error,r2_score\n",
    "regr = linear_model.LinearRegression()\n",
    "import matplotlib.pyplot as plt\n",
    "from scipy.stats import *\n"
   ]
  },
  {
   "cell_type": "code",
   "execution_count": 28,
   "metadata": {},
   "outputs": [],
   "source": [
    "# pd.DataFrame(x2)"
   ]
  },
  {
   "cell_type": "code",
   "execution_count": 29,
   "metadata": {},
   "outputs": [],
   "source": [
    "# a) Using only 𝑥1 \n",
    "x_1 = pd.DataFrame(x2[:,0]).T\n",
    "\n",
    "y_1 = x_1 + rng.normal(0,1,n)"
   ]
  },
  {
   "cell_type": "code",
   "execution_count": 30,
   "metadata": {},
   "outputs": [
    {
     "output_type": "execute_result",
     "data": {
      "text/plain": [
       "Text(0, 0.5, '$y_1&')"
      ]
     },
     "metadata": {},
     "execution_count": 30
    },
    {
     "output_type": "display_data",
     "data": {
      "text/plain": "<Figure size 432x288 with 1 Axes>",
      "image/svg+xml": "<?xml version=\"1.0\" encoding=\"utf-8\" standalone=\"no\"?>\n<!DOCTYPE svg PUBLIC \"-//W3C//DTD SVG 1.1//EN\"\n  \"http://www.w3.org/Graphics/SVG/1.1/DTD/svg11.dtd\">\n<svg height=\"262.19625pt\" version=\"1.1\" viewBox=\"0 0 376.51875 262.19625\" width=\"376.51875pt\" xmlns=\"http://www.w3.org/2000/svg\" xmlns:xlink=\"http://www.w3.org/1999/xlink\">\n <metadata>\n  <rdf:RDF xmlns:cc=\"http://creativecommons.org/ns#\" xmlns:dc=\"http://purl.org/dc/elements/1.1/\" xmlns:rdf=\"http://www.w3.org/1999/02/22-rdf-syntax-ns#\">\n   <cc:Work>\n    <dc:type rdf:resource=\"http://purl.org/dc/dcmitype/StillImage\"/>\n    <dc:date>2021-04-19T21:43:06.545174</dc:date>\n    <dc:format>image/svg+xml</dc:format>\n    <dc:creator>\n     <cc:Agent>\n      <dc:title>Matplotlib v3.4.1, https://matplotlib.org/</dc:title>\n     </cc:Agent>\n    </dc:creator>\n   </cc:Work>\n  </rdf:RDF>\n </metadata>\n <defs>\n  <style type=\"text/css\">*{stroke-linecap:butt;stroke-linejoin:round;}</style>\n </defs>\n <g id=\"figure_1\">\n  <g id=\"patch_1\">\n   <path d=\"M 0 262.19625 \nL 376.51875 262.19625 \nL 376.51875 0 \nL 0 0 \nz\n\" style=\"fill:none;\"/>\n  </g>\n  <g id=\"axes_1\">\n   <g id=\"patch_2\">\n    <path d=\"M 34.51875 224.64 \nL 369.31875 224.64 \nL 369.31875 7.2 \nL 34.51875 7.2 \nz\n\" style=\"fill:#ffffff;\"/>\n   </g>\n   <g id=\"PathCollection_1\">\n    <defs>\n     <path d=\"M 0 3 \nC 0.795609 3 1.55874 2.683901 2.12132 2.12132 \nC 2.683901 1.55874 3 0.795609 3 0 \nC 3 -0.795609 2.683901 -1.55874 2.12132 -2.12132 \nC 1.55874 -2.683901 0.795609 -3 0 -3 \nC -0.795609 -3 -1.55874 -2.683901 -2.12132 -2.12132 \nC -2.683901 -1.55874 -3 -0.795609 -3 0 \nC -3 0.795609 -2.683901 1.55874 -2.12132 2.12132 \nC -1.55874 2.683901 -0.795609 3 0 3 \nz\n\" id=\"m96c1776c43\" style=\"stroke:#1f77b4;\"/>\n    </defs>\n    <g clip-path=\"url(#peda7a2800a)\">\n     <use style=\"fill:#1f77b4;stroke:#1f77b4;\" x=\"83.081471\" xlink:href=\"#m96c1776c43\" y=\"173.50363\"/>\n     <use style=\"fill:#1f77b4;stroke:#1f77b4;\" x=\"241.952508\" xlink:href=\"#m96c1776c43\" y=\"95.212833\"/>\n     <use style=\"fill:#1f77b4;stroke:#1f77b4;\" x=\"79.952657\" xlink:href=\"#m96c1776c43\" y=\"187.453611\"/>\n     <use style=\"fill:#1f77b4;stroke:#1f77b4;\" x=\"257.021957\" xlink:href=\"#m96c1776c43\" y=\"78.70063\"/>\n     <use style=\"fill:#1f77b4;stroke:#1f77b4;\" x=\"78.72927\" xlink:href=\"#m96c1776c43\" y=\"115.989768\"/>\n     <use style=\"fill:#1f77b4;stroke:#1f77b4;\" x=\"324.333606\" xlink:href=\"#m96c1776c43\" y=\"84.738756\"/>\n     <use style=\"fill:#1f77b4;stroke:#1f77b4;\" x=\"212.439419\" xlink:href=\"#m96c1776c43\" y=\"96.553314\"/>\n     <use style=\"fill:#1f77b4;stroke:#1f77b4;\" x=\"84.036845\" xlink:href=\"#m96c1776c43\" y=\"155.765836\"/>\n     <use style=\"fill:#1f77b4;stroke:#1f77b4;\" x=\"131.844846\" xlink:href=\"#m96c1776c43\" y=\"130.152935\"/>\n     <use style=\"fill:#1f77b4;stroke:#1f77b4;\" x=\"215.777535\" xlink:href=\"#m96c1776c43\" y=\"129.30614\"/>\n     <use style=\"fill:#1f77b4;stroke:#1f77b4;\" x=\"103.878513\" xlink:href=\"#m96c1776c43\" y=\"140.734881\"/>\n     <use style=\"fill:#1f77b4;stroke:#1f77b4;\" x=\"150.703254\" xlink:href=\"#m96c1776c43\" y=\"129.653526\"/>\n     <use style=\"fill:#1f77b4;stroke:#1f77b4;\" x=\"135.847957\" xlink:href=\"#m96c1776c43\" y=\"153.19421\"/>\n     <use style=\"fill:#1f77b4;stroke:#1f77b4;\" x=\"180.312957\" xlink:href=\"#m96c1776c43\" y=\"136.382974\"/>\n     <use style=\"fill:#1f77b4;stroke:#1f77b4;\" x=\"182.671739\" xlink:href=\"#m96c1776c43\" y=\"122.778055\"/>\n     <use style=\"fill:#1f77b4;stroke:#1f77b4;\" x=\"162.357666\" xlink:href=\"#m96c1776c43\" y=\"117.930127\"/>\n     <use style=\"fill:#1f77b4;stroke:#1f77b4;\" x=\"177.073762\" xlink:href=\"#m96c1776c43\" y=\"111.863329\"/>\n     <use style=\"fill:#1f77b4;stroke:#1f77b4;\" x=\"104.350775\" xlink:href=\"#m96c1776c43\" y=\"117.030601\"/>\n     <use style=\"fill:#1f77b4;stroke:#1f77b4;\" x=\"185.837859\" xlink:href=\"#m96c1776c43\" y=\"133.649688\"/>\n     <use style=\"fill:#1f77b4;stroke:#1f77b4;\" x=\"273.110588\" xlink:href=\"#m96c1776c43\" y=\"71.11367\"/>\n     <use style=\"fill:#1f77b4;stroke:#1f77b4;\" x=\"281.288662\" xlink:href=\"#m96c1776c43\" y=\"89.311359\"/>\n     <use style=\"fill:#1f77b4;stroke:#1f77b4;\" x=\"143.246856\" xlink:href=\"#m96c1776c43\" y=\"129.965897\"/>\n     <use style=\"fill:#1f77b4;stroke:#1f77b4;\" x=\"224.347228\" xlink:href=\"#m96c1776c43\" y=\"104.747489\"/>\n     <use style=\"fill:#1f77b4;stroke:#1f77b4;\" x=\"80.63782\" xlink:href=\"#m96c1776c43\" y=\"189.151974\"/>\n     <use style=\"fill:#1f77b4;stroke:#1f77b4;\" x=\"259.772862\" xlink:href=\"#m96c1776c43\" y=\"118.512767\"/>\n     <use style=\"fill:#1f77b4;stroke:#1f77b4;\" x=\"280.095031\" xlink:href=\"#m96c1776c43\" y=\"96.975257\"/>\n     <use style=\"fill:#1f77b4;stroke:#1f77b4;\" x=\"208.273705\" xlink:href=\"#m96c1776c43\" y=\"110.124382\"/>\n     <use style=\"fill:#1f77b4;stroke:#1f77b4;\" x=\"160.132797\" xlink:href=\"#m96c1776c43\" y=\"107.265845\"/>\n     <use style=\"fill:#1f77b4;stroke:#1f77b4;\" x=\"354.100568\" xlink:href=\"#m96c1776c43\" y=\"28.823427\"/>\n     <use style=\"fill:#1f77b4;stroke:#1f77b4;\" x=\"170.523177\" xlink:href=\"#m96c1776c43\" y=\"158.639876\"/>\n     <use style=\"fill:#1f77b4;stroke:#1f77b4;\" x=\"164.137579\" xlink:href=\"#m96c1776c43\" y=\"146.756323\"/>\n     <use style=\"fill:#1f77b4;stroke:#1f77b4;\" x=\"229.777272\" xlink:href=\"#m96c1776c43\" y=\"104.299717\"/>\n     <use style=\"fill:#1f77b4;stroke:#1f77b4;\" x=\"132.28424\" xlink:href=\"#m96c1776c43\" y=\"154.766797\"/>\n     <use style=\"fill:#1f77b4;stroke:#1f77b4;\" x=\"241.419848\" xlink:href=\"#m96c1776c43\" y=\"98.579607\"/>\n     <use style=\"fill:#1f77b4;stroke:#1f77b4;\" x=\"69.045299\" xlink:href=\"#m96c1776c43\" y=\"166.547587\"/>\n     <use style=\"fill:#1f77b4;stroke:#1f77b4;\" x=\"135.057206\" xlink:href=\"#m96c1776c43\" y=\"147.044521\"/>\n     <use style=\"fill:#1f77b4;stroke:#1f77b4;\" x=\"123.303719\" xlink:href=\"#m96c1776c43\" y=\"172.017054\"/>\n     <use style=\"fill:#1f77b4;stroke:#1f77b4;\" x=\"134.951699\" xlink:href=\"#m96c1776c43\" y=\"192.690689\"/>\n     <use style=\"fill:#1f77b4;stroke:#1f77b4;\" x=\"89.642086\" xlink:href=\"#m96c1776c43\" y=\"181.095997\"/>\n     <use style=\"fill:#1f77b4;stroke:#1f77b4;\" x=\"290.430644\" xlink:href=\"#m96c1776c43\" y=\"113.126903\"/>\n     <use style=\"fill:#1f77b4;stroke:#1f77b4;\" x=\"125.378745\" xlink:href=\"#m96c1776c43\" y=\"160.528806\"/>\n     <use style=\"fill:#1f77b4;stroke:#1f77b4;\" x=\"263.969684\" xlink:href=\"#m96c1776c43\" y=\"84.09093\"/>\n     <use style=\"fill:#1f77b4;stroke:#1f77b4;\" x=\"253.732767\" xlink:href=\"#m96c1776c43\" y=\"124.141277\"/>\n     <use style=\"fill:#1f77b4;stroke:#1f77b4;\" x=\"193.337754\" xlink:href=\"#m96c1776c43\" y=\"128.133899\"/>\n     <use style=\"fill:#1f77b4;stroke:#1f77b4;\" x=\"86.924052\" xlink:href=\"#m96c1776c43\" y=\"183.699791\"/>\n     <use style=\"fill:#1f77b4;stroke:#1f77b4;\" x=\"159.205977\" xlink:href=\"#m96c1776c43\" y=\"101.815223\"/>\n     <use style=\"fill:#1f77b4;stroke:#1f77b4;\" x=\"145.94322\" xlink:href=\"#m96c1776c43\" y=\"138.967299\"/>\n     <use style=\"fill:#1f77b4;stroke:#1f77b4;\" x=\"232.816253\" xlink:href=\"#m96c1776c43\" y=\"146.878938\"/>\n     <use style=\"fill:#1f77b4;stroke:#1f77b4;\" x=\"158.691228\" xlink:href=\"#m96c1776c43\" y=\"133.44324\"/>\n     <use style=\"fill:#1f77b4;stroke:#1f77b4;\" x=\"52.843148\" xlink:href=\"#m96c1776c43\" y=\"184.99556\"/>\n     <use style=\"fill:#1f77b4;stroke:#1f77b4;\" x=\"223.303901\" xlink:href=\"#m96c1776c43\" y=\"116.258926\"/>\n     <use style=\"fill:#1f77b4;stroke:#1f77b4;\" x=\"160.40815\" xlink:href=\"#m96c1776c43\" y=\"150.240323\"/>\n     <use style=\"fill:#1f77b4;stroke:#1f77b4;\" x=\"195.92779\" xlink:href=\"#m96c1776c43\" y=\"112.730905\"/>\n     <use style=\"fill:#1f77b4;stroke:#1f77b4;\" x=\"291.678435\" xlink:href=\"#m96c1776c43\" y=\"65.494996\"/>\n     <use style=\"fill:#1f77b4;stroke:#1f77b4;\" x=\"293.264131\" xlink:href=\"#m96c1776c43\" y=\"69.630283\"/>\n     <use style=\"fill:#1f77b4;stroke:#1f77b4;\" x=\"203.60619\" xlink:href=\"#m96c1776c43\" y=\"142.97992\"/>\n     <use style=\"fill:#1f77b4;stroke:#1f77b4;\" x=\"262.513522\" xlink:href=\"#m96c1776c43\" y=\"99.104547\"/>\n     <use style=\"fill:#1f77b4;stroke:#1f77b4;\" x=\"303.873737\" xlink:href=\"#m96c1776c43\" y=\"106.939836\"/>\n     <use style=\"fill:#1f77b4;stroke:#1f77b4;\" x=\"160.496947\" xlink:href=\"#m96c1776c43\" y=\"174.555344\"/>\n     <use style=\"fill:#1f77b4;stroke:#1f77b4;\" x=\"112.979896\" xlink:href=\"#m96c1776c43\" y=\"177.685252\"/>\n     <use style=\"fill:#1f77b4;stroke:#1f77b4;\" x=\"331.74862\" xlink:href=\"#m96c1776c43\" y=\"83.142569\"/>\n     <use style=\"fill:#1f77b4;stroke:#1f77b4;\" x=\"92.522856\" xlink:href=\"#m96c1776c43\" y=\"184.569186\"/>\n     <use style=\"fill:#1f77b4;stroke:#1f77b4;\" x=\"221.687132\" xlink:href=\"#m96c1776c43\" y=\"61.529899\"/>\n     <use style=\"fill:#1f77b4;stroke:#1f77b4;\" x=\"155.801129\" xlink:href=\"#m96c1776c43\" y=\"135.209742\"/>\n     <use style=\"fill:#1f77b4;stroke:#1f77b4;\" x=\"234.338841\" xlink:href=\"#m96c1776c43\" y=\"126.716921\"/>\n     <use style=\"fill:#1f77b4;stroke:#1f77b4;\" x=\"114.905745\" xlink:href=\"#m96c1776c43\" y=\"211.120754\"/>\n     <use style=\"fill:#1f77b4;stroke:#1f77b4;\" x=\"132.187453\" xlink:href=\"#m96c1776c43\" y=\"174.968162\"/>\n     <use style=\"fill:#1f77b4;stroke:#1f77b4;\" x=\"218.842159\" xlink:href=\"#m96c1776c43\" y=\"146.039733\"/>\n     <use style=\"fill:#1f77b4;stroke:#1f77b4;\" x=\"179.034409\" xlink:href=\"#m96c1776c43\" y=\"181.382403\"/>\n     <use style=\"fill:#1f77b4;stroke:#1f77b4;\" x=\"181.740663\" xlink:href=\"#m96c1776c43\" y=\"118.475526\"/>\n     <use style=\"fill:#1f77b4;stroke:#1f77b4;\" x=\"330.05075\" xlink:href=\"#m96c1776c43\" y=\"72.761897\"/>\n     <use style=\"fill:#1f77b4;stroke:#1f77b4;\" x=\"53.502849\" xlink:href=\"#m96c1776c43\" y=\"186.154143\"/>\n     <use style=\"fill:#1f77b4;stroke:#1f77b4;\" x=\"289.016103\" xlink:href=\"#m96c1776c43\" y=\"17.083636\"/>\n     <use style=\"fill:#1f77b4;stroke:#1f77b4;\" x=\"206.63186\" xlink:href=\"#m96c1776c43\" y=\"116.206538\"/>\n     <use style=\"fill:#1f77b4;stroke:#1f77b4;\" x=\"69.453298\" xlink:href=\"#m96c1776c43\" y=\"185.335547\"/>\n     <use style=\"fill:#1f77b4;stroke:#1f77b4;\" x=\"307.270942\" xlink:href=\"#m96c1776c43\" y=\"66.238494\"/>\n     <use style=\"fill:#1f77b4;stroke:#1f77b4;\" x=\"172.623907\" xlink:href=\"#m96c1776c43\" y=\"143.90371\"/>\n     <use style=\"fill:#1f77b4;stroke:#1f77b4;\" x=\"49.736932\" xlink:href=\"#m96c1776c43\" y=\"214.756364\"/>\n     <use style=\"fill:#1f77b4;stroke:#1f77b4;\" x=\"73.605935\" xlink:href=\"#m96c1776c43\" y=\"190.313587\"/>\n     <use style=\"fill:#1f77b4;stroke:#1f77b4;\" x=\"210.373895\" xlink:href=\"#m96c1776c43\" y=\"95.99734\"/>\n     <use style=\"fill:#1f77b4;stroke:#1f77b4;\" x=\"100.997437\" xlink:href=\"#m96c1776c43\" y=\"178.339788\"/>\n     <use style=\"fill:#1f77b4;stroke:#1f77b4;\" x=\"210.181959\" xlink:href=\"#m96c1776c43\" y=\"149.114637\"/>\n     <use style=\"fill:#1f77b4;stroke:#1f77b4;\" x=\"303.416787\" xlink:href=\"#m96c1776c43\" y=\"101.732688\"/>\n     <use style=\"fill:#1f77b4;stroke:#1f77b4;\" x=\"175.481427\" xlink:href=\"#m96c1776c43\" y=\"158.548022\"/>\n     <use style=\"fill:#1f77b4;stroke:#1f77b4;\" x=\"144.699083\" xlink:href=\"#m96c1776c43\" y=\"151.308763\"/>\n     <use style=\"fill:#1f77b4;stroke:#1f77b4;\" x=\"246.427189\" xlink:href=\"#m96c1776c43\" y=\"92.467182\"/>\n     <use style=\"fill:#1f77b4;stroke:#1f77b4;\" x=\"105.061578\" xlink:href=\"#m96c1776c43\" y=\"160.298481\"/>\n     <use style=\"fill:#1f77b4;stroke:#1f77b4;\" x=\"152.693199\" xlink:href=\"#m96c1776c43\" y=\"122.369606\"/>\n     <use style=\"fill:#1f77b4;stroke:#1f77b4;\" x=\"166.869556\" xlink:href=\"#m96c1776c43\" y=\"144.874895\"/>\n     <use style=\"fill:#1f77b4;stroke:#1f77b4;\" x=\"152.217348\" xlink:href=\"#m96c1776c43\" y=\"129.814807\"/>\n     <use style=\"fill:#1f77b4;stroke:#1f77b4;\" x=\"52.821514\" xlink:href=\"#m96c1776c43\" y=\"188.162809\"/>\n     <use style=\"fill:#1f77b4;stroke:#1f77b4;\" x=\"180.713696\" xlink:href=\"#m96c1776c43\" y=\"118.558899\"/>\n     <use style=\"fill:#1f77b4;stroke:#1f77b4;\" x=\"148.775087\" xlink:href=\"#m96c1776c43\" y=\"187.552972\"/>\n     <use style=\"fill:#1f77b4;stroke:#1f77b4;\" x=\"193.902218\" xlink:href=\"#m96c1776c43\" y=\"100.508814\"/>\n     <use style=\"fill:#1f77b4;stroke:#1f77b4;\" x=\"127.581688\" xlink:href=\"#m96c1776c43\" y=\"191.186955\"/>\n     <use style=\"fill:#1f77b4;stroke:#1f77b4;\" x=\"177.238814\" xlink:href=\"#m96c1776c43\" y=\"158.36873\"/>\n     <use style=\"fill:#1f77b4;stroke:#1f77b4;\" x=\"239.492544\" xlink:href=\"#m96c1776c43\" y=\"88.133199\"/>\n     <use style=\"fill:#1f77b4;stroke:#1f77b4;\" x=\"255.195657\" xlink:href=\"#m96c1776c43\" y=\"105.099165\"/>\n     <use style=\"fill:#1f77b4;stroke:#1f77b4;\" x=\"210.277147\" xlink:href=\"#m96c1776c43\" y=\"81.031202\"/>\n     <use style=\"fill:#1f77b4;stroke:#1f77b4;\" x=\"138.115452\" xlink:href=\"#m96c1776c43\" y=\"149.522008\"/>\n    </g>\n   </g>\n   <g id=\"matplotlib.axis_1\">\n    <g id=\"xtick_1\">\n     <g id=\"line2d_1\">\n      <defs>\n       <path d=\"M 0 0 \nL 0 3.5 \n\" id=\"mf7207a4ccd\" style=\"stroke:#000000;stroke-width:0.8;\"/>\n      </defs>\n      <g>\n       <use style=\"stroke:#000000;stroke-width:0.8;\" x=\"56.237352\" xlink:href=\"#mf7207a4ccd\" y=\"224.64\"/>\n      </g>\n     </g>\n     <g id=\"text_1\">\n      <!-- 1 -->\n      <g transform=\"translate(53.056102 239.238437)scale(0.1 -0.1)\">\n       <defs>\n        <path d=\"M 794 531 \nL 1825 531 \nL 1825 4091 \nL 703 3866 \nL 703 4441 \nL 1819 4666 \nL 2450 4666 \nL 2450 531 \nL 3481 531 \nL 3481 0 \nL 794 0 \nL 794 531 \nz\n\" id=\"DejaVuSans-31\" transform=\"scale(0.015625)\"/>\n       </defs>\n       <use xlink:href=\"#DejaVuSans-31\"/>\n      </g>\n     </g>\n    </g>\n    <g id=\"xtick_2\">\n     <g id=\"line2d_2\">\n      <g>\n       <use style=\"stroke:#000000;stroke-width:0.8;\" x=\"100.223598\" xlink:href=\"#mf7207a4ccd\" y=\"224.64\"/>\n      </g>\n     </g>\n     <g id=\"text_2\">\n      <!-- 2 -->\n      <g transform=\"translate(97.042348 239.238437)scale(0.1 -0.1)\">\n       <defs>\n        <path d=\"M 1228 531 \nL 3431 531 \nL 3431 0 \nL 469 0 \nL 469 531 \nQ 828 903 1448 1529 \nQ 2069 2156 2228 2338 \nQ 2531 2678 2651 2914 \nQ 2772 3150 2772 3378 \nQ 2772 3750 2511 3984 \nQ 2250 4219 1831 4219 \nQ 1534 4219 1204 4116 \nQ 875 4013 500 3803 \nL 500 4441 \nQ 881 4594 1212 4672 \nQ 1544 4750 1819 4750 \nQ 2544 4750 2975 4387 \nQ 3406 4025 3406 3419 \nQ 3406 3131 3298 2873 \nQ 3191 2616 2906 2266 \nQ 2828 2175 2409 1742 \nQ 1991 1309 1228 531 \nz\n\" id=\"DejaVuSans-32\" transform=\"scale(0.015625)\"/>\n       </defs>\n       <use xlink:href=\"#DejaVuSans-32\"/>\n      </g>\n     </g>\n    </g>\n    <g id=\"xtick_3\">\n     <g id=\"line2d_3\">\n      <g>\n       <use style=\"stroke:#000000;stroke-width:0.8;\" x=\"144.209845\" xlink:href=\"#mf7207a4ccd\" y=\"224.64\"/>\n      </g>\n     </g>\n     <g id=\"text_3\">\n      <!-- 3 -->\n      <g transform=\"translate(141.028595 239.238437)scale(0.1 -0.1)\">\n       <defs>\n        <path d=\"M 2597 2516 \nQ 3050 2419 3304 2112 \nQ 3559 1806 3559 1356 \nQ 3559 666 3084 287 \nQ 2609 -91 1734 -91 \nQ 1441 -91 1130 -33 \nQ 819 25 488 141 \nL 488 750 \nQ 750 597 1062 519 \nQ 1375 441 1716 441 \nQ 2309 441 2620 675 \nQ 2931 909 2931 1356 \nQ 2931 1769 2642 2001 \nQ 2353 2234 1838 2234 \nL 1294 2234 \nL 1294 2753 \nL 1863 2753 \nQ 2328 2753 2575 2939 \nQ 2822 3125 2822 3475 \nQ 2822 3834 2567 4026 \nQ 2313 4219 1838 4219 \nQ 1578 4219 1281 4162 \nQ 984 4106 628 3988 \nL 628 4550 \nQ 988 4650 1302 4700 \nQ 1616 4750 1894 4750 \nQ 2613 4750 3031 4423 \nQ 3450 4097 3450 3541 \nQ 3450 3153 3228 2886 \nQ 3006 2619 2597 2516 \nz\n\" id=\"DejaVuSans-33\" transform=\"scale(0.015625)\"/>\n       </defs>\n       <use xlink:href=\"#DejaVuSans-33\"/>\n      </g>\n     </g>\n    </g>\n    <g id=\"xtick_4\">\n     <g id=\"line2d_4\">\n      <g>\n       <use style=\"stroke:#000000;stroke-width:0.8;\" x=\"188.196091\" xlink:href=\"#mf7207a4ccd\" y=\"224.64\"/>\n      </g>\n     </g>\n     <g id=\"text_4\">\n      <!-- 4 -->\n      <g transform=\"translate(185.014841 239.238437)scale(0.1 -0.1)\">\n       <defs>\n        <path d=\"M 2419 4116 \nL 825 1625 \nL 2419 1625 \nL 2419 4116 \nz\nM 2253 4666 \nL 3047 4666 \nL 3047 1625 \nL 3713 1625 \nL 3713 1100 \nL 3047 1100 \nL 3047 0 \nL 2419 0 \nL 2419 1100 \nL 313 1100 \nL 313 1709 \nL 2253 4666 \nz\n\" id=\"DejaVuSans-34\" transform=\"scale(0.015625)\"/>\n       </defs>\n       <use xlink:href=\"#DejaVuSans-34\"/>\n      </g>\n     </g>\n    </g>\n    <g id=\"xtick_5\">\n     <g id=\"line2d_5\">\n      <g>\n       <use style=\"stroke:#000000;stroke-width:0.8;\" x=\"232.182337\" xlink:href=\"#mf7207a4ccd\" y=\"224.64\"/>\n      </g>\n     </g>\n     <g id=\"text_5\">\n      <!-- 5 -->\n      <g transform=\"translate(229.001087 239.238437)scale(0.1 -0.1)\">\n       <defs>\n        <path d=\"M 691 4666 \nL 3169 4666 \nL 3169 4134 \nL 1269 4134 \nL 1269 2991 \nQ 1406 3038 1543 3061 \nQ 1681 3084 1819 3084 \nQ 2600 3084 3056 2656 \nQ 3513 2228 3513 1497 \nQ 3513 744 3044 326 \nQ 2575 -91 1722 -91 \nQ 1428 -91 1123 -41 \nQ 819 9 494 109 \nL 494 744 \nQ 775 591 1075 516 \nQ 1375 441 1709 441 \nQ 2250 441 2565 725 \nQ 2881 1009 2881 1497 \nQ 2881 1984 2565 2268 \nQ 2250 2553 1709 2553 \nQ 1456 2553 1204 2497 \nQ 953 2441 691 2322 \nL 691 4666 \nz\n\" id=\"DejaVuSans-35\" transform=\"scale(0.015625)\"/>\n       </defs>\n       <use xlink:href=\"#DejaVuSans-35\"/>\n      </g>\n     </g>\n    </g>\n    <g id=\"xtick_6\">\n     <g id=\"line2d_6\">\n      <g>\n       <use style=\"stroke:#000000;stroke-width:0.8;\" x=\"276.168583\" xlink:href=\"#mf7207a4ccd\" y=\"224.64\"/>\n      </g>\n     </g>\n     <g id=\"text_6\">\n      <!-- 6 -->\n      <g transform=\"translate(272.987333 239.238437)scale(0.1 -0.1)\">\n       <defs>\n        <path d=\"M 2113 2584 \nQ 1688 2584 1439 2293 \nQ 1191 2003 1191 1497 \nQ 1191 994 1439 701 \nQ 1688 409 2113 409 \nQ 2538 409 2786 701 \nQ 3034 994 3034 1497 \nQ 3034 2003 2786 2293 \nQ 2538 2584 2113 2584 \nz\nM 3366 4563 \nL 3366 3988 \nQ 3128 4100 2886 4159 \nQ 2644 4219 2406 4219 \nQ 1781 4219 1451 3797 \nQ 1122 3375 1075 2522 \nQ 1259 2794 1537 2939 \nQ 1816 3084 2150 3084 \nQ 2853 3084 3261 2657 \nQ 3669 2231 3669 1497 \nQ 3669 778 3244 343 \nQ 2819 -91 2113 -91 \nQ 1303 -91 875 529 \nQ 447 1150 447 2328 \nQ 447 3434 972 4092 \nQ 1497 4750 2381 4750 \nQ 2619 4750 2861 4703 \nQ 3103 4656 3366 4563 \nz\n\" id=\"DejaVuSans-36\" transform=\"scale(0.015625)\"/>\n       </defs>\n       <use xlink:href=\"#DejaVuSans-36\"/>\n      </g>\n     </g>\n    </g>\n    <g id=\"xtick_7\">\n     <g id=\"line2d_7\">\n      <g>\n       <use style=\"stroke:#000000;stroke-width:0.8;\" x=\"320.154829\" xlink:href=\"#mf7207a4ccd\" y=\"224.64\"/>\n      </g>\n     </g>\n     <g id=\"text_7\">\n      <!-- 7 -->\n      <g transform=\"translate(316.973579 239.238437)scale(0.1 -0.1)\">\n       <defs>\n        <path d=\"M 525 4666 \nL 3525 4666 \nL 3525 4397 \nL 1831 0 \nL 1172 0 \nL 2766 4134 \nL 525 4134 \nL 525 4666 \nz\n\" id=\"DejaVuSans-37\" transform=\"scale(0.015625)\"/>\n       </defs>\n       <use xlink:href=\"#DejaVuSans-37\"/>\n      </g>\n     </g>\n    </g>\n    <g id=\"xtick_8\">\n     <g id=\"line2d_8\">\n      <g>\n       <use style=\"stroke:#000000;stroke-width:0.8;\" x=\"364.141076\" xlink:href=\"#mf7207a4ccd\" y=\"224.64\"/>\n      </g>\n     </g>\n     <g id=\"text_8\">\n      <!-- 8 -->\n      <g transform=\"translate(360.959826 239.238437)scale(0.1 -0.1)\">\n       <defs>\n        <path d=\"M 2034 2216 \nQ 1584 2216 1326 1975 \nQ 1069 1734 1069 1313 \nQ 1069 891 1326 650 \nQ 1584 409 2034 409 \nQ 2484 409 2743 651 \nQ 3003 894 3003 1313 \nQ 3003 1734 2745 1975 \nQ 2488 2216 2034 2216 \nz\nM 1403 2484 \nQ 997 2584 770 2862 \nQ 544 3141 544 3541 \nQ 544 4100 942 4425 \nQ 1341 4750 2034 4750 \nQ 2731 4750 3128 4425 \nQ 3525 4100 3525 3541 \nQ 3525 3141 3298 2862 \nQ 3072 2584 2669 2484 \nQ 3125 2378 3379 2068 \nQ 3634 1759 3634 1313 \nQ 3634 634 3220 271 \nQ 2806 -91 2034 -91 \nQ 1263 -91 848 271 \nQ 434 634 434 1313 \nQ 434 1759 690 2068 \nQ 947 2378 1403 2484 \nz\nM 1172 3481 \nQ 1172 3119 1398 2916 \nQ 1625 2713 2034 2713 \nQ 2441 2713 2670 2916 \nQ 2900 3119 2900 3481 \nQ 2900 3844 2670 4047 \nQ 2441 4250 2034 4250 \nQ 1625 4250 1398 4047 \nQ 1172 3844 1172 3481 \nz\n\" id=\"DejaVuSans-38\" transform=\"scale(0.015625)\"/>\n       </defs>\n       <use xlink:href=\"#DejaVuSans-38\"/>\n      </g>\n     </g>\n    </g>\n    <g id=\"text_9\">\n     <!-- $x_1$ -->\n     <g transform=\"translate(196.56875 252.916562)scale(0.1 -0.1)\">\n      <defs>\n       <path d=\"M 3841 3500 \nL 2234 1784 \nL 3219 0 \nL 2559 0 \nL 1819 1388 \nL 531 0 \nL -166 0 \nL 1556 1844 \nL 641 3500 \nL 1300 3500 \nL 1972 2234 \nL 3144 3500 \nL 3841 3500 \nz\n\" id=\"DejaVuSans-Oblique-78\" transform=\"scale(0.015625)\"/>\n      </defs>\n      <use transform=\"translate(0 0.3125)\" xlink:href=\"#DejaVuSans-Oblique-78\"/>\n      <use transform=\"translate(59.179688 -16.09375)scale(0.7)\" xlink:href=\"#DejaVuSans-31\"/>\n     </g>\n    </g>\n   </g>\n   <g id=\"matplotlib.axis_2\">\n    <g id=\"ytick_1\">\n     <g id=\"line2d_9\">\n      <defs>\n       <path d=\"M 0 0 \nL -3.5 0 \n\" id=\"m19efc36954\" style=\"stroke:#000000;stroke-width:0.8;\"/>\n      </defs>\n      <g>\n       <use style=\"stroke:#000000;stroke-width:0.8;\" x=\"34.51875\" xlink:href=\"#m19efc36954\" y=\"212.648585\"/>\n      </g>\n     </g>\n     <g id=\"text_10\">\n      <!-- 0 -->\n      <g transform=\"translate(21.15625 216.447804)scale(0.1 -0.1)\">\n       <defs>\n        <path d=\"M 2034 4250 \nQ 1547 4250 1301 3770 \nQ 1056 3291 1056 2328 \nQ 1056 1369 1301 889 \nQ 1547 409 2034 409 \nQ 2525 409 2770 889 \nQ 3016 1369 3016 2328 \nQ 3016 3291 2770 3770 \nQ 2525 4250 2034 4250 \nz\nM 2034 4750 \nQ 2819 4750 3233 4129 \nQ 3647 3509 3647 2328 \nQ 3647 1150 3233 529 \nQ 2819 -91 2034 -91 \nQ 1250 -91 836 529 \nQ 422 1150 422 2328 \nQ 422 3509 836 4129 \nQ 1250 4750 2034 4750 \nz\n\" id=\"DejaVuSans-30\" transform=\"scale(0.015625)\"/>\n       </defs>\n       <use xlink:href=\"#DejaVuSans-30\"/>\n      </g>\n     </g>\n    </g>\n    <g id=\"ytick_2\">\n     <g id=\"line2d_10\">\n      <g>\n       <use style=\"stroke:#000000;stroke-width:0.8;\" x=\"34.51875\" xlink:href=\"#m19efc36954\" y=\"170.402264\"/>\n      </g>\n     </g>\n     <g id=\"text_11\">\n      <!-- 2 -->\n      <g transform=\"translate(21.15625 174.201483)scale(0.1 -0.1)\">\n       <use xlink:href=\"#DejaVuSans-32\"/>\n      </g>\n     </g>\n    </g>\n    <g id=\"ytick_3\">\n     <g id=\"line2d_11\">\n      <g>\n       <use style=\"stroke:#000000;stroke-width:0.8;\" x=\"34.51875\" xlink:href=\"#m19efc36954\" y=\"128.155944\"/>\n      </g>\n     </g>\n     <g id=\"text_12\">\n      <!-- 4 -->\n      <g transform=\"translate(21.15625 131.955162)scale(0.1 -0.1)\">\n       <use xlink:href=\"#DejaVuSans-34\"/>\n      </g>\n     </g>\n    </g>\n    <g id=\"ytick_4\">\n     <g id=\"line2d_12\">\n      <g>\n       <use style=\"stroke:#000000;stroke-width:0.8;\" x=\"34.51875\" xlink:href=\"#m19efc36954\" y=\"85.909623\"/>\n      </g>\n     </g>\n     <g id=\"text_13\">\n      <!-- 6 -->\n      <g transform=\"translate(21.15625 89.708841)scale(0.1 -0.1)\">\n       <use xlink:href=\"#DejaVuSans-36\"/>\n      </g>\n     </g>\n    </g>\n    <g id=\"ytick_5\">\n     <g id=\"line2d_13\">\n      <g>\n       <use style=\"stroke:#000000;stroke-width:0.8;\" x=\"34.51875\" xlink:href=\"#m19efc36954\" y=\"43.663302\"/>\n      </g>\n     </g>\n     <g id=\"text_14\">\n      <!-- 8 -->\n      <g transform=\"translate(21.15625 47.462521)scale(0.1 -0.1)\">\n       <use xlink:href=\"#DejaVuSans-38\"/>\n      </g>\n     </g>\n    </g>\n    <g id=\"text_15\">\n     <!-- $y_1&amp; -->\n     <g transform=\"translate(14.798438 131.641094)rotate(-90)scale(0.1 -0.1)\">\n      <defs>\n       <path d=\"M 2163 -941 \nL 1850 -941 \nL 1847 0 \nQ 1519 6 1191 76 \nQ 863 147 531 288 \nL 531 850 \nQ 850 650 1176 548 \nQ 1503 447 1850 444 \nL 1850 1869 \nQ 1159 1981 845 2250 \nQ 531 2519 531 2988 \nQ 531 3497 872 3790 \nQ 1213 4084 1850 4128 \nL 1850 4863 \nL 2163 4863 \nL 2163 4138 \nQ 2453 4125 2725 4076 \nQ 2997 4028 3256 3944 \nL 3256 3397 \nQ 2997 3528 2723 3600 \nQ 2450 3672 2163 3684 \nL 2163 2350 \nQ 2872 2241 3206 1959 \nQ 3541 1678 3541 1191 \nQ 3541 663 3186 358 \nQ 2831 53 2163 6 \nL 2163 -941 \nz\nM 1850 2406 \nL 1850 3688 \nQ 1488 3647 1297 3481 \nQ 1106 3316 1106 3041 \nQ 1106 2772 1282 2622 \nQ 1459 2472 1850 2406 \nz\nM 2163 1806 \nL 2163 453 \nQ 2559 506 2761 678 \nQ 2963 850 2963 1131 \nQ 2963 1406 2770 1568 \nQ 2578 1731 2163 1806 \nz\n\" id=\"DejaVuSans-24\" transform=\"scale(0.015625)\"/>\n       <path d=\"M 2059 -325 \nQ 1816 -950 1584 -1140 \nQ 1353 -1331 966 -1331 \nL 506 -1331 \nL 506 -850 \nL 844 -850 \nQ 1081 -850 1212 -737 \nQ 1344 -625 1503 -206 \nL 1606 56 \nL 191 3500 \nL 800 3500 \nL 1894 763 \nL 2988 3500 \nL 3597 3500 \nL 2059 -325 \nz\n\" id=\"DejaVuSans-79\" transform=\"scale(0.015625)\"/>\n       <path d=\"M 3263 -1063 \nL 3263 -1509 \nL -63 -1509 \nL -63 -1063 \nL 3263 -1063 \nz\n\" id=\"DejaVuSans-5f\" transform=\"scale(0.015625)\"/>\n       <path d=\"M 1556 2509 \nQ 1272 2256 1139 2004 \nQ 1006 1753 1006 1478 \nQ 1006 1022 1337 719 \nQ 1669 416 2169 416 \nQ 2466 416 2725 514 \nQ 2984 613 3213 813 \nL 1556 2509 \nz\nM 1997 2859 \nL 3584 1234 \nQ 3769 1513 3872 1830 \nQ 3975 2147 3994 2503 \nL 4575 2503 \nQ 4538 2091 4375 1687 \nQ 4213 1284 3922 891 \nL 4794 0 \nL 4006 0 \nL 3559 459 \nQ 3234 181 2878 45 \nQ 2522 -91 2113 -91 \nQ 1359 -91 881 339 \nQ 403 769 403 1441 \nQ 403 1841 612 2192 \nQ 822 2544 1241 2853 \nQ 1091 3050 1012 3245 \nQ 934 3441 934 3628 \nQ 934 4134 1281 4442 \nQ 1628 4750 2203 4750 \nQ 2463 4750 2720 4694 \nQ 2978 4638 3244 4525 \nL 3244 3956 \nQ 2972 4103 2725 4179 \nQ 2478 4256 2266 4256 \nQ 1938 4256 1733 4082 \nQ 1528 3909 1528 3634 \nQ 1528 3475 1620 3314 \nQ 1713 3153 1997 2859 \nz\n\" id=\"DejaVuSans-26\" transform=\"scale(0.015625)\"/>\n      </defs>\n      <use xlink:href=\"#DejaVuSans-24\"/>\n      <use x=\"63.623047\" xlink:href=\"#DejaVuSans-79\"/>\n      <use x=\"122.802734\" xlink:href=\"#DejaVuSans-5f\"/>\n      <use x=\"172.802734\" xlink:href=\"#DejaVuSans-31\"/>\n      <use x=\"236.425781\" xlink:href=\"#DejaVuSans-26\"/>\n     </g>\n    </g>\n   </g>\n   <g id=\"patch_3\">\n    <path d=\"M 34.51875 224.64 \nL 34.51875 7.2 \n\" style=\"fill:none;stroke:#000000;stroke-linecap:square;stroke-linejoin:miter;stroke-width:0.8;\"/>\n   </g>\n   <g id=\"patch_4\">\n    <path d=\"M 369.31875 224.64 \nL 369.31875 7.2 \n\" style=\"fill:none;stroke:#000000;stroke-linecap:square;stroke-linejoin:miter;stroke-width:0.8;\"/>\n   </g>\n   <g id=\"patch_5\">\n    <path d=\"M 34.51875 224.64 \nL 369.31875 224.64 \n\" style=\"fill:none;stroke:#000000;stroke-linecap:square;stroke-linejoin:miter;stroke-width:0.8;\"/>\n   </g>\n   <g id=\"patch_6\">\n    <path d=\"M 34.51875 7.2 \nL 369.31875 7.2 \n\" style=\"fill:none;stroke:#000000;stroke-linecap:square;stroke-linejoin:miter;stroke-width:0.8;\"/>\n   </g>\n  </g>\n </g>\n <defs>\n  <clipPath id=\"peda7a2800a\">\n   <rect height=\"217.44\" width=\"334.8\" x=\"34.51875\" y=\"7.2\"/>\n  </clipPath>\n </defs>\n</svg>\n",
      "image/png": "[encoded data removed]"
     },
     "metadata": {
      "needs_background": "light"
     }
    }
   ],
   "source": [
    "# plot the data\n",
    "\n",
    "fig, ax = plt.subplots()\n",
    "ax.scatter(x_1,y_1)\n",
    "ax.set_xlabel('$x_1$')\n",
    "ax.set_ylabel('$y_1&')"
   ]
  },
  {
   "cell_type": "code",
   "execution_count": 32,
   "metadata": {},
   "outputs": [
    {
     "output_type": "error",
     "ename": "SyntaxError",
     "evalue": "invalid syntax (<ipython-input-32-86c02919c79e>, line 3)",
     "traceback": [
      "\u001b[0;36m  File \u001b[0;32m\"<ipython-input-32-86c02919c79e>\"\u001b[0;36m, line \u001b[0;32m3\u001b[0m\n\u001b[0;31m    theta_best_1\u001b[0m\n\u001b[0m    ^\u001b[0m\n\u001b[0;31mSyntaxError\u001b[0m\u001b[0;31m:\u001b[0m invalid syntax\n"
     ]
    }
   ],
   "source": [
    "# x_b1 = np.c_[np.ones((n,1)),x_1.T]\n",
    "# theta_best_1=np.dot(np.dot(np.linalg.inv(np.dot(x_b1.T,x_b1)),y_1.T\n",
    "# theta_best_1"
   ]
  },
  {
   "cell_type": "code",
   "execution_count": 16,
   "metadata": {},
   "outputs": [
    {
     "output_type": "error",
     "ename": "NameError",
     "evalue": "name 'x_new1' is not defined",
     "traceback": [
      "\u001b[0;31m---------------------------------------------------------------------------\u001b[0m",
      "\u001b[0;31mNameError\u001b[0m                                 Traceback (most recent call last)",
      "\u001b[0;32m<ipython-input-16-e53256538b64>\u001b[0m in \u001b[0;36m<module>\u001b[0;34m\u001b[0m\n\u001b[1;32m      4\u001b[0m \u001b[0my_new_1\u001b[0m \u001b[0;34m=\u001b[0m \u001b[0mx_new_1\u001b[0m \u001b[0;34m+\u001b[0m  \u001b[0mrng\u001b[0m\u001b[0;34m.\u001b[0m\u001b[0mnormal\u001b[0m\u001b[0;34m(\u001b[0m\u001b[0;36m0\u001b[0m\u001b[0;34m,\u001b[0m\u001b[0;36m1\u001b[0m\u001b[0;34m,\u001b[0m\u001b[0mn_new\u001b[0m\u001b[0;34m)\u001b[0m\u001b[0;34m\u001b[0m\u001b[0;34m\u001b[0m\u001b[0m\n\u001b[1;32m      5\u001b[0m \u001b[0;34m\u001b[0m\u001b[0m\n\u001b[0;32m----> 6\u001b[0;31m \u001b[0mx_b_new_1\u001b[0m \u001b[0;34m=\u001b[0m \u001b[0mnp\u001b[0m\u001b[0;34m.\u001b[0m\u001b[0mc_\u001b[0m\u001b[0;34m[\u001b[0m\u001b[0mnp\u001b[0m\u001b[0;34m.\u001b[0m\u001b[0mones\u001b[0m\u001b[0;34m(\u001b[0m\u001b[0;34m(\u001b[0m\u001b[0mx_new1\u001b[0m\u001b[0;34m.\u001b[0m\u001b[0mshape\u001b[0m\u001b[0;34m[\u001b[0m\u001b[0;36m0\u001b[0m\u001b[0;34m]\u001b[0m\u001b[0;34m,\u001b[0m\u001b[0;36m1\u001b[0m\u001b[0;34m)\u001b[0m\u001b[0;34m)\u001b[0m\u001b[0;34m]\u001b[0m\u001b[0;34m\u001b[0m\u001b[0;34m\u001b[0m\u001b[0m\n\u001b[0m\u001b[1;32m      7\u001b[0m \u001b[0my_pred_1\u001b[0m \u001b[0;34m=\u001b[0m \u001b[0mnp\u001b[0m\u001b[0;34m.\u001b[0m\u001b[0mdot\u001b[0m\u001b[0;34m(\u001b[0m\u001b[0mx_b_new_1\u001b[0m\u001b[0;34m,\u001b[0m\u001b[0mtheta_best_1\u001b[0m\u001b[0;34m.\u001b[0m\u001b[0mT\u001b[0m\u001b[0;34m)\u001b[0m\u001b[0;34m\u001b[0m\u001b[0;34m\u001b[0m\u001b[0m\n\u001b[1;32m      8\u001b[0m \u001b[0;31m# y_pred_1\u001b[0m\u001b[0;34m\u001b[0m\u001b[0;34m\u001b[0m\u001b[0;34m\u001b[0m\u001b[0m\n",
      "\u001b[0;31mNameError\u001b[0m: name 'x_new1' is not defined"
     ]
    }
   ],
   "source": [
    "# n_new = 10\n",
    "\n",
    "# x_new_1 = rng.multivariate_normal(mu,cov,(n_new)).T\n",
    "# y_new_1 = x_new_1 +  rng.normal(0,1,n_new)\n",
    "\n",
    "# x_b_new_1 = np.c_[np.ones((x_new1.shape[0],1))]\n",
    "# y_pred_1 = np.dot(x_b_new_1,theta_best_1.T)\n",
    "# y_pred_1"
   ]
  },
  {
   "cell_type": "code",
   "execution_count": 114,
   "metadata": {},
   "outputs": [
    {
     "output_type": "error",
     "ename": "ValueError",
     "evalue": "Found input variables with inconsistent numbers of samples: [6, 2]",
     "traceback": [
      "\u001b[0;31m---------------------------------------------------------------------------\u001b[0m",
      "\u001b[0;31mValueError\u001b[0m                                Traceback (most recent call last)",
      "\u001b[0;32m<ipython-input-114-280efa561b32>\u001b[0m in \u001b[0;36m<module>\u001b[0;34m\u001b[0m\n\u001b[0;32m----> 1\u001b[0;31m \u001b[0mmean_squared_error\u001b[0m\u001b[0;34m(\u001b[0m\u001b[0my_new_1\u001b[0m\u001b[0;34m,\u001b[0m\u001b[0my_pred_1\u001b[0m\u001b[0;34m.\u001b[0m\u001b[0mT\u001b[0m\u001b[0;34m)\u001b[0m\u001b[0;34m\u001b[0m\u001b[0;34m\u001b[0m\u001b[0m\n\u001b[0m",
      "\u001b[0;32m/opt/homebrew/Caskroom/miniconda/base/envs/jnb/lib/python3.8/site-packages/sklearn/utils/validation.py\u001b[0m in \u001b[0;36minner_f\u001b[0;34m(*args, **kwargs)\u001b[0m\n\u001b[1;32m     61\u001b[0m             \u001b[0mextra_args\u001b[0m \u001b[0;34m=\u001b[0m \u001b[0mlen\u001b[0m\u001b[0;34m(\u001b[0m\u001b[0margs\u001b[0m\u001b[0;34m)\u001b[0m \u001b[0;34m-\u001b[0m \u001b[0mlen\u001b[0m\u001b[0;34m(\u001b[0m\u001b[0mall_args\u001b[0m\u001b[0;34m)\u001b[0m\u001b[0;34m\u001b[0m\u001b[0;34m\u001b[0m\u001b[0m\n\u001b[1;32m     62\u001b[0m             \u001b[0;32mif\u001b[0m \u001b[0mextra_args\u001b[0m \u001b[0;34m<=\u001b[0m \u001b[0;36m0\u001b[0m\u001b[0;34m:\u001b[0m\u001b[0;34m\u001b[0m\u001b[0;34m\u001b[0m\u001b[0m\n\u001b[0;32m---> 63\u001b[0;31m                 \u001b[0;32mreturn\u001b[0m \u001b[0mf\u001b[0m\u001b[0;34m(\u001b[0m\u001b[0;34m*\u001b[0m\u001b[0margs\u001b[0m\u001b[0;34m,\u001b[0m \u001b[0;34m**\u001b[0m\u001b[0mkwargs\u001b[0m\u001b[0;34m)\u001b[0m\u001b[0;34m\u001b[0m\u001b[0;34m\u001b[0m\u001b[0m\n\u001b[0m\u001b[1;32m     64\u001b[0m \u001b[0;34m\u001b[0m\u001b[0m\n\u001b[1;32m     65\u001b[0m             \u001b[0;31m# extra_args > 0\u001b[0m\u001b[0;34m\u001b[0m\u001b[0;34m\u001b[0m\u001b[0;34m\u001b[0m\u001b[0m\n",
      "\u001b[0;32m/opt/homebrew/Caskroom/miniconda/base/envs/jnb/lib/python3.8/site-packages/sklearn/metrics/_regression.py\u001b[0m in \u001b[0;36mmean_squared_error\u001b[0;34m(y_true, y_pred, sample_weight, multioutput, squared)\u001b[0m\n\u001b[1;32m    333\u001b[0m     \u001b[0;36m0.825\u001b[0m\u001b[0;34m...\u001b[0m\u001b[0;34m\u001b[0m\u001b[0;34m\u001b[0m\u001b[0m\n\u001b[1;32m    334\u001b[0m     \"\"\"\n\u001b[0;32m--> 335\u001b[0;31m     y_type, y_true, y_pred, multioutput = _check_reg_targets(\n\u001b[0m\u001b[1;32m    336\u001b[0m         y_true, y_pred, multioutput)\n\u001b[1;32m    337\u001b[0m     \u001b[0mcheck_consistent_length\u001b[0m\u001b[0;34m(\u001b[0m\u001b[0my_true\u001b[0m\u001b[0;34m,\u001b[0m \u001b[0my_pred\u001b[0m\u001b[0;34m,\u001b[0m \u001b[0msample_weight\u001b[0m\u001b[0;34m)\u001b[0m\u001b[0;34m\u001b[0m\u001b[0;34m\u001b[0m\u001b[0m\n",
      "\u001b[0;32m/opt/homebrew/Caskroom/miniconda/base/envs/jnb/lib/python3.8/site-packages/sklearn/metrics/_regression.py\u001b[0m in \u001b[0;36m_check_reg_targets\u001b[0;34m(y_true, y_pred, multioutput, dtype)\u001b[0m\n\u001b[1;32m     86\u001b[0m         \u001b[0mthe\u001b[0m \u001b[0mdtype\u001b[0m \u001b[0margument\u001b[0m \u001b[0mpassed\u001b[0m \u001b[0mto\u001b[0m \u001b[0mcheck_array\u001b[0m\u001b[0;34m.\u001b[0m\u001b[0;34m\u001b[0m\u001b[0;34m\u001b[0m\u001b[0m\n\u001b[1;32m     87\u001b[0m     \"\"\"\n\u001b[0;32m---> 88\u001b[0;31m     \u001b[0mcheck_consistent_length\u001b[0m\u001b[0;34m(\u001b[0m\u001b[0my_true\u001b[0m\u001b[0;34m,\u001b[0m \u001b[0my_pred\u001b[0m\u001b[0;34m)\u001b[0m\u001b[0;34m\u001b[0m\u001b[0;34m\u001b[0m\u001b[0m\n\u001b[0m\u001b[1;32m     89\u001b[0m     \u001b[0my_true\u001b[0m \u001b[0;34m=\u001b[0m \u001b[0mcheck_array\u001b[0m\u001b[0;34m(\u001b[0m\u001b[0my_true\u001b[0m\u001b[0;34m,\u001b[0m \u001b[0mensure_2d\u001b[0m\u001b[0;34m=\u001b[0m\u001b[0;32mFalse\u001b[0m\u001b[0;34m,\u001b[0m \u001b[0mdtype\u001b[0m\u001b[0;34m=\u001b[0m\u001b[0mdtype\u001b[0m\u001b[0;34m)\u001b[0m\u001b[0;34m\u001b[0m\u001b[0;34m\u001b[0m\u001b[0m\n\u001b[1;32m     90\u001b[0m     \u001b[0my_pred\u001b[0m \u001b[0;34m=\u001b[0m \u001b[0mcheck_array\u001b[0m\u001b[0;34m(\u001b[0m\u001b[0my_pred\u001b[0m\u001b[0;34m,\u001b[0m \u001b[0mensure_2d\u001b[0m\u001b[0;34m=\u001b[0m\u001b[0;32mFalse\u001b[0m\u001b[0;34m,\u001b[0m \u001b[0mdtype\u001b[0m\u001b[0;34m=\u001b[0m\u001b[0mdtype\u001b[0m\u001b[0;34m)\u001b[0m\u001b[0;34m\u001b[0m\u001b[0;34m\u001b[0m\u001b[0m\n",
      "\u001b[0;32m/opt/homebrew/Caskroom/miniconda/base/envs/jnb/lib/python3.8/site-packages/sklearn/utils/validation.py\u001b[0m in \u001b[0;36mcheck_consistent_length\u001b[0;34m(*arrays)\u001b[0m\n\u001b[1;32m    260\u001b[0m     \u001b[0muniques\u001b[0m \u001b[0;34m=\u001b[0m \u001b[0mnp\u001b[0m\u001b[0;34m.\u001b[0m\u001b[0munique\u001b[0m\u001b[0;34m(\u001b[0m\u001b[0mlengths\u001b[0m\u001b[0;34m)\u001b[0m\u001b[0;34m\u001b[0m\u001b[0;34m\u001b[0m\u001b[0m\n\u001b[1;32m    261\u001b[0m     \u001b[0;32mif\u001b[0m \u001b[0mlen\u001b[0m\u001b[0;34m(\u001b[0m\u001b[0muniques\u001b[0m\u001b[0;34m)\u001b[0m \u001b[0;34m>\u001b[0m \u001b[0;36m1\u001b[0m\u001b[0;34m:\u001b[0m\u001b[0;34m\u001b[0m\u001b[0;34m\u001b[0m\u001b[0m\n\u001b[0;32m--> 262\u001b[0;31m         raise ValueError(\"Found input variables with inconsistent numbers of\"\n\u001b[0m\u001b[1;32m    263\u001b[0m                          \" samples: %r\" % [int(l) for l in lengths])\n\u001b[1;32m    264\u001b[0m \u001b[0;34m\u001b[0m\u001b[0m\n",
      "\u001b[0;31mValueError\u001b[0m: Found input variables with inconsistent numbers of samples: [6, 2]"
     ]
    }
   ],
   "source": [
    "# mean_squared_error(y_new_1,y_pred_1.T)"
   ]
  },
  {
   "cell_type": "code",
   "execution_count": 115,
   "metadata": {},
   "outputs": [
    {
     "output_type": "error",
     "ename": "ValueError",
     "evalue": "Found input variables with inconsistent numbers of samples: [6, 20]",
     "traceback": [
      "\u001b[0;31m---------------------------------------------------------------------------\u001b[0m",
      "\u001b[0;31mValueError\u001b[0m                                Traceback (most recent call last)",
      "\u001b[0;32m<ipython-input-115-8bd425cb901a>\u001b[0m in \u001b[0;36m<module>\u001b[0;34m\u001b[0m\n\u001b[0;32m----> 1\u001b[0;31m \u001b[0mr2_score\u001b[0m\u001b[0;34m(\u001b[0m\u001b[0my_new_1\u001b[0m\u001b[0;34m,\u001b[0m\u001b[0my_pred_1\u001b[0m\u001b[0;34m)\u001b[0m\u001b[0;34m\u001b[0m\u001b[0;34m\u001b[0m\u001b[0m\n\u001b[0m",
      "\u001b[0;32m/opt/homebrew/Caskroom/miniconda/base/envs/jnb/lib/python3.8/site-packages/sklearn/utils/validation.py\u001b[0m in \u001b[0;36minner_f\u001b[0;34m(*args, **kwargs)\u001b[0m\n\u001b[1;32m     61\u001b[0m             \u001b[0mextra_args\u001b[0m \u001b[0;34m=\u001b[0m \u001b[0mlen\u001b[0m\u001b[0;34m(\u001b[0m\u001b[0margs\u001b[0m\u001b[0;34m)\u001b[0m \u001b[0;34m-\u001b[0m \u001b[0mlen\u001b[0m\u001b[0;34m(\u001b[0m\u001b[0mall_args\u001b[0m\u001b[0;34m)\u001b[0m\u001b[0;34m\u001b[0m\u001b[0;34m\u001b[0m\u001b[0m\n\u001b[1;32m     62\u001b[0m             \u001b[0;32mif\u001b[0m \u001b[0mextra_args\u001b[0m \u001b[0;34m<=\u001b[0m \u001b[0;36m0\u001b[0m\u001b[0;34m:\u001b[0m\u001b[0;34m\u001b[0m\u001b[0;34m\u001b[0m\u001b[0m\n\u001b[0;32m---> 63\u001b[0;31m                 \u001b[0;32mreturn\u001b[0m \u001b[0mf\u001b[0m\u001b[0;34m(\u001b[0m\u001b[0;34m*\u001b[0m\u001b[0margs\u001b[0m\u001b[0;34m,\u001b[0m \u001b[0;34m**\u001b[0m\u001b[0mkwargs\u001b[0m\u001b[0;34m)\u001b[0m\u001b[0;34m\u001b[0m\u001b[0;34m\u001b[0m\u001b[0m\n\u001b[0m\u001b[1;32m     64\u001b[0m \u001b[0;34m\u001b[0m\u001b[0m\n\u001b[1;32m     65\u001b[0m             \u001b[0;31m# extra_args > 0\u001b[0m\u001b[0;34m\u001b[0m\u001b[0;34m\u001b[0m\u001b[0;34m\u001b[0m\u001b[0m\n",
      "\u001b[0;32m/opt/homebrew/Caskroom/miniconda/base/envs/jnb/lib/python3.8/site-packages/sklearn/metrics/_regression.py\u001b[0m in \u001b[0;36mr2_score\u001b[0;34m(y_true, y_pred, sample_weight, multioutput)\u001b[0m\n\u001b[1;32m    674\u001b[0m     \u001b[0;34m-\u001b[0m\u001b[0;36m3.0\u001b[0m\u001b[0;34m\u001b[0m\u001b[0;34m\u001b[0m\u001b[0m\n\u001b[1;32m    675\u001b[0m     \"\"\"\n\u001b[0;32m--> 676\u001b[0;31m     y_type, y_true, y_pred, multioutput = _check_reg_targets(\n\u001b[0m\u001b[1;32m    677\u001b[0m         y_true, y_pred, multioutput)\n\u001b[1;32m    678\u001b[0m     \u001b[0mcheck_consistent_length\u001b[0m\u001b[0;34m(\u001b[0m\u001b[0my_true\u001b[0m\u001b[0;34m,\u001b[0m \u001b[0my_pred\u001b[0m\u001b[0;34m,\u001b[0m \u001b[0msample_weight\u001b[0m\u001b[0;34m)\u001b[0m\u001b[0;34m\u001b[0m\u001b[0;34m\u001b[0m\u001b[0m\n",
      "\u001b[0;32m/opt/homebrew/Caskroom/miniconda/base/envs/jnb/lib/python3.8/site-packages/sklearn/metrics/_regression.py\u001b[0m in \u001b[0;36m_check_reg_targets\u001b[0;34m(y_true, y_pred, multioutput, dtype)\u001b[0m\n\u001b[1;32m     86\u001b[0m         \u001b[0mthe\u001b[0m \u001b[0mdtype\u001b[0m \u001b[0margument\u001b[0m \u001b[0mpassed\u001b[0m \u001b[0mto\u001b[0m \u001b[0mcheck_array\u001b[0m\u001b[0;34m.\u001b[0m\u001b[0;34m\u001b[0m\u001b[0;34m\u001b[0m\u001b[0m\n\u001b[1;32m     87\u001b[0m     \"\"\"\n\u001b[0;32m---> 88\u001b[0;31m     \u001b[0mcheck_consistent_length\u001b[0m\u001b[0;34m(\u001b[0m\u001b[0my_true\u001b[0m\u001b[0;34m,\u001b[0m \u001b[0my_pred\u001b[0m\u001b[0;34m)\u001b[0m\u001b[0;34m\u001b[0m\u001b[0;34m\u001b[0m\u001b[0m\n\u001b[0m\u001b[1;32m     89\u001b[0m     \u001b[0my_true\u001b[0m \u001b[0;34m=\u001b[0m \u001b[0mcheck_array\u001b[0m\u001b[0;34m(\u001b[0m\u001b[0my_true\u001b[0m\u001b[0;34m,\u001b[0m \u001b[0mensure_2d\u001b[0m\u001b[0;34m=\u001b[0m\u001b[0;32mFalse\u001b[0m\u001b[0;34m,\u001b[0m \u001b[0mdtype\u001b[0m\u001b[0;34m=\u001b[0m\u001b[0mdtype\u001b[0m\u001b[0;34m)\u001b[0m\u001b[0;34m\u001b[0m\u001b[0;34m\u001b[0m\u001b[0m\n\u001b[1;32m     90\u001b[0m     \u001b[0my_pred\u001b[0m \u001b[0;34m=\u001b[0m \u001b[0mcheck_array\u001b[0m\u001b[0;34m(\u001b[0m\u001b[0my_pred\u001b[0m\u001b[0;34m,\u001b[0m \u001b[0mensure_2d\u001b[0m\u001b[0;34m=\u001b[0m\u001b[0;32mFalse\u001b[0m\u001b[0;34m,\u001b[0m \u001b[0mdtype\u001b[0m\u001b[0;34m=\u001b[0m\u001b[0mdtype\u001b[0m\u001b[0;34m)\u001b[0m\u001b[0;34m\u001b[0m\u001b[0;34m\u001b[0m\u001b[0m\n",
      "\u001b[0;32m/opt/homebrew/Caskroom/miniconda/base/envs/jnb/lib/python3.8/site-packages/sklearn/utils/validation.py\u001b[0m in \u001b[0;36mcheck_consistent_length\u001b[0;34m(*arrays)\u001b[0m\n\u001b[1;32m    260\u001b[0m     \u001b[0muniques\u001b[0m \u001b[0;34m=\u001b[0m \u001b[0mnp\u001b[0m\u001b[0;34m.\u001b[0m\u001b[0munique\u001b[0m\u001b[0;34m(\u001b[0m\u001b[0mlengths\u001b[0m\u001b[0;34m)\u001b[0m\u001b[0;34m\u001b[0m\u001b[0;34m\u001b[0m\u001b[0m\n\u001b[1;32m    261\u001b[0m     \u001b[0;32mif\u001b[0m \u001b[0mlen\u001b[0m\u001b[0;34m(\u001b[0m\u001b[0muniques\u001b[0m\u001b[0;34m)\u001b[0m \u001b[0;34m>\u001b[0m \u001b[0;36m1\u001b[0m\u001b[0;34m:\u001b[0m\u001b[0;34m\u001b[0m\u001b[0;34m\u001b[0m\u001b[0m\n\u001b[0;32m--> 262\u001b[0;31m         raise ValueError(\"Found input variables with inconsistent numbers of\"\n\u001b[0m\u001b[1;32m    263\u001b[0m                          \" samples: %r\" % [int(l) for l in lengths])\n\u001b[1;32m    264\u001b[0m \u001b[0;34m\u001b[0m\u001b[0m\n",
      "\u001b[0;31mValueError\u001b[0m: Found input variables with inconsistent numbers of samples: [6, 20]"
     ]
    }
   ],
   "source": [
    "# r2_score(y_new_1,y_pred_1)"
   ]
  },
  {
   "cell_type": "code",
   "execution_count": null,
   "metadata": {},
   "outputs": [],
   "source": []
  },
  {
   "cell_type": "code",
   "execution_count": null,
   "metadata": {},
   "outputs": [],
   "source": []
  },
  {
   "cell_type": "code",
   "execution_count": 14,
   "metadata": {},
   "outputs": [
    {
     "output_type": "error",
     "ename": "TypeError",
     "evalue": "fit() missing 2 required positional arguments: 'X' and 'y'",
     "traceback": [
      "\u001b[0;31m---------------------------------------------------------------------------\u001b[0m",
      "\u001b[0;31mTypeError\u001b[0m                                 Traceback (most recent call last)",
      "\u001b[0;32m<ipython-input-14-e44c5150873f>\u001b[0m in \u001b[0;36m<module>\u001b[0;34m\u001b[0m\n\u001b[0;32m----> 1\u001b[0;31m \u001b[0mregr\u001b[0m\u001b[0;34m.\u001b[0m\u001b[0mfit\u001b[0m\u001b[0;34m(\u001b[0m\u001b[0;34m)\u001b[0m\u001b[0;34m\u001b[0m\u001b[0;34m\u001b[0m\u001b[0m\n\u001b[0m",
      "\u001b[0;31mTypeError\u001b[0m: fit() missing 2 required positional arguments: 'X' and 'y'"
     ]
    }
   ],
   "source": [
    "# regr.fit()"
   ]
  },
  {
   "cell_type": "code",
   "execution_count": null,
   "metadata": {},
   "outputs": [],
   "source": []
  },
  {
   "cell_type": "code",
   "execution_count": null,
   "metadata": {},
   "outputs": [],
   "source": []
  },
  {
   "cell_type": "code",
   "execution_count": null,
   "metadata": {},
   "outputs": [],
   "source": []
  },
  {
   "cell_type": "code",
   "execution_count": 44,
   "metadata": {},
   "outputs": [],
   "source": [
    "#  MuLtipLe Linear Regression\n",
    "import numpy as np\n",
    "from numpy.random import default_rng\n",
    "from sklearn import linear_model\n",
    "rng=default_rng(5)"
   ]
  },
  {
   "cell_type": "code",
   "execution_count": 45,
   "metadata": {},
   "outputs": [],
   "source": [
    "# generate mean from uniform\n",
    "p=6\n",
    "mu = rng.uniform(low=0.0, high=10, size=p)\n",
    "A=rng.uniform(low=0.5, high=2.5, size=(p, p))\n",
    "sigma=np. dot(A, A.transpose())\n",
    "# sigma"
   ]
  },
  {
   "cell_type": "code",
   "execution_count": 46,
   "metadata": {},
   "outputs": [],
   "source": [
    "n =100\n",
    "x = rng.multivariate_normal(mu, sigma, (n))\n",
    "# x"
   ]
  },
  {
   "cell_type": "code",
   "execution_count": 47,
   "metadata": {},
   "outputs": [],
   "source": [
    "#y=9+3*x2 + 2 *x5 + rng.normal(0,1,n)\n",
    "y = 9 +3*x[:,1]+2*x[:,4]+rng.normal(0,1,n)"
   ]
  },
  {
   "cell_type": "code",
   "execution_count": 51,
   "metadata": {},
   "outputs": [
    {
     "output_type": "display_data",
     "data": {
      "text/plain": "<Figure size 432x288 with 1 Axes>",
      "image/svg+xml": "<?xml version=\"1.0\" encoding=\"utf-8\" standalone=\"no\"?>\n<!DOCTYPE svg PUBLIC \"-//W3C//DTD SVG 1.1//EN\"\n  \"http://www.w3.org/Graphics/SVG/1.1/DTD/svg11.dtd\">\n<svg height=\"269.93875pt\" version=\"1.1\" viewBox=\"0 0 378.505 269.93875\" width=\"378.505pt\" xmlns=\"http://www.w3.org/2000/svg\" xmlns:xlink=\"http://www.w3.org/1999/xlink\">\n <metadata>\n  <rdf:RDF xmlns:cc=\"http://creativecommons.org/ns#\" xmlns:dc=\"http://purl.org/dc/elements/1.1/\" xmlns:rdf=\"http://www.w3.org/1999/02/22-rdf-syntax-ns#\">\n   <cc:Work>\n    <dc:type rdf:resource=\"http://purl.org/dc/dcmitype/StillImage\"/>\n    <dc:date>2021-04-19T21:53:33.680046</dc:date>\n    <dc:format>image/svg+xml</dc:format>\n    <dc:creator>\n     <cc:Agent>\n      <dc:title>Matplotlib v3.4.1, https://matplotlib.org/</dc:title>\n     </cc:Agent>\n    </dc:creator>\n   </cc:Work>\n  </rdf:RDF>\n </metadata>\n <defs>\n  <style type=\"text/css\">*{stroke-linecap:butt;stroke-linejoin:round;}</style>\n </defs>\n <g id=\"figure_1\">\n  <g id=\"patch_1\">\n   <path d=\"M 0 269.93875 \nL 378.505 269.93875 \nL 378.505 0 \nL 0 0 \nz\n\" style=\"fill:none;\"/>\n  </g>\n  <g id=\"axes_1\">\n   <g id=\"patch_2\">\n    <path d=\"M 36.505 224.64 \nL 371.305 224.64 \nL 371.305 7.2 \nL 36.505 7.2 \nz\n\" style=\"fill:#ffffff;\"/>\n   </g>\n   <g id=\"matplotlib.axis_1\">\n    <g id=\"xtick_1\">\n     <g id=\"line2d_1\">\n      <defs>\n       <path d=\"M 0 0 \nL 0 3.5 \n\" id=\"m03fb359ea4\" style=\"stroke:#000000;stroke-width:0.8;\"/>\n      </defs>\n      <g>\n       <use style=\"stroke:#000000;stroke-width:0.8;\" x=\"81.946601\" xlink:href=\"#m03fb359ea4\" y=\"224.64\"/>\n      </g>\n     </g>\n     <g id=\"text_1\">\n      <!-- 0 -->\n      <g transform=\"translate(78.765351 239.238437)scale(0.1 -0.1)\">\n       <defs>\n        <path d=\"M 2034 4250 \nQ 1547 4250 1301 3770 \nQ 1056 3291 1056 2328 \nQ 1056 1369 1301 889 \nQ 1547 409 2034 409 \nQ 2525 409 2770 889 \nQ 3016 1369 3016 2328 \nQ 3016 3291 2770 3770 \nQ 2525 4250 2034 4250 \nz\nM 2034 4750 \nQ 2819 4750 3233 4129 \nQ 3647 3509 3647 2328 \nQ 3647 1150 3233 529 \nQ 2819 -91 2034 -91 \nQ 1250 -91 836 529 \nQ 422 1150 422 2328 \nQ 422 3509 836 4129 \nQ 1250 4750 2034 4750 \nz\n\" id=\"DejaVuSans-30\" transform=\"scale(0.015625)\"/>\n       </defs>\n       <use xlink:href=\"#DejaVuSans-30\"/>\n      </g>\n     </g>\n    </g>\n    <g id=\"xtick_2\">\n     <g id=\"line2d_2\">\n      <g>\n       <use style=\"stroke:#000000;stroke-width:0.8;\" x=\"148.161428\" xlink:href=\"#m03fb359ea4\" y=\"224.64\"/>\n      </g>\n     </g>\n     <g id=\"text_2\">\n      <!-- 5 -->\n      <g transform=\"translate(144.980178 239.238437)scale(0.1 -0.1)\">\n       <defs>\n        <path d=\"M 691 4666 \nL 3169 4666 \nL 3169 4134 \nL 1269 4134 \nL 1269 2991 \nQ 1406 3038 1543 3061 \nQ 1681 3084 1819 3084 \nQ 2600 3084 3056 2656 \nQ 3513 2228 3513 1497 \nQ 3513 744 3044 326 \nQ 2575 -91 1722 -91 \nQ 1428 -91 1123 -41 \nQ 819 9 494 109 \nL 494 744 \nQ 775 591 1075 516 \nQ 1375 441 1709 441 \nQ 2250 441 2565 725 \nQ 2881 1009 2881 1497 \nQ 2881 1984 2565 2268 \nQ 2250 2553 1709 2553 \nQ 1456 2553 1204 2497 \nQ 953 2441 691 2322 \nL 691 4666 \nz\n\" id=\"DejaVuSans-35\" transform=\"scale(0.015625)\"/>\n       </defs>\n       <use xlink:href=\"#DejaVuSans-35\"/>\n      </g>\n     </g>\n    </g>\n    <g id=\"xtick_3\">\n     <g id=\"line2d_3\">\n      <g>\n       <use style=\"stroke:#000000;stroke-width:0.8;\" x=\"214.376255\" xlink:href=\"#m03fb359ea4\" y=\"224.64\"/>\n      </g>\n     </g>\n     <g id=\"text_3\">\n      <!-- 10 -->\n      <g transform=\"translate(208.013755 239.238437)scale(0.1 -0.1)\">\n       <defs>\n        <path d=\"M 794 531 \nL 1825 531 \nL 1825 4091 \nL 703 3866 \nL 703 4441 \nL 1819 4666 \nL 2450 4666 \nL 2450 531 \nL 3481 531 \nL 3481 0 \nL 794 0 \nL 794 531 \nz\n\" id=\"DejaVuSans-31\" transform=\"scale(0.015625)\"/>\n       </defs>\n       <use xlink:href=\"#DejaVuSans-31\"/>\n       <use x=\"63.623047\" xlink:href=\"#DejaVuSans-30\"/>\n      </g>\n     </g>\n    </g>\n    <g id=\"xtick_4\">\n     <g id=\"line2d_4\">\n      <g>\n       <use style=\"stroke:#000000;stroke-width:0.8;\" x=\"280.591082\" xlink:href=\"#m03fb359ea4\" y=\"224.64\"/>\n      </g>\n     </g>\n     <g id=\"text_4\">\n      <!-- 15 -->\n      <g transform=\"translate(274.228582 239.238437)scale(0.1 -0.1)\">\n       <use xlink:href=\"#DejaVuSans-31\"/>\n       <use x=\"63.623047\" xlink:href=\"#DejaVuSans-35\"/>\n      </g>\n     </g>\n    </g>\n    <g id=\"xtick_5\">\n     <g id=\"line2d_5\">\n      <g>\n       <use style=\"stroke:#000000;stroke-width:0.8;\" x=\"346.805909\" xlink:href=\"#m03fb359ea4\" y=\"224.64\"/>\n      </g>\n     </g>\n     <g id=\"text_5\">\n      <!-- 20 -->\n      <g transform=\"translate(340.443409 239.238437)scale(0.1 -0.1)\">\n       <defs>\n        <path d=\"M 1228 531 \nL 3431 531 \nL 3431 0 \nL 469 0 \nL 469 531 \nQ 828 903 1448 1529 \nQ 2069 2156 2228 2338 \nQ 2531 2678 2651 2914 \nQ 2772 3150 2772 3378 \nQ 2772 3750 2511 3984 \nQ 2250 4219 1831 4219 \nQ 1534 4219 1204 4116 \nQ 875 4013 500 3803 \nL 500 4441 \nQ 881 4594 1212 4672 \nQ 1544 4750 1819 4750 \nQ 2544 4750 2975 4387 \nQ 3406 4025 3406 3419 \nQ 3406 3131 3298 2873 \nQ 3191 2616 2906 2266 \nQ 2828 2175 2409 1742 \nQ 1991 1309 1228 531 \nz\n\" id=\"DejaVuSans-32\" transform=\"scale(0.015625)\"/>\n       </defs>\n       <use xlink:href=\"#DejaVuSans-32\"/>\n       <use x=\"63.623047\" xlink:href=\"#DejaVuSans-30\"/>\n      </g>\n     </g>\n    </g>\n    <g id=\"text_6\">\n     <!-- $x_2$ -->\n     <g transform=\"translate(194.275 258.995312)scale(0.18 -0.18)\">\n      <defs>\n       <path d=\"M 3841 3500 \nL 2234 1784 \nL 3219 0 \nL 2559 0 \nL 1819 1388 \nL 531 0 \nL -166 0 \nL 1556 1844 \nL 641 3500 \nL 1300 3500 \nL 1972 2234 \nL 3144 3500 \nL 3841 3500 \nz\n\" id=\"DejaVuSans-Oblique-78\" transform=\"scale(0.015625)\"/>\n      </defs>\n      <use transform=\"translate(0 0.3125)\" xlink:href=\"#DejaVuSans-Oblique-78\"/>\n      <use transform=\"translate(59.179688 -16.09375)scale(0.7)\" xlink:href=\"#DejaVuSans-32\"/>\n     </g>\n    </g>\n   </g>\n   <g id=\"matplotlib.axis_2\">\n    <g id=\"ytick_1\">\n     <g id=\"line2d_6\">\n      <defs>\n       <path d=\"M 0 0 \nL -3.5 0 \n\" id=\"me6f6288a97\" style=\"stroke:#000000;stroke-width:0.8;\"/>\n      </defs>\n      <g>\n       <use style=\"stroke:#000000;stroke-width:0.8;\" x=\"36.505\" xlink:href=\"#me6f6288a97\" y=\"199.11182\"/>\n      </g>\n     </g>\n     <g id=\"text_7\">\n      <!-- 0 -->\n      <g transform=\"translate(23.1425 202.911039)scale(0.1 -0.1)\">\n       <use xlink:href=\"#DejaVuSans-30\"/>\n      </g>\n     </g>\n    </g>\n    <g id=\"ytick_2\">\n     <g id=\"line2d_7\">\n      <g>\n       <use style=\"stroke:#000000;stroke-width:0.8;\" x=\"36.505\" xlink:href=\"#me6f6288a97\" y=\"159.452349\"/>\n      </g>\n     </g>\n     <g id=\"text_8\">\n      <!-- 20 -->\n      <g transform=\"translate(16.78 163.251568)scale(0.1 -0.1)\">\n       <use xlink:href=\"#DejaVuSans-32\"/>\n       <use x=\"63.623047\" xlink:href=\"#DejaVuSans-30\"/>\n      </g>\n     </g>\n    </g>\n    <g id=\"ytick_3\">\n     <g id=\"line2d_8\">\n      <g>\n       <use style=\"stroke:#000000;stroke-width:0.8;\" x=\"36.505\" xlink:href=\"#me6f6288a97\" y=\"119.792878\"/>\n      </g>\n     </g>\n     <g id=\"text_9\">\n      <!-- 40 -->\n      <g transform=\"translate(16.78 123.592097)scale(0.1 -0.1)\">\n       <defs>\n        <path d=\"M 2419 4116 \nL 825 1625 \nL 2419 1625 \nL 2419 4116 \nz\nM 2253 4666 \nL 3047 4666 \nL 3047 1625 \nL 3713 1625 \nL 3713 1100 \nL 3047 1100 \nL 3047 0 \nL 2419 0 \nL 2419 1100 \nL 313 1100 \nL 313 1709 \nL 2253 4666 \nz\n\" id=\"DejaVuSans-34\" transform=\"scale(0.015625)\"/>\n       </defs>\n       <use xlink:href=\"#DejaVuSans-34\"/>\n       <use x=\"63.623047\" xlink:href=\"#DejaVuSans-30\"/>\n      </g>\n     </g>\n    </g>\n    <g id=\"ytick_4\">\n     <g id=\"line2d_9\">\n      <g>\n       <use style=\"stroke:#000000;stroke-width:0.8;\" x=\"36.505\" xlink:href=\"#me6f6288a97\" y=\"80.133407\"/>\n      </g>\n     </g>\n     <g id=\"text_10\">\n      <!-- 60 -->\n      <g transform=\"translate(16.78 83.932626)scale(0.1 -0.1)\">\n       <defs>\n        <path d=\"M 2113 2584 \nQ 1688 2584 1439 2293 \nQ 1191 2003 1191 1497 \nQ 1191 994 1439 701 \nQ 1688 409 2113 409 \nQ 2538 409 2786 701 \nQ 3034 994 3034 1497 \nQ 3034 2003 2786 2293 \nQ 2538 2584 2113 2584 \nz\nM 3366 4563 \nL 3366 3988 \nQ 3128 4100 2886 4159 \nQ 2644 4219 2406 4219 \nQ 1781 4219 1451 3797 \nQ 1122 3375 1075 2522 \nQ 1259 2794 1537 2939 \nQ 1816 3084 2150 3084 \nQ 2853 3084 3261 2657 \nQ 3669 2231 3669 1497 \nQ 3669 778 3244 343 \nQ 2819 -91 2113 -91 \nQ 1303 -91 875 529 \nQ 447 1150 447 2328 \nQ 447 3434 972 4092 \nQ 1497 4750 2381 4750 \nQ 2619 4750 2861 4703 \nQ 3103 4656 3366 4563 \nz\n\" id=\"DejaVuSans-36\" transform=\"scale(0.015625)\"/>\n       </defs>\n       <use xlink:href=\"#DejaVuSans-36\"/>\n       <use x=\"63.623047\" xlink:href=\"#DejaVuSans-30\"/>\n      </g>\n     </g>\n    </g>\n    <g id=\"ytick_5\">\n     <g id=\"line2d_10\">\n      <g>\n       <use style=\"stroke:#000000;stroke-width:0.8;\" x=\"36.505\" xlink:href=\"#me6f6288a97\" y=\"40.473936\"/>\n      </g>\n     </g>\n     <g id=\"text_11\">\n      <!-- 80 -->\n      <g transform=\"translate(16.78 44.273155)scale(0.1 -0.1)\">\n       <defs>\n        <path d=\"M 2034 2216 \nQ 1584 2216 1326 1975 \nQ 1069 1734 1069 1313 \nQ 1069 891 1326 650 \nQ 1584 409 2034 409 \nQ 2484 409 2743 651 \nQ 3003 894 3003 1313 \nQ 3003 1734 2745 1975 \nQ 2488 2216 2034 2216 \nz\nM 1403 2484 \nQ 997 2584 770 2862 \nQ 544 3141 544 3541 \nQ 544 4100 942 4425 \nQ 1341 4750 2034 4750 \nQ 2731 4750 3128 4425 \nQ 3525 4100 3525 3541 \nQ 3525 3141 3298 2862 \nQ 3072 2584 2669 2484 \nQ 3125 2378 3379 2068 \nQ 3634 1759 3634 1313 \nQ 3634 634 3220 271 \nQ 2806 -91 2034 -91 \nQ 1263 -91 848 271 \nQ 434 634 434 1313 \nQ 434 1759 690 2068 \nQ 947 2378 1403 2484 \nz\nM 1172 3481 \nQ 1172 3119 1398 2916 \nQ 1625 2713 2034 2713 \nQ 2441 2713 2670 2916 \nQ 2900 3119 2900 3481 \nQ 2900 3844 2670 4047 \nQ 2441 4250 2034 4250 \nQ 1625 4250 1398 4047 \nQ 1172 3844 1172 3481 \nz\n\" id=\"DejaVuSans-38\" transform=\"scale(0.015625)\"/>\n       </defs>\n       <use xlink:href=\"#DejaVuSans-38\"/>\n       <use x=\"63.623047\" xlink:href=\"#DejaVuSans-30\"/>\n      </g>\n     </g>\n    </g>\n    <g id=\"text_12\">\n     <!-- $Y$ -->\n     <g transform=\"translate(7.2 112.176562)scale(0.18 -0.18)\">\n      <defs>\n       <path d=\"M 403 4666 \nL 1081 4666 \nL 1953 2747 \nL 3616 4666 \nL 4325 4666 \nL 2209 2222 \nL 1778 0 \nL 1147 0 \nL 1575 2222 \nL 403 4666 \nz\n\" id=\"DejaVuSans-Oblique-59\" transform=\"scale(0.015625)\"/>\n      </defs>\n      <use transform=\"translate(0 0.09375)\" xlink:href=\"#DejaVuSans-Oblique-59\"/>\n     </g>\n    </g>\n   </g>\n   <g id=\"line2d_11\">\n    <defs>\n     <path d=\"M 0 1.5 \nC 0.397805 1.5 0.77937 1.341951 1.06066 1.06066 \nC 1.341951 0.77937 1.5 0.397805 1.5 0 \nC 1.5 -0.397805 1.341951 -0.77937 1.06066 -1.06066 \nC 0.77937 -1.341951 0.397805 -1.5 0 -1.5 \nC -0.397805 -1.5 -0.77937 -1.341951 -1.06066 -1.06066 \nC -1.341951 -0.77937 -1.5 -0.397805 -1.5 0 \nC -1.5 0.397805 -1.341951 0.77937 -1.06066 1.06066 \nC -0.77937 1.341951 -0.397805 1.5 0 1.5 \nz\n\" id=\"m3cd30980c8\" style=\"stroke:#0000ff;\"/>\n    </defs>\n    <g clip-path=\"url(#p2e0f51334e)\">\n     <use style=\"fill:#0000ff;stroke:#0000ff;\" x=\"304.286152\" xlink:href=\"#m3cd30980c8\" y=\"49.456013\"/>\n     <use style=\"fill:#0000ff;stroke:#0000ff;\" x=\"203.89291\" xlink:href=\"#m3cd30980c8\" y=\"118.048116\"/>\n     <use style=\"fill:#0000ff;stroke:#0000ff;\" x=\"223.681694\" xlink:href=\"#m3cd30980c8\" y=\"116.67724\"/>\n     <use style=\"fill:#0000ff;stroke:#0000ff;\" x=\"131.118723\" xlink:href=\"#m3cd30980c8\" y=\"160.980311\"/>\n     <use style=\"fill:#0000ff;stroke:#0000ff;\" x=\"175.138012\" xlink:href=\"#m3cd30980c8\" y=\"139.250756\"/>\n     <use style=\"fill:#0000ff;stroke:#0000ff;\" x=\"189.447463\" xlink:href=\"#m3cd30980c8\" y=\"132.511414\"/>\n     <use style=\"fill:#0000ff;stroke:#0000ff;\" x=\"145.395719\" xlink:href=\"#m3cd30980c8\" y=\"157.285315\"/>\n     <use style=\"fill:#0000ff;stroke:#0000ff;\" x=\"258.653157\" xlink:href=\"#m3cd30980c8\" y=\"81.705247\"/>\n     <use style=\"fill:#0000ff;stroke:#0000ff;\" x=\"165.733367\" xlink:href=\"#m3cd30980c8\" y=\"135.470839\"/>\n     <use style=\"fill:#0000ff;stroke:#0000ff;\" x=\"204.801771\" xlink:href=\"#m3cd30980c8\" y=\"119.067433\"/>\n     <use style=\"fill:#0000ff;stroke:#0000ff;\" x=\"182.817241\" xlink:href=\"#m3cd30980c8\" y=\"136.08041\"/>\n     <use style=\"fill:#0000ff;stroke:#0000ff;\" x=\"84.279261\" xlink:href=\"#m3cd30980c8\" y=\"191.625487\"/>\n     <use style=\"fill:#0000ff;stroke:#0000ff;\" x=\"242.461942\" xlink:href=\"#m3cd30980c8\" y=\"101.928002\"/>\n     <use style=\"fill:#0000ff;stroke:#0000ff;\" x=\"95.263366\" xlink:href=\"#m3cd30980c8\" y=\"196.981078\"/>\n     <use style=\"fill:#0000ff;stroke:#0000ff;\" x=\"187.555573\" xlink:href=\"#m3cd30980c8\" y=\"129.038859\"/>\n     <use style=\"fill:#0000ff;stroke:#0000ff;\" x=\"126.815071\" xlink:href=\"#m3cd30980c8\" y=\"170.524783\"/>\n     <use style=\"fill:#0000ff;stroke:#0000ff;\" x=\"169.633079\" xlink:href=\"#m3cd30980c8\" y=\"149.502513\"/>\n     <use style=\"fill:#0000ff;stroke:#0000ff;\" x=\"201.724258\" xlink:href=\"#m3cd30980c8\" y=\"140.546732\"/>\n     <use style=\"fill:#0000ff;stroke:#0000ff;\" x=\"227.192623\" xlink:href=\"#m3cd30980c8\" y=\"112.885794\"/>\n     <use style=\"fill:#0000ff;stroke:#0000ff;\" x=\"214.488784\" xlink:href=\"#m3cd30980c8\" y=\"112.899054\"/>\n     <use style=\"fill:#0000ff;stroke:#0000ff;\" x=\"172.564064\" xlink:href=\"#m3cd30980c8\" y=\"141.53736\"/>\n     <use style=\"fill:#0000ff;stroke:#0000ff;\" x=\"252.46193\" xlink:href=\"#m3cd30980c8\" y=\"84.499248\"/>\n     <use style=\"fill:#0000ff;stroke:#0000ff;\" x=\"339.820491\" xlink:href=\"#m3cd30980c8\" y=\"35.924087\"/>\n     <use style=\"fill:#0000ff;stroke:#0000ff;\" x=\"147.928625\" xlink:href=\"#m3cd30980c8\" y=\"161.138609\"/>\n     <use style=\"fill:#0000ff;stroke:#0000ff;\" x=\"260.031422\" xlink:href=\"#m3cd30980c8\" y=\"90.537161\"/>\n     <use style=\"fill:#0000ff;stroke:#0000ff;\" x=\"225.030411\" xlink:href=\"#m3cd30980c8\" y=\"101.12495\"/>\n     <use style=\"fill:#0000ff;stroke:#0000ff;\" x=\"227.199885\" xlink:href=\"#m3cd30980c8\" y=\"95.602736\"/>\n     <use style=\"fill:#0000ff;stroke:#0000ff;\" x=\"130.696297\" xlink:href=\"#m3cd30980c8\" y=\"177.858774\"/>\n     <use style=\"fill:#0000ff;stroke:#0000ff;\" x=\"51.723182\" xlink:href=\"#m3cd30980c8\" y=\"214.756364\"/>\n     <use style=\"fill:#0000ff;stroke:#0000ff;\" x=\"218.906006\" xlink:href=\"#m3cd30980c8\" y=\"116.316722\"/>\n     <use style=\"fill:#0000ff;stroke:#0000ff;\" x=\"83.081944\" xlink:href=\"#m3cd30980c8\" y=\"193.717971\"/>\n     <use style=\"fill:#0000ff;stroke:#0000ff;\" x=\"185.590383\" xlink:href=\"#m3cd30980c8\" y=\"142.975081\"/>\n     <use style=\"fill:#0000ff;stroke:#0000ff;\" x=\"214.268357\" xlink:href=\"#m3cd30980c8\" y=\"119.62072\"/>\n     <use style=\"fill:#0000ff;stroke:#0000ff;\" x=\"162.508078\" xlink:href=\"#m3cd30980c8\" y=\"138.895446\"/>\n     <use style=\"fill:#0000ff;stroke:#0000ff;\" x=\"214.146163\" xlink:href=\"#m3cd30980c8\" y=\"107.565343\"/>\n     <use style=\"fill:#0000ff;stroke:#0000ff;\" x=\"219.264169\" xlink:href=\"#m3cd30980c8\" y=\"115.509757\"/>\n     <use style=\"fill:#0000ff;stroke:#0000ff;\" x=\"106.437954\" xlink:href=\"#m3cd30980c8\" y=\"181.355032\"/>\n     <use style=\"fill:#0000ff;stroke:#0000ff;\" x=\"187.680837\" xlink:href=\"#m3cd30980c8\" y=\"130.416553\"/>\n     <use style=\"fill:#0000ff;stroke:#0000ff;\" x=\"182.526704\" xlink:href=\"#m3cd30980c8\" y=\"132.626033\"/>\n     <use style=\"fill:#0000ff;stroke:#0000ff;\" x=\"207.170457\" xlink:href=\"#m3cd30980c8\" y=\"121.245109\"/>\n     <use style=\"fill:#0000ff;stroke:#0000ff;\" x=\"193.274125\" xlink:href=\"#m3cd30980c8\" y=\"126.509117\"/>\n     <use style=\"fill:#0000ff;stroke:#0000ff;\" x=\"205.513366\" xlink:href=\"#m3cd30980c8\" y=\"116.281503\"/>\n     <use style=\"fill:#0000ff;stroke:#0000ff;\" x=\"229.910052\" xlink:href=\"#m3cd30980c8\" y=\"106.865153\"/>\n     <use style=\"fill:#0000ff;stroke:#0000ff;\" x=\"229.21587\" xlink:href=\"#m3cd30980c8\" y=\"100.21304\"/>\n     <use style=\"fill:#0000ff;stroke:#0000ff;\" x=\"130.19893\" xlink:href=\"#m3cd30980c8\" y=\"171.437538\"/>\n     <use style=\"fill:#0000ff;stroke:#0000ff;\" x=\"277.41936\" xlink:href=\"#m3cd30980c8\" y=\"81.816746\"/>\n     <use style=\"fill:#0000ff;stroke:#0000ff;\" x=\"356.086818\" xlink:href=\"#m3cd30980c8\" y=\"38.437137\"/>\n     <use style=\"fill:#0000ff;stroke:#0000ff;\" x=\"74.88506\" xlink:href=\"#m3cd30980c8\" y=\"204.687442\"/>\n     <use style=\"fill:#0000ff;stroke:#0000ff;\" x=\"244.810218\" xlink:href=\"#m3cd30980c8\" y=\"94.270813\"/>\n     <use style=\"fill:#0000ff;stroke:#0000ff;\" x=\"168.714886\" xlink:href=\"#m3cd30980c8\" y=\"141.331536\"/>\n     <use style=\"fill:#0000ff;stroke:#0000ff;\" x=\"167.382031\" xlink:href=\"#m3cd30980c8\" y=\"149.690589\"/>\n     <use style=\"fill:#0000ff;stroke:#0000ff;\" x=\"288.057064\" xlink:href=\"#m3cd30980c8\" y=\"72.45361\"/>\n     <use style=\"fill:#0000ff;stroke:#0000ff;\" x=\"229.516446\" xlink:href=\"#m3cd30980c8\" y=\"104.741261\"/>\n     <use style=\"fill:#0000ff;stroke:#0000ff;\" x=\"157.248898\" xlink:href=\"#m3cd30980c8\" y=\"148.00398\"/>\n     <use style=\"fill:#0000ff;stroke:#0000ff;\" x=\"255.417709\" xlink:href=\"#m3cd30980c8\" y=\"98.881025\"/>\n     <use style=\"fill:#0000ff;stroke:#0000ff;\" x=\"146.016894\" xlink:href=\"#m3cd30980c8\" y=\"155.779062\"/>\n     <use style=\"fill:#0000ff;stroke:#0000ff;\" x=\"151.063891\" xlink:href=\"#m3cd30980c8\" y=\"156.421848\"/>\n     <use style=\"fill:#0000ff;stroke:#0000ff;\" x=\"242.103873\" xlink:href=\"#m3cd30980c8\" y=\"105.943628\"/>\n     <use style=\"fill:#0000ff;stroke:#0000ff;\" x=\"140.672049\" xlink:href=\"#m3cd30980c8\" y=\"152.870766\"/>\n     <use style=\"fill:#0000ff;stroke:#0000ff;\" x=\"208.364334\" xlink:href=\"#m3cd30980c8\" y=\"123.27687\"/>\n     <use style=\"fill:#0000ff;stroke:#0000ff;\" x=\"241.472726\" xlink:href=\"#m3cd30980c8\" y=\"85.566147\"/>\n     <use style=\"fill:#0000ff;stroke:#0000ff;\" x=\"182.379789\" xlink:href=\"#m3cd30980c8\" y=\"132.372876\"/>\n     <use style=\"fill:#0000ff;stroke:#0000ff;\" x=\"172.476634\" xlink:href=\"#m3cd30980c8\" y=\"141.891972\"/>\n     <use style=\"fill:#0000ff;stroke:#0000ff;\" x=\"140.244014\" xlink:href=\"#m3cd30980c8\" y=\"155.431436\"/>\n     <use style=\"fill:#0000ff;stroke:#0000ff;\" x=\"258.323438\" xlink:href=\"#m3cd30980c8\" y=\"77.243748\"/>\n     <use style=\"fill:#0000ff;stroke:#0000ff;\" x=\"136.104616\" xlink:href=\"#m3cd30980c8\" y=\"179.269169\"/>\n     <use style=\"fill:#0000ff;stroke:#0000ff;\" x=\"190.096207\" xlink:href=\"#m3cd30980c8\" y=\"128.716585\"/>\n     <use style=\"fill:#0000ff;stroke:#0000ff;\" x=\"139.573183\" xlink:href=\"#m3cd30980c8\" y=\"171.001449\"/>\n     <use style=\"fill:#0000ff;stroke:#0000ff;\" x=\"163.149714\" xlink:href=\"#m3cd30980c8\" y=\"152.029604\"/>\n     <use style=\"fill:#0000ff;stroke:#0000ff;\" x=\"216.140298\" xlink:href=\"#m3cd30980c8\" y=\"117.258703\"/>\n     <use style=\"fill:#0000ff;stroke:#0000ff;\" x=\"183.713561\" xlink:href=\"#m3cd30980c8\" y=\"128.730445\"/>\n     <use style=\"fill:#0000ff;stroke:#0000ff;\" x=\"140.922452\" xlink:href=\"#m3cd30980c8\" y=\"163.059583\"/>\n     <use style=\"fill:#0000ff;stroke:#0000ff;\" x=\"128.145794\" xlink:href=\"#m3cd30980c8\" y=\"168.566157\"/>\n     <use style=\"fill:#0000ff;stroke:#0000ff;\" x=\"179.790137\" xlink:href=\"#m3cd30980c8\" y=\"139.489617\"/>\n     <use style=\"fill:#0000ff;stroke:#0000ff;\" x=\"145.718935\" xlink:href=\"#m3cd30980c8\" y=\"157.857854\"/>\n     <use style=\"fill:#0000ff;stroke:#0000ff;\" x=\"89.909084\" xlink:href=\"#m3cd30980c8\" y=\"188.298476\"/>\n     <use style=\"fill:#0000ff;stroke:#0000ff;\" x=\"170.378377\" xlink:href=\"#m3cd30980c8\" y=\"144.107637\"/>\n     <use style=\"fill:#0000ff;stroke:#0000ff;\" x=\"181.129521\" xlink:href=\"#m3cd30980c8\" y=\"131.745844\"/>\n     <use style=\"fill:#0000ff;stroke:#0000ff;\" x=\"176.713726\" xlink:href=\"#m3cd30980c8\" y=\"135.494624\"/>\n     <use style=\"fill:#0000ff;stroke:#0000ff;\" x=\"303.954696\" xlink:href=\"#m3cd30980c8\" y=\"66.947397\"/>\n     <use style=\"fill:#0000ff;stroke:#0000ff;\" x=\"272.193497\" xlink:href=\"#m3cd30980c8\" y=\"82.424166\"/>\n     <use style=\"fill:#0000ff;stroke:#0000ff;\" x=\"236.345856\" xlink:href=\"#m3cd30980c8\" y=\"102.106086\"/>\n     <use style=\"fill:#0000ff;stroke:#0000ff;\" x=\"134.499276\" xlink:href=\"#m3cd30980c8\" y=\"174.518607\"/>\n     <use style=\"fill:#0000ff;stroke:#0000ff;\" x=\"333.042924\" xlink:href=\"#m3cd30980c8\" y=\"49.789696\"/>\n     <use style=\"fill:#0000ff;stroke:#0000ff;\" x=\"275.373557\" xlink:href=\"#m3cd30980c8\" y=\"72.995246\"/>\n     <use style=\"fill:#0000ff;stroke:#0000ff;\" x=\"222.814917\" xlink:href=\"#m3cd30980c8\" y=\"105.489025\"/>\n     <use style=\"fill:#0000ff;stroke:#0000ff;\" x=\"263.99672\" xlink:href=\"#m3cd30980c8\" y=\"91.495494\"/>\n     <use style=\"fill:#0000ff;stroke:#0000ff;\" x=\"353.074004\" xlink:href=\"#m3cd30980c8\" y=\"17.083636\"/>\n     <use style=\"fill:#0000ff;stroke:#0000ff;\" x=\"203.532258\" xlink:href=\"#m3cd30980c8\" y=\"127.307617\"/>\n     <use style=\"fill:#0000ff;stroke:#0000ff;\" x=\"267.393703\" xlink:href=\"#m3cd30980c8\" y=\"76.252455\"/>\n     <use style=\"fill:#0000ff;stroke:#0000ff;\" x=\"259.569898\" xlink:href=\"#m3cd30980c8\" y=\"85.788218\"/>\n     <use style=\"fill:#0000ff;stroke:#0000ff;\" x=\"127.853128\" xlink:href=\"#m3cd30980c8\" y=\"163.79382\"/>\n     <use style=\"fill:#0000ff;stroke:#0000ff;\" x=\"197.767747\" xlink:href=\"#m3cd30980c8\" y=\"120.46706\"/>\n     <use style=\"fill:#0000ff;stroke:#0000ff;\" x=\"80.041254\" xlink:href=\"#m3cd30980c8\" y=\"204.661519\"/>\n     <use style=\"fill:#0000ff;stroke:#0000ff;\" x=\"228.305379\" xlink:href=\"#m3cd30980c8\" y=\"102.834734\"/>\n     <use style=\"fill:#0000ff;stroke:#0000ff;\" x=\"137.425631\" xlink:href=\"#m3cd30980c8\" y=\"166.406093\"/>\n     <use style=\"fill:#0000ff;stroke:#0000ff;\" x=\"215.845659\" xlink:href=\"#m3cd30980c8\" y=\"124.203786\"/>\n     <use style=\"fill:#0000ff;stroke:#0000ff;\" x=\"88.206549\" xlink:href=\"#m3cd30980c8\" y=\"185.892167\"/>\n     <use style=\"fill:#0000ff;stroke:#0000ff;\" x=\"158.108864\" xlink:href=\"#m3cd30980c8\" y=\"164.985091\"/>\n     <use style=\"fill:#0000ff;stroke:#0000ff;\" x=\"74.780147\" xlink:href=\"#m3cd30980c8\" y=\"207.515531\"/>\n    </g>\n   </g>\n   <g id=\"patch_3\">\n    <path d=\"M 36.505 224.64 \nL 36.505 7.2 \n\" style=\"fill:none;stroke:#000000;stroke-linecap:square;stroke-linejoin:miter;stroke-width:0.8;\"/>\n   </g>\n   <g id=\"patch_4\">\n    <path d=\"M 371.305 224.64 \nL 371.305 7.2 \n\" style=\"fill:none;stroke:#000000;stroke-linecap:square;stroke-linejoin:miter;stroke-width:0.8;\"/>\n   </g>\n   <g id=\"patch_5\">\n    <path d=\"M 36.505 224.64 \nL 371.305 224.64 \n\" style=\"fill:none;stroke:#000000;stroke-linecap:square;stroke-linejoin:miter;stroke-width:0.8;\"/>\n   </g>\n   <g id=\"patch_6\">\n    <path d=\"M 36.505 7.2 \nL 371.305 7.2 \n\" style=\"fill:none;stroke:#000000;stroke-linecap:square;stroke-linejoin:miter;stroke-width:0.8;\"/>\n   </g>\n  </g>\n </g>\n <defs>\n  <clipPath id=\"p2e0f51334e\">\n   <rect height=\"217.44\" width=\"334.8\" x=\"36.505\" y=\"7.2\"/>\n  </clipPath>\n </defs>\n</svg>\n",
      "image/png": "[encoded data removed]"
     },
     "metadata": {
      "needs_background": "light"
     }
    }
   ],
   "source": [
    "import matplotlib. pyplot as plt\n",
    "# Plot the data\n",
    "plt.plot(x[:,1],y,\"b.\")\n",
    "plt.xlabel(\"$x_2$\", fontsize=18)\n",
    "plt.ylabel(\"$Y$\", rotation = 0, fontsize=18)\n",
    "plt.axis()\n",
    "plt. show()"
   ]
  },
  {
   "cell_type": "code",
   "execution_count": 57,
   "metadata": {},
   "outputs": [
    {
     "output_type": "execute_result",
     "data": {
      "text/plain": [
       "array([17.41764316, -0.15689429,  4.76151212])"
      ]
     },
     "metadata": {},
     "execution_count": 57
    }
   ],
   "source": [
    "# using x1 and x6\n",
    "X_b =np.c_[np.ones((n,1)),x[:,0],x[:,5]]\n",
    "theta_best= np.dot(np.dot(np.linalg.inv(np.dot(X_b.T,X_b)),X_b.T),y)\n",
    "theta_best"
   ]
  },
  {
   "cell_type": "code",
   "execution_count": 61,
   "metadata": {},
   "outputs": [
    {
     "output_type": "execute_result",
     "data": {
      "text/plain": [
       "array([53.62382093, 53.94131417, 56.44282364, 52.08313561, 33.84002118,\n",
       "       62.04129392, 53.96402265, 76.39922927, 40.71721565, 48.93541273])"
      ]
     },
     "metadata": {},
     "execution_count": 61
    }
   ],
   "source": [
    "from numpy.random import default_rng\n",
    "rng = default_rng(5)\n",
    "n_new=10\n",
    "x_new = rng.multivariate_normal(mu, sigma, (n_new))\n",
    "y_new = 9 + 3* x_new[:,1]+2*x_new[:,4]+ rng.normal(0,1,n_new)\n",
    "x_b_new = np.c_[np.ones((x_new.shape[0],1)),x_new[:,0],x_new[:,5]]\n",
    "y_pred = np.dot(x_b_new, theta_best)\n",
    "y_pred"
   ]
  },
  {
   "cell_type": "code",
   "execution_count": 64,
   "metadata": {},
   "outputs": [
    {
     "output_type": "stream",
     "name": "stdout",
     "text": [
      "Mean squared error: 31.34\nCoefficient of determination:0.80\n"
     ]
    }
   ],
   "source": [
    "# using x1 and x6\n",
    "# Accuracy\n",
    "from sklearn.metrics import mean_squared_error, r2_score\n",
    "# The mean squared error\n",
    "print('Mean squared error: %.2f'% mean_squared_error(y_new, y_pred))\n",
    "# The coefficient of determination: l is perfect prediction\n",
    "print('Coefficient of determination:%.2f'% r2_score(y_new, y_pred))"
   ]
  },
  {
   "cell_type": "code",
   "execution_count": null,
   "metadata": {},
   "outputs": [],
   "source": []
  },
  {
   "cell_type": "code",
   "execution_count": 65,
   "metadata": {},
   "outputs": [
    {
     "output_type": "execute_result",
     "data": {
      "text/plain": [
       "array([9.1436399 , 2.98410747, 2.02728756])"
      ]
     },
     "metadata": {},
     "execution_count": 65
    }
   ],
   "source": [
    "# using x2 and x5\n",
    "X_b =np.c_[np.ones((n,1)),x[:,1],x[:,4]]\n",
    "theta_best= np.dot(np.dot(np.linalg.inv(np.dot(X_b.T,X_b)),X_b.T),y)\n",
    "theta_best"
   ]
  },
  {
   "cell_type": "code",
   "execution_count": 66,
   "metadata": {},
   "outputs": [
    {
     "output_type": "execute_result",
     "data": {
      "text/plain": [
       "array([55.74867714, 44.92485455, 48.64874587, 50.03064092, 27.88742181,\n",
       "       58.70214369, 60.99213335, 76.18753939, 38.90578227, 40.88294498])"
      ]
     },
     "metadata": {},
     "execution_count": 66
    }
   ],
   "source": [
    "x_b_new=np.c_[np.ones((x_new.shape[0],1)),x_new[:,1],x_new[:,4]]\n",
    "y_pred =np.dot(x_b_new,theta_best)\n",
    "y_pred"
   ]
  },
  {
   "cell_type": "code",
   "execution_count": 67,
   "metadata": {},
   "outputs": [
    {
     "output_type": "stream",
     "name": "stdout",
     "text": [
      "Mean squared error: 0.43\nCoefficient of determination:1.00\n"
     ]
    }
   ],
   "source": [
    "# using x2 and x5\n",
    "# Accuracy\n",
    "from sklearn.metrics import mean_squared_error, r2_score\n",
    "# The mean squared error\n",
    "print('Mean squared error: %.2f'% mean_squared_error(y_new, y_pred))\n",
    "# The coefficient of determination: l is perfect prediction\n",
    "print('Coefficient of determination:%.2f'% r2_score(y_new, y_pred))"
   ]
  },
  {
   "cell_type": "code",
   "execution_count": null,
   "metadata": {},
   "outputs": [],
   "source": []
  },
  {
   "cell_type": "code",
   "execution_count": null,
   "metadata": {},
   "outputs": [],
   "source": []
  }
 ]
}