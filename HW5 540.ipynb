{
 "metadata": {
  "language_info": {
   "codemirror_mode": {
    "name": "ipython",
    "version": 3
   },
   "file_extension": ".py",
   "mimetype": "text/x-python",
   "name": "python",
   "nbconvert_exporter": "python",
   "pygments_lexer": "ipython3",
   "version": "3.8.8"
  },
  "orig_nbformat": 2,
  "kernelspec": {
   "name": "python388jvsc74a57bd00142100476a55ad2707e4ee89bdff33f958300b25bb6983b2c86b093430e9fda",
   "display_name": "Python 3.8.8 64-bit ('jnb': conda)"
  },
  "metadata": {
   "interpreter": {
    "hash": "0142100476a55ad2707e4ee89bdff33f958300b25bb6983b2c86b093430e9fda"
   }
  }
 },
 "nbformat": 4,
 "nbformat_minor": 2,
 "cells": [
  {
   "source": [
    "### Computational Methods (16:540:540) ###\n",
    "\n",
    "#### Spring 2021 Homework 5 – Python Coding ####\n",
    "\n",
    "\n",
    "1. Generate 100 random samples from univariate normal and exponential distributions. Then, calculate the means and the standard deviation.\n",
    "2. Generate 100 random samples from multivariate normal distribution. Then, calculate means and covariance matrix.\n",
    "3. Perform Multiple Linear Regression using the same dataset generated in the\n",
    "class as follows: predict 𝑦\n",
    "a) Using only 𝑥1 ,\n",
    "b) Using variables 𝑥1 , ... , 𝑥3\n",
    "c) Using all variables 𝑥1 , ... , 𝑥𝑝\n",
    "d) Compare the performance for both training and test data using MSE and R-squared."
   ],
   "cell_type": "markdown",
   "metadata": {}
  },
  {
   "cell_type": "code",
   "execution_count": 11,
   "metadata": {},
   "outputs": [],
   "source": [
    "import numpy as np\n",
    "import pandas as pd"
   ]
  },
  {
   "cell_type": "code",
   "execution_count": 12,
   "metadata": {},
   "outputs": [],
   "source": [
    "# 1. Generate 100 random samples from univariate normal and exponential distributions. Then, calculate the means and the standard deviation."
   ]
  },
  {
   "cell_type": "code",
   "execution_count": 13,
   "metadata": {},
   "outputs": [
    {
     "output_type": "stream",
     "name": "stdout",
     "text": [
      "From univariate normal distribution,the mean of 100 random the samples is 2.75992733090338,the variance is 77.91377243518097\n"
     ]
    }
   ],
   "source": [
    "from numpy.random import default_rng\n",
    "rng = default_rng(5)\n",
    "\n",
    "mu, sigma = 5,10\n",
    "n = 100\n",
    "x1 = rng.normal(mu,sigma,n)\n",
    "x1_mean = np.mean(x1)\n",
    "x1_var = np.var(x1)\n",
    "\n",
    "print(f'From univariate normal distribution,the mean of 100 random the samples is {x1_mean},the variance is {x1_var}')"
   ]
  },
  {
   "cell_type": "code",
   "execution_count": 14,
   "metadata": {},
   "outputs": [
    {
     "output_type": "stream",
     "name": "stdout",
     "text": [
      "From exponential distribution,the mean of 100 random the samples is 0.9659351362133682,the variance is 0.7781621514620671\n"
     ]
    }
   ],
   "source": [
    "y1 =rng.exponential(size=n)\n",
    "y1_mean = np.mean(y1)\n",
    "y1_var = np.var(y1)\n",
    "\n",
    "print(f'From exponential distribution,the mean of 100 random the samples is {y1_mean},the variance is {y1_var}')"
   ]
  },
  {
   "cell_type": "code",
   "execution_count": 15,
   "metadata": {},
   "outputs": [],
   "source": [
    "# 2. Generate 100 random samples from multivariate normal distribution. Then, calculate means and covariance matrix."
   ]
  },
  {
   "cell_type": "code",
   "execution_count": 29,
   "metadata": {},
   "outputs": [],
   "source": [
    "# P=6, N=100\n",
    "mu = np.random.uniform(-10,10,size=6)\n",
    "C = np.random.random((6,6))\n",
    "cov = C @ C.T # positive semi-definite\n",
    "x2 = rng.multivariate_normal(mu, cov, n)"
   ]
  },
  {
   "cell_type": "code",
   "execution_count": 31,
   "metadata": {},
   "outputs": [
    {
     "output_type": "execute_result",
     "data": {
      "text/plain": [
       "          0\n",
       "0 -8.704138\n",
       "1 -8.164992\n",
       "2  2.056752\n",
       "3 -5.919226\n",
       "4  6.634197\n",
       "5  9.548653"
      ],
      "text/html": "<div>\n<style scoped>\n    .dataframe tbody tr th:only-of-type {\n        vertical-align: middle;\n    }\n\n    .dataframe tbody tr th {\n        vertical-align: top;\n    }\n\n    .dataframe thead th {\n        text-align: right;\n    }\n</style>\n<table border=\"1\" class=\"dataframe\">\n  <thead>\n    <tr style=\"text-align: right;\">\n      <th></th>\n      <th>0</th>\n    </tr>\n  </thead>\n  <tbody>\n    <tr>\n      <th>0</th>\n      <td>-8.704138</td>\n    </tr>\n    <tr>\n      <th>1</th>\n      <td>-8.164992</td>\n    </tr>\n    <tr>\n      <th>2</th>\n      <td>2.056752</td>\n    </tr>\n    <tr>\n      <th>3</th>\n      <td>-5.919226</td>\n    </tr>\n    <tr>\n      <th>4</th>\n      <td>6.634197</td>\n    </tr>\n    <tr>\n      <th>5</th>\n      <td>9.548653</td>\n    </tr>\n  </tbody>\n</table>\n</div>"
     },
     "metadata": {},
     "execution_count": 31
    }
   ],
   "source": [
    "pd.DataFrame(mu)"
   ]
  },
  {
   "cell_type": "code",
   "execution_count": 32,
   "metadata": {},
   "outputs": [
    {
     "output_type": "execute_result",
     "data": {
      "text/plain": [
       "          0         1         2         3         4         5\n",
       "0  2.067180  1.163747  1.488515  1.178397  1.935855  1.772898\n",
       "1  1.163747  1.110113  0.737397  0.620964  1.553950  1.197467\n",
       "2  1.488515  0.737397  1.940886  1.273886  1.486259  1.954230\n",
       "3  1.178397  0.620964  1.273886  0.997129  1.190417  1.271525\n",
       "4  1.935855  1.553950  1.486259  1.190417  2.387258  1.970261\n",
       "5  1.772898  1.197467  1.954230  1.271525  1.970261  2.611645"
      ],
      "text/html": "<div>\n<style scoped>\n    .dataframe tbody tr th:only-of-type {\n        vertical-align: middle;\n    }\n\n    .dataframe tbody tr th {\n        vertical-align: top;\n    }\n\n    .dataframe thead th {\n        text-align: right;\n    }\n</style>\n<table border=\"1\" class=\"dataframe\">\n  <thead>\n    <tr style=\"text-align: right;\">\n      <th></th>\n      <th>0</th>\n      <th>1</th>\n      <th>2</th>\n      <th>3</th>\n      <th>4</th>\n      <th>5</th>\n    </tr>\n  </thead>\n  <tbody>\n    <tr>\n      <th>0</th>\n      <td>2.067180</td>\n      <td>1.163747</td>\n      <td>1.488515</td>\n      <td>1.178397</td>\n      <td>1.935855</td>\n      <td>1.772898</td>\n    </tr>\n    <tr>\n      <th>1</th>\n      <td>1.163747</td>\n      <td>1.110113</td>\n      <td>0.737397</td>\n      <td>0.620964</td>\n      <td>1.553950</td>\n      <td>1.197467</td>\n    </tr>\n    <tr>\n      <th>2</th>\n      <td>1.488515</td>\n      <td>0.737397</td>\n      <td>1.940886</td>\n      <td>1.273886</td>\n      <td>1.486259</td>\n      <td>1.954230</td>\n    </tr>\n    <tr>\n      <th>3</th>\n      <td>1.178397</td>\n      <td>0.620964</td>\n      <td>1.273886</td>\n      <td>0.997129</td>\n      <td>1.190417</td>\n      <td>1.271525</td>\n    </tr>\n    <tr>\n      <th>4</th>\n      <td>1.935855</td>\n      <td>1.553950</td>\n      <td>1.486259</td>\n      <td>1.190417</td>\n      <td>2.387258</td>\n      <td>1.970261</td>\n    </tr>\n    <tr>\n      <th>5</th>\n      <td>1.772898</td>\n      <td>1.197467</td>\n      <td>1.954230</td>\n      <td>1.271525</td>\n      <td>1.970261</td>\n      <td>2.611645</td>\n    </tr>\n  </tbody>\n</table>\n</div>"
     },
     "metadata": {},
     "execution_count": 32
    }
   ],
   "source": [
    "pd.DataFrame(cov)"
   ]
  },
  {
   "cell_type": "code",
   "execution_count": 28,
   "metadata": {},
   "outputs": [
    {
     "output_type": "stream",
     "name": "stdout",
     "text": [
      "From univariate normal distribution,the mean of 100 random the samples is -1.0005829308487948,the variance is 49.99644987762626\n"
     ]
    }
   ],
   "source": [
    "x2_mean = np.mean(x2)\n",
    "x2_var = np.var(x2)\n",
    "\n",
    "print(f'From univariate normal distribution,the mean of 100 random the samples is {x2_mean},the variance is {x2_var}')"
   ]
  },
  {
   "cell_type": "code",
   "execution_count": 35,
   "metadata": {},
   "outputs": [],
   "source": [
    "# 3. Perform Multiple Linear Regression using the same dataset generated in the\n",
    "# class as follows: \n",
    "# predict 𝑦\n",
    "# a) Using only 𝑥1 ,\n",
    "# b) Using variables 𝑥1 , ... , 𝑥3\n",
    "# c) Using all variables 𝑥1 , ... , 𝑥𝑝\n",
    "#  d) Compare the performance for both training and test data using MSE and R-squared."
   ]
  },
  {
   "source": [
    "The output\n",
    "\n",
    "𝑦=9+3∗𝑥2 +2∗𝑥5+𝜀 \n",
    "\n",
    "𝜀~𝑁(0,1)"
   ],
   "cell_type": "markdown",
   "metadata": {}
  },
  {
   "cell_type": "code",
   "execution_count": 36,
   "metadata": {},
   "outputs": [
    {
     "output_type": "error",
     "ename": "SyntaxError",
     "evalue": "invalid syntax (<ipython-input-36-70b8f16de568>, line 2)",
     "traceback": [
      "\u001b[0;36m  File \u001b[0;32m\"<ipython-input-36-70b8f16de568>\"\u001b[0;36m, line \u001b[0;32m2\u001b[0m\n\u001b[0;31m    y_a =\u001b[0m\n\u001b[0m         ^\u001b[0m\n\u001b[0;31mSyntaxError\u001b[0m\u001b[0;31m:\u001b[0m invalid syntax\n"
     ]
    }
   ],
   "source": [
    "# a) Using only 𝑥1 \n",
    "y_a ="
   ]
  },
  {
   "cell_type": "code",
   "execution_count": 34,
   "metadata": {},
   "outputs": [
    {
     "output_type": "execute_result",
     "data": {
      "text/plain": [
       "array([ 0.27673445, -1.42157241, -0.39139859,  0.26972411,  1.9867076 ,\n",
       "        0.28176867, -0.5059261 ,  1.10240097,  0.22433927, -0.27569182,\n",
       "        1.11983228, -0.89068861,  0.2054339 ,  0.09374996,  0.90724572,\n",
       "       -1.12421318, -1.27289107, -0.37835124, -0.26639163,  0.04562491,\n",
       "       -0.36877099,  0.42910756,  0.68459589,  0.22120584, -1.04644342,\n",
       "        1.14117786, -1.52407907, -0.2089532 ,  0.87740414, -0.61819607,\n",
       "        1.27469258,  1.89078259,  1.55518737,  0.42311326,  0.96501391,\n",
       "       -0.51838974,  0.38831854,  0.44310729,  0.08349949,  0.14439734,\n",
       "       -0.21514804, -1.95785304,  0.388144  ,  0.30221123,  2.02930544,\n",
       "        0.69771564,  0.05810807,  0.85947621,  0.60989518, -0.02555819,\n",
       "       -0.38735042, -1.4679991 ,  0.11340353,  1.60742816, -1.86365414,\n",
       "       -0.95364334,  0.7432786 ,  0.18359946,  0.40937801, -1.85777374,\n",
       "       -0.59459037,  0.49453977,  0.57789879,  0.28581249, -0.88608452,\n",
       "        0.52903263, -1.19681663, -0.94403936, -1.16772877,  1.42597122,\n",
       "       -0.41940296,  0.04600414, -2.19842399,  1.08130475,  0.45218612,\n",
       "       -1.65802308, -1.60982215,  1.64292286, -0.95119639,  1.82403943,\n",
       "       -0.47790163, -2.48583623,  1.09334139,  0.48948618,  0.66817042,\n",
       "       -0.51890902, -0.2253305 ,  0.94214737, -0.83297557, -1.97522897,\n",
       "        0.89234667, -0.63224746,  1.2579084 , -0.49562975, -0.44075385,\n",
       "       -0.26612457, -2.36631535,  1.15864007, -0.64324832, -0.21072284])"
      ]
     },
     "metadata": {},
     "execution_count": 34
    }
   ],
   "source": []
  },
  {
   "cell_type": "code",
   "execution_count": null,
   "metadata": {},
   "outputs": [],
   "source": []
  },
  {
   "cell_type": "code",
   "execution_count": null,
   "metadata": {},
   "outputs": [],
   "source": []
  },
  {
   "cell_type": "code",
   "execution_count": null,
   "metadata": {},
   "outputs": [],
   "source": []
  },
  {
   "cell_type": "code",
   "execution_count": null,
   "metadata": {},
   "outputs": [],
   "source": []
  },
  {
   "cell_type": "code",
   "execution_count": null,
   "metadata": {},
   "outputs": [],
   "source": []
  },
  {
   "cell_type": "code",
   "execution_count": null,
   "metadata": {},
   "outputs": [],
   "source": []
  },
  {
   "cell_type": "code",
   "execution_count": null,
   "metadata": {},
   "outputs": [],
   "source": []
  },
  {
   "cell_type": "code",
   "execution_count": null,
   "metadata": {},
   "outputs": [],
   "source": []
  }
 ]
}