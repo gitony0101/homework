{
 "metadata": {
  "language_info": {
   "codemirror_mode": {
    "name": "ipython",
    "version": 3
   },
   "file_extension": ".py",
   "mimetype": "text/x-python",
   "name": "python",
   "nbconvert_exporter": "python",
   "pygments_lexer": "ipython3",
   "version": "3.8.8"
  },
  "orig_nbformat": 2,
  "kernelspec": {
   "name": "python388jvsc74a57bd00142100476a55ad2707e4ee89bdff33f958300b25bb6983b2c86b093430e9fda",
   "display_name": "Python 3.8.8 64-bit ('jnb': conda)"
  },
  "metadata": {
   "interpreter": {
    "hash": "0142100476a55ad2707e4ee89bdff33f958300b25bb6983b2c86b093430e9fda"
   }
  }
 },
 "nbformat": 4,
 "nbformat_minor": 2,
 "cells": [
  {
   "source": [
    "### Computational Methods (16:540:540) ###\n",
    "\n",
    "#### Spring 2021 Homework 5 – Python Coding ####\n",
    "\n",
    "\n",
    "1. Generate 100 random samples from univariate normal and exponential distributions. Then, calculate the means and the standard deviation.\n",
    "2. Generate 100 random samples from multivariate normal distribution. Then, calculate means and covariance matrix.\n",
    "3. Perform Multiple Linear Regression using the same dataset generated in the\n",
    "class as follows: predict 𝑦\n",
    "a) Using only 𝑥1 ,\n",
    "b) Using variables 𝑥1 , ... , 𝑥3\n",
    "c) Using all variables 𝑥1 , ... , 𝑥𝑝\n",
    "d) Compare the performance for both training and test data using MSE and R-squared."
   ],
   "cell_type": "markdown",
   "metadata": {}
  },
  {
   "cell_type": "code",
   "execution_count": 47,
   "metadata": {},
   "outputs": [],
   "source": [
    "import numpy as np\n",
    "import pandas as pd\n",
    "\n",
    "from numpy.random import default_rng\n",
    "rng = default_rng(5)"
   ]
  },
  {
   "cell_type": "code",
   "execution_count": 48,
   "metadata": {},
   "outputs": [],
   "source": [
    "# 1. Generate 100 random samples from univariate normal and exponential distributions. Then, calculate the means and the standard deviation."
   ]
  },
  {
   "cell_type": "code",
   "execution_count": 49,
   "metadata": {},
   "outputs": [
    {
     "output_type": "stream",
     "name": "stdout",
     "text": [
      "From univariate normal distribution,the mean of 100 random the samples is 2.75992733090338,the variance is 77.91377243518097\n"
     ]
    }
   ],
   "source": [
    "\n",
    "mu, sigma = 5,10\n",
    "n = 100\n",
    "x1 = rng.normal(mu,sigma,n)\n",
    "x1_mean = np.mean(x1)\n",
    "x1_var = np.var(x1)\n",
    "\n",
    "print(f'From univariate normal distribution,the mean of 100 random the samples is {x1_mean},the variance is {x1_var}')"
   ]
  },
  {
   "cell_type": "code",
   "execution_count": 50,
   "metadata": {},
   "outputs": [
    {
     "output_type": "stream",
     "name": "stdout",
     "text": [
      "From exponential distribution,the mean of 100 random the samples is 0.9659351362133682,the variance is 0.7781621514620671\n"
     ]
    }
   ],
   "source": [
    "y1 =rng.exponential(size=n)\n",
    "y1_mean = np.mean(y1)\n",
    "y1_var = np.var(y1)\n",
    "\n",
    "print(f'From exponential distribution,the mean of 100 random the samples is {y1_mean},the variance is {y1_var}')"
   ]
  },
  {
   "cell_type": "code",
   "execution_count": 51,
   "metadata": {},
   "outputs": [],
   "source": [
    "# 2. Generate 100 random samples from multivariate normal distribution. Then, calculate means and covariance matrix."
   ]
  },
  {
   "cell_type": "code",
   "execution_count": 52,
   "metadata": {},
   "outputs": [],
   "source": [
    "# P=6, N=100\n",
    "mu = np.random.uniform(-10,10,size=6)\n",
    "C = np.random.random((6,6))\n",
    "cov = C @ C.T # positive semi-definite\n",
    "x2 = rng.multivariate_normal(mu, cov, n)"
   ]
  },
  {
   "cell_type": "code",
   "execution_count": 53,
   "metadata": {},
   "outputs": [
    {
     "output_type": "execute_result",
     "data": {
      "text/plain": [
       "          0\n",
       "0 -4.194647\n",
       "1  9.480673\n",
       "2  4.016636\n",
       "3 -7.513070\n",
       "4  7.147408\n",
       "5  9.979485"
      ],
      "text/html": "<div>\n<style scoped>\n    .dataframe tbody tr th:only-of-type {\n        vertical-align: middle;\n    }\n\n    .dataframe tbody tr th {\n        vertical-align: top;\n    }\n\n    .dataframe thead th {\n        text-align: right;\n    }\n</style>\n<table border=\"1\" class=\"dataframe\">\n  <thead>\n    <tr style=\"text-align: right;\">\n      <th></th>\n      <th>0</th>\n    </tr>\n  </thead>\n  <tbody>\n    <tr>\n      <th>0</th>\n      <td>-4.194647</td>\n    </tr>\n    <tr>\n      <th>1</th>\n      <td>9.480673</td>\n    </tr>\n    <tr>\n      <th>2</th>\n      <td>4.016636</td>\n    </tr>\n    <tr>\n      <th>3</th>\n      <td>-7.513070</td>\n    </tr>\n    <tr>\n      <th>4</th>\n      <td>7.147408</td>\n    </tr>\n    <tr>\n      <th>5</th>\n      <td>9.979485</td>\n    </tr>\n  </tbody>\n</table>\n</div>"
     },
     "metadata": {},
     "execution_count": 53
    }
   ],
   "source": [
    "pd.DataFrame(mu)"
   ]
  },
  {
   "cell_type": "code",
   "execution_count": 54,
   "metadata": {},
   "outputs": [
    {
     "output_type": "execute_result",
     "data": {
      "text/plain": [
       "          0         1         2         3         4         5\n",
       "0  1.815701  1.324468  1.791067  1.124543  2.093216  1.165620\n",
       "1  1.324468  1.463387  2.039994  0.958017  2.055583  0.668254\n",
       "2  1.791067  2.039994  3.478074  1.732765  3.323028  1.555552\n",
       "3  1.124543  0.958017  1.732765  1.552275  2.059947  1.177421\n",
       "4  2.093216  2.055583  3.323028  2.059947  3.598563  1.781667\n",
       "5  1.165620  0.668254  1.555552  1.177421  1.781667  1.625186"
      ],
      "text/html": "<div>\n<style scoped>\n    .dataframe tbody tr th:only-of-type {\n        vertical-align: middle;\n    }\n\n    .dataframe tbody tr th {\n        vertical-align: top;\n    }\n\n    .dataframe thead th {\n        text-align: right;\n    }\n</style>\n<table border=\"1\" class=\"dataframe\">\n  <thead>\n    <tr style=\"text-align: right;\">\n      <th></th>\n      <th>0</th>\n      <th>1</th>\n      <th>2</th>\n      <th>3</th>\n      <th>4</th>\n      <th>5</th>\n    </tr>\n  </thead>\n  <tbody>\n    <tr>\n      <th>0</th>\n      <td>1.815701</td>\n      <td>1.324468</td>\n      <td>1.791067</td>\n      <td>1.124543</td>\n      <td>2.093216</td>\n      <td>1.165620</td>\n    </tr>\n    <tr>\n      <th>1</th>\n      <td>1.324468</td>\n      <td>1.463387</td>\n      <td>2.039994</td>\n      <td>0.958017</td>\n      <td>2.055583</td>\n      <td>0.668254</td>\n    </tr>\n    <tr>\n      <th>2</th>\n      <td>1.791067</td>\n      <td>2.039994</td>\n      <td>3.478074</td>\n      <td>1.732765</td>\n      <td>3.323028</td>\n      <td>1.555552</td>\n    </tr>\n    <tr>\n      <th>3</th>\n      <td>1.124543</td>\n      <td>0.958017</td>\n      <td>1.732765</td>\n      <td>1.552275</td>\n      <td>2.059947</td>\n      <td>1.177421</td>\n    </tr>\n    <tr>\n      <th>4</th>\n      <td>2.093216</td>\n      <td>2.055583</td>\n      <td>3.323028</td>\n      <td>2.059947</td>\n      <td>3.598563</td>\n      <td>1.781667</td>\n    </tr>\n    <tr>\n      <th>5</th>\n      <td>1.165620</td>\n      <td>0.668254</td>\n      <td>1.555552</td>\n      <td>1.177421</td>\n      <td>1.781667</td>\n      <td>1.625186</td>\n    </tr>\n  </tbody>\n</table>\n</div>"
     },
     "metadata": {},
     "execution_count": 54
    }
   ],
   "source": [
    "pd.DataFrame(cov)"
   ]
  },
  {
   "cell_type": "code",
   "execution_count": 55,
   "metadata": {},
   "outputs": [
    {
     "output_type": "stream",
     "name": "stdout",
     "text": [
      "From univariate normal distribution,the mean of 100 random the samples is 3.129283588068727,the variance is 47.676149085699954\n"
     ]
    }
   ],
   "source": [
    "x2_mean = np.mean(x2)\n",
    "x2_var = np.var(x2)\n",
    "\n",
    "print(f'From univariate normal distribution,the mean of 100 random the samples is {x2_mean},the variance is {x2_var}')"
   ]
  },
  {
   "cell_type": "code",
   "execution_count": 56,
   "metadata": {},
   "outputs": [],
   "source": [
    "# 3. Perform Multiple Linear Regression using the same dataset generated in the\n",
    "# class as follows: \n",
    "# predict 𝑦\n",
    "# a) Using only 𝑥1 ,\n",
    "# b) Using variables 𝑥1 , ... , 𝑥3\n",
    "# c) Using all variables 𝑥1 , ... , 𝑥𝑝\n",
    "#  d) Compare the performance for both training and test data using MSE and R-squared."
   ]
  },
  {
   "source": [
    "The output\n",
    "\n",
    "𝑦=9+3∗𝑥2 +2∗𝑥5+𝜀 \n",
    "\n",
    "𝜀~𝑁(0,1)"
   ],
   "cell_type": "markdown",
   "metadata": {}
  },
  {
   "cell_type": "code",
   "execution_count": 57,
   "metadata": {},
   "outputs": [],
   "source": [
    "from sklearn import datasets, linear_model\n",
    "from sklearn.metrics import mean_squared_error,r2_score\n",
    "regr = linear_model.LinearRegression()\n",
    "import matplotlib.pyplot as plt\n",
    "from scipy.stats import *\n"
   ]
  },
  {
   "cell_type": "code",
   "execution_count": 61,
   "metadata": {},
   "outputs": [],
   "source": [
    "# pd.DataFrame(x2)"
   ]
  },
  {
   "cell_type": "code",
   "execution_count": 72,
   "metadata": {},
   "outputs": [],
   "source": [
    "# a) Using only 𝑥1 \n",
    "x_1 = pd.DataFrame(x2[:,0]).T\n",
    "\n",
    "y_1 = x_1 + rng.normal(0,1,n)"
   ]
  },
  {
   "cell_type": "code",
   "execution_count": 79,
   "metadata": {},
   "outputs": [
    {
     "output_type": "execute_result",
     "data": {
      "text/plain": [
       "Text(0, 0.5, '$y_1&')"
      ]
     },
     "metadata": {},
     "execution_count": 79
    },
    {
     "output_type": "display_data",
     "data": {
      "text/plain": "<Figure size 432x288 with 1 Axes>",
      "image/svg+xml": "<?xml version=\"1.0\" encoding=\"utf-8\" standalone=\"no\"?>\n<!DOCTYPE svg PUBLIC \"-//W3C//DTD SVG 1.1//EN\"\n  \"http://www.w3.org/Graphics/SVG/1.1/DTD/svg11.dtd\">\n<!-- Created with matplotlib (https://matplotlib.org/) -->\n<svg height=\"262.19625pt\" version=\"1.1\" viewBox=\"0 0 384.898437 262.19625\" width=\"384.898437pt\" xmlns=\"http://www.w3.org/2000/svg\" xmlns:xlink=\"http://www.w3.org/1999/xlink\">\n <metadata>\n  <rdf:RDF xmlns:cc=\"http://creativecommons.org/ns#\" xmlns:dc=\"http://purl.org/dc/elements/1.1/\" xmlns:rdf=\"http://www.w3.org/1999/02/22-rdf-syntax-ns#\">\n   <cc:Work>\n    <dc:type rdf:resource=\"http://purl.org/dc/dcmitype/StillImage\"/>\n    <dc:date>2021-04-19T18:08:24.479811</dc:date>\n    <dc:format>image/svg+xml</dc:format>\n    <dc:creator>\n     <cc:Agent>\n      <dc:title>Matplotlib v3.3.4, https://matplotlib.org/</dc:title>\n     </cc:Agent>\n    </dc:creator>\n   </cc:Work>\n  </rdf:RDF>\n </metadata>\n <defs>\n  <style type=\"text/css\">*{stroke-linecap:butt;stroke-linejoin:round;}</style>\n </defs>\n <g id=\"figure_1\">\n  <g id=\"patch_1\">\n   <path d=\"M 0 262.19625 \nL 384.898437 262.19625 \nL 384.898437 0 \nL 0 0 \nz\n\" style=\"fill:none;\"/>\n  </g>\n  <g id=\"axes_1\">\n   <g id=\"patch_2\">\n    <path d=\"M 42.898438 224.64 \nL 377.698438 224.64 \nL 377.698438 7.2 \nL 42.898438 7.2 \nz\n\" style=\"fill:#ffffff;\"/>\n   </g>\n   <g id=\"PathCollection_1\">\n    <defs>\n     <path d=\"M 0 3 \nC 0.795609 3 1.55874 2.683901 2.12132 2.12132 \nC 2.683901 1.55874 3 0.795609 3 0 \nC 3 -0.795609 2.683901 -1.55874 2.12132 -2.12132 \nC 1.55874 -2.683901 0.795609 -3 0 -3 \nC -0.795609 -3 -1.55874 -2.683901 -2.12132 -2.12132 \nC -2.683901 -1.55874 -3 -0.795609 -3 0 \nC -3 0.795609 -2.683901 1.55874 -2.12132 2.12132 \nC -1.55874 2.683901 -0.795609 3 0 3 \nz\n\" id=\"mac30f11aed\" style=\"stroke:#1f77b4;\"/>\n    </defs>\n    <g clip-path=\"url(#pe20393aa9b)\">\n     <use style=\"fill:#1f77b4;stroke:#1f77b4;\" x=\"58.116619\" xlink:href=\"#mac30f11aed\" y=\"172.063341\"/>\n     <use style=\"fill:#1f77b4;stroke:#1f77b4;\" x=\"289.361248\" xlink:href=\"#mac30f11aed\" y=\"67.37396\"/>\n     <use style=\"fill:#1f77b4;stroke:#1f77b4;\" x=\"126.576262\" xlink:href=\"#mac30f11aed\" y=\"146.005636\"/>\n     <use style=\"fill:#1f77b4;stroke:#1f77b4;\" x=\"247.806437\" xlink:href=\"#mac30f11aed\" y=\"86.821444\"/>\n     <use style=\"fill:#1f77b4;stroke:#1f77b4;\" x=\"174.488802\" xlink:href=\"#mac30f11aed\" y=\"119.736468\"/>\n     <use style=\"fill:#1f77b4;stroke:#1f77b4;\" x=\"362.480256\" xlink:href=\"#mac30f11aed\" y=\"17.083636\"/>\n     <use style=\"fill:#1f77b4;stroke:#1f77b4;\" x=\"251.213679\" xlink:href=\"#mac30f11aed\" y=\"60.778006\"/>\n     <use style=\"fill:#1f77b4;stroke:#1f77b4;\" x=\"152.941134\" xlink:href=\"#mac30f11aed\" y=\"161.822648\"/>\n     <use style=\"fill:#1f77b4;stroke:#1f77b4;\" x=\"143.860151\" xlink:href=\"#mac30f11aed\" y=\"147.880338\"/>\n     <use style=\"fill:#1f77b4;stroke:#1f77b4;\" x=\"236.616215\" xlink:href=\"#mac30f11aed\" y=\"124.233175\"/>\n     <use style=\"fill:#1f77b4;stroke:#1f77b4;\" x=\"128.561194\" xlink:href=\"#mac30f11aed\" y=\"136.227129\"/>\n     <use style=\"fill:#1f77b4;stroke:#1f77b4;\" x=\"160.366932\" xlink:href=\"#mac30f11aed\" y=\"214.756364\"/>\n     <use style=\"fill:#1f77b4;stroke:#1f77b4;\" x=\"219.085412\" xlink:href=\"#mac30f11aed\" y=\"109.022159\"/>\n     <use style=\"fill:#1f77b4;stroke:#1f77b4;\" x=\"195.853981\" xlink:href=\"#mac30f11aed\" y=\"118.374643\"/>\n     <use style=\"fill:#1f77b4;stroke:#1f77b4;\" x=\"124.61331\" xlink:href=\"#mac30f11aed\" y=\"163.30232\"/>\n     <use style=\"fill:#1f77b4;stroke:#1f77b4;\" x=\"224.147507\" xlink:href=\"#mac30f11aed\" y=\"111.495821\"/>\n     <use style=\"fill:#1f77b4;stroke:#1f77b4;\" x=\"186.115846\" xlink:href=\"#mac30f11aed\" y=\"95.855512\"/>\n     <use style=\"fill:#1f77b4;stroke:#1f77b4;\" x=\"121.153975\" xlink:href=\"#mac30f11aed\" y=\"113.661535\"/>\n     <use style=\"fill:#1f77b4;stroke:#1f77b4;\" x=\"285.038063\" xlink:href=\"#mac30f11aed\" y=\"90.738558\"/>\n     <use style=\"fill:#1f77b4;stroke:#1f77b4;\" x=\"258.523549\" xlink:href=\"#mac30f11aed\" y=\"145.616324\"/>\n     <use style=\"fill:#1f77b4;stroke:#1f77b4;\" x=\"320.182168\" xlink:href=\"#mac30f11aed\" y=\"83.218707\"/>\n     <use style=\"fill:#1f77b4;stroke:#1f77b4;\" x=\"135.481329\" xlink:href=\"#mac30f11aed\" y=\"190.239827\"/>\n     <use style=\"fill:#1f77b4;stroke:#1f77b4;\" x=\"229.089168\" xlink:href=\"#mac30f11aed\" y=\"112.167347\"/>\n     <use style=\"fill:#1f77b4;stroke:#1f77b4;\" x=\"149.292462\" xlink:href=\"#mac30f11aed\" y=\"159.52188\"/>\n     <use style=\"fill:#1f77b4;stroke:#1f77b4;\" x=\"267.164515\" xlink:href=\"#mac30f11aed\" y=\"52.985015\"/>\n     <use style=\"fill:#1f77b4;stroke:#1f77b4;\" x=\"292.986084\" xlink:href=\"#mac30f11aed\" y=\"80.875393\"/>\n     <use style=\"fill:#1f77b4;stroke:#1f77b4;\" x=\"226.220482\" xlink:href=\"#mac30f11aed\" y=\"111.076537\"/>\n     <use style=\"fill:#1f77b4;stroke:#1f77b4;\" x=\"163.820135\" xlink:href=\"#mac30f11aed\" y=\"145.657279\"/>\n     <use style=\"fill:#1f77b4;stroke:#1f77b4;\" x=\"346.602236\" xlink:href=\"#mac30f11aed\" y=\"60.668328\"/>\n     <use style=\"fill:#1f77b4;stroke:#1f77b4;\" x=\"145.521135\" xlink:href=\"#mac30f11aed\" y=\"169.548076\"/>\n     <use style=\"fill:#1f77b4;stroke:#1f77b4;\" x=\"224.955916\" xlink:href=\"#mac30f11aed\" y=\"30.265348\"/>\n     <use style=\"fill:#1f77b4;stroke:#1f77b4;\" x=\"223.266363\" xlink:href=\"#mac30f11aed\" y=\"114.538692\"/>\n     <use style=\"fill:#1f77b4;stroke:#1f77b4;\" x=\"168.32098\" xlink:href=\"#mac30f11aed\" y=\"174.194623\"/>\n     <use style=\"fill:#1f77b4;stroke:#1f77b4;\" x=\"207.564358\" xlink:href=\"#mac30f11aed\" y=\"185.252784\"/>\n     <use style=\"fill:#1f77b4;stroke:#1f77b4;\" x=\"128.938343\" xlink:href=\"#mac30f11aed\" y=\"140.295382\"/>\n     <use style=\"fill:#1f77b4;stroke:#1f77b4;\" x=\"199.598788\" xlink:href=\"#mac30f11aed\" y=\"136.01739\"/>\n     <use style=\"fill:#1f77b4;stroke:#1f77b4;\" x=\"145.501036\" xlink:href=\"#mac30f11aed\" y=\"178.827943\"/>\n     <use style=\"fill:#1f77b4;stroke:#1f77b4;\" x=\"153.172587\" xlink:href=\"#mac30f11aed\" y=\"84.090183\"/>\n     <use style=\"fill:#1f77b4;stroke:#1f77b4;\" x=\"153.872915\" xlink:href=\"#mac30f11aed\" y=\"113.244822\"/>\n     <use style=\"fill:#1f77b4;stroke:#1f77b4;\" x=\"318.44234\" xlink:href=\"#mac30f11aed\" y=\"102.600892\"/>\n     <use style=\"fill:#1f77b4;stroke:#1f77b4;\" x=\"151.020572\" xlink:href=\"#mac30f11aed\" y=\"167.030922\"/>\n     <use style=\"fill:#1f77b4;stroke:#1f77b4;\" x=\"294.81071\" xlink:href=\"#mac30f11aed\" y=\"38.14955\"/>\n     <use style=\"fill:#1f77b4;stroke:#1f77b4;\" x=\"225.2286\" xlink:href=\"#mac30f11aed\" y=\"86.258667\"/>\n     <use style=\"fill:#1f77b4;stroke:#1f77b4;\" x=\"181.386038\" xlink:href=\"#mac30f11aed\" y=\"170.491907\"/>\n     <use style=\"fill:#1f77b4;stroke:#1f77b4;\" x=\"120.698119\" xlink:href=\"#mac30f11aed\" y=\"123.862091\"/>\n     <use style=\"fill:#1f77b4;stroke:#1f77b4;\" x=\"134.378569\" xlink:href=\"#mac30f11aed\" y=\"113.186268\"/>\n     <use style=\"fill:#1f77b4;stroke:#1f77b4;\" x=\"160.58656\" xlink:href=\"#mac30f11aed\" y=\"183.321401\"/>\n     <use style=\"fill:#1f77b4;stroke:#1f77b4;\" x=\"261.524183\" xlink:href=\"#mac30f11aed\" y=\"139.662974\"/>\n     <use style=\"fill:#1f77b4;stroke:#1f77b4;\" x=\"147.144867\" xlink:href=\"#mac30f11aed\" y=\"199.962398\"/>\n     <use style=\"fill:#1f77b4;stroke:#1f77b4;\" x=\"131.078739\" xlink:href=\"#mac30f11aed\" y=\"149.872533\"/>\n     <use style=\"fill:#1f77b4;stroke:#1f77b4;\" x=\"246.278074\" xlink:href=\"#mac30f11aed\" y=\"66.091195\"/>\n     <use style=\"fill:#1f77b4;stroke:#1f77b4;\" x=\"198.387166\" xlink:href=\"#mac30f11aed\" y=\"122.071247\"/>\n     <use style=\"fill:#1f77b4;stroke:#1f77b4;\" x=\"217.620919\" xlink:href=\"#mac30f11aed\" y=\"132.895996\"/>\n     <use style=\"fill:#1f77b4;stroke:#1f77b4;\" x=\"292.225866\" xlink:href=\"#mac30f11aed\" y=\"71.759131\"/>\n     <use style=\"fill:#1f77b4;stroke:#1f77b4;\" x=\"322.728339\" xlink:href=\"#mac30f11aed\" y=\"33.576308\"/>\n     <use style=\"fill:#1f77b4;stroke:#1f77b4;\" x=\"248.308838\" xlink:href=\"#mac30f11aed\" y=\"131.890491\"/>\n     <use style=\"fill:#1f77b4;stroke:#1f77b4;\" x=\"304.768547\" xlink:href=\"#mac30f11aed\" y=\"110.870169\"/>\n     <use style=\"fill:#1f77b4;stroke:#1f77b4;\" x=\"319.587689\" xlink:href=\"#mac30f11aed\" y=\"54.553415\"/>\n     <use style=\"fill:#1f77b4;stroke:#1f77b4;\" x=\"243.257021\" xlink:href=\"#mac30f11aed\" y=\"63.556683\"/>\n     <use style=\"fill:#1f77b4;stroke:#1f77b4;\" x=\"127.10067\" xlink:href=\"#mac30f11aed\" y=\"166.405356\"/>\n     <use style=\"fill:#1f77b4;stroke:#1f77b4;\" x=\"358.020822\" xlink:href=\"#mac30f11aed\" y=\"22.481735\"/>\n     <use style=\"fill:#1f77b4;stroke:#1f77b4;\" x=\"138.636873\" xlink:href=\"#mac30f11aed\" y=\"184.529469\"/>\n     <use style=\"fill:#1f77b4;stroke:#1f77b4;\" x=\"226.701101\" xlink:href=\"#mac30f11aed\" y=\"83.091349\"/>\n     <use style=\"fill:#1f77b4;stroke:#1f77b4;\" x=\"156.741554\" xlink:href=\"#mac30f11aed\" y=\"203.467984\"/>\n     <use style=\"fill:#1f77b4;stroke:#1f77b4;\" x=\"213.269148\" xlink:href=\"#mac30f11aed\" y=\"120.277932\"/>\n     <use style=\"fill:#1f77b4;stroke:#1f77b4;\" x=\"179.460488\" xlink:href=\"#mac30f11aed\" y=\"156.793969\"/>\n     <use style=\"fill:#1f77b4;stroke:#1f77b4;\" x=\"167.06519\" xlink:href=\"#mac30f11aed\" y=\"151.696023\"/>\n     <use style=\"fill:#1f77b4;stroke:#1f77b4;\" x=\"228.087961\" xlink:href=\"#mac30f11aed\" y=\"136.289413\"/>\n     <use style=\"fill:#1f77b4;stroke:#1f77b4;\" x=\"229.059622\" xlink:href=\"#mac30f11aed\" y=\"86.739913\"/>\n     <use style=\"fill:#1f77b4;stroke:#1f77b4;\" x=\"278.06463\" xlink:href=\"#mac30f11aed\" y=\"80.387351\"/>\n     <use style=\"fill:#1f77b4;stroke:#1f77b4;\" x=\"301.995787\" xlink:href=\"#mac30f11aed\" y=\"80.674315\"/>\n     <use style=\"fill:#1f77b4;stroke:#1f77b4;\" x=\"143.876794\" xlink:href=\"#mac30f11aed\" y=\"146.878013\"/>\n     <use style=\"fill:#1f77b4;stroke:#1f77b4;\" x=\"274.763308\" xlink:href=\"#mac30f11aed\" y=\"81.772959\"/>\n     <use style=\"fill:#1f77b4;stroke:#1f77b4;\" x=\"336.814003\" xlink:href=\"#mac30f11aed\" y=\"56.81267\"/>\n     <use style=\"fill:#1f77b4;stroke:#1f77b4;\" x=\"127.139535\" xlink:href=\"#mac30f11aed\" y=\"189.507552\"/>\n     <use style=\"fill:#1f77b4;stroke:#1f77b4;\" x=\"263.925127\" xlink:href=\"#mac30f11aed\" y=\"64.331988\"/>\n     <use style=\"fill:#1f77b4;stroke:#1f77b4;\" x=\"222.30512\" xlink:href=\"#mac30f11aed\" y=\"140.468764\"/>\n     <use style=\"fill:#1f77b4;stroke:#1f77b4;\" x=\"85.301362\" xlink:href=\"#mac30f11aed\" y=\"204.878062\"/>\n     <use style=\"fill:#1f77b4;stroke:#1f77b4;\" x=\"91.821718\" xlink:href=\"#mac30f11aed\" y=\"202.183936\"/>\n     <use style=\"fill:#1f77b4;stroke:#1f77b4;\" x=\"240.70316\" xlink:href=\"#mac30f11aed\" y=\"92.456505\"/>\n     <use style=\"fill:#1f77b4;stroke:#1f77b4;\" x=\"118.65385\" xlink:href=\"#mac30f11aed\" y=\"183.30672\"/>\n     <use style=\"fill:#1f77b4;stroke:#1f77b4;\" x=\"210.920941\" xlink:href=\"#mac30f11aed\" y=\"57.166078\"/>\n     <use style=\"fill:#1f77b4;stroke:#1f77b4;\" x=\"322.695214\" xlink:href=\"#mac30f11aed\" y=\"101.618191\"/>\n     <use style=\"fill:#1f77b4;stroke:#1f77b4;\" x=\"153.856376\" xlink:href=\"#mac30f11aed\" y=\"138.444888\"/>\n     <use style=\"fill:#1f77b4;stroke:#1f77b4;\" x=\"185.955783\" xlink:href=\"#mac30f11aed\" y=\"136.723683\"/>\n     <use style=\"fill:#1f77b4;stroke:#1f77b4;\" x=\"274.482183\" xlink:href=\"#mac30f11aed\" y=\"48.237017\"/>\n     <use style=\"fill:#1f77b4;stroke:#1f77b4;\" x=\"153.972548\" xlink:href=\"#mac30f11aed\" y=\"203.185613\"/>\n     <use style=\"fill:#1f77b4;stroke:#1f77b4;\" x=\"223.27859\" xlink:href=\"#mac30f11aed\" y=\"76.996393\"/>\n     <use style=\"fill:#1f77b4;stroke:#1f77b4;\" x=\"196.920239\" xlink:href=\"#mac30f11aed\" y=\"169.387249\"/>\n     <use style=\"fill:#1f77b4;stroke:#1f77b4;\" x=\"174.20088\" xlink:href=\"#mac30f11aed\" y=\"122.956541\"/>\n     <use style=\"fill:#1f77b4;stroke:#1f77b4;\" x=\"86.308882\" xlink:href=\"#mac30f11aed\" y=\"182.956048\"/>\n     <use style=\"fill:#1f77b4;stroke:#1f77b4;\" x=\"164.076869\" xlink:href=\"#mac30f11aed\" y=\"148.564783\"/>\n     <use style=\"fill:#1f77b4;stroke:#1f77b4;\" x=\"233.740404\" xlink:href=\"#mac30f11aed\" y=\"127.619669\"/>\n     <use style=\"fill:#1f77b4;stroke:#1f77b4;\" x=\"200.052321\" xlink:href=\"#mac30f11aed\" y=\"150.927067\"/>\n     <use style=\"fill:#1f77b4;stroke:#1f77b4;\" x=\"158.903335\" xlink:href=\"#mac30f11aed\" y=\"149.845666\"/>\n     <use style=\"fill:#1f77b4;stroke:#1f77b4;\" x=\"219.428646\" xlink:href=\"#mac30f11aed\" y=\"136.958515\"/>\n     <use style=\"fill:#1f77b4;stroke:#1f77b4;\" x=\"227.937851\" xlink:href=\"#mac30f11aed\" y=\"166.722211\"/>\n     <use style=\"fill:#1f77b4;stroke:#1f77b4;\" x=\"262.806762\" xlink:href=\"#mac30f11aed\" y=\"140.814416\"/>\n     <use style=\"fill:#1f77b4;stroke:#1f77b4;\" x=\"199.956775\" xlink:href=\"#mac30f11aed\" y=\"103.756048\"/>\n     <use style=\"fill:#1f77b4;stroke:#1f77b4;\" x=\"204.886022\" xlink:href=\"#mac30f11aed\" y=\"99.960393\"/>\n    </g>\n   </g>\n   <g id=\"matplotlib.axis_1\">\n    <g id=\"xtick_1\">\n     <g id=\"line2d_1\">\n      <defs>\n       <path d=\"M 0 0 \nL 0 3.5 \n\" id=\"m6d536d9c09\" style=\"stroke:#000000;stroke-width:0.8;\"/>\n      </defs>\n      <g>\n       <use style=\"stroke:#000000;stroke-width:0.8;\" x=\"74.995302\" xlink:href=\"#m6d536d9c09\" y=\"224.64\"/>\n      </g>\n     </g>\n     <g id=\"text_1\">\n      <!-- −7 -->\n      <g transform=\"translate(67.624208 239.238437)scale(0.1 -0.1)\">\n       <defs>\n        <path d=\"M 10.59375 35.5 \nL 73.1875 35.5 \nL 73.1875 27.203125 \nL 10.59375 27.203125 \nz\n\" id=\"DejaVuSans-8722\"/>\n        <path d=\"M 8.203125 72.90625 \nL 55.078125 72.90625 \nL 55.078125 68.703125 \nL 28.609375 0 \nL 18.3125 0 \nL 43.21875 64.59375 \nL 8.203125 64.59375 \nz\n\" id=\"DejaVuSans-55\"/>\n       </defs>\n       <use xlink:href=\"#DejaVuSans-8722\"/>\n       <use x=\"83.789062\" xlink:href=\"#DejaVuSans-55\"/>\n      </g>\n     </g>\n    </g>\n    <g id=\"xtick_2\">\n     <g id=\"line2d_2\">\n      <g>\n       <use style=\"stroke:#000000;stroke-width:0.8;\" x=\"121.910171\" xlink:href=\"#m6d536d9c09\" y=\"224.64\"/>\n      </g>\n     </g>\n     <g id=\"text_2\">\n      <!-- −6 -->\n      <g transform=\"translate(114.539077 239.238437)scale(0.1 -0.1)\">\n       <defs>\n        <path d=\"M 33.015625 40.375 \nQ 26.375 40.375 22.484375 35.828125 \nQ 18.609375 31.296875 18.609375 23.390625 \nQ 18.609375 15.53125 22.484375 10.953125 \nQ 26.375 6.390625 33.015625 6.390625 \nQ 39.65625 6.390625 43.53125 10.953125 \nQ 47.40625 15.53125 47.40625 23.390625 \nQ 47.40625 31.296875 43.53125 35.828125 \nQ 39.65625 40.375 33.015625 40.375 \nz\nM 52.59375 71.296875 \nL 52.59375 62.3125 \nQ 48.875 64.0625 45.09375 64.984375 \nQ 41.3125 65.921875 37.59375 65.921875 \nQ 27.828125 65.921875 22.671875 59.328125 \nQ 17.53125 52.734375 16.796875 39.40625 \nQ 19.671875 43.65625 24.015625 45.921875 \nQ 28.375 48.1875 33.59375 48.1875 \nQ 44.578125 48.1875 50.953125 41.515625 \nQ 57.328125 34.859375 57.328125 23.390625 \nQ 57.328125 12.15625 50.6875 5.359375 \nQ 44.046875 -1.421875 33.015625 -1.421875 \nQ 20.359375 -1.421875 13.671875 8.265625 \nQ 6.984375 17.96875 6.984375 36.375 \nQ 6.984375 53.65625 15.1875 63.9375 \nQ 23.390625 74.21875 37.203125 74.21875 \nQ 40.921875 74.21875 44.703125 73.484375 \nQ 48.484375 72.75 52.59375 71.296875 \nz\n\" id=\"DejaVuSans-54\"/>\n       </defs>\n       <use xlink:href=\"#DejaVuSans-8722\"/>\n       <use x=\"83.789062\" xlink:href=\"#DejaVuSans-54\"/>\n      </g>\n     </g>\n    </g>\n    <g id=\"xtick_3\">\n     <g id=\"line2d_3\">\n      <g>\n       <use style=\"stroke:#000000;stroke-width:0.8;\" x=\"168.82504\" xlink:href=\"#m6d536d9c09\" y=\"224.64\"/>\n      </g>\n     </g>\n     <g id=\"text_3\">\n      <!-- −5 -->\n      <g transform=\"translate(161.453946 239.238437)scale(0.1 -0.1)\">\n       <defs>\n        <path d=\"M 10.796875 72.90625 \nL 49.515625 72.90625 \nL 49.515625 64.59375 \nL 19.828125 64.59375 \nL 19.828125 46.734375 \nQ 21.96875 47.46875 24.109375 47.828125 \nQ 26.265625 48.1875 28.421875 48.1875 \nQ 40.625 48.1875 47.75 41.5 \nQ 54.890625 34.8125 54.890625 23.390625 \nQ 54.890625 11.625 47.5625 5.09375 \nQ 40.234375 -1.421875 26.90625 -1.421875 \nQ 22.3125 -1.421875 17.546875 -0.640625 \nQ 12.796875 0.140625 7.71875 1.703125 \nL 7.71875 11.625 \nQ 12.109375 9.234375 16.796875 8.0625 \nQ 21.484375 6.890625 26.703125 6.890625 \nQ 35.15625 6.890625 40.078125 11.328125 \nQ 45.015625 15.765625 45.015625 23.390625 \nQ 45.015625 31 40.078125 35.4375 \nQ 35.15625 39.890625 26.703125 39.890625 \nQ 22.75 39.890625 18.8125 39.015625 \nQ 14.890625 38.140625 10.796875 36.28125 \nz\n\" id=\"DejaVuSans-53\"/>\n       </defs>\n       <use xlink:href=\"#DejaVuSans-8722\"/>\n       <use x=\"83.789062\" xlink:href=\"#DejaVuSans-53\"/>\n      </g>\n     </g>\n    </g>\n    <g id=\"xtick_4\">\n     <g id=\"line2d_4\">\n      <g>\n       <use style=\"stroke:#000000;stroke-width:0.8;\" x=\"215.739909\" xlink:href=\"#m6d536d9c09\" y=\"224.64\"/>\n      </g>\n     </g>\n     <g id=\"text_4\">\n      <!-- −4 -->\n      <g transform=\"translate(208.368815 239.238437)scale(0.1 -0.1)\">\n       <defs>\n        <path d=\"M 37.796875 64.3125 \nL 12.890625 25.390625 \nL 37.796875 25.390625 \nz\nM 35.203125 72.90625 \nL 47.609375 72.90625 \nL 47.609375 25.390625 \nL 58.015625 25.390625 \nL 58.015625 17.1875 \nL 47.609375 17.1875 \nL 47.609375 0 \nL 37.796875 0 \nL 37.796875 17.1875 \nL 4.890625 17.1875 \nL 4.890625 26.703125 \nz\n\" id=\"DejaVuSans-52\"/>\n       </defs>\n       <use xlink:href=\"#DejaVuSans-8722\"/>\n       <use x=\"83.789062\" xlink:href=\"#DejaVuSans-52\"/>\n      </g>\n     </g>\n    </g>\n    <g id=\"xtick_5\">\n     <g id=\"line2d_5\">\n      <g>\n       <use style=\"stroke:#000000;stroke-width:0.8;\" x=\"262.654777\" xlink:href=\"#m6d536d9c09\" y=\"224.64\"/>\n      </g>\n     </g>\n     <g id=\"text_5\">\n      <!-- −3 -->\n      <g transform=\"translate(255.283684 239.238437)scale(0.1 -0.1)\">\n       <defs>\n        <path d=\"M 40.578125 39.3125 \nQ 47.65625 37.796875 51.625 33 \nQ 55.609375 28.21875 55.609375 21.1875 \nQ 55.609375 10.40625 48.1875 4.484375 \nQ 40.765625 -1.421875 27.09375 -1.421875 \nQ 22.515625 -1.421875 17.65625 -0.515625 \nQ 12.796875 0.390625 7.625 2.203125 \nL 7.625 11.71875 \nQ 11.71875 9.328125 16.59375 8.109375 \nQ 21.484375 6.890625 26.8125 6.890625 \nQ 36.078125 6.890625 40.9375 10.546875 \nQ 45.796875 14.203125 45.796875 21.1875 \nQ 45.796875 27.640625 41.28125 31.265625 \nQ 36.765625 34.90625 28.71875 34.90625 \nL 20.21875 34.90625 \nL 20.21875 43.015625 \nL 29.109375 43.015625 \nQ 36.375 43.015625 40.234375 45.921875 \nQ 44.09375 48.828125 44.09375 54.296875 \nQ 44.09375 59.90625 40.109375 62.90625 \nQ 36.140625 65.921875 28.71875 65.921875 \nQ 24.65625 65.921875 20.015625 65.03125 \nQ 15.375 64.15625 9.8125 62.3125 \nL 9.8125 71.09375 \nQ 15.4375 72.65625 20.34375 73.4375 \nQ 25.25 74.21875 29.59375 74.21875 \nQ 40.828125 74.21875 47.359375 69.109375 \nQ 53.90625 64.015625 53.90625 55.328125 \nQ 53.90625 49.265625 50.4375 45.09375 \nQ 46.96875 40.921875 40.578125 39.3125 \nz\n\" id=\"DejaVuSans-51\"/>\n       </defs>\n       <use xlink:href=\"#DejaVuSans-8722\"/>\n       <use x=\"83.789062\" xlink:href=\"#DejaVuSans-51\"/>\n      </g>\n     </g>\n    </g>\n    <g id=\"xtick_6\">\n     <g id=\"line2d_6\">\n      <g>\n       <use style=\"stroke:#000000;stroke-width:0.8;\" x=\"309.569646\" xlink:href=\"#m6d536d9c09\" y=\"224.64\"/>\n      </g>\n     </g>\n     <g id=\"text_6\">\n      <!-- −2 -->\n      <g transform=\"translate(302.198553 239.238437)scale(0.1 -0.1)\">\n       <defs>\n        <path d=\"M 19.1875 8.296875 \nL 53.609375 8.296875 \nL 53.609375 0 \nL 7.328125 0 \nL 7.328125 8.296875 \nQ 12.9375 14.109375 22.625 23.890625 \nQ 32.328125 33.6875 34.8125 36.53125 \nQ 39.546875 41.84375 41.421875 45.53125 \nQ 43.3125 49.21875 43.3125 52.78125 \nQ 43.3125 58.59375 39.234375 62.25 \nQ 35.15625 65.921875 28.609375 65.921875 \nQ 23.96875 65.921875 18.8125 64.3125 \nQ 13.671875 62.703125 7.8125 59.421875 \nL 7.8125 69.390625 \nQ 13.765625 71.78125 18.9375 73 \nQ 24.125 74.21875 28.421875 74.21875 \nQ 39.75 74.21875 46.484375 68.546875 \nQ 53.21875 62.890625 53.21875 53.421875 \nQ 53.21875 48.921875 51.53125 44.890625 \nQ 49.859375 40.875 45.40625 35.40625 \nQ 44.1875 33.984375 37.640625 27.21875 \nQ 31.109375 20.453125 19.1875 8.296875 \nz\n\" id=\"DejaVuSans-50\"/>\n       </defs>\n       <use xlink:href=\"#DejaVuSans-8722\"/>\n       <use x=\"83.789062\" xlink:href=\"#DejaVuSans-50\"/>\n      </g>\n     </g>\n    </g>\n    <g id=\"xtick_7\">\n     <g id=\"line2d_7\">\n      <g>\n       <use style=\"stroke:#000000;stroke-width:0.8;\" x=\"356.484515\" xlink:href=\"#m6d536d9c09\" y=\"224.64\"/>\n      </g>\n     </g>\n     <g id=\"text_7\">\n      <!-- −1 -->\n      <g transform=\"translate(349.113421 239.238437)scale(0.1 -0.1)\">\n       <defs>\n        <path d=\"M 12.40625 8.296875 \nL 28.515625 8.296875 \nL 28.515625 63.921875 \nL 10.984375 60.40625 \nL 10.984375 69.390625 \nL 28.421875 72.90625 \nL 38.28125 72.90625 \nL 38.28125 8.296875 \nL 54.390625 8.296875 \nL 54.390625 0 \nL 12.40625 0 \nz\n\" id=\"DejaVuSans-49\"/>\n       </defs>\n       <use xlink:href=\"#DejaVuSans-8722\"/>\n       <use x=\"83.789062\" xlink:href=\"#DejaVuSans-49\"/>\n      </g>\n     </g>\n    </g>\n    <g id=\"text_8\">\n     <!-- $x_1$ -->\n     <g transform=\"translate(204.948438 252.916562)scale(0.1 -0.1)\">\n      <defs>\n       <path d=\"M 60.015625 54.6875 \nL 34.90625 27.875 \nL 50.296875 0 \nL 39.984375 0 \nL 28.421875 21.6875 \nL 8.296875 0 \nL -2.59375 0 \nL 24.3125 28.8125 \nL 10.015625 54.6875 \nL 20.3125 54.6875 \nL 30.8125 34.90625 \nL 49.125 54.6875 \nz\n\" id=\"DejaVuSans-Oblique-120\"/>\n      </defs>\n      <use transform=\"translate(0 0.3125)\" xlink:href=\"#DejaVuSans-Oblique-120\"/>\n      <use transform=\"translate(59.179688 -16.09375)scale(0.7)\" xlink:href=\"#DejaVuSans-49\"/>\n     </g>\n    </g>\n   </g>\n   <g id=\"matplotlib.axis_2\">\n    <g id=\"ytick_1\">\n     <g id=\"line2d_8\">\n      <defs>\n       <path d=\"M 0 0 \nL -3.5 0 \n\" id=\"mecbc272bc9\" style=\"stroke:#000000;stroke-width:0.8;\"/>\n      </defs>\n      <g>\n       <use style=\"stroke:#000000;stroke-width:0.8;\" x=\"42.898438\" xlink:href=\"#mecbc272bc9\" y=\"203.82559\"/>\n      </g>\n     </g>\n     <g id=\"text_9\">\n      <!-- −7 -->\n      <g transform=\"translate(21.15625 207.624809)scale(0.1 -0.1)\">\n       <use xlink:href=\"#DejaVuSans-8722\"/>\n       <use x=\"83.789062\" xlink:href=\"#DejaVuSans-55\"/>\n      </g>\n     </g>\n    </g>\n    <g id=\"ytick_2\">\n     <g id=\"line2d_9\">\n      <g>\n       <use style=\"stroke:#000000;stroke-width:0.8;\" x=\"42.898438\" xlink:href=\"#mecbc272bc9\" y=\"174.601933\"/>\n      </g>\n     </g>\n     <g id=\"text_10\">\n      <!-- −6 -->\n      <g transform=\"translate(21.15625 178.401152)scale(0.1 -0.1)\">\n       <use xlink:href=\"#DejaVuSans-8722\"/>\n       <use x=\"83.789062\" xlink:href=\"#DejaVuSans-54\"/>\n      </g>\n     </g>\n    </g>\n    <g id=\"ytick_3\">\n     <g id=\"line2d_10\">\n      <g>\n       <use style=\"stroke:#000000;stroke-width:0.8;\" x=\"42.898438\" xlink:href=\"#mecbc272bc9\" y=\"145.378277\"/>\n      </g>\n     </g>\n     <g id=\"text_11\">\n      <!-- −5 -->\n      <g transform=\"translate(21.15625 149.177495)scale(0.1 -0.1)\">\n       <use xlink:href=\"#DejaVuSans-8722\"/>\n       <use x=\"83.789062\" xlink:href=\"#DejaVuSans-53\"/>\n      </g>\n     </g>\n    </g>\n    <g id=\"ytick_4\">\n     <g id=\"line2d_11\">\n      <g>\n       <use style=\"stroke:#000000;stroke-width:0.8;\" x=\"42.898438\" xlink:href=\"#mecbc272bc9\" y=\"116.15462\"/>\n      </g>\n     </g>\n     <g id=\"text_12\">\n      <!-- −4 -->\n      <g transform=\"translate(21.15625 119.953839)scale(0.1 -0.1)\">\n       <use xlink:href=\"#DejaVuSans-8722\"/>\n       <use x=\"83.789062\" xlink:href=\"#DejaVuSans-52\"/>\n      </g>\n     </g>\n    </g>\n    <g id=\"ytick_5\">\n     <g id=\"line2d_12\">\n      <g>\n       <use style=\"stroke:#000000;stroke-width:0.8;\" x=\"42.898438\" xlink:href=\"#mecbc272bc9\" y=\"86.930963\"/>\n      </g>\n     </g>\n     <g id=\"text_13\">\n      <!-- −3 -->\n      <g transform=\"translate(21.15625 90.730182)scale(0.1 -0.1)\">\n       <use xlink:href=\"#DejaVuSans-8722\"/>\n       <use x=\"83.789062\" xlink:href=\"#DejaVuSans-51\"/>\n      </g>\n     </g>\n    </g>\n    <g id=\"ytick_6\">\n     <g id=\"line2d_13\">\n      <g>\n       <use style=\"stroke:#000000;stroke-width:0.8;\" x=\"42.898438\" xlink:href=\"#mecbc272bc9\" y=\"57.707306\"/>\n      </g>\n     </g>\n     <g id=\"text_14\">\n      <!-- −2 -->\n      <g transform=\"translate(21.15625 61.506525)scale(0.1 -0.1)\">\n       <use xlink:href=\"#DejaVuSans-8722\"/>\n       <use x=\"83.789062\" xlink:href=\"#DejaVuSans-50\"/>\n      </g>\n     </g>\n    </g>\n    <g id=\"ytick_7\">\n     <g id=\"line2d_14\">\n      <g>\n       <use style=\"stroke:#000000;stroke-width:0.8;\" x=\"42.898438\" xlink:href=\"#mecbc272bc9\" y=\"28.48365\"/>\n      </g>\n     </g>\n     <g id=\"text_15\">\n      <!-- −1 -->\n      <g transform=\"translate(21.15625 32.282868)scale(0.1 -0.1)\">\n       <use xlink:href=\"#DejaVuSans-8722\"/>\n       <use x=\"83.789062\" xlink:href=\"#DejaVuSans-49\"/>\n      </g>\n     </g>\n    </g>\n    <g id=\"text_16\">\n     <!-- $y_1&amp; -->\n     <g transform=\"translate(14.798437 131.641094)rotate(-90)scale(0.1 -0.1)\">\n      <defs>\n       <path d=\"M 33.796875 -14.703125 \nL 28.90625 -14.703125 \nL 28.859375 0 \nQ 23.734375 0.09375 18.609375 1.1875 \nQ 13.484375 2.296875 8.296875 4.5 \nL 8.296875 13.28125 \nQ 13.28125 10.15625 18.375 8.5625 \nQ 23.484375 6.984375 28.90625 6.9375 \nL 28.90625 29.203125 \nQ 18.109375 30.953125 13.203125 35.15625 \nQ 8.296875 39.359375 8.296875 46.6875 \nQ 8.296875 54.640625 13.625 59.21875 \nQ 18.953125 63.8125 28.90625 64.5 \nL 28.90625 75.984375 \nL 33.796875 75.984375 \nL 33.796875 64.65625 \nQ 38.328125 64.453125 42.578125 63.6875 \nQ 46.828125 62.9375 50.875 61.625 \nL 50.875 53.078125 \nQ 46.828125 55.125 42.546875 56.25 \nQ 38.28125 57.375 33.796875 57.5625 \nL 33.796875 36.71875 \nQ 44.875 35.015625 50.09375 30.609375 \nQ 55.328125 26.21875 55.328125 18.609375 \nQ 55.328125 10.359375 49.78125 5.59375 \nQ 44.234375 0.828125 33.796875 0.09375 \nz\nM 28.90625 37.59375 \nL 28.90625 57.625 \nQ 23.25 56.984375 20.265625 54.390625 \nQ 17.28125 51.8125 17.28125 47.515625 \nQ 17.28125 43.3125 20.03125 40.96875 \nQ 22.796875 38.625 28.90625 37.59375 \nz\nM 33.796875 28.21875 \nL 33.796875 7.078125 \nQ 39.984375 7.90625 43.140625 10.59375 \nQ 46.296875 13.28125 46.296875 17.671875 \nQ 46.296875 21.96875 43.28125 24.5 \nQ 40.28125 27.046875 33.796875 28.21875 \nz\n\" id=\"DejaVuSans-36\"/>\n       <path d=\"M 32.171875 -5.078125 \nQ 28.375 -14.84375 24.75 -17.8125 \nQ 21.140625 -20.796875 15.09375 -20.796875 \nL 7.90625 -20.796875 \nL 7.90625 -13.28125 \nL 13.1875 -13.28125 \nQ 16.890625 -13.28125 18.9375 -11.515625 \nQ 21 -9.765625 23.484375 -3.21875 \nL 25.09375 0.875 \nL 2.984375 54.6875 \nL 12.5 54.6875 \nL 29.59375 11.921875 \nL 46.6875 54.6875 \nL 56.203125 54.6875 \nz\n\" id=\"DejaVuSans-121\"/>\n       <path d=\"M 50.984375 -16.609375 \nL 50.984375 -23.578125 \nL -0.984375 -23.578125 \nL -0.984375 -16.609375 \nz\n\" id=\"DejaVuSans-95\"/>\n       <path d=\"M 24.3125 39.203125 \nQ 19.875 35.25 17.796875 31.3125 \nQ 15.71875 27.390625 15.71875 23.09375 \nQ 15.71875 15.96875 20.890625 11.234375 \nQ 26.078125 6.5 33.890625 6.5 \nQ 38.53125 6.5 42.578125 8.03125 \nQ 46.625 9.578125 50.203125 12.703125 \nz\nM 31.203125 44.671875 \nL 56 19.28125 \nQ 58.890625 23.640625 60.5 28.59375 \nQ 62.109375 33.546875 62.40625 39.109375 \nL 71.484375 39.109375 \nQ 70.90625 32.671875 68.359375 26.359375 \nQ 65.828125 20.0625 61.28125 13.921875 \nL 74.90625 0 \nL 62.59375 0 \nL 55.609375 7.171875 \nQ 50.53125 2.828125 44.96875 0.703125 \nQ 39.40625 -1.421875 33.015625 -1.421875 \nQ 21.234375 -1.421875 13.765625 5.296875 \nQ 6.296875 12.015625 6.296875 22.515625 \nQ 6.296875 28.765625 9.5625 34.25 \nQ 12.84375 39.75 19.390625 44.578125 \nQ 17.046875 47.65625 15.8125 50.703125 \nQ 14.59375 53.765625 14.59375 56.6875 \nQ 14.59375 64.59375 20.015625 69.40625 \nQ 25.4375 74.21875 34.421875 74.21875 \nQ 38.484375 74.21875 42.5 73.34375 \nQ 46.53125 72.46875 50.6875 70.703125 \nL 50.6875 61.8125 \nQ 46.4375 64.109375 42.578125 65.296875 \nQ 38.71875 66.5 35.40625 66.5 \nQ 30.28125 66.5 27.078125 63.78125 \nQ 23.875 61.078125 23.875 56.78125 \nQ 23.875 54.296875 25.3125 51.78125 \nQ 26.765625 49.265625 31.203125 44.671875 \nz\n\" id=\"DejaVuSans-38\"/>\n      </defs>\n      <use xlink:href=\"#DejaVuSans-36\"/>\n      <use x=\"63.623047\" xlink:href=\"#DejaVuSans-121\"/>\n      <use x=\"122.802734\" xlink:href=\"#DejaVuSans-95\"/>\n      <use x=\"172.802734\" xlink:href=\"#DejaVuSans-49\"/>\n      <use x=\"236.425781\" xlink:href=\"#DejaVuSans-38\"/>\n     </g>\n    </g>\n   </g>\n   <g id=\"patch_3\">\n    <path d=\"M 42.898438 224.64 \nL 42.898438 7.2 \n\" style=\"fill:none;stroke:#000000;stroke-linecap:square;stroke-linejoin:miter;stroke-width:0.8;\"/>\n   </g>\n   <g id=\"patch_4\">\n    <path d=\"M 377.698438 224.64 \nL 377.698438 7.2 \n\" style=\"fill:none;stroke:#000000;stroke-linecap:square;stroke-linejoin:miter;stroke-width:0.8;\"/>\n   </g>\n   <g id=\"patch_5\">\n    <path d=\"M 42.898437 224.64 \nL 377.698438 224.64 \n\" style=\"fill:none;stroke:#000000;stroke-linecap:square;stroke-linejoin:miter;stroke-width:0.8;\"/>\n   </g>\n   <g id=\"patch_6\">\n    <path d=\"M 42.898437 7.2 \nL 377.698438 7.2 \n\" style=\"fill:none;stroke:#000000;stroke-linecap:square;stroke-linejoin:miter;stroke-width:0.8;\"/>\n   </g>\n  </g>\n </g>\n <defs>\n  <clipPath id=\"pe20393aa9b\">\n   <rect height=\"217.44\" width=\"334.8\" x=\"42.898438\" y=\"7.2\"/>\n  </clipPath>\n </defs>\n</svg>\n",
      "image/png": "[encoded data removed]"
     },
     "metadata": {
      "needs_background": "light"
     }
    }
   ],
   "source": [
    "# plot the data\n",
    "\n",
    "fig, ax = plt.subplots()\n",
    "ax.scatter(x_1,y_1)\n",
    "ax.set_xlabel('$x_1$')\n",
    "ax.set_ylabel('$y_1&')"
   ]
  },
  {
   "cell_type": "code",
   "execution_count": 112,
   "metadata": {},
   "outputs": [
    {
     "output_type": "error",
     "ename": "SyntaxError",
     "evalue": "invalid syntax (<ipython-input-112-4da3a43af776>, line 3)",
     "traceback": [
      "\u001b[0;36m  File \u001b[0;32m\"<ipython-input-112-4da3a43af776>\"\u001b[0;36m, line \u001b[0;32m3\u001b[0m\n\u001b[0;31m    theta_best_1\u001b[0m\n\u001b[0m    ^\u001b[0m\n\u001b[0;31mSyntaxError\u001b[0m\u001b[0;31m:\u001b[0m invalid syntax\n"
     ]
    }
   ],
   "source": [
    "x_b1 = np.c_[np.ones((n,1)),x_1.T]\n",
    "theta_best_1=np.dot(np.dot(np.linalg.inv(np.dot(x_b1.T,x_b1)),y_1.T)\n",
    "theta_best_1"
   ]
  },
  {
   "cell_type": "code",
   "execution_count": 113,
   "metadata": {},
   "outputs": [
    {
     "output_type": "execute_result",
     "data": {
      "text/plain": [
       "array([[-0.67552785,  0.8494107 ],\n",
       "       [-0.67552785,  0.8494107 ],\n",
       "       [-0.67552785,  0.8494107 ],\n",
       "       [-0.67552785,  0.8494107 ],\n",
       "       [-0.67552785,  0.8494107 ],\n",
       "       [-0.67552785,  0.8494107 ],\n",
       "       [-0.67552785,  0.8494107 ],\n",
       "       [-0.67552785,  0.8494107 ],\n",
       "       [-0.67552785,  0.8494107 ],\n",
       "       [-0.67552785,  0.8494107 ],\n",
       "       [-0.67552785,  0.8494107 ],\n",
       "       [-0.67552785,  0.8494107 ],\n",
       "       [-0.67552785,  0.8494107 ],\n",
       "       [-0.67552785,  0.8494107 ],\n",
       "       [-0.67552785,  0.8494107 ],\n",
       "       [-0.67552785,  0.8494107 ],\n",
       "       [-0.67552785,  0.8494107 ],\n",
       "       [-0.67552785,  0.8494107 ],\n",
       "       [-0.67552785,  0.8494107 ],\n",
       "       [-0.67552785,  0.8494107 ]])"
      ]
     },
     "metadata": {},
     "execution_count": 113
    }
   ],
   "source": [
    "n_new = 10\n",
    "\n",
    "x_new_1 = rng.multivariate_normal(mu,cov,(n_new)).T\n",
    "y_new_1 = x_new_1 +  rng.normal(0,1,n_new)\n",
    "\n",
    "x_b_new_1 = np.c_[np.ones((x_new1.shape[0],1))]\n",
    "y_pred_1 = np.dot(x_b_new_1,theta_best_1.T)\n",
    "y_pred_1"
   ]
  },
  {
   "cell_type": "code",
   "execution_count": 114,
   "metadata": {},
   "outputs": [
    {
     "output_type": "error",
     "ename": "ValueError",
     "evalue": "Found input variables with inconsistent numbers of samples: [6, 2]",
     "traceback": [
      "\u001b[0;31m---------------------------------------------------------------------------\u001b[0m",
      "\u001b[0;31mValueError\u001b[0m                                Traceback (most recent call last)",
      "\u001b[0;32m<ipython-input-114-280efa561b32>\u001b[0m in \u001b[0;36m<module>\u001b[0;34m\u001b[0m\n\u001b[0;32m----> 1\u001b[0;31m \u001b[0mmean_squared_error\u001b[0m\u001b[0;34m(\u001b[0m\u001b[0my_new_1\u001b[0m\u001b[0;34m,\u001b[0m\u001b[0my_pred_1\u001b[0m\u001b[0;34m.\u001b[0m\u001b[0mT\u001b[0m\u001b[0;34m)\u001b[0m\u001b[0;34m\u001b[0m\u001b[0;34m\u001b[0m\u001b[0m\n\u001b[0m",
      "\u001b[0;32m/opt/homebrew/Caskroom/miniconda/base/envs/jnb/lib/python3.8/site-packages/sklearn/utils/validation.py\u001b[0m in \u001b[0;36minner_f\u001b[0;34m(*args, **kwargs)\u001b[0m\n\u001b[1;32m     61\u001b[0m             \u001b[0mextra_args\u001b[0m \u001b[0;34m=\u001b[0m \u001b[0mlen\u001b[0m\u001b[0;34m(\u001b[0m\u001b[0margs\u001b[0m\u001b[0;34m)\u001b[0m \u001b[0;34m-\u001b[0m \u001b[0mlen\u001b[0m\u001b[0;34m(\u001b[0m\u001b[0mall_args\u001b[0m\u001b[0;34m)\u001b[0m\u001b[0;34m\u001b[0m\u001b[0;34m\u001b[0m\u001b[0m\n\u001b[1;32m     62\u001b[0m             \u001b[0;32mif\u001b[0m \u001b[0mextra_args\u001b[0m \u001b[0;34m<=\u001b[0m \u001b[0;36m0\u001b[0m\u001b[0;34m:\u001b[0m\u001b[0;34m\u001b[0m\u001b[0;34m\u001b[0m\u001b[0m\n\u001b[0;32m---> 63\u001b[0;31m                 \u001b[0;32mreturn\u001b[0m \u001b[0mf\u001b[0m\u001b[0;34m(\u001b[0m\u001b[0;34m*\u001b[0m\u001b[0margs\u001b[0m\u001b[0;34m,\u001b[0m \u001b[0;34m**\u001b[0m\u001b[0mkwargs\u001b[0m\u001b[0;34m)\u001b[0m\u001b[0;34m\u001b[0m\u001b[0;34m\u001b[0m\u001b[0m\n\u001b[0m\u001b[1;32m     64\u001b[0m \u001b[0;34m\u001b[0m\u001b[0m\n\u001b[1;32m     65\u001b[0m             \u001b[0;31m# extra_args > 0\u001b[0m\u001b[0;34m\u001b[0m\u001b[0;34m\u001b[0m\u001b[0;34m\u001b[0m\u001b[0m\n",
      "\u001b[0;32m/opt/homebrew/Caskroom/miniconda/base/envs/jnb/lib/python3.8/site-packages/sklearn/metrics/_regression.py\u001b[0m in \u001b[0;36mmean_squared_error\u001b[0;34m(y_true, y_pred, sample_weight, multioutput, squared)\u001b[0m\n\u001b[1;32m    333\u001b[0m     \u001b[0;36m0.825\u001b[0m\u001b[0;34m...\u001b[0m\u001b[0;34m\u001b[0m\u001b[0;34m\u001b[0m\u001b[0m\n\u001b[1;32m    334\u001b[0m     \"\"\"\n\u001b[0;32m--> 335\u001b[0;31m     y_type, y_true, y_pred, multioutput = _check_reg_targets(\n\u001b[0m\u001b[1;32m    336\u001b[0m         y_true, y_pred, multioutput)\n\u001b[1;32m    337\u001b[0m     \u001b[0mcheck_consistent_length\u001b[0m\u001b[0;34m(\u001b[0m\u001b[0my_true\u001b[0m\u001b[0;34m,\u001b[0m \u001b[0my_pred\u001b[0m\u001b[0;34m,\u001b[0m \u001b[0msample_weight\u001b[0m\u001b[0;34m)\u001b[0m\u001b[0;34m\u001b[0m\u001b[0;34m\u001b[0m\u001b[0m\n",
      "\u001b[0;32m/opt/homebrew/Caskroom/miniconda/base/envs/jnb/lib/python3.8/site-packages/sklearn/metrics/_regression.py\u001b[0m in \u001b[0;36m_check_reg_targets\u001b[0;34m(y_true, y_pred, multioutput, dtype)\u001b[0m\n\u001b[1;32m     86\u001b[0m         \u001b[0mthe\u001b[0m \u001b[0mdtype\u001b[0m \u001b[0margument\u001b[0m \u001b[0mpassed\u001b[0m \u001b[0mto\u001b[0m \u001b[0mcheck_array\u001b[0m\u001b[0;34m.\u001b[0m\u001b[0;34m\u001b[0m\u001b[0;34m\u001b[0m\u001b[0m\n\u001b[1;32m     87\u001b[0m     \"\"\"\n\u001b[0;32m---> 88\u001b[0;31m     \u001b[0mcheck_consistent_length\u001b[0m\u001b[0;34m(\u001b[0m\u001b[0my_true\u001b[0m\u001b[0;34m,\u001b[0m \u001b[0my_pred\u001b[0m\u001b[0;34m)\u001b[0m\u001b[0;34m\u001b[0m\u001b[0;34m\u001b[0m\u001b[0m\n\u001b[0m\u001b[1;32m     89\u001b[0m     \u001b[0my_true\u001b[0m \u001b[0;34m=\u001b[0m \u001b[0mcheck_array\u001b[0m\u001b[0;34m(\u001b[0m\u001b[0my_true\u001b[0m\u001b[0;34m,\u001b[0m \u001b[0mensure_2d\u001b[0m\u001b[0;34m=\u001b[0m\u001b[0;32mFalse\u001b[0m\u001b[0;34m,\u001b[0m \u001b[0mdtype\u001b[0m\u001b[0;34m=\u001b[0m\u001b[0mdtype\u001b[0m\u001b[0;34m)\u001b[0m\u001b[0;34m\u001b[0m\u001b[0;34m\u001b[0m\u001b[0m\n\u001b[1;32m     90\u001b[0m     \u001b[0my_pred\u001b[0m \u001b[0;34m=\u001b[0m \u001b[0mcheck_array\u001b[0m\u001b[0;34m(\u001b[0m\u001b[0my_pred\u001b[0m\u001b[0;34m,\u001b[0m \u001b[0mensure_2d\u001b[0m\u001b[0;34m=\u001b[0m\u001b[0;32mFalse\u001b[0m\u001b[0;34m,\u001b[0m \u001b[0mdtype\u001b[0m\u001b[0;34m=\u001b[0m\u001b[0mdtype\u001b[0m\u001b[0;34m)\u001b[0m\u001b[0;34m\u001b[0m\u001b[0;34m\u001b[0m\u001b[0m\n",
      "\u001b[0;32m/opt/homebrew/Caskroom/miniconda/base/envs/jnb/lib/python3.8/site-packages/sklearn/utils/validation.py\u001b[0m in \u001b[0;36mcheck_consistent_length\u001b[0;34m(*arrays)\u001b[0m\n\u001b[1;32m    260\u001b[0m     \u001b[0muniques\u001b[0m \u001b[0;34m=\u001b[0m \u001b[0mnp\u001b[0m\u001b[0;34m.\u001b[0m\u001b[0munique\u001b[0m\u001b[0;34m(\u001b[0m\u001b[0mlengths\u001b[0m\u001b[0;34m)\u001b[0m\u001b[0;34m\u001b[0m\u001b[0;34m\u001b[0m\u001b[0m\n\u001b[1;32m    261\u001b[0m     \u001b[0;32mif\u001b[0m \u001b[0mlen\u001b[0m\u001b[0;34m(\u001b[0m\u001b[0muniques\u001b[0m\u001b[0;34m)\u001b[0m \u001b[0;34m>\u001b[0m \u001b[0;36m1\u001b[0m\u001b[0;34m:\u001b[0m\u001b[0;34m\u001b[0m\u001b[0;34m\u001b[0m\u001b[0m\n\u001b[0;32m--> 262\u001b[0;31m         raise ValueError(\"Found input variables with inconsistent numbers of\"\n\u001b[0m\u001b[1;32m    263\u001b[0m                          \" samples: %r\" % [int(l) for l in lengths])\n\u001b[1;32m    264\u001b[0m \u001b[0;34m\u001b[0m\u001b[0m\n",
      "\u001b[0;31mValueError\u001b[0m: Found input variables with inconsistent numbers of samples: [6, 2]"
     ]
    }
   ],
   "source": [
    "mean_squared_error(y_new_1,y_pred_1.T)"
   ]
  },
  {
   "cell_type": "code",
   "execution_count": 115,
   "metadata": {},
   "outputs": [
    {
     "output_type": "error",
     "ename": "ValueError",
     "evalue": "Found input variables with inconsistent numbers of samples: [6, 20]",
     "traceback": [
      "\u001b[0;31m---------------------------------------------------------------------------\u001b[0m",
      "\u001b[0;31mValueError\u001b[0m                                Traceback (most recent call last)",
      "\u001b[0;32m<ipython-input-115-8bd425cb901a>\u001b[0m in \u001b[0;36m<module>\u001b[0;34m\u001b[0m\n\u001b[0;32m----> 1\u001b[0;31m \u001b[0mr2_score\u001b[0m\u001b[0;34m(\u001b[0m\u001b[0my_new_1\u001b[0m\u001b[0;34m,\u001b[0m\u001b[0my_pred_1\u001b[0m\u001b[0;34m)\u001b[0m\u001b[0;34m\u001b[0m\u001b[0;34m\u001b[0m\u001b[0m\n\u001b[0m",
      "\u001b[0;32m/opt/homebrew/Caskroom/miniconda/base/envs/jnb/lib/python3.8/site-packages/sklearn/utils/validation.py\u001b[0m in \u001b[0;36minner_f\u001b[0;34m(*args, **kwargs)\u001b[0m\n\u001b[1;32m     61\u001b[0m             \u001b[0mextra_args\u001b[0m \u001b[0;34m=\u001b[0m \u001b[0mlen\u001b[0m\u001b[0;34m(\u001b[0m\u001b[0margs\u001b[0m\u001b[0;34m)\u001b[0m \u001b[0;34m-\u001b[0m \u001b[0mlen\u001b[0m\u001b[0;34m(\u001b[0m\u001b[0mall_args\u001b[0m\u001b[0;34m)\u001b[0m\u001b[0;34m\u001b[0m\u001b[0;34m\u001b[0m\u001b[0m\n\u001b[1;32m     62\u001b[0m             \u001b[0;32mif\u001b[0m \u001b[0mextra_args\u001b[0m \u001b[0;34m<=\u001b[0m \u001b[0;36m0\u001b[0m\u001b[0;34m:\u001b[0m\u001b[0;34m\u001b[0m\u001b[0;34m\u001b[0m\u001b[0m\n\u001b[0;32m---> 63\u001b[0;31m                 \u001b[0;32mreturn\u001b[0m \u001b[0mf\u001b[0m\u001b[0;34m(\u001b[0m\u001b[0;34m*\u001b[0m\u001b[0margs\u001b[0m\u001b[0;34m,\u001b[0m \u001b[0;34m**\u001b[0m\u001b[0mkwargs\u001b[0m\u001b[0;34m)\u001b[0m\u001b[0;34m\u001b[0m\u001b[0;34m\u001b[0m\u001b[0m\n\u001b[0m\u001b[1;32m     64\u001b[0m \u001b[0;34m\u001b[0m\u001b[0m\n\u001b[1;32m     65\u001b[0m             \u001b[0;31m# extra_args > 0\u001b[0m\u001b[0;34m\u001b[0m\u001b[0;34m\u001b[0m\u001b[0;34m\u001b[0m\u001b[0m\n",
      "\u001b[0;32m/opt/homebrew/Caskroom/miniconda/base/envs/jnb/lib/python3.8/site-packages/sklearn/metrics/_regression.py\u001b[0m in \u001b[0;36mr2_score\u001b[0;34m(y_true, y_pred, sample_weight, multioutput)\u001b[0m\n\u001b[1;32m    674\u001b[0m     \u001b[0;34m-\u001b[0m\u001b[0;36m3.0\u001b[0m\u001b[0;34m\u001b[0m\u001b[0;34m\u001b[0m\u001b[0m\n\u001b[1;32m    675\u001b[0m     \"\"\"\n\u001b[0;32m--> 676\u001b[0;31m     y_type, y_true, y_pred, multioutput = _check_reg_targets(\n\u001b[0m\u001b[1;32m    677\u001b[0m         y_true, y_pred, multioutput)\n\u001b[1;32m    678\u001b[0m     \u001b[0mcheck_consistent_length\u001b[0m\u001b[0;34m(\u001b[0m\u001b[0my_true\u001b[0m\u001b[0;34m,\u001b[0m \u001b[0my_pred\u001b[0m\u001b[0;34m,\u001b[0m \u001b[0msample_weight\u001b[0m\u001b[0;34m)\u001b[0m\u001b[0;34m\u001b[0m\u001b[0;34m\u001b[0m\u001b[0m\n",
      "\u001b[0;32m/opt/homebrew/Caskroom/miniconda/base/envs/jnb/lib/python3.8/site-packages/sklearn/metrics/_regression.py\u001b[0m in \u001b[0;36m_check_reg_targets\u001b[0;34m(y_true, y_pred, multioutput, dtype)\u001b[0m\n\u001b[1;32m     86\u001b[0m         \u001b[0mthe\u001b[0m \u001b[0mdtype\u001b[0m \u001b[0margument\u001b[0m \u001b[0mpassed\u001b[0m \u001b[0mto\u001b[0m \u001b[0mcheck_array\u001b[0m\u001b[0;34m.\u001b[0m\u001b[0;34m\u001b[0m\u001b[0;34m\u001b[0m\u001b[0m\n\u001b[1;32m     87\u001b[0m     \"\"\"\n\u001b[0;32m---> 88\u001b[0;31m     \u001b[0mcheck_consistent_length\u001b[0m\u001b[0;34m(\u001b[0m\u001b[0my_true\u001b[0m\u001b[0;34m,\u001b[0m \u001b[0my_pred\u001b[0m\u001b[0;34m)\u001b[0m\u001b[0;34m\u001b[0m\u001b[0;34m\u001b[0m\u001b[0m\n\u001b[0m\u001b[1;32m     89\u001b[0m     \u001b[0my_true\u001b[0m \u001b[0;34m=\u001b[0m \u001b[0mcheck_array\u001b[0m\u001b[0;34m(\u001b[0m\u001b[0my_true\u001b[0m\u001b[0;34m,\u001b[0m \u001b[0mensure_2d\u001b[0m\u001b[0;34m=\u001b[0m\u001b[0;32mFalse\u001b[0m\u001b[0;34m,\u001b[0m \u001b[0mdtype\u001b[0m\u001b[0;34m=\u001b[0m\u001b[0mdtype\u001b[0m\u001b[0;34m)\u001b[0m\u001b[0;34m\u001b[0m\u001b[0;34m\u001b[0m\u001b[0m\n\u001b[1;32m     90\u001b[0m     \u001b[0my_pred\u001b[0m \u001b[0;34m=\u001b[0m \u001b[0mcheck_array\u001b[0m\u001b[0;34m(\u001b[0m\u001b[0my_pred\u001b[0m\u001b[0;34m,\u001b[0m \u001b[0mensure_2d\u001b[0m\u001b[0;34m=\u001b[0m\u001b[0;32mFalse\u001b[0m\u001b[0;34m,\u001b[0m \u001b[0mdtype\u001b[0m\u001b[0;34m=\u001b[0m\u001b[0mdtype\u001b[0m\u001b[0;34m)\u001b[0m\u001b[0;34m\u001b[0m\u001b[0;34m\u001b[0m\u001b[0m\n",
      "\u001b[0;32m/opt/homebrew/Caskroom/miniconda/base/envs/jnb/lib/python3.8/site-packages/sklearn/utils/validation.py\u001b[0m in \u001b[0;36mcheck_consistent_length\u001b[0;34m(*arrays)\u001b[0m\n\u001b[1;32m    260\u001b[0m     \u001b[0muniques\u001b[0m \u001b[0;34m=\u001b[0m \u001b[0mnp\u001b[0m\u001b[0;34m.\u001b[0m\u001b[0munique\u001b[0m\u001b[0;34m(\u001b[0m\u001b[0mlengths\u001b[0m\u001b[0;34m)\u001b[0m\u001b[0;34m\u001b[0m\u001b[0;34m\u001b[0m\u001b[0m\n\u001b[1;32m    261\u001b[0m     \u001b[0;32mif\u001b[0m \u001b[0mlen\u001b[0m\u001b[0;34m(\u001b[0m\u001b[0muniques\u001b[0m\u001b[0;34m)\u001b[0m \u001b[0;34m>\u001b[0m \u001b[0;36m1\u001b[0m\u001b[0;34m:\u001b[0m\u001b[0;34m\u001b[0m\u001b[0;34m\u001b[0m\u001b[0m\n\u001b[0;32m--> 262\u001b[0;31m         raise ValueError(\"Found input variables with inconsistent numbers of\"\n\u001b[0m\u001b[1;32m    263\u001b[0m                          \" samples: %r\" % [int(l) for l in lengths])\n\u001b[1;32m    264\u001b[0m \u001b[0;34m\u001b[0m\u001b[0m\n",
      "\u001b[0;31mValueError\u001b[0m: Found input variables with inconsistent numbers of samples: [6, 20]"
     ]
    }
   ],
   "source": [
    "r2_score(y_new_1,y_pred_1)"
   ]
  },
  {
   "cell_type": "code",
   "execution_count": null,
   "metadata": {},
   "outputs": [],
   "source": []
  },
  {
   "cell_type": "code",
   "execution_count": null,
   "metadata": {},
   "outputs": [],
   "source": []
  },
  {
   "cell_type": "code",
   "execution_count": 14,
   "metadata": {},
   "outputs": [
    {
     "output_type": "error",
     "ename": "TypeError",
     "evalue": "fit() missing 2 required positional arguments: 'X' and 'y'",
     "traceback": [
      "\u001b[0;31m---------------------------------------------------------------------------\u001b[0m",
      "\u001b[0;31mTypeError\u001b[0m                                 Traceback (most recent call last)",
      "\u001b[0;32m<ipython-input-14-e44c5150873f>\u001b[0m in \u001b[0;36m<module>\u001b[0;34m\u001b[0m\n\u001b[0;32m----> 1\u001b[0;31m \u001b[0mregr\u001b[0m\u001b[0;34m.\u001b[0m\u001b[0mfit\u001b[0m\u001b[0;34m(\u001b[0m\u001b[0;34m)\u001b[0m\u001b[0;34m\u001b[0m\u001b[0;34m\u001b[0m\u001b[0m\n\u001b[0m",
      "\u001b[0;31mTypeError\u001b[0m: fit() missing 2 required positional arguments: 'X' and 'y'"
     ]
    }
   ],
   "source": [
    "regr.fit()"
   ]
  },
  {
   "cell_type": "code",
   "execution_count": null,
   "metadata": {},
   "outputs": [],
   "source": []
  },
  {
   "cell_type": "code",
   "execution_count": null,
   "metadata": {},
   "outputs": [],
   "source": []
  },
  {
   "cell_type": "code",
   "execution_count": null,
   "metadata": {},
   "outputs": [],
   "source": []
  },
  {
   "cell_type": "code",
   "execution_count": null,
   "metadata": {},
   "outputs": [],
   "source": []
  },
  {
   "cell_type": "code",
   "execution_count": null,
   "metadata": {},
   "outputs": [],
   "source": []
  },
  {
   "cell_type": "code",
   "execution_count": null,
   "metadata": {},
   "outputs": [],
   "source": []
  },
  {
   "cell_type": "code",
   "execution_count": null,
   "metadata": {},
   "outputs": [],
   "source": []
  },
  {
   "cell_type": "code",
   "execution_count": null,
   "metadata": {},
   "outputs": [],
   "source": []
  },
  {
   "cell_type": "code",
   "execution_count": null,
   "metadata": {},
   "outputs": [],
   "source": []
  },
  {
   "cell_type": "code",
   "execution_count": null,
   "metadata": {},
   "outputs": [],
   "source": []
  },
  {
   "cell_type": "code",
   "execution_count": null,
   "metadata": {},
   "outputs": [],
   "source": []
  },
  {
   "cell_type": "code",
   "execution_count": null,
   "metadata": {},
   "outputs": [],
   "source": []
  },
  {
   "cell_type": "code",
   "execution_count": null,
   "metadata": {},
   "outputs": [],
   "source": []
  },
  {
   "cell_type": "code",
   "execution_count": null,
   "metadata": {},
   "outputs": [],
   "source": []
  }
 ]
}