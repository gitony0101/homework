{
 "cells": [
  {
   "cell_type": "markdown",
   "metadata": {},
   "source": [
    "HW 3 of Computational methods 540\n",
    "\n",
    "Review of basic statistics:MVN\n",
    "\n",
    "Generate random 2000 MVN data, $p=3$ \n",
    "\n",
    "(the covariance matrix should be positive semi-definite symmetric matrix)\n"
   ]
  },
  {
   "cell_type": "code",
   "execution_count": 1,
   "metadata": {},
   "outputs": [],
   "source": [
    "import numpy as np\n",
    "import pandas as pd\n",
    "import matplotlib.pyplot as plt\n",
    "import scipy.stats as st\n",
    "from scipy.stats import *\n",
    "%matplotlib inline\n",
    "np.random.seed(42)"
   ]
  },
  {
   "cell_type": "code",
   "execution_count": 2,
   "metadata": {
    "tags": []
   },
   "outputs": [],
   "source": [
    "mu3 = np.array([5,1,2])\n",
    "C = np.random.random((3,3))\n",
    "cov3 = C @ C.T # positive semi-definite"
   ]
  },
  {
   "cell_type": "code",
   "execution_count": 3,
   "metadata": {
    "tags": []
   },
   "outputs": [
    {
     "name": "stdout",
     "output_type": "stream",
     "text": [
      "The trivariate normal distribution mean vector is  [5 1 2] \n",
      "The covariance matrix:\n",
      "[[1.58 0.49 1.29]\n",
      " [0.49 0.41 0.26]\n",
      " [1.29 0.26 1.11]]\n"
     ]
    }
   ],
   "source": [
    "print(f\"The trivariate normal distribution mean vector is  {mu3} \\nThe covariance matrix:\\n{np.round(cov3,2)}\")"
   ]
  },
  {
   "cell_type": "code",
   "execution_count": 4,
   "metadata": {},
   "outputs": [],
   "source": [
    "# cov3[0,0],cov3[0,1],cov3[0,2],cov3[1,0],cov3[1,1],cov3[1,2],cov3[2,0],cov3[2,1],cov3[2,2]"
   ]
  },
  {
   "cell_type": "code",
   "execution_count": null,
   "metadata": {},
   "outputs": [],
   "source": []
  },
  {
   "cell_type": "markdown",
   "metadata": {},
   "source": [
    "Generate random 2000 MVN data"
   ]
  },
  {
   "cell_type": "code",
   "execution_count": 5,
   "metadata": {},
   "outputs": [],
   "source": [
    "n = 2000 #2000 samples from x1 x2 x3\n",
    "data = np.random.multivariate_normal(mu3, cov3, size=n)\n",
    "x1 = data[:, 0]\n",
    "x2 = data[:, 1]\n",
    "x3 = data[:,2]"
   ]
  },
  {
   "cell_type": "markdown",
   "metadata": {},
   "source": [
    "(1) Compare sample means $\\bar{x}_{l}$ and population means $\\mu_{i},$ where $i=1,2,3$."
   ]
  },
  {
   "cell_type": "code",
   "execution_count": 6,
   "metadata": {},
   "outputs": [],
   "source": [
    "# np.mean(x1),np.mean(x2),np.mean(x3)"
   ]
  },
  {
   "cell_type": "code",
   "execution_count": 7,
   "metadata": {
    "tags": []
   },
   "outputs": [
    {
     "name": "stdout",
     "output_type": "stream",
     "text": [
      "The trivariate normal sample means are (5.079467800927094, 1.0199059704513431, 2.0676023746970795) \n",
      "The population means are [5 1 2]\n"
     ]
    }
   ],
   "source": [
    "print(f\"The trivariate normal sample means are {np.mean(x1),np.mean(x2),np.mean(x3)} \\nThe population means are {mu3}\")"
   ]
  },
  {
   "cell_type": "markdown",
   "metadata": {},
   "source": [
    "(2) Compare sample variances $s_{i}^{2}$ and population variances $\\sigma_{i}^{2}$, where $i=1,2,3$."
   ]
  },
  {
   "cell_type": "code",
   "execution_count": 8,
   "metadata": {},
   "outputs": [],
   "source": [
    "# np.var(x1),np.var(x2),np.var(x3)"
   ]
  },
  {
   "cell_type": "code",
   "execution_count": 9,
   "metadata": {},
   "outputs": [
    {
     "name": "stdout",
     "output_type": "stream",
     "text": [
      "The sample variances are(1.5634255838183972, 0.39517790831443744, 1.1075923347544567) \n",
      "The population variances are (1.5799531238872833, 0.40706808724152177, 1.1149740788550655)\n"
     ]
    }
   ],
   "source": [
    "print(f\"The sample variances are{np.var(x1),np.var(x2),np.var(x3)} \\nThe population variances are {cov3[0,0,],cov3[1,1],cov3[2,2]}\")"
   ]
  },
  {
   "cell_type": "markdown",
   "metadata": {},
   "source": [
    "(3) Compare sample covariances $\\widehat{\\operatorname{Cov}}\\left(x_{i}, x_{j}\\right)=\\hat{\\sigma}_{i j}$ and population covariances $\\sigma_{i j},$ where $i, j=1,2,3, i \\neq j$"
   ]
  },
  {
   "cell_type": "code",
   "execution_count": 10,
   "metadata": {},
   "outputs": [],
   "source": [
    "# cov3[0,1],cov3[1,2],cov3[0,2]"
   ]
  },
  {
   "cell_type": "code",
   "execution_count": 11,
   "metadata": {},
   "outputs": [],
   "source": [
    "# np.cov(x1,x2)[1][0],np.cov(x2,x3)[1][0],np.cov(x1,x3)[1][0]"
   ]
  },
  {
   "cell_type": "code",
   "execution_count": 12,
   "metadata": {},
   "outputs": [
    {
     "name": "stdout",
     "output_type": "stream",
     "text": [
      "The sample covariances are (0.4771032394764352, 0.2614232308595192, 1.276246614864397) \n",
      "THepopulation covariances  are (0.4867378171972655, 0.2636825197885506, 1.285253243591714)\n"
     ]
    }
   ],
   "source": [
    "print(f\"The sample covariances are {np.cov(x1,x2)[1][0],np.cov(x2,x3)[1][0],np.cov(x1,x3)[1][0]} \\nTHepopulation covariances  are {cov3[0,1],cov3[1,2],cov3[0,2]}\")"
   ]
  },
  {
   "cell_type": "markdown",
   "metadata": {},
   "source": [
    "(4) Compare sample correlations $r_{i j}=\\hat{\\rho}_{i j}$ and population correlations $\\rho_{i j},$ where $i, j=$ $1,2,3, i \\neq j$"
   ]
  },
  {
   "cell_type": "code",
   "execution_count": 13,
   "metadata": {},
   "outputs": [],
   "source": [
    "#sample correlations: rhij\n",
    "#population correlations: rij\n",
    "\n",
    "rh12=np.corrcoef(x1,x2)[1][0],\n",
    "rh13=np.corrcoef(x1,x3)[1][0],\n",
    "rh23=np.corrcoef(x2,x3)[1][0]\n",
    "\n",
    "r12 = cov3[0,1]/np.sqrt(cov3[0,0] * cov3[1,1]),\n",
    "r13 = cov3[0,2]/np.sqrt(cov3[0,0] * cov3[2,2]),\n",
    "\n",
    "r23 = cov3[1,2]/np.sqrt(cov3[1,1] * cov3[2,2])"
   ]
  },
  {
   "cell_type": "code",
   "execution_count": 14,
   "metadata": {},
   "outputs": [
    {
     "name": "stdout",
     "output_type": "stream",
     "text": [
      "The sample correlations are ((0.6069311964606676,), (0.9683541589636978,), 0.3913951380464573) \n",
      "The population correlations are ((0.6066807675139408,), (0.9693683227746348,), 0.39494868877027656)\n"
     ]
    }
   ],
   "source": [
    "print(f\"The sample correlations are {r12,r13,r23} \\nThe population correlations are {rh12,rh13,rh23}\")"
   ]
  },
  {
   "cell_type": "markdown",
   "metadata": {},
   "source": [
    "(5) Calculate conditional expectation $E\\left[X_{1} \\mid x_{2}=6\\right], E\\left[X_{3} \\mid x_{1}=10\\right]$ and conditional variance $V\\left[X_{1} \\mid x_{2}=6\\right], V\\left[X_{3} \\mid x_{1}=10\\right]$"
   ]
  },
  {
   "cell_type": "code",
   "execution_count": 15,
   "metadata": {},
   "outputs": [],
   "source": [
    "X2 = 6\n",
    "Ec1 = mu3[0] + cov3[0][1]/cov3[1][1] *(X2-mu3[1])\n",
    "Vc1 = cov3[0][0] - cov3[0][1]**2/cov3[1][1]"
   ]
  },
  {
   "cell_type": "code",
   "execution_count": 16,
   "metadata": {},
   "outputs": [
    {
     "name": "stdout",
     "output_type": "stream",
     "text": [
      "The conditional expectation of E[X1|x2=6] is 10.978579904109187\n",
      "The  conditional variation V[X1|x2=6] is 0.9979529373941747 \n"
     ]
    }
   ],
   "source": [
    "print(f\"The conditional expectation of E[X1|x2=6] is {Ec1}\\nThe  conditional variation V[X1|x2=6] is {Vc1} \")"
   ]
  },
  {
   "cell_type": "code",
   "execution_count": 17,
   "metadata": {},
   "outputs": [],
   "source": [
    "X1 = 10\n",
    "Ec3 = mu3[2] + cov3[0][2]/cov3[0][0] *(X1-mu3[0])\n",
    "Vc3 = cov3[2][2] - cov3[0][2]**2/cov3[0][0]"
   ]
  },
  {
   "cell_type": "code",
   "execution_count": 18,
   "metadata": {},
   "outputs": [
    {
     "name": "stdout",
     "output_type": "stream",
     "text": [
      "The conditional expectation of E[X1|x2=6] is 6.067377772669306\n",
      "The  conditional variation V[X1|x2=6] is 0.06945198380785245 \n"
     ]
    }
   ],
   "source": [
    "print(f\"The conditional expectation of E[X1|x2=6] is {Ec3}\\nThe  conditional variation V[X1|x2=6] is {Vc3} \")"
   ]
  },
  {
   "cell_type": "markdown",
   "metadata": {},
   "source": [
    "(6) Plot the histograms of $x_{1}, x_{2}$ and $x_{3}$."
   ]
  },
  {
   "cell_type": "code",
   "execution_count": 19,
   "metadata": {},
   "outputs": [
    {
     "data": {
      "text/plain": [
       "<matplotlib.legend.Legend at 0x7fce9d1b8760>"
      ]
     },
     "execution_count": 19,
     "metadata": {},
     "output_type": "execute_result"
    },
    {
     "data": {
      "image/png": "[encoded data removed]",
      "text/plain": [
       "<Figure size 720x432 with 1 Axes>"
      ]
     },
     "metadata": {
      "needs_background": "light"
     },
     "output_type": "display_data"
    }
   ],
   "source": [
    "_, ax = plt.subplots(figsize=(10, 6))\n",
    "bins = np.linspace(-5, 10, 300)\n",
    "alpha = 0.8\n",
    "\n",
    "fs = 14\n",
    "\n",
    "xs = [x1, x2, x3]\n",
    "labels = ['x1', 'x2', 'x3']\n",
    "for i in range(3):\n",
    "    ax.hist(xs[i], bins, alpha=alpha, label=labels[i])\n",
    "\n",
    "plt.xticks(fontsize=fs)\n",
    "plt.yticks(fontsize=fs)\n",
    "ax.legend(fontsize=fs)"
   ]
  },
  {
   "cell_type": "markdown",
   "metadata": {},
   "source": [
    "(7) The joint p.d.f. of $X_{1}, X_{2}$ and $X_{3}$ is $f\\left(x_{1}, x_{2}, x_{3}\\right),$ calculate $f(0,0,0)$ and $f(0,0,1.2)$"
   ]
  },
  {
   "cell_type": "code",
   "execution_count": 20,
   "metadata": {},
   "outputs": [],
   "source": [
    "# joint pdf:\n",
    "def f(x1,x2,x3):\n",
    "    part1 = (2*np.pi) ** (-1.5) * np.linalg.det(cov3)**(-0.5)\n",
    "    part2 = np.exp(-.5 * ((x1,x2,x3) - mu3).T @ np.linalg.inv(cov3) @ ((x1,x2,x3)  - mu3))\n",
    "    return part1 * part2"
   ]
  },
  {
   "cell_type": "markdown",
   "metadata": {},
   "source": [
    "I create the covariance matrix randomly, when I calculate f(0,0,0) and f(0,1,1.2),I found the results were too small.Instead, I calculated the f(4,0,1.2) and f(4.95,1.1,1.8)."
   ]
  },
  {
   "cell_type": "code",
   "execution_count": 21,
   "metadata": {},
   "outputs": [
    {
     "data": {
      "text/plain": [
       "6.854726049910722e-19"
      ]
     },
     "execution_count": 21,
     "metadata": {},
     "output_type": "execute_result"
    }
   ],
   "source": [
    "f(4,0,1.2)"
   ]
  },
  {
   "cell_type": "code",
   "execution_count": 22,
   "metadata": {},
   "outputs": [
    {
     "data": {
      "text/plain": [
       "0.07490606168326389"
      ]
     },
     "execution_count": 22,
     "metadata": {},
     "output_type": "execute_result"
    }
   ],
   "source": [
    "f(4.95,1.1,1.8)"
   ]
  },
  {
   "cell_type": "markdown",
   "metadata": {},
   "source": [
    "(8) Plot the scatter plots of $X_{1} \\& X_{2}, X_{1} \\& X_{3}$ and $X_{2} \\& X_{3}$."
   ]
  },
  {
   "cell_type": "code",
   "execution_count": 23,
   "metadata": {},
   "outputs": [
    {
     "data": {
      "text/plain": [
       "<function matplotlib.pyplot.show(close=None, block=None)>"
      ]
     },
     "execution_count": 23,
     "metadata": {},
     "output_type": "execute_result"
    },
    {
     "data": {
      "image/png": "[encoded data removed]",
      "text/plain": [
       "<Figure size 576x576 with 1 Axes>"
      ]
     },
     "metadata": {},
     "output_type": "display_data"
    }
   ],
   "source": [
    "plt.style.use(\"ggplot\")\n",
    "plt.rcParams['axes.unicode_minus']=False\n",
    "plt.rcParams['figure.figsize']=(8,8)\n",
    "X12 = np.vstack((x1,x2)).T\n",
    "X23 = np.vstack((x2,x3)).T\n",
    "X13 = np.vstack((x1,x3)).T\n",
    "plt.scatter(X12[:,0],X12[:,1],label='x1,x2')\n",
    "plt.scatter(X23[:,0],X23[:,1],label='x2,x3')\n",
    "plt.scatter(X13[:,0],X13[:,1],label='x1,x3')\n",
    "plt.title(\"Scatter plots of r.v.s (x1,x2), (x2,x3) and (x1,x3)\")\n",
    "plt.axis('equal')\n",
    "plt.legend()\n",
    "plt.show"
   ]
  }
 ],
 "metadata": {
  "kernelspec": {
   "display_name": "Python 3",
   "language": "python",
   "name": "python3"
  },
  "language_info": {
   "codemirror_mode": {
    "name": "ipython",
    "version": 3
   },
   "file_extension": ".py",
   "mimetype": "text/x-python",
   "name": "python",
   "nbconvert_exporter": "python",
   "pygments_lexer": "ipython3",
   "version": "3.8.8"
  },
  "toc": {
   "base_numbering": 1,
   "nav_menu": {},
   "number_sections": true,
   "sideBar": true,
   "skip_h1_title": false,
   "title_cell": "Table of Contents",
   "title_sidebar": "Contents",
   "toc_cell": false,
   "toc_position": {},
   "toc_section_display": true,
   "toc_window_display": false
  },
  "varInspector": {
   "cols": {
    "lenName": 16,
    "lenType": 16,
    "lenVar": 40
   },
   "kernels_config": {
    "python": {
     "delete_cmd_postfix": "",
     "delete_cmd_prefix": "del ",
     "library": "var_list.py",
     "varRefreshCmd": "print(var_dic_list())"
    },
    "r": {
     "delete_cmd_postfix": ") ",
     "delete_cmd_prefix": "rm(",
     "library": "var_list.r",
     "varRefreshCmd": "cat(var_dic_list()) "
    }
   },
   "types_to_exclude": [
    "module",
    "function",
    "builtin_function_or_method",
    "instance",
    "_Feature"
   ],
   "window_display": false
  }
 },
 "nbformat": 4,
 "nbformat_minor": 2
}
