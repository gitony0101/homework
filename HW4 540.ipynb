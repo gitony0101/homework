{
 "cells": [
  {
   "cell_type": "markdown",
   "metadata": {},
   "source": [
    "HW 4 540\n",
    "\n",
    "1. Generate random 200 MVN data, p=20. \n",
    "\n",
    "The covariance matrix should be positive semi- definite symmetric matrix.\n",
    "\n",
    "(1) Calculate sample covariance matrix.\n",
    "\n",
    "(2) Find out the first three principal components.\n",
    "\n",
    "(3) Calcuate the proportions of the variability of data that can be explained by the first K principal components and find the value of K that it reaches to 99% of the variability."
   ]
  },
  {
   "cell_type": "code",
   "execution_count": 1,
   "metadata": {},
   "outputs": [],
   "source": [
    "import numpy as np\n",
    "import pandas as pd\n",
    "import matplotlib.pyplot as plt\n",
    "import scipy.stats as st\n",
    "from scipy.stats import *\n",
    "from numpy import *\n",
    "from sklearn import preprocessing,datasets, linear_model\n",
    "from sklearn.decomposition import PCA\n",
    "%matplotlib inline\n",
    "np.random.seed(42)"
   ]
  },
  {
   "cell_type": "markdown",
   "metadata": {},
   "source": [
    "(1) Calculate sample covariance matrix."
   ]
  },
  {
   "cell_type": "code",
   "execution_count": 2,
   "metadata": {},
   "outputs": [],
   "source": [
    "# p=20\n",
    "# The Multivariate  normal distribution with p =20 mean vector is mu.\n",
    "# The covariance matrix is cov.\n",
    "mu = np.random.uniform(-10,10,size=20)\n",
    "C = np.random.random((20,20))\n",
    "cov = C @ C.T # positive semi-definite"
   ]
  },
  {
   "cell_type": "code",
   "execution_count": 3,
   "metadata": {},
   "outputs": [],
   "source": [
    "# pd.DataFrame(mu)"
   ]
  },
  {
   "cell_type": "code",
   "execution_count": 4,
   "metadata": {},
   "outputs": [],
   "source": [
    "# pd.DataFrame(cov)"
   ]
  },
  {
   "cell_type": "code",
   "execution_count": 5,
   "metadata": {},
   "outputs": [
    {
     "data": {
      "image/png": "[encoded data removed]",
      "text/plain": [
       "<Figure size 576x576 with 1 Axes>"
      ]
     },
     "metadata": {
      "needs_background": "light"
     },
     "output_type": "display_data"
    }
   ],
   "source": [
    "plt.rcParams['figure.figsize']=(8,8)\n",
    "plt.matshow(cov)\n",
    "plt.show()"
   ]
  },
  {
   "cell_type": "markdown",
   "metadata": {},
   "source": [
    "(2) Find out the first three principal components.\n"
   ]
  },
  {
   "cell_type": "code",
   "execution_count": 6,
   "metadata": {},
   "outputs": [],
   "source": [
    "Ns = 200 #Generate 200 samples from x1-x20\n",
    "data = np.random.multivariate_normal(mu, cov, size=Ns)\n",
    "# x1 = data[:, 0]\n",
    "# x2 = data[:, 1]\n",
    "# x20 = data[:,19]"
   ]
  },
  {
   "cell_type": "code",
   "execution_count": 7,
   "metadata": {},
   "outputs": [],
   "source": [
    "# pd.DataFrame(data)"
   ]
  },
  {
   "cell_type": "code",
   "execution_count": 8,
   "metadata": {},
   "outputs": [
    {
     "data": {
      "text/html": [
       "<div>\n",
       "<style scoped>\n",
       "    .dataframe tbody tr th:only-of-type {\n",
       "        vertical-align: middle;\n",
       "    }\n",
       "\n",
       "    .dataframe tbody tr th {\n",
       "        vertical-align: top;\n",
       "    }\n",
       "\n",
       "    .dataframe thead th {\n",
       "        text-align: right;\n",
       "    }\n",
       "</style>\n",
       "<table border=\"1\" class=\"dataframe\">\n",
       "  <thead>\n",
       "    <tr style=\"text-align: right;\">\n",
       "      <th></th>\n",
       "      <th>0</th>\n",
       "      <th>1</th>\n",
       "      <th>2</th>\n",
       "      <th>3</th>\n",
       "      <th>4</th>\n",
       "      <th>5</th>\n",
       "      <th>6</th>\n",
       "      <th>7</th>\n",
       "      <th>8</th>\n",
       "      <th>9</th>\n",
       "      <th>...</th>\n",
       "      <th>190</th>\n",
       "      <th>191</th>\n",
       "      <th>192</th>\n",
       "      <th>193</th>\n",
       "      <th>194</th>\n",
       "      <th>195</th>\n",
       "      <th>196</th>\n",
       "      <th>197</th>\n",
       "      <th>198</th>\n",
       "      <th>199</th>\n",
       "    </tr>\n",
       "  </thead>\n",
       "  <tbody>\n",
       "    <tr>\n",
       "      <th>0</th>\n",
       "      <td>0.082606</td>\n",
       "      <td>-0.048990</td>\n",
       "      <td>-0.013852</td>\n",
       "      <td>-0.037229</td>\n",
       "      <td>0.021112</td>\n",
       "      <td>0.000595</td>\n",
       "      <td>-0.081955</td>\n",
       "      <td>0.064160</td>\n",
       "      <td>0.009096</td>\n",
       "      <td>-0.022276</td>\n",
       "      <td>...</td>\n",
       "      <td>0.013823</td>\n",
       "      <td>-0.007149</td>\n",
       "      <td>-0.017635</td>\n",
       "      <td>-0.037575</td>\n",
       "      <td>0.012331</td>\n",
       "      <td>-0.097967</td>\n",
       "      <td>0.015416</td>\n",
       "      <td>0.015411</td>\n",
       "      <td>0.063973</td>\n",
       "      <td>0.033248</td>\n",
       "    </tr>\n",
       "    <tr>\n",
       "      <th>1</th>\n",
       "      <td>-0.048990</td>\n",
       "      <td>0.160724</td>\n",
       "      <td>0.118058</td>\n",
       "      <td>-0.001054</td>\n",
       "      <td>-0.079239</td>\n",
       "      <td>-0.097917</td>\n",
       "      <td>0.079266</td>\n",
       "      <td>-0.162508</td>\n",
       "      <td>0.089662</td>\n",
       "      <td>0.003174</td>\n",
       "      <td>...</td>\n",
       "      <td>0.017299</td>\n",
       "      <td>0.071120</td>\n",
       "      <td>-0.019405</td>\n",
       "      <td>0.050458</td>\n",
       "      <td>0.021612</td>\n",
       "      <td>0.080659</td>\n",
       "      <td>0.022276</td>\n",
       "      <td>-0.098906</td>\n",
       "      <td>-0.050253</td>\n",
       "      <td>-0.085412</td>\n",
       "    </tr>\n",
       "    <tr>\n",
       "      <th>2</th>\n",
       "      <td>-0.013852</td>\n",
       "      <td>0.118058</td>\n",
       "      <td>0.369107</td>\n",
       "      <td>0.094110</td>\n",
       "      <td>-0.036692</td>\n",
       "      <td>0.129880</td>\n",
       "      <td>0.034417</td>\n",
       "      <td>0.104631</td>\n",
       "      <td>0.006580</td>\n",
       "      <td>-0.014986</td>\n",
       "      <td>...</td>\n",
       "      <td>0.024325</td>\n",
       "      <td>0.059577</td>\n",
       "      <td>-0.009288</td>\n",
       "      <td>-0.147522</td>\n",
       "      <td>0.087493</td>\n",
       "      <td>0.006819</td>\n",
       "      <td>-0.025484</td>\n",
       "      <td>-0.289246</td>\n",
       "      <td>-0.049249</td>\n",
       "      <td>-0.010721</td>\n",
       "    </tr>\n",
       "    <tr>\n",
       "      <th>3</th>\n",
       "      <td>-0.037229</td>\n",
       "      <td>-0.001054</td>\n",
       "      <td>0.094110</td>\n",
       "      <td>0.351161</td>\n",
       "      <td>0.030456</td>\n",
       "      <td>0.097513</td>\n",
       "      <td>0.111967</td>\n",
       "      <td>0.164433</td>\n",
       "      <td>-0.017410</td>\n",
       "      <td>-0.032384</td>\n",
       "      <td>...</td>\n",
       "      <td>-0.008997</td>\n",
       "      <td>-0.005935</td>\n",
       "      <td>0.023760</td>\n",
       "      <td>-0.278905</td>\n",
       "      <td>-0.115362</td>\n",
       "      <td>0.111310</td>\n",
       "      <td>-0.079303</td>\n",
       "      <td>-0.098089</td>\n",
       "      <td>0.083078</td>\n",
       "      <td>0.005828</td>\n",
       "    </tr>\n",
       "    <tr>\n",
       "      <th>4</th>\n",
       "      <td>0.021112</td>\n",
       "      <td>-0.079239</td>\n",
       "      <td>-0.036692</td>\n",
       "      <td>0.030456</td>\n",
       "      <td>0.306720</td>\n",
       "      <td>0.070408</td>\n",
       "      <td>0.027699</td>\n",
       "      <td>0.241104</td>\n",
       "      <td>-0.052034</td>\n",
       "      <td>-0.054697</td>\n",
       "      <td>...</td>\n",
       "      <td>0.035943</td>\n",
       "      <td>-0.063325</td>\n",
       "      <td>-0.064059</td>\n",
       "      <td>-0.193865</td>\n",
       "      <td>-0.117867</td>\n",
       "      <td>-0.040761</td>\n",
       "      <td>-0.030672</td>\n",
       "      <td>0.055899</td>\n",
       "      <td>0.130567</td>\n",
       "      <td>0.007109</td>\n",
       "    </tr>\n",
       "    <tr>\n",
       "      <th>...</th>\n",
       "      <td>...</td>\n",
       "      <td>...</td>\n",
       "      <td>...</td>\n",
       "      <td>...</td>\n",
       "      <td>...</td>\n",
       "      <td>...</td>\n",
       "      <td>...</td>\n",
       "      <td>...</td>\n",
       "      <td>...</td>\n",
       "      <td>...</td>\n",
       "      <td>...</td>\n",
       "      <td>...</td>\n",
       "      <td>...</td>\n",
       "      <td>...</td>\n",
       "      <td>...</td>\n",
       "      <td>...</td>\n",
       "      <td>...</td>\n",
       "      <td>...</td>\n",
       "      <td>...</td>\n",
       "      <td>...</td>\n",
       "      <td>...</td>\n",
       "    </tr>\n",
       "    <tr>\n",
       "      <th>195</th>\n",
       "      <td>-0.097967</td>\n",
       "      <td>0.080659</td>\n",
       "      <td>0.006819</td>\n",
       "      <td>0.111310</td>\n",
       "      <td>-0.040761</td>\n",
       "      <td>-0.047120</td>\n",
       "      <td>0.114619</td>\n",
       "      <td>-0.063207</td>\n",
       "      <td>-0.039713</td>\n",
       "      <td>0.019332</td>\n",
       "      <td>...</td>\n",
       "      <td>0.040713</td>\n",
       "      <td>0.023949</td>\n",
       "      <td>0.103478</td>\n",
       "      <td>0.011437</td>\n",
       "      <td>0.014634</td>\n",
       "      <td>0.381610</td>\n",
       "      <td>-0.158130</td>\n",
       "      <td>0.029714</td>\n",
       "      <td>-0.064890</td>\n",
       "      <td>-0.131697</td>\n",
       "    </tr>\n",
       "    <tr>\n",
       "      <th>196</th>\n",
       "      <td>0.015416</td>\n",
       "      <td>0.022276</td>\n",
       "      <td>-0.025484</td>\n",
       "      <td>-0.079303</td>\n",
       "      <td>-0.030672</td>\n",
       "      <td>-0.112005</td>\n",
       "      <td>-0.026772</td>\n",
       "      <td>-0.099770</td>\n",
       "      <td>0.080158</td>\n",
       "      <td>0.023913</td>\n",
       "      <td>...</td>\n",
       "      <td>-0.059856</td>\n",
       "      <td>0.010974</td>\n",
       "      <td>-0.037099</td>\n",
       "      <td>0.049198</td>\n",
       "      <td>0.022014</td>\n",
       "      <td>-0.158130</td>\n",
       "      <td>0.167572</td>\n",
       "      <td>-0.015402</td>\n",
       "      <td>0.010793</td>\n",
       "      <td>0.039753</td>\n",
       "    </tr>\n",
       "    <tr>\n",
       "      <th>197</th>\n",
       "      <td>0.015411</td>\n",
       "      <td>-0.098906</td>\n",
       "      <td>-0.289246</td>\n",
       "      <td>-0.098089</td>\n",
       "      <td>0.055899</td>\n",
       "      <td>-0.100904</td>\n",
       "      <td>0.002309</td>\n",
       "      <td>-0.018632</td>\n",
       "      <td>-0.060344</td>\n",
       "      <td>-0.001714</td>\n",
       "      <td>...</td>\n",
       "      <td>-0.015826</td>\n",
       "      <td>-0.066467</td>\n",
       "      <td>0.047129</td>\n",
       "      <td>0.124498</td>\n",
       "      <td>-0.073098</td>\n",
       "      <td>0.029714</td>\n",
       "      <td>-0.015402</td>\n",
       "      <td>0.308246</td>\n",
       "      <td>0.054544</td>\n",
       "      <td>0.002355</td>\n",
       "    </tr>\n",
       "    <tr>\n",
       "      <th>198</th>\n",
       "      <td>0.063973</td>\n",
       "      <td>-0.050253</td>\n",
       "      <td>-0.049249</td>\n",
       "      <td>0.083078</td>\n",
       "      <td>0.130567</td>\n",
       "      <td>-0.011725</td>\n",
       "      <td>0.014392</td>\n",
       "      <td>0.110553</td>\n",
       "      <td>0.045047</td>\n",
       "      <td>-0.043535</td>\n",
       "      <td>...</td>\n",
       "      <td>-0.008017</td>\n",
       "      <td>-0.004730</td>\n",
       "      <td>-0.074218</td>\n",
       "      <td>-0.109841</td>\n",
       "      <td>-0.100037</td>\n",
       "      <td>-0.064890</td>\n",
       "      <td>0.010793</td>\n",
       "      <td>0.054544</td>\n",
       "      <td>0.232128</td>\n",
       "      <td>-0.033137</td>\n",
       "    </tr>\n",
       "    <tr>\n",
       "      <th>199</th>\n",
       "      <td>0.033248</td>\n",
       "      <td>-0.085412</td>\n",
       "      <td>-0.010721</td>\n",
       "      <td>0.005828</td>\n",
       "      <td>0.007109</td>\n",
       "      <td>0.132236</td>\n",
       "      <td>-0.039513</td>\n",
       "      <td>0.135575</td>\n",
       "      <td>-0.142804</td>\n",
       "      <td>0.013330</td>\n",
       "      <td>...</td>\n",
       "      <td>-0.034062</td>\n",
       "      <td>-0.104733</td>\n",
       "      <td>0.030701</td>\n",
       "      <td>-0.026686</td>\n",
       "      <td>0.054207</td>\n",
       "      <td>-0.131697</td>\n",
       "      <td>0.039753</td>\n",
       "      <td>0.002355</td>\n",
       "      <td>-0.033137</td>\n",
       "      <td>0.209020</td>\n",
       "    </tr>\n",
       "  </tbody>\n",
       "</table>\n",
       "<p>200 rows × 200 columns</p>\n",
       "</div>"
      ],
      "text/plain": [
       "          0         1         2         3         4         5         6    \\\n",
       "0    0.082606 -0.048990 -0.013852 -0.037229  0.021112  0.000595 -0.081955   \n",
       "1   -0.048990  0.160724  0.118058 -0.001054 -0.079239 -0.097917  0.079266   \n",
       "2   -0.013852  0.118058  0.369107  0.094110 -0.036692  0.129880  0.034417   \n",
       "3   -0.037229 -0.001054  0.094110  0.351161  0.030456  0.097513  0.111967   \n",
       "4    0.021112 -0.079239 -0.036692  0.030456  0.306720  0.070408  0.027699   \n",
       "..        ...       ...       ...       ...       ...       ...       ...   \n",
       "195 -0.097967  0.080659  0.006819  0.111310 -0.040761 -0.047120  0.114619   \n",
       "196  0.015416  0.022276 -0.025484 -0.079303 -0.030672 -0.112005 -0.026772   \n",
       "197  0.015411 -0.098906 -0.289246 -0.098089  0.055899 -0.100904  0.002309   \n",
       "198  0.063973 -0.050253 -0.049249  0.083078  0.130567 -0.011725  0.014392   \n",
       "199  0.033248 -0.085412 -0.010721  0.005828  0.007109  0.132236 -0.039513   \n",
       "\n",
       "          7         8         9    ...       190       191       192  \\\n",
       "0    0.064160  0.009096 -0.022276  ...  0.013823 -0.007149 -0.017635   \n",
       "1   -0.162508  0.089662  0.003174  ...  0.017299  0.071120 -0.019405   \n",
       "2    0.104631  0.006580 -0.014986  ...  0.024325  0.059577 -0.009288   \n",
       "3    0.164433 -0.017410 -0.032384  ... -0.008997 -0.005935  0.023760   \n",
       "4    0.241104 -0.052034 -0.054697  ...  0.035943 -0.063325 -0.064059   \n",
       "..        ...       ...       ...  ...       ...       ...       ...   \n",
       "195 -0.063207 -0.039713  0.019332  ...  0.040713  0.023949  0.103478   \n",
       "196 -0.099770  0.080158  0.023913  ... -0.059856  0.010974 -0.037099   \n",
       "197 -0.018632 -0.060344 -0.001714  ... -0.015826 -0.066467  0.047129   \n",
       "198  0.110553  0.045047 -0.043535  ... -0.008017 -0.004730 -0.074218   \n",
       "199  0.135575 -0.142804  0.013330  ... -0.034062 -0.104733  0.030701   \n",
       "\n",
       "          193       194       195       196       197       198       199  \n",
       "0   -0.037575  0.012331 -0.097967  0.015416  0.015411  0.063973  0.033248  \n",
       "1    0.050458  0.021612  0.080659  0.022276 -0.098906 -0.050253 -0.085412  \n",
       "2   -0.147522  0.087493  0.006819 -0.025484 -0.289246 -0.049249 -0.010721  \n",
       "3   -0.278905 -0.115362  0.111310 -0.079303 -0.098089  0.083078  0.005828  \n",
       "4   -0.193865 -0.117867 -0.040761 -0.030672  0.055899  0.130567  0.007109  \n",
       "..        ...       ...       ...       ...       ...       ...       ...  \n",
       "195  0.011437  0.014634  0.381610 -0.158130  0.029714 -0.064890 -0.131697  \n",
       "196  0.049198  0.022014 -0.158130  0.167572 -0.015402  0.010793  0.039753  \n",
       "197  0.124498 -0.073098  0.029714 -0.015402  0.308246  0.054544  0.002355  \n",
       "198 -0.109841 -0.100037 -0.064890  0.010793  0.054544  0.232128 -0.033137  \n",
       "199 -0.026686  0.054207 -0.131697  0.039753  0.002355 -0.033137  0.209020  \n",
       "\n",
       "[200 rows x 200 columns]"
      ]
     },
     "execution_count": 8,
     "metadata": {},
     "output_type": "execute_result"
    }
   ],
   "source": [
    "#normalize data\n",
    "scaler = preprocessing.StandardScaler().fit(data)\n",
    "data_scaled = scaler.transform(data)\n",
    "data_n = np.cov(data_scaled)\n",
    "pd.DataFrame(data_n)"
   ]
  },
  {
   "cell_type": "code",
   "execution_count": 9,
   "metadata": {
    "tags": []
   },
   "outputs": [],
   "source": [
    "#PCA by mle function\n",
    "pca=PCA(n_components='mle')\n",
    "pca.fit(data_n)\n",
    "data_pca = pca.transform(data_n)\n",
    "# pd.DataFrame(data_pca)"
   ]
  },
  {
   "cell_type": "code",
   "execution_count": 10,
   "metadata": {},
   "outputs": [
    {
     "data": {
      "image/png": "[encoded data removed]",
      "text/plain": [
       "<Figure size 288x1152 with 1 Axes>"
      ]
     },
     "metadata": {
      "needs_background": "light"
     },
     "output_type": "display_data"
    }
   ],
   "source": [
    "plt.rcParams['figure.figsize']=(5,5)\n",
    "plt.matshow(data_pca)\n",
    "plt.show()"
   ]
  },
  {
   "cell_type": "markdown",
   "metadata": {},
   "source": [
    "we can see the data after pca converges in the first 10 principle components"
   ]
  },
  {
   "cell_type": "code",
   "execution_count": 11,
   "metadata": {
    "tags": []
   },
   "outputs": [
    {
     "data": {
      "text/plain": [
       "[<matplotlib.lines.Line2D at 0x7ffd005e8e20>]"
      ]
     },
     "execution_count": 11,
     "metadata": {},
     "output_type": "execute_result"
    },
    {
     "data": {
      "image/png": "[encoded data removed]",
      "text/plain": [
       "<Figure size 360x360 with 1 Axes>"
      ]
     },
     "metadata": {
      "needs_background": "light"
     },
     "output_type": "display_data"
    }
   ],
   "source": [
    "plt.plot(pca.explained_variance_ratio_)"
   ]
  },
  {
   "cell_type": "code",
   "execution_count": 12,
   "metadata": {},
   "outputs": [],
   "source": [
    "# let n = 3 ,find the first 3 principle components"
   ]
  },
  {
   "cell_type": "code",
   "execution_count": 13,
   "metadata": {},
   "outputs": [],
   "source": [
    "#PCA where n=3\n",
    "pca3=PCA(n_components=3)\n",
    "pca.fit(data_n)\n",
    "data_pca3 = pca.transform(data_n)\n",
    "# pd.DataFrame(data_pca)"
   ]
  },
  {
   "cell_type": "code",
   "execution_count": 14,
   "metadata": {},
   "outputs": [
    {
     "data": {
      "image/png": "[encoded data removed]",
      "text/plain": [
       "<Figure size 288x1152 with 1 Axes>"
      ]
     },
     "metadata": {
      "needs_background": "light"
     },
     "output_type": "display_data"
    }
   ],
   "source": [
    "plt.rcParams['figure.figsize']=(5,5)\n",
    "plt.matshow(data_pca3)\n",
    "plt.show()"
   ]
  },
  {
   "cell_type": "code",
   "execution_count": 15,
   "metadata": {},
   "outputs": [
    {
     "data": {
      "text/plain": [
       "[<matplotlib.lines.Line2D at 0x7ffd00669be0>]"
      ]
     },
     "execution_count": 15,
     "metadata": {},
     "output_type": "execute_result"
    },
    {
     "data": {
      "image/png": "[encoded data removed]",
      "text/plain": [
       "<Figure size 360x360 with 1 Axes>"
      ]
     },
     "metadata": {
      "needs_background": "light"
     },
     "output_type": "display_data"
    }
   ],
   "source": [
    "plt.plot(pca.explained_variance_ratio_)"
   ]
  },
  {
   "cell_type": "code",
   "execution_count": 16,
   "metadata": {},
   "outputs": [
    {
     "data": {
      "text/plain": [
       "<function matplotlib.pyplot.show(close=None, block=None)>"
      ]
     },
     "execution_count": 16,
     "metadata": {},
     "output_type": "execute_result"
    },
    {
     "data": {
      "image/png": "[encoded data removed]",
      "text/plain": [
       "<Figure size 576x576 with 1 Axes>"
      ]
     },
     "metadata": {},
     "output_type": "display_data"
    }
   ],
   "source": [
    "plt.style.use(\"ggplot\")\n",
    "plt.rcParams['axes.unicode_minus']=False\n",
    "plt.rcParams['figure.figsize']=(8,8)\n",
    "plt.scatter(data_n[:,0],data_n[:,1],label='x1,x2')\n",
    "plt.title(\"\")\n",
    "plt.axis('equal')\n",
    "plt.legend()\n",
    "plt.show"
   ]
  },
  {
   "cell_type": "code",
   "execution_count": 17,
   "metadata": {},
   "outputs": [
    {
     "data": {
      "text/plain": [
       "<function matplotlib.pyplot.show(close=None, block=None)>"
      ]
     },
     "execution_count": 17,
     "metadata": {},
     "output_type": "execute_result"
    },
    {
     "data": {
      "image/png": "[encoded data removed]",
      "text/plain": [
       "<Figure size 576x576 with 1 Axes>"
      ]
     },
     "metadata": {},
     "output_type": "display_data"
    }
   ],
   "source": [
    "plt.style.use(\"ggplot\")\n",
    "plt.rcParams['axes.unicode_minus']=False\n",
    "plt.rcParams['figure.figsize']=(8,8)\n",
    "plt.scatter(data_n[:,1],data_n[:,2],label='x2,x3')\n",
    "plt.title(\"\")\n",
    "plt.axis('equal')\n",
    "plt.legend()\n",
    "plt.show\n"
   ]
  },
  {
   "cell_type": "code",
   "execution_count": 18,
   "metadata": {},
   "outputs": [
    {
     "data": {
      "text/plain": [
       "<function matplotlib.pyplot.show(close=None, block=None)>"
      ]
     },
     "execution_count": 18,
     "metadata": {},
     "output_type": "execute_result"
    },
    {
     "data": {
      "image/png": "[encoded data removed]",
      "text/plain": [
       "<Figure size 576x576 with 1 Axes>"
      ]
     },
     "metadata": {},
     "output_type": "display_data"
    }
   ],
   "source": [
    "plt.style.use(\"ggplot\")\n",
    "plt.rcParams['axes.unicode_minus']=False\n",
    "plt.rcParams['figure.figsize']=(8,8)\n",
    "plt.scatter(data_n[:,0],data_n[:,2],label='x1,x3')\n",
    "plt.title(\"\")\n",
    "plt.axis('equal')\n",
    "plt.legend()\n",
    "plt.show"
   ]
  },
  {
   "cell_type": "markdown",
   "metadata": {},
   "source": [
    "(3) Calcuate the proportions of the variability of data that can be explained by the first K principal components and find the value of K that it reaches to 99% of the variability."
   ]
  },
  {
   "cell_type": "code",
   "execution_count": 19,
   "metadata": {},
   "outputs": [
    {
     "data": {
      "text/plain": [
       "Text(0, 0.5, 'cumulative explained variance')"
      ]
     },
     "execution_count": 19,
     "metadata": {},
     "output_type": "execute_result"
    },
    {
     "data": {
      "image/png": "[encoded data removed]",
      "text/plain": [
       "<Figure size 576x576 with 1 Axes>"
      ]
     },
     "metadata": {},
     "output_type": "display_data"
    }
   ],
   "source": [
    "pca = PCA().fit(data_pca)\n",
    "plt.plot(np.cumsum(pca.explained_variance_ratio_))\n",
    "plt.xlabel('number of components')\n",
    "plt.ylabel('cumulative explained variance')"
   ]
  },
  {
   "cell_type": "code",
   "execution_count": 20,
   "metadata": {},
   "outputs": [],
   "source": [
    "# pd.DataFrame(pca.explained_variance_ratio_)"
   ]
  },
  {
   "cell_type": "code",
   "execution_count": 21,
   "metadata": {
    "tags": []
   },
   "outputs": [
    {
     "name": "stdout",
     "output_type": "stream",
     "text": [
      "0.2994012085009041\n",
      "0.5343694399350725\n",
      "0.6821365615336084\n",
      "0.785436285409517\n",
      "0.8681595514495506\n",
      "0.9238890559524369\n",
      "0.9628600598587197\n",
      "0.9768919210108361\n",
      "0.9874405423283974\n",
      "0.9922141008322909\n"
     ]
    }
   ],
   "source": [
    "k = 0\n",
    "for i in range(10):\n",
    "    k = k + pca.explained_variance_ratio_[i]\n",
    "    print(k) "
   ]
  },
  {
   "cell_type": "markdown",
   "metadata": {},
   "source": [
    "So we find k = 9,first K principal components and find the value of K that it reaches to 99% of the variability."
   ]
  },
  {
   "cell_type": "code",
   "execution_count": null,
   "metadata": {},
   "outputs": [],
   "source": []
  },
  {
   "cell_type": "markdown",
   "metadata": {},
   "source": [
    "2. Generate $Y$ values using the following regression functions: \n",
    "\n",
    "$Y=5+2 X_{1}+5 X_{3}+$ $3 X_{19}+\\epsilon$ \n",
    "for the generated X matrix in #1\n",
    "\n",
    " (1) Estimate the regression line using the least square method and find out the predicted values, residuals for each observation and the mean square errors.\n",
    "\n",
    "(2) Estimate the regression line using the least square method based on the first 5 principal components and find out the predicted values, residuals for each observation and the mean square errors.\n",
    "\n",
    "(3) Compare the results in (1) and (2)."
   ]
  },
  {
   "cell_type": "code",
   "execution_count": 22,
   "metadata": {},
   "outputs": [],
   "source": [
    "# (1) Estimate the regression line using the least square method and find out the predicted values, residuals for each observation and the mean square errors.\n",
    "from sklearn import datasets, linear_model\n",
    "from sklearn.metrics import mean_squared_error"
   ]
  },
  {
   "source": [
    "Trainning set :150\n",
    "\n",
    "Testing set: 50"
   ],
   "cell_type": "markdown",
   "metadata": {}
  },
  {
   "cell_type": "code",
   "execution_count": 23,
   "metadata": {},
   "outputs": [],
   "source": [
    "#In Q1 ,we have:\n",
    "# Ns = 200 #Generate 200 samples from x1-x20\n",
    "# data = np.random.multivariate_normal(mu, cov, size=Ns)\n",
    "x1 = data[:, 0]\n",
    "x3 = data[:, 2]\n",
    "x5 = data[:, 4]\n",
    "x19 = data[:,18]\n",
    "\n",
    "# now define Gaussian noise:\n",
    "mu_e, sigma_e = 0, 4\n",
    "xe = norm.rvs(mu_e,sigma_e,size=Ns)\n",
    "\n",
    "Y = 5 + 2*x1 + 5*x3 + 3*x19 + xe"
   ]
  },
  {
   "cell_type": "code",
   "execution_count": 24,
   "metadata": {},
   "outputs": [],
   "source": [
    "x_matrix = pd.DataFrame([x1,x3,x19]).T \n",
    "y_matrix = pd.DataFrame([Y]).T"
   ]
  },
  {
   "cell_type": "code",
   "execution_count": 25,
   "metadata": {},
   "outputs": [],
   "source": [
    "# x_matrix.shape\n",
    "# y_matrix.shape"
   ]
  },
  {
   "cell_type": "code",
   "execution_count": 26,
   "metadata": {},
   "outputs": [],
   "source": [
    "x_train = x_matrix[:-50]\n",
    "x_test = x_matrix[150:]\n",
    "y_train = y_matrix[:-50]\n",
    "y_test = y_matrix[150:]"
   ]
  },
  {
   "cell_type": "code",
   "execution_count": 27,
   "metadata": {},
   "outputs": [],
   "source": [
    "regr = linear_model.LinearRegression()"
   ]
  },
  {
   "cell_type": "code",
   "execution_count": 28,
   "metadata": {},
   "outputs": [
    {
     "data": {
      "text/plain": [
       "LinearRegression()"
      ]
     },
     "execution_count": 28,
     "metadata": {},
     "output_type": "execute_result"
    }
   ],
   "source": [
    "regr.fit(x_train,y_train)"
   ]
  },
  {
   "cell_type": "code",
   "execution_count": 29,
   "metadata": {},
   "outputs": [],
   "source": [
    "y_pred = regr.predict(x_test)"
   ]
  },
  {
   "cell_type": "code",
   "execution_count": 30,
   "metadata": {},
   "outputs": [
    {
     "name": "stdout",
     "output_type": "stream",
     "text": [
      "Coefficients: \n",
      " [[1.95233432 4.84608259 3.11060448]]\n"
     ]
    }
   ],
   "source": [
    "print('Coefficients: \\n', regr.coef_)"
   ]
  },
  {
   "cell_type": "code",
   "execution_count": 31,
   "metadata": {},
   "outputs": [
    {
     "name": "stdout",
     "output_type": "stream",
     "text": [
      "Mean squared error: 14.76\n"
     ]
    }
   ],
   "source": [
    "#MSE\n",
    "print(\"Mean squared error: %.2f\"% mean_squared_error(y_test, y_pred))\n",
    "        "
   ]
  },
  {
   "cell_type": "code",
   "execution_count": 32,
   "metadata": {},
   "outputs": [
    {
     "name": "stdout",
     "output_type": "stream",
     "text": [
      "Variance score: 0.98\n"
     ]
    }
   ],
   "source": [
    "print('Variance score: %.2f' % r2_score(y_test, y_pred))"
   ]
  },
  {
   "cell_type": "code",
   "execution_count": 33,
   "metadata": {},
   "outputs": [
    {
     "data": {
      "image/png": "[encoded data removed]",
      "text/plain": [
       "<Figure size 576x576 with 1 Axes>"
      ]
     },
     "metadata": {},
     "output_type": "display_data"
    }
   ],
   "source": [
    "fig, ax = plt.subplots()\n",
    "ax.scatter(y_test, y_pred)\n",
    "ax.plot([y_test.min(), y_test.max()], [y_test.min(), y_test.max()], 'k--', lw=4)\n",
    "ax.set_xlabel('Measured')\n",
    "ax.set_ylabel('Predicted')\n",
    "plt.show()"
   ]
  },
  {
   "cell_type": "code",
   "execution_count": 34,
   "metadata": {},
   "outputs": [],
   "source": [
    "# (2) Estimate the regression line using the least square method based on the first 5 principal components and find out the predicted values, residuals for each observation and the mean square errors."
   ]
  },
  {
   "cell_type": "code",
   "execution_count": 35,
   "metadata": {},
   "outputs": [],
   "source": [
    "#PCA by mle function\n",
    "pca=PCA(n_components='mle')\n",
    "pca.fit(data_n)\n",
    "data_pca = pca.transform(data_n)\n",
    "# pd.DataFrame(data_pca)\n"
   ]
  },
  {
   "cell_type": "code",
   "execution_count": 36,
   "metadata": {},
   "outputs": [],
   "source": [
    "pca5 = data[:,:5]\n",
    "# coefficients of pcs\n",
    "# pc5 = pd.DataFrame(pca5)\n",
    "data5 = data[:,:5]\n",
    "# pd.DataFrame(data5)\n",
    "y5 = pca5 * data5"
   ]
  },
  {
   "cell_type": "code",
   "execution_count": 37,
   "metadata": {},
   "outputs": [],
   "source": [
    "x_train5 = data5[:-50]\n",
    "x_test5 = data5[150:]\n",
    "y_train5 = y5[:-50]\n",
    "y_test5 = y5[150:]"
   ]
  },
  {
   "cell_type": "code",
   "execution_count": 38,
   "metadata": {},
   "outputs": [
    {
     "data": {
      "text/plain": [
       "LinearRegression()"
      ]
     },
     "execution_count": 38,
     "metadata": {},
     "output_type": "execute_result"
    }
   ],
   "source": [
    "regr.fit(x_train5,y_train5)"
   ]
  },
  {
   "cell_type": "code",
   "execution_count": 39,
   "metadata": {},
   "outputs": [],
   "source": [
    "y_pred5 = regr.predict(x_test5)"
   ]
  },
  {
   "cell_type": "code",
   "execution_count": 40,
   "metadata": {
    "tags": []
   },
   "outputs": [],
   "source": [
    "# print('Coefficients: \\n', regr.coef_)"
   ]
  },
  {
   "cell_type": "code",
   "execution_count": 41,
   "metadata": {},
   "outputs": [
    {
     "name": "stdout",
     "output_type": "stream",
     "text": [
      "Mean squared error: 81.25\n"
     ]
    }
   ],
   "source": [
    "#MSE\n",
    "print(\"Mean squared error: %.2f\"% mean_squared_error(y_test5, y_pred5))"
   ]
  },
  {
   "cell_type": "code",
   "execution_count": 42,
   "metadata": {},
   "outputs": [
    {
     "name": "stdout",
     "output_type": "stream",
     "text": [
      "Variance score: 0.76\n"
     ]
    }
   ],
   "source": [
    "print('Variance score: %.2f' % r2_score(y_test5, y_pred5))"
   ]
  },
  {
   "cell_type": "code",
   "execution_count": 43,
   "metadata": {},
   "outputs": [
    {
     "data": {
      "image/png": "[encoded data removed]",
      "text/plain": [
       "<Figure size 576x576 with 1 Axes>"
      ]
     },
     "metadata": {},
     "output_type": "display_data"
    }
   ],
   "source": [
    "fig, ax = plt.subplots()\n",
    "ax.scatter(y_test5, y_pred5)\n",
    "ax.plot([y_test5.min(), y_test5.max()], [y_test5.min(), y_test5.max()], 'k--', lw=4)\n",
    "ax.set_xlabel('Measured')\n",
    "ax.set_ylabel('Predicted')\n",
    "plt.show()"
   ]
  },
  {
   "cell_type": "code",
   "execution_count": 44,
   "metadata": {},
   "outputs": [],
   "source": [
    "# (3) Compare the results in (1) and (2)."
   ]
  },
  {
   "cell_type": "markdown",
   "metadata": {},
   "source": [
    "Based on the test 1 and 2 the ,the reusults 1 performed better with the lower MSE and better regression in graph."
   ]
  },
  {
   "cell_type": "code",
   "execution_count": null,
   "metadata": {},
   "outputs": [],
   "source": []
  }
 ],
 "metadata": {
  "kernelspec": {
   "display_name": "Python 3",
   "language": "python",
   "name": "python3"
  },
  "language_info": {
   "codemirror_mode": {
    "name": "ipython",
    "version": 3
   },
   "file_extension": ".py",
   "mimetype": "text/x-python",
   "name": "python",
   "nbconvert_exporter": "python",
   "pygments_lexer": "ipython3",
   "version": "3.8.8"
  },
  "toc": {
   "base_numbering": 1,
   "nav_menu": {},
   "number_sections": true,
   "sideBar": true,
   "skip_h1_title": false,
   "title_cell": "Table of Contents",
   "title_sidebar": "Contents",
   "toc_cell": false,
   "toc_position": {},
   "toc_section_display": true,
   "toc_window_display": false
  },
  "varInspector": {
   "cols": {
    "lenName": 16,
    "lenType": 16,
    "lenVar": 40
   },
   "kernels_config": {
    "python": {
     "delete_cmd_postfix": "",
     "delete_cmd_prefix": "del ",
     "library": "var_list.py",
     "varRefreshCmd": "print(var_dic_list())"
    },
    "r": {
     "delete_cmd_postfix": ") ",
     "delete_cmd_prefix": "rm(",
     "library": "var_list.r",
     "varRefreshCmd": "cat(var_dic_list()) "
    }
   },
   "types_to_exclude": [
    "module",
    "function",
    "builtin_function_or_method",
    "instance",
    "_Feature"
   ],
   "window_display": false
  }
 },
 "nbformat": 4,
 "nbformat_minor": 4
}