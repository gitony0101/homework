{
 "cells": [
  {
   "cell_type": "markdown",
   "metadata": {},
   "source": [
    "HW 4 540\n",
    "\n",
    "1. Generate random 200 MVN data, p=20. \n",
    "\n",
    "The covariance matrix should be positive semi- definite symmetric matrix.\n",
    "\n",
    "(1) Calculate sample covariance matrix.\n",
    "\n",
    "(2) Find out the first three principal components.\n",
    "\n",
    "(3) Calcuate the proportions of the variability of data that can be explained by the first K\n",
    "\n",
    "principal components and find the value of K that it reaches to 99% of the variability."
   ]
  },
  {
   "cell_type": "code",
   "execution_count": 1,
   "metadata": {},
   "outputs": [],
   "source": [
    "import numpy as np\n",
    "import pandas as pd\n",
    "import matplotlib.pyplot as plt\n",
    "import scipy.stats as st\n",
    "from scipy.stats import *\n",
    "from numpy import *\n",
    "from sklearn import preprocessing\n",
    "from sklearn.decomposition import PCA\n",
    "%matplotlib inline\n",
    "np.random.seed(42)"
   ]
  },
  {
   "cell_type": "code",
   "execution_count": null,
   "metadata": {},
   "outputs": [],
   "source": [
    "# p=20\n",
    "# The Multivariate  normal distribution with p =20 mean vector is mu.\n",
    "# The covariance matrix is cov.\n",
    "mu = np.random.uniform(-10,10,size=20)\n",
    "C = np.random.random((20,20))\n",
    "cov = C @ C.T # positive semi-definite"
   ]
  },
  {
   "cell_type": "code",
   "execution_count": null,
   "metadata": {},
   "outputs": [],
   "source": [
    "# pd.DataFrame(mu)"
   ]
  },
  {
   "cell_type": "code",
   "execution_count": null,
   "metadata": {},
   "outputs": [],
   "source": [
    "# pd.DataFrame(cov)"
   ]
  },
  {
   "cell_type": "code",
   "execution_count": null,
   "metadata": {},
   "outputs": [],
   "source": [
    "Ns = 200 #Generate 100 samples from x1-x20\n",
    "data = np.random.multivariate_normal(mu, cov, size=Ns)\n",
    "# x1 = data[:, 0]\n",
    "# x2 = data[:, 1]\n",
    "# x20 = data[:,19]"
   ]
  },
  {
   "cell_type": "code",
   "execution_count": null,
   "metadata": {},
   "outputs": [],
   "source": [
    "pd.DataFrame(data)"
   ]
  },
  {
   "cell_type": "code",
   "execution_count": null,
   "metadata": {},
   "outputs": [],
   "source": [
    "#normalize data\n",
    "scaler = preprocessing.StandardScaler().fit(data)\n",
    "data_scaled = scaler.transform(data)\n",
    "data_n = np.cov(data_scaled)\n",
    "pd.DataFrame(data_n)"
   ]
  },
  {
   "cell_type": "code",
   "execution_count": null,
   "metadata": {},
   "outputs": [],
   "source": [
    "plt.rcParams['figure.figsize']=(10,10)\n",
    "plt.matshow()\n",
    "plt.show()"
   ]
  },
  {
   "cell_type": "code",
   "execution_count": null,
   "metadata": {},
   "outputs": [],
   "source": []
  },
  {
   "cell_type": "code",
   "execution_count": null,
   "metadata": {
    "tags": []
   },
   "outputs": [],
   "source": [
    "pca=PCA(n_components='mle')\n",
    "pca.fit()\n",
    "data_pca = pca.transform(data_n)\n",
    "# pd.DataFrame(pca_cov)"
   ]
  },
  {
   "cell_type": "code",
   "execution_count": null,
   "metadata": {},
   "outputs": [],
   "source": []
  },
  {
   "cell_type": "code",
   "execution_count": null,
   "metadata": {
    "tags": []
   },
   "outputs": [],
   "source": [
    "plt.plot(pca.explained_variance_ratio_)"
   ]
  },
  {
   "cell_type": "code",
   "execution_count": null,
   "metadata": {},
   "outputs": [],
   "source": [
    "# ??\n",
    "\n",
    "plt.figure()\n",
    "plt.figure(figsize=(10,10))\n",
    "plt.xticks(fontsize=12)\n",
    "plt.yticks(fontsize=14)\n",
    "plt.xlabel('Principal Component - 1',fontsize=20)\n",
    "plt.ylabel('Principal Component - 2',fontsize=20)\n",
    "plt.title(\"Scatter plot of components 1 and 2\",fontsize=20)\n",
    "plt.scatter(pca_cov[:, 0],pca_cov[:, 1], cmap=plt.cm.Set1, edgecolor='k', s=40)\n",
    "\n",
    "# 用上次那个三一图\n",
    "\n",
    "plt.legend()"
   ]
  },
  {
   "cell_type": "code",
   "execution_count": null,
   "metadata": {},
   "outputs": [],
   "source": []
  },
  {
   "cell_type": "code",
   "execution_count": null,
   "metadata": {},
   "outputs": [],
   "source": []
  },
  {
   "cell_type": "code",
   "execution_count": null,
   "metadata": {},
   "outputs": [],
   "source": []
  },
  {
   "cell_type": "code",
   "execution_count": null,
   "metadata": {},
   "outputs": [],
   "source": []
  },
  {
   "cell_type": "markdown",
   "metadata": {},
   "source": [
    "2. Generate $Y$ values using the following regression functions: \n",
    "\n",
    "$Y=5+2 X_{1}+5 X_{3}+$ $3 X_{19}+\\epsilon$ \n",
    "for the generated X matrix in #1\n",
    "\n",
    " (1) Estimate the regression line using the least square method and find out the predicted values, residuals for each observation and the mean square errors.\n",
    "\n",
    "(2) Estimate the regression line using the least square method based on the first 5 principal components and find out the predicted values, residuals for each observation and the mean square errors.\n",
    "\n",
    "(3) Compare the results in (1) and (2)."
   ]
  },
  {
   "cell_type": "code",
   "execution_count": null,
   "metadata": {},
   "outputs": [],
   "source": []
  }
 ],
 "metadata": {
  "kernelspec": {
   "display_name": "Python 3.8.6 64-bit ('jnb': conda)",
   "language": "python",
   "name": "python38664bitjnbconda655227b73531428493f2526547618ad4"
  },
  "language_info": {
   "codemirror_mode": {
    "name": "ipython",
    "version": 3
   },
   "file_extension": ".py",
   "mimetype": "text/x-python",
   "name": "python",
   "nbconvert_exporter": "python",
   "pygments_lexer": "ipython3",
   "version": "3.8.6"
  }
 },
 "nbformat": 4,
 "nbformat_minor": 4
}