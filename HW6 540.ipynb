{
 "metadata": {
  "language_info": {
   "codemirror_mode": {
    "name": "ipython",
    "version": 3
   },
   "file_extension": ".py",
   "mimetype": "text/x-python",
   "name": "python",
   "nbconvert_exporter": "python",
   "pygments_lexer": "ipython3",
   "version": "3.8.8"
  },
  "orig_nbformat": 2,
  "kernelspec": {
   "name": "python388jvsc74a57bd046b9dc6d2b7cffca86f10cfc6629a675913fc288cf586b16d1984440fcaf60c7",
   "display_name": "Python 3.8.8 64-bit ('jnb': conda)"
  }
 },
 "nbformat": 4,
 "nbformat_minor": 2,
 "cells": [
  {
   "source": [
    "### Computational Methods (16:540:540) - Spring 2021\n",
    "#### Homework 6 – Python Coding\n",
    "\n",
    "1. Generate 100 random samples from multivariate normal distribution where 𝑝 = 5. Then, calculate means and covariance matrix.\n",
    "\n",
    "2. Assign the output $y=5 x_{1}+9 x_{2}+2 x_{3}^{2}$\n",
    "\n",
    "3. Perform Regression using the dataset generated above to predict 𝑦 using the following algorithms from Scikit-learn:\n",
    "\n",
    "        a) Support vector regression\n",
    "\n",
    "        b) Decision Tree\n",
    "\n",
    "        c) Artificial Neural Network\n",
    "\n",
    "Report the MSE and R-squared error. Use 70% of the dataset for training and 30% for testing."
   ],
   "cell_type": "markdown",
   "metadata": {}
  },
  {
   "cell_type": "code",
   "execution_count": 1,
   "metadata": {},
   "outputs": [],
   "source": [
    "# 1.Generate 100 random samples from multivariate normal distribution where 𝑝 = 5. Then, calculate means and covariance matrix."
   ]
  },
  {
   "cell_type": "code",
   "execution_count": 4,
   "metadata": {},
   "outputs": [],
   "source": [
    "import numpy as np\n",
    "import pandas as pd\n",
    "from numpy.random import default_rng\n",
    "rng = default_rng(5)\n",
    "p, n=5, 100"
   ]
  },
  {
   "cell_type": "code",
   "execution_count": 5,
   "metadata": {},
   "outputs": [],
   "source": [
    "mu = np.random.uniform(-10,10,size=p)\n",
    "C = np.random.random((p,p))\n",
    "cov = C @ C.T # positive semi-definite\n",
    "x_1 = rng.multivariate_normal(mu, cov, n)"
   ]
  },
  {
   "cell_type": "code",
   "execution_count": 6,
   "metadata": {},
   "outputs": [],
   "source": [
    "x1_mean = np.mean(x_1)\n",
    "x1_var = np.var(x_1)"
   ]
  },
  {
   "cell_type": "code",
   "execution_count": 9,
   "metadata": {},
   "outputs": [
    {
     "output_type": "stream",
     "name": "stdout",
     "text": [
      "From univariate normal distribution,the mean of 100 random the samples is -1.6513,the variance is 11.415\n"
     ]
    }
   ],
   "source": [
    "print(f'From univariate normal distribution,the mean of 100 random the samples is {round(x1_mean,4)},the variance is {round(x1_var,4)}')"
   ]
  },
  {
   "cell_type": "code",
   "execution_count": 10,
   "metadata": {},
   "outputs": [],
   "source": [
    "# 2. Assign the output"
   ]
  },
  {
   "cell_type": "code",
   "execution_count": 13,
   "metadata": {},
   "outputs": [],
   "source": [
    "rng = default_rng(5)\n",
    "y = 5 * x_1[:,0]+ 9*x_1[:,1] + (2 * x_1[:,2])**2 + rng.normal(0,1,n) "
   ]
  },
  {
   "cell_type": "code",
   "execution_count": 24,
   "metadata": {},
   "outputs": [
    {
     "output_type": "execute_result",
     "data": {
      "text/plain": [
       "           0         1         2\n",
       "0  -1.910801  1.214405 -2.691729\n",
       "1  -2.658413 -0.311950 -4.227997\n",
       "2  -2.817407 -0.037785 -4.214930\n",
       "3  -0.078920  1.049731 -1.581272\n",
       "4  -1.844054  0.019269 -3.625653\n",
       "..       ...       ...       ...\n",
       "95 -3.126894 -1.368858 -5.347264\n",
       "96 -3.458599 -0.421327 -4.609938\n",
       "97 -3.582058 -0.871265 -5.936007\n",
       "98 -0.449135  1.979917 -3.386167\n",
       "99 -4.537894 -0.423548 -5.444274\n",
       "\n",
       "[100 rows x 3 columns]"
      ],
      "text/html": "<div>\n<style scoped>\n    .dataframe tbody tr th:only-of-type {\n        vertical-align: middle;\n    }\n\n    .dataframe tbody tr th {\n        vertical-align: top;\n    }\n\n    .dataframe thead th {\n        text-align: right;\n    }\n</style>\n<table border=\"1\" class=\"dataframe\">\n  <thead>\n    <tr style=\"text-align: right;\">\n      <th></th>\n      <th>0</th>\n      <th>1</th>\n      <th>2</th>\n    </tr>\n  </thead>\n  <tbody>\n    <tr>\n      <th>0</th>\n      <td>-1.910801</td>\n      <td>1.214405</td>\n      <td>-2.691729</td>\n    </tr>\n    <tr>\n      <th>1</th>\n      <td>-2.658413</td>\n      <td>-0.311950</td>\n      <td>-4.227997</td>\n    </tr>\n    <tr>\n      <th>2</th>\n      <td>-2.817407</td>\n      <td>-0.037785</td>\n      <td>-4.214930</td>\n    </tr>\n    <tr>\n      <th>3</th>\n      <td>-0.078920</td>\n      <td>1.049731</td>\n      <td>-1.581272</td>\n    </tr>\n    <tr>\n      <th>4</th>\n      <td>-1.844054</td>\n      <td>0.019269</td>\n      <td>-3.625653</td>\n    </tr>\n    <tr>\n      <th>...</th>\n      <td>...</td>\n      <td>...</td>\n      <td>...</td>\n    </tr>\n    <tr>\n      <th>95</th>\n      <td>-3.126894</td>\n      <td>-1.368858</td>\n      <td>-5.347264</td>\n    </tr>\n    <tr>\n      <th>96</th>\n      <td>-3.458599</td>\n      <td>-0.421327</td>\n      <td>-4.609938</td>\n    </tr>\n    <tr>\n      <th>97</th>\n      <td>-3.582058</td>\n      <td>-0.871265</td>\n      <td>-5.936007</td>\n    </tr>\n    <tr>\n      <th>98</th>\n      <td>-0.449135</td>\n      <td>1.979917</td>\n      <td>-3.386167</td>\n    </tr>\n    <tr>\n      <th>99</th>\n      <td>-4.537894</td>\n      <td>-0.423548</td>\n      <td>-5.444274</td>\n    </tr>\n  </tbody>\n</table>\n<p>100 rows × 3 columns</p>\n</div>"
     },
     "metadata": {},
     "execution_count": 24
    }
   ],
   "source": []
  },
  {
   "cell_type": "code",
   "execution_count": 33,
   "metadata": {},
   "outputs": [
    {
     "output_type": "execute_result",
     "data": {
      "text/plain": [
       "          0         1         2        3         4\n",
       "0 -1.910801  1.214405 -2.691729 -3.57467  4.293876"
      ],
      "text/html": "<div>\n<style scoped>\n    .dataframe tbody tr th:only-of-type {\n        vertical-align: middle;\n    }\n\n    .dataframe tbody tr th {\n        vertical-align: top;\n    }\n\n    .dataframe thead th {\n        text-align: right;\n    }\n</style>\n<table border=\"1\" class=\"dataframe\">\n  <thead>\n    <tr style=\"text-align: right;\">\n      <th></th>\n      <th>0</th>\n      <th>1</th>\n      <th>2</th>\n      <th>3</th>\n      <th>4</th>\n    </tr>\n  </thead>\n  <tbody>\n    <tr>\n      <th>0</th>\n      <td>-1.910801</td>\n      <td>1.214405</td>\n      <td>-2.691729</td>\n      <td>-3.57467</td>\n      <td>4.293876</td>\n    </tr>\n  </tbody>\n</table>\n</div>"
     },
     "metadata": {},
     "execution_count": 33
    }
   ],
   "source": []
  },
  {
   "cell_type": "code",
   "execution_count": null,
   "metadata": {},
   "outputs": [],
   "source": []
  },
  {
   "cell_type": "code",
   "execution_count": null,
   "metadata": {},
   "outputs": [],
   "source": []
  },
  {
   "cell_type": "code",
   "execution_count": null,
   "metadata": {},
   "outputs": [],
   "source": []
  },
  {
   "source": [],
   "cell_type": "markdown",
   "metadata": {}
  }
 ]
}