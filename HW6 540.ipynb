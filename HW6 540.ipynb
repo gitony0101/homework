{
 "metadata": {
  "language_info": {
   "codemirror_mode": {
    "name": "ipython",
    "version": 3
   },
   "file_extension": ".py",
   "mimetype": "text/x-python",
   "name": "python",
   "nbconvert_exporter": "python",
   "pygments_lexer": "ipython3",
   "version": "3.8.8"
  },
  "orig_nbformat": 2,
  "kernelspec": {
   "name": "python388jvsc74a57bd046b9dc6d2b7cffca86f10cfc6629a675913fc288cf586b16d1984440fcaf60c7",
   "display_name": "Python 3.8.8 64-bit ('jnb': conda)"
  }
 },
 "nbformat": 4,
 "nbformat_minor": 2,
 "cells": [
  {
   "source": [
    "### Computational Methods (16:540:540) - Spring 2021\n",
    "#### Homework 6 – Python Coding\n",
    "\n",
    "1. Generate 100 random samples from multivariate normal distribution where 𝑝 = 5. Then, calculate means and covariance matrix.\n",
    "\n",
    "2. Assign the output $y=5 x_{1}+9 x_{2}+2 x_{3}^{2}$\n",
    "\n",
    "3. Perform Regression using the dataset generated above to predict 𝑦 using the following algorithms from Scikit-learn:\n",
    "\n",
    "        a) Support vector regression\n",
    "\n",
    "        b) Decision Tree\n",
    "\n",
    "        c) Artificial Neural Network\n",
    "\n",
    "Report the MSE and R-squared error. Use 70% of the dataset for training and 30% for testing."
   ],
   "cell_type": "markdown",
   "metadata": {}
  },
  {
   "cell_type": "code",
   "execution_count": 1,
   "metadata": {},
   "outputs": [],
   "source": [
    "# 1.Generate 100 random samples from multivariate normal distribution where 𝑝 = 5. Then, calculate means and covariance matrix."
   ]
  },
  {
   "cell_type": "code",
   "execution_count": 4,
   "metadata": {},
   "outputs": [],
   "source": [
    "import numpy as np\n",
    "import pandas as pd\n",
    "from numpy.random import default_rng\n",
    "rng = default_rng(5)\n",
    "p, n=5, 100"
   ]
  },
  {
   "cell_type": "code",
   "execution_count": 5,
   "metadata": {},
   "outputs": [],
   "source": [
    "mu = np.random.uniform(-10,10,size=p)\n",
    "C = np.random.random((p,p))\n",
    "cov = C @ C.T # positive semi-definite\n",
    "x_1 = rng.multivariate_normal(mu, cov, n)"
   ]
  },
  {
   "cell_type": "code",
   "execution_count": 6,
   "metadata": {},
   "outputs": [],
   "source": [
    "x1_mean = np.mean(x_1)\n",
    "x1_var = np.var(x_1)"
   ]
  },
  {
   "cell_type": "code",
   "execution_count": 9,
   "metadata": {},
   "outputs": [
    {
     "output_type": "stream",
     "name": "stdout",
     "text": [
      "From univariate normal distribution,the mean of 100 random the samples is -1.6513,the variance is 11.415\n"
     ]
    }
   ],
   "source": [
    "print(f'From univariate normal distribution,the mean of 100 random the samples is {round(x1_mean,4)},the variance is {round(x1_var,4)}')"
   ]
  },
  {
   "cell_type": "code",
   "execution_count": 34,
   "metadata": {},
   "outputs": [],
   "source": [
    "# 2. Assign the output:"
   ]
  },
  {
   "source": [
    "$y=5 x_{1}+9 x_{2}+2 x_{3}^{2}$"
   ],
   "cell_type": "markdown",
   "metadata": {}
  },
  {
   "cell_type": "code",
   "execution_count": 36,
   "metadata": {},
   "outputs": [],
   "source": [
    "rng = default_rng(5)\n",
    "y = 5 * x_1[:,0]+ 9*x_1[:,1] + (2 * x_1[:,2])**2 + rng.normal(0,1,n)"
   ]
  },
  {
   "cell_type": "code",
   "execution_count": null,
   "metadata": {},
   "outputs": [],
   "source": []
  },
  {
   "cell_type": "code",
   "execution_count": null,
   "metadata": {},
   "outputs": [],
   "source": []
  },
  {
   "cell_type": "code",
   "execution_count": null,
   "metadata": {},
   "outputs": [],
   "source": [
    "# 3.Perform Regression using the dataset generated above to predict 𝑦 using the following algorithms from Scikit-learn."
   ]
  },
  {
   "cell_type": "code",
   "execution_count": 37,
   "metadata": {},
   "outputs": [],
   "source": [
    "from sklearn.model_selection import train_test_split"
   ]
  },
  {
   "cell_type": "code",
   "execution_count": 38,
   "metadata": {},
   "outputs": [],
   "source": [
    "x_train, x_test, y_train, y_test = train_test_split(x_1, y, test_size=0.3, random_state=123)"
   ]
  },
  {
   "cell_type": "code",
   "execution_count": 35,
   "metadata": {},
   "outputs": [],
   "source": []
  },
  {
   "cell_type": "code",
   "execution_count": null,
   "metadata": {},
   "outputs": [],
   "source": []
  },
  {
   "cell_type": "code",
   "execution_count": null,
   "metadata": {},
   "outputs": [],
   "source": []
  },
  {
   "source": [],
   "cell_type": "markdown",
   "metadata": {}
  }
 ]
}