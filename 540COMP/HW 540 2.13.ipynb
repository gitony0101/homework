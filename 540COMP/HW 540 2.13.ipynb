{
 "cells": [
  {
   "cell_type": "markdown",
   "metadata": {},
   "source": [
    "540:540 COMP MTHDS HW 1 "
   ]
  },
  {
   "cell_type": "markdown",
   "metadata": {},
   "source": [
    "1.1 Monte Carlo Integration Appraoch"
   ]
  },
  {
   "cell_type": "code",
   "execution_count": 2,
   "metadata": {},
   "outputs": [],
   "source": [
    "import numpy as np\n",
    "import pandas as pd\n",
    "import matplotlib.pyplot as plt\n",
    "from scipy.stats import laplace"
   ]
  },
  {
   "cell_type": "code",
   "execution_count": 6,
   "metadata": {},
   "outputs": [
    {
     "name": "stdout",
     "output_type": "stream",
     "text": [
      "0.9855006534129254\n"
     ]
    },
    {
     "data": {
      "image/png": "[encoded data removed]",
      "text/plain": [
       "<Figure size 432x288 with 1 Axes>"
      ]
     },
     "metadata": {
      "needs_background": "light"
     },
     "output_type": "display_data"
    }
   ],
   "source": [
    "N = 1000\n",
    "x  = 10 * np.random.random(size=N)  # U(0, 10) \n",
    "ans1_1 = 1/N * sum(10 * laplace.pdf(x,5,0.5))\n",
    "count, bins, ignored = plt.hist(ans1_1, 10)\n",
    "print(ans1_1)"
   ]
  },
  {
   "cell_type": "markdown",
   "metadata": {},
   "source": [
    "E(h(x)) is 0.997678835626574 with the MC integration in N=1000"
   ]
  },
  {
   "cell_type": "raw",
   "metadata": {},
   "source": [
    "1.2 Importance Sampling Approach"
   ]
  },
  {
   "cell_type": "markdown",
   "metadata": {},
   "source": [
    "1.2 Importance Sampling Approach"
   ]
  },
  {
   "cell_type": "code",
   "execution_count": 7,
   "metadata": {},
   "outputs": [
    {
     "name": "stdout",
     "output_type": "stream",
     "text": [
      "1.0109807685877792\n"
     ]
    },
    {
     "data": {
      "image/png": "[encoded data removed]",
      "text/plain": [
       "<Figure size 432x288 with 1 Axes>"
      ]
     },
     "metadata": {
      "needs_background": "light"
     },
     "output_type": "display_data"
    }
   ],
   "source": [
    "N = 1000\n",
    "y = np.random.normal(5,1, N) #N(5,1)\n",
    "ans1_2 = 1/N * sum(laplace.pdf(y,5,0.5)/((1/np.sqrt(2*np.pi))*np.exp(-(y-5)**2/2)))\n",
    "count, bins, ignored = plt.hist(ans1_2, 10)\n",
    "print(ans1_2)"
   ]
  },
  {
   "cell_type": "markdown",
   "metadata": {},
   "source": [
    "E(h(x)) is 1.0050872180167638 with the ISintegration in N=1000"
   ]
  },
  {
   "cell_type": "markdown",
   "metadata": {},
   "source": [
    "1.3 Compare Monte Carlo Integration & Importance Sampling for differernt sample sizes"
   ]
  },
  {
   "cell_type": "code",
   "execution_count": 8,
   "metadata": {},
   "outputs": [
    {
     "name": "stdout",
     "output_type": "stream",
     "text": [
      "100 1.2304591602812383 0.9451743537510544\n"
     ]
    }
   ],
   "source": [
    "N = 100\n",
    "x  = 10 * np.random.random(size=N)  \n",
    "ans1_1 = 1/N * sum(10 * laplace.pdf(x,5,0.5))\n",
    "y = np.random.normal(5,1,N) \n",
    "ans1_2 = 1/N * sum(laplace.pdf(y,5,0.5)/((1/np.sqrt(2*np.pi))*np.exp(-(y-5)**2/2)))\n",
    "print(N,ans1_1,ans1_2)"
   ]
  },
  {
   "cell_type": "markdown",
   "metadata": {},
   "source": [
    "When N = 100, the E(h(x)) = 0.8019358077091502 with MC intgration method and 0.9436600793395418 with IS Method."
   ]
  },
  {
   "cell_type": "code",
   "execution_count": 9,
   "metadata": {},
   "outputs": [
    {
     "name": "stdout",
     "output_type": "stream",
     "text": [
      "1000 1.175251621448912 0.9771341461622703\n"
     ]
    }
   ],
   "source": [
    "N = 1000\n",
    "x  = 10 * np.random.random(size=N)  \n",
    "ans1_1 = 1/N * sum(10 * laplace.pdf(x,5,0.5))\n",
    "y = np.random.normal(5,1,N) \n",
    "ans1_2 = 1/N * sum(laplace.pdf(y,5,0.5)/((1/np.sqrt(2*np.pi))*np.exp(-(y-5)**2/2)))\n",
    "print(N,ans1_1,ans1_2)"
   ]
  },
  {
   "cell_type": "markdown",
   "metadata": {},
   "source": [
    "When N = 1000, the E(h(x)) = 1.0214173542813691  with MC intgration method and 1.0036479289473428 with IS Method."
   ]
  },
  {
   "cell_type": "code",
   "execution_count": 10,
   "metadata": {},
   "outputs": [
    {
     "name": "stdout",
     "output_type": "stream",
     "text": [
      "10000 1.0261762614904877 0.9965336406345414\n"
     ]
    }
   ],
   "source": [
    "N = 10000\n",
    "x  = 10 * np.random.random(size=N)  \n",
    "ans1_1 = 1/N * sum(10 * laplace.pdf(x,5,0.5))\n",
    "y = np.random.normal(5,1,N) \n",
    "ans1_2 = 1/N * sum(laplace.pdf(y,5,0.5)/((1/np.sqrt(2*np.pi))*np.exp(-(y-5)**2/2)))\n",
    "print(N,ans1_1,ans1_2)"
   ]
  },
  {
   "cell_type": "markdown",
   "metadata": {},
   "source": [
    "When N = 10000, the E(h(x)) = 1.0347079638394092   with MC intgration method and 0.9900888673368357 with IS Method."
   ]
  },
  {
   "cell_type": "code",
   "execution_count": 11,
   "metadata": {},
   "outputs": [
    {
     "name": "stdout",
     "output_type": "stream",
     "text": [
      "100000 0.9975929776673926 0.9999316494332039\n"
     ]
    }
   ],
   "source": [
    "N = 100000\n",
    "x  = 10 * np.random.random(size=N)  \n",
    "ans1_1 = 1/N * sum(10 * laplace.pdf(x,5,0.5))\n",
    "y = np.random.normal(5,1,N) \n",
    "ans1_2 = 1/N * sum(laplace.pdf(y,5,0.5)/((1/np.sqrt(2*np.pi))*np.exp(-(y-5)**2/2)))\n",
    "print(N,ans1_1,ans1_2)"
   ]
  },
  {
   "cell_type": "markdown",
   "metadata": {},
   "source": [
    "When N = 100000, the E(h(x)) = 0.9978765983013465   with MC intgration method and  1.0006126889758653 with IS Method."
   ]
  },
  {
   "cell_type": "code",
   "execution_count": 12,
   "metadata": {},
   "outputs": [
    {
     "name": "stdout",
     "output_type": "stream",
     "text": [
      "1000000 0.9966152521785455 0.999616656974531\n"
     ]
    }
   ],
   "source": [
    "N = 1000000\n",
    "x  = 10 * np.random.random(size=N)  \n",
    "ans1_1 = 1/N * sum(10 * laplace.pdf(x,5,0.5))\n",
    "y = np.random.normal(5,1,N) \n",
    "ans1_2 = 1/N * sum(laplace.pdf(y,5,0.5)/((1/np.sqrt(2*np.pi))*np.exp(-(y-5)**2/2)))\n",
    "print(N,ans1_1,ans1_2)"
   ]
  },
  {
   "cell_type": "markdown",
   "metadata": {},
   "source": [
    "When N = 1000000, the E(h(x)) = 0.9994285522561348   with MC intgration method and  1.0005841272235545 with IS Method."
   ]
  },
  {
   "cell_type": "markdown",
   "metadata": {},
   "source": [
    "2 Importance Sampling evaluate m-th moment\n",
    "m = 2,3,4,5"
   ]
  },
  {
   "cell_type": "markdown",
   "metadata": {},
   "source": [
    "M=2"
   ]
  },
  {
   "cell_type": "code",
   "execution_count": 13,
   "metadata": {},
   "outputs": [
    {
     "name": "stdout",
     "output_type": "stream",
     "text": [
      "1000 2724.520020861438\n"
     ]
    }
   ],
   "source": [
    "N = 1000\n",
    "z = np.random.normal(0,2, N) #N(0,2)\n",
    "m2 =1/N *(sum(z**2*laplace.pdf(z,0,1)/((1/2*np.sqrt(2*np.pi))*np.exp(-(z)**2/2))))\n",
    "print(N,m2)"
   ]
  },
  {
   "cell_type": "markdown",
   "metadata": {},
   "source": [
    "M=3"
   ]
  },
  {
   "cell_type": "code",
   "execution_count": 14,
   "metadata": {},
   "outputs": [
    {
     "name": "stdout",
     "output_type": "stream",
     "text": [
      "1000 -2280101.9071518444\n"
     ]
    }
   ],
   "source": [
    "N = 1000\n",
    "z = np.random.normal(0,2, N) #N(0,2)\n",
    "m3 =1/N *(sum(z**3*laplace.pdf(z,0,1)/((1/2*np.sqrt(2*np.pi))*np.exp(-(z)**2/2))))\n",
    "print(N,m3)"
   ]
  },
  {
   "cell_type": "markdown",
   "metadata": {},
   "source": [
    "M=4"
   ]
  },
  {
   "cell_type": "code",
   "execution_count": 15,
   "metadata": {},
   "outputs": [
    {
     "name": "stdout",
     "output_type": "stream",
     "text": [
      "1000 45785962.84565373\n"
     ]
    }
   ],
   "source": [
    "N = 1000\n",
    "z = np.random.normal(0,2, N) #N(0,2)\n",
    "m4 =1/N *(sum(z**4*laplace.pdf(z,0,1)/((1/2*np.sqrt(2*np.pi))*np.exp(-(z)**2/2))))\n",
    "print(N,m4)"
   ]
  },
  {
   "cell_type": "code",
   "execution_count": 16,
   "metadata": {},
   "outputs": [
    {
     "name": "stdout",
     "output_type": "stream",
     "text": [
      "1000 69830094.64274605\n"
     ]
    }
   ],
   "source": [
    "N = 1000\n",
    "z = np.random.normal(0,2, N) #N(0,2)\n",
    "m5 =1/N *(sum(z**4*laplace.pdf(z,0,1)/((1/2*np.sqrt(2*np.pi))*np.exp(-(z)**2/2))))\n",
    "print(N,m5)"
   ]
  },
  {
   "cell_type": "markdown",
   "metadata": {},
   "source": [
    "to be continued when n =100 1000 10000....."
   ]
  },
  {
   "cell_type": "code",
   "execution_count": null,
   "metadata": {},
   "outputs": [],
   "source": []
  },
  {
   "cell_type": "code",
   "execution_count": null,
   "metadata": {},
   "outputs": [],
   "source": []
  },
  {
   "cell_type": "code",
   "execution_count": null,
   "metadata": {},
   "outputs": [],
   "source": []
  },
  {
   "cell_type": "code",
   "execution_count": null,
   "metadata": {},
   "outputs": [],
   "source": []
  },
  {
   "cell_type": "code",
   "execution_count": null,
   "metadata": {},
   "outputs": [],
   "source": []
  }
 ],
 "metadata": {
  "kernelspec": {
   "display_name": "Python 3",
   "language": "python",
   "name": "python3"
  },
  "language_info": {
   "codemirror_mode": {
    "name": "ipython",
    "version": 3
   },
   "file_extension": ".py",
   "mimetype": "text/x-python",
   "name": "python",
   "nbconvert_exporter": "python",
   "pygments_lexer": "ipython3",
   "version": "3.8.6"
  },
  "toc": {
   "base_numbering": 1,
   "nav_menu": {},
   "number_sections": true,
   "sideBar": true,
   "skip_h1_title": false,
   "title_cell": "Table of Contents",
   "title_sidebar": "Contents",
   "toc_cell": false,
   "toc_position": {},
   "toc_section_display": true,
   "toc_window_display": false
  },
  "varInspector": {
   "cols": {
    "lenName": 16,
    "lenType": 16,
    "lenVar": 40
   },
   "kernels_config": {
    "python": {
     "delete_cmd_postfix": "",
     "delete_cmd_prefix": "del ",
     "library": "var_list.py",
     "varRefreshCmd": "print(var_dic_list())"
    },
    "r": {
     "delete_cmd_postfix": ") ",
     "delete_cmd_prefix": "rm(",
     "library": "var_list.r",
     "varRefreshCmd": "cat(var_dic_list()) "
    }
   },
   "types_to_exclude": [
    "module",
    "function",
    "builtin_function_or_method",
    "instance",
    "_Feature"
   ],
   "window_display": false
  }
 },
 "nbformat": 4,
 "nbformat_minor": 2
}
