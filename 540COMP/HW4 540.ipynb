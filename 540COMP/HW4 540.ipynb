{
 "metadata": {
  "language_info": {
   "codemirror_mode": {
    "name": "ipython",
    "version": 3
   },
   "file_extension": ".py",
   "mimetype": "text/x-python",
   "name": "python",
   "nbconvert_exporter": "python",
   "pygments_lexer": "ipython3",
   "version": "3.8.6-final"
  },
  "orig_nbformat": 2,
  "kernelspec": {
   "name": "python3",
   "display_name": "Python 3",
   "language": "python"
  }
 },
 "nbformat": 4,
 "nbformat_minor": 2,
 "cells": [
  {
   "source": [
    "HW 4 540\n",
    "\n",
    "1. Generate random 100 MVN data, p=20. \n",
    "\n",
    "The covariance matrix should be positive semi- definite symmetric matrix.\n",
    "\n",
    "(1) Calculate sample covariance matrix.\n",
    "\n",
    "(2) Find out the first three principal components.\n",
    "\n",
    "(3) Calcuate the proportions of the variability of data that can be explained by the first K\n",
    "\n",
    "principal components and find the value of K that it reaches to 99% of the variability."
   ],
   "cell_type": "markdown",
   "metadata": {}
  },
  {
   "cell_type": "code",
   "execution_count": 24,
   "metadata": {},
   "outputs": [],
   "source": [
    "import numpy as np\n",
    "import pandas as pd\n",
    "import matplotlib.pyplot as plt\n",
    "import scipy.stats as st\n",
    "from scipy.stats import *\n",
    "from numpy import *\n",
    "%matplotlib inline\n",
    "np.random.seed(42)"
   ]
  },
  {
   "cell_type": "code",
   "execution_count": 25,
   "metadata": {},
   "outputs": [],
   "source": [
    "# p=20\n",
    "# The Multivariate  normal distribution with p =20 mean vector is mu.\n",
    "# The covariance matrix is cov.\n",
    "mu = np.random.uniform(-10,10,size=20)\n",
    "C = np.random.random((20,20))\n",
    "cov = C @ C.T # positive semi-definite"
   ]
  },
  {
   "cell_type": "code",
   "execution_count": 32,
   "metadata": {},
   "outputs": [],
   "source": [
    "# pd.DataFrame(mu)"
   ]
  },
  {
   "cell_type": "code",
   "execution_count": 40,
   "metadata": {},
   "outputs": [],
   "source": [
    "# pd.DataFrame(cov)"
   ]
  },
  {
   "cell_type": "code",
   "execution_count": 44,
   "metadata": {},
   "outputs": [],
   "source": [
    "Ns = 100 #Generate 100 samples from x1-x20\n",
    "data = np.random.multivariate_normal(mu, cov, size=Ns)\n",
    "# pd.DataFrame(data)\n",
    "\n",
    "\n",
    "x1 = data[:, 0]\n",
    "x2 = data[:, 1]\n",
    "x3 = data[:,2]\n",
    "x4 = data[:,3]\n",
    "x5 = data[:,4]\n",
    "x6 = data[:,]\n",
    "x = data[:,]\n",
    "x = data[:,]\n",
    "x = data[:,]\n",
    "x = data[:,]\n",
    "x = data[:,]\n",
    "x = data[:,]\n",
    "x = data[:,]\n",
    "x20 = data[:,19]"
   ]
  },
  {
   "cell_type": "code",
   "execution_count": 45,
   "metadata": {
    "tags": []
   },
   "outputs": [
    {
     "output_type": "execute_result",
     "data": {
      "text/plain": [
       "51,  3.55529393, -0.47162436,  2.51001252,  0.19159801,\n",
       "        5.2990087 ,  7.24169774,  5.02390147,  1.04320753,  7.55823828,\n",
       "        2.98177806,  3.66257963,  2.9750217 ,  1.56173504,  2.67196209])"
      ]
     },
     "metadata": {},
     "execution_count": 45
    }
   ],
   "source": [
    "x20"
   ]
  },
  {
   "cell_type": "code",
   "execution_count": null,
   "metadata": {},
   "outputs": [],
   "source": []
  },
  {
   "cell_type": "code",
   "execution_count": null,
   "metadata": {},
   "outputs": [],
   "source": []
  },
  {
   "cell_type": "code",
   "execution_count": 4,
   "metadata": {},
   "outputs": [],
   "source": [
    "a = np.array([[-1,1,5],[4,3,-2]])\n",
    "b = np.array([[1,-1],[0,2],[-3,6]])"
   ]
  },
  {
   "cell_type": "code",
   "execution_count": 5,
   "metadata": {},
   "outputs": [
    {
     "output_type": "execute_result",
     "data": {
      "text/plain": [
       "array([[-16,  33],\n",
       "       [ 10, -10]])"
      ]
     },
     "metadata": {},
     "execution_count": 5
    }
   ],
   "source": [
    "a@b"
   ]
  },
  {
   "cell_type": "code",
   "execution_count": 6,
   "metadata": {},
   "outputs": [
    {
     "output_type": "execute_result",
     "data": {
      "text/plain": [
       "array([[-16,  33],\n",
       "       [ 10, -10]])"
      ]
     },
     "metadata": {},
     "execution_count": 6
    }
   ],
   "source": [
    "np.matmul(a, b)"
   ]
  },
  {
   "cell_type": "code",
   "execution_count": 9,
   "metadata": {},
   "outputs": [
    {
     "output_type": "execute_result",
     "data": {
      "text/plain": [
       "array([[ 1,  0, -3],\n",
       "       [-1,  2,  6]])"
      ]
     },
     "metadata": {},
     "execution_count": 9
    }
   ],
   "source": [
    "a.T"
   ]
  },
  {
   "cell_type": "code",
   "execution_count": 11,
   "metadata": {},
   "outputs": [
    {
     "output_type": "execute_result",
     "data": {
      "text/plain": [
       "array([[ 1,  0, -3],\n",
       "       [-1,  2,  6]])"
      ]
     },
     "metadata": {},
     "execution_count": 11
    }
   ],
   "source": [
    "b.T"
   ]
  },
  {
   "cell_type": "code",
   "execution_count": null,
   "metadata": {},
   "outputs": [],
   "source": []
  },
  {
   "cell_type": "code",
   "execution_count": null,
   "metadata": {},
   "outputs": [],
   "source": []
  },
  {
   "cell_type": "code",
   "execution_count": null,
   "metadata": {},
   "outputs": [],
   "source": []
  },
  {
   "cell_type": "code",
   "execution_count": null,
   "metadata": {},
   "outputs": [],
   "source": []
  },
  {
   "cell_type": "code",
   "execution_count": null,
   "metadata": {},
   "outputs": [],
   "source": []
  },
  {
   "cell_type": "code",
   "execution_count": null,
   "metadata": {},
   "outputs": [],
   "source": []
  },
  {
   "cell_type": "code",
   "execution_count": null,
   "metadata": {},
   "outputs": [],
   "source": []
  },
  {
   "source": [
    "2. Generate $Y$ values using the following regression functions: \n",
    "\n",
    "$Y=5+2 X_{1}+5 X_{3}+$ $3 X_{19}+\\epsilon$ \n",
    "for the generated X matrix in #1\n",
    "\n",
    " (1) Estimate the regression line using the least square method and find out the predicted values, residuals for each observation and the mean square errors.\n",
    "\n",
    "(2) Estimate the regression line using the least square method based on the first 5 principal components and find out the predicted values, residuals for each observation and the mean square errors.\n",
    "\n",
    "(3) Compare the results in (1) and (2)."
   ],
   "cell_type": "markdown",
   "metadata": {}
  },
  {
   "cell_type": "code",
   "execution_count": null,
   "metadata": {},
   "outputs": [],
   "source": []
  }
 ]
}