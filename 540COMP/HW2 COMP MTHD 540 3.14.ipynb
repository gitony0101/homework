{
 "metadata": {
  "language_info": {
   "codemirror_mode": {
    "name": "ipython",
    "version": 3
   },
   "file_extension": ".py",
   "mimetype": "text/x-python",
   "name": "python",
   "nbconvert_exporter": "python",
   "pygments_lexer": "ipython3",
   "version": "3.8.6-final"
  },
  "orig_nbformat": 2,
  "kernelspec": {
   "name": "python3",
   "display_name": "Python 3",
   "language": "python"
  }
 },
 "nbformat": 4,
 "nbformat_minor": 2,
 "cells": [
  {
   "source": [
    "HW 2"
   ],
   "cell_type": "markdown",
   "metadata": {}
  },
  {
   "source": [
    "1. (Monte Carlo Integration)\n",
    "\n",
    "(a) Develop Matlab code to approximate the mean of a Beta(α, β) distribution with α = 3 and β = 4 using Monte Carlo integration. You can compare your answer with the analytic solution: α/(α + β)."
   ],
   "cell_type": "markdown",
   "metadata": {}
  },
  {
   "cell_type": "code",
   "execution_count": 1,
   "metadata": {},
   "outputs": [],
   "source": [
    "import numpy as np\n",
    "import pandas as pd\n",
    "import matplotlib.pyplot as plt\n",
    "import scipy.stats as st\n",
    "from scipy.stats import *"
   ]
  },
  {
   "cell_type": "code",
   "execution_count": 2,
   "metadata": {},
   "outputs": [
    {
     "output_type": "stream",
     "name": "stdout",
     "text": [
      "When N=100000,\n Beta distribution's mean = 0.42879269573995077\nThe analytic solution is 0.42857142857142855\n"
     ]
    }
   ],
   "source": [
    "N =100000\n",
    "xr1 = np.random.uniform(0,1,size=N)\n",
    "x1 = beta.pdf(xr1,3, 4)\n",
    "ans1_1 = 1/N * sum(x1 * xr1)\n",
    "print(f'When N={N},\\n Beta distribution\\'s mean = {ans1_1}')\n",
    "print(f'The analytic solution is {3/(3+4)}')"
   ]
  },
  {
   "source": [
    "(b) Approximate the variance of a Gamma(a, b) distribution with a = 1.5 and b = 4 by Monte Carlo integration.Your approximation should get close to the theoretically derived answer."
   ],
   "cell_type": "markdown",
   "metadata": {}
  },
  {
   "cell_type": "code",
   "execution_count": 3,
   "metadata": {},
   "outputs": [
    {
     "output_type": "stream",
     "name": "stdout",
     "text": [
      "When N=100000,\n gamma distribution's variance is 0.10776590451416965\nThe analytic solution is 0.09375\n"
     ]
    }
   ],
   "source": [
    "N =100000\n",
    "alpha, beta = 1.5, 4\n",
    "xr2 = np.random.uniform(0,1,size=N)\n",
    "x2 = gamma.pdf(xr2,alpha,1/beta)\n",
    "mean2 = 1/N * sum(x2*xr2)\n",
    "meansq = 1/N *sum(x2*xr2**2 )\n",
    "var = meansq - mean2**2\n",
    "print(f'When N={N},\\n gamma distribution\\'s variance is {var}')\n",
    "print(f'The analytic solution is {alpha/beta**2}')"
   ]
  },
  {
   "cell_type": "code",
   "execution_count": null,
   "metadata": {},
   "outputs": [],
   "source": []
  },
  {
   "source": [
    "2. Suppose we wish to generate random samples from the Cauchy distribution using importance sampling and MCMC. The probability density of the Cauchy is given by:\n",
    "$$\n",
    "f(\\theta)=\\frac{1}{\\pi\\left(1+\\theta^{2}\\right)}\n",
    "$$\n",
    "We will use the Normal distribution as the proposal distribution. Our proposals are generated from a $\\operatorname{Normal}\\left(\\theta^{(t)}, \\sigma\\right)$ distribution.\n",
    "\n",
    "(a) Generate 500 samples using\n",
    "\n",
    "a. the importance sampling technique\n",
    "\n",
    "b. the Metropolis sampler\n",
    "\n",
    "c. using the $\\mathrm{M}-\\mathrm{H}$ sampler\n",
    "\n",
    "(b) Estimate the probability density function using any density estimation technique based on the above samples from each method.\n",
    "\n",
    "(c) Show the sequence of samples of each chain."
   ],
   "cell_type": "markdown",
   "metadata": {}
  },
  {
   "source": [],
   "cell_type": "markdown",
   "metadata": {}
  },
  {
   "cell_type": "code",
   "execution_count": 1,
   "metadata": {},
   "outputs": [],
   "source": [
    "# a. H(x)= x\n",
    "# G(x)=N(0,1)\n"
   ]
  },
  {
   "cell_type": "code",
   "execution_count": null,
   "metadata": {},
   "outputs": [],
   "source": []
  },
  {
   "cell_type": "code",
   "execution_count": null,
   "metadata": {},
   "outputs": [],
   "source": []
  },
  {
   "cell_type": "code",
   "execution_count": null,
   "metadata": {},
   "outputs": [],
   "source": []
  },
  {
   "cell_type": "code",
   "execution_count": null,
   "metadata": {},
   "outputs": [],
   "source": []
  },
  {
   "cell_type": "code",
   "execution_count": null,
   "metadata": {},
   "outputs": [],
   "source": []
  },
  {
   "source": [
    "b. Generate random samples from the Canchy dist.\n",
    "using MCMC Metropolis sampler\n",
    "$f(\\theta)=\\frac{1}{\\pi\\left(1+\\theta^{2}\\right)}$\n",
    "\n",
    "step 1: genarate $\\theta^{*}$ from $U(-1,1)$\n",
    "\n",
    "Step 2: Calculate the acceptance probability, $\\alpha=min \\left(1, \\frac{p\\left(\\theta^{*}\\right)}{P\\left(\\theta^{(t-1)}\\right)}\\right)$\n",
    "\n",
    "step 3: Generate a $u$ from a Uniform $(0,1)$ distribution.\n",
    "\n",
    "step 4: Iterate until t=T (500)"
   ],
   "cell_type": "markdown",
   "metadata": {}
  },
  {
   "cell_type": "code",
   "execution_count": 5,
   "metadata": {},
   "outputs": [],
   "source": [
    "T = N2\n",
    "theta_0 = np.random.uniform(-1,1,T)"
   ]
  },
  {
   "cell_type": "code",
   "execution_count": 6,
   "metadata": {},
   "outputs": [],
   "source": [
    "def gN(theta_0):\n",
    "    g = norm.rvs(loc=theta_0,scale=1)\n",
    "    return g"
   ]
  },
  {
   "cell_type": "code",
   "execution_count": null,
   "metadata": {},
   "outputs": [],
   "source": []
  },
  {
   "cell_type": "code",
   "execution_count": null,
   "metadata": {},
   "outputs": [],
   "source": []
  },
  {
   "cell_type": "code",
   "execution_count": null,
   "metadata": {},
   "outputs": [],
   "source": []
  },
  {
   "cell_type": "code",
   "execution_count": null,
   "metadata": {},
   "outputs": [],
   "source": []
  },
  {
   "cell_type": "code",
   "execution_count": null,
   "metadata": {},
   "outputs": [],
   "source": []
  },
  {
   "cell_type": "code",
   "execution_count": null,
   "metadata": {},
   "outputs": [],
   "source": []
  },
  {
   "cell_type": "code",
   "execution_count": null,
   "metadata": {},
   "outputs": [],
   "source": []
  },
  {
   "source": [
    "3. Some additional questions for Problem #1.\n",
    "\n",
    "(a) Currently, in Problem #1 above, we take all states from the chain as samples to approximate the target distribution. Therefore, it also includes samples while the chain is still “burning in”. Why is this not a good idea? Can you modify the code such that the effect of burn-in is removed?\n",
    "\n",
    "(b) Explore the effect of different starting conditions. For example, what happens when we start the chain with θ = −30?\n",
    "\n",
    "(c) Calculate the proportion of samples that is accepted on average. Explore the effect of parameter σ on the average acceptance rate."
   ],
   "cell_type": "markdown",
   "metadata": {}
  },
  {
   "cell_type": "code",
   "execution_count": null,
   "metadata": {},
   "outputs": [],
   "source": []
  },
  {
   "cell_type": "code",
   "execution_count": null,
   "metadata": {},
   "outputs": [],
   "source": []
  },
  {
   "cell_type": "code",
   "execution_count": null,
   "metadata": {},
   "outputs": [],
   "source": []
  }
 ]
}