{
 "metadata": {
  "language_info": {
   "codemirror_mode": {
    "name": "ipython",
    "version": 3
   },
   "file_extension": ".py",
   "mimetype": "text/x-python",
   "name": "python",
   "nbconvert_exporter": "python",
   "pygments_lexer": "ipython3",
   "version": "3.8.6-final"
  },
  "orig_nbformat": 2,
  "kernelspec": {
   "name": "python3",
   "display_name": "Python 3",
   "language": "python"
  }
 },
 "nbformat": 4,
 "nbformat_minor": 2,
 "cells": [
  {
   "source": [
    "HW 3 of Computational methods 540\n",
    "\n",
    "Review of basic statistics:MVN"
   ],
   "cell_type": "markdown",
   "metadata": {}
  },
  {
   "cell_type": "code",
   "execution_count": 33,
   "metadata": {},
   "outputs": [],
   "source": [
    "import numpy as np\n",
    "import pandas as pd\n",
    "import matplotlib.pyplot as plt\n",
    "from matplotlib import cm\n",
    "import scipy.stats as st\n",
    "import statsmodels.api as sm\n",
    "from scipy.stats import *"
   ]
  },
  {
   "cell_type": "code",
   "execution_count": 34,
   "metadata": {},
   "outputs": [],
   "source": [
    "class MultivariateNormal:\n",
    "    \"\"\"\n",
    "    Class of multivariate normal distribution.\n",
    "\n",
    "    Parameters\n",
    "    ----------\n",
    "    μ: ndarray(float, dim=1)\n",
    "        the mean of z, N by 1\n",
    "    Σ: ndarray(float, dim=2)\n",
    "        the covarianece matrix of z, N by 1\n",
    "\n",
    "    Arguments\n",
    "    ---------\n",
    "    μ, Σ:\n",
    "        see parameters\n",
    "    μs: list(ndarray(float, dim=1))\n",
    "        list of mean vectors μ1 and μ2 in order\n",
    "    Σs: list(list(ndarray(float, dim=2)))\n",
    "        2 dimensional list of covariance matrices\n",
    "        Σ11, Σ12, Σ21, Σ22 in order\n",
    "    βs: list(ndarray(float, dim=1))\n",
    "        list of regression coefficients β1 and β2 in order\n",
    "    \"\"\"\n",
    "\n",
    "    def __init__(self, μ, Σ):\n",
    "        \"initialization\"\n",
    "        self.μ = np.array(μ)\n",
    "        self.Σ = np.atleast_2d(Σ)\n",
    "\n",
    "    def partition(self, k):\n",
    "        \"\"\"\n",
    "        Given k, partition the random vector z into a size k vector z1\n",
    "        and a size N-k vector z2. Partition the mean vector μ into\n",
    "        μ1 and μ2, and the covariance matrix Σ into Σ11, Σ12, Σ21, Σ22\n",
    "        correspondingly. Compute the regression coefficients β1 and β2\n",
    "        using the partitioned arrays.\n",
    "        \"\"\"\n",
    "        μ = self.μ\n",
    "        Σ = self.Σ\n",
    "\n",
    "        self.μs = [μ[:k], μ[k:]]\n",
    "        self.Σs = [[Σ[:k, :k], Σ[:k, k:]],\n",
    "                   [Σ[k:, :k], Σ[k:, k:]]]\n",
    "\n",
    "        self.βs = [self.Σs[0][1] @ np.linalg.inv(self.Σs[1][1]),\n",
    "                   self.Σs[1][0] @ np.linalg.inv(self.Σs[0][0])]\n",
    "\n",
    "    def cond_dist(self, ind, z):\n",
    "        \"\"\"\n",
    "        Compute the conditional distribution of z1 given z2, or reversely.\n",
    "        Argument ind determines whether we compute the conditional\n",
    "        distribution of z1 (ind=0) or z2 (ind=1).\n",
    "\n",
    "        Returns\n",
    "        ---------\n",
    "        μ_hat: ndarray(float, ndim=1)\n",
    "            The conditional mean of z1 or z2.\n",
    "        Σ_hat: ndarray(float, ndim=2)\n",
    "            The conditional covariance matrix of z1 or z2.\n",
    "        \"\"\"\n",
    "        β = self.βs[ind]\n",
    "        μs = self.μs\n",
    "        Σs = self.Σs\n",
    "\n",
    "        μ_hat = μs[ind] + β @ (z - μs[1-ind])\n",
    "        Σ_hat = Σs[ind][ind] - β @ Σs[1-ind][1-ind] @ β.T\n",
    "\n",
    "        return μ_hat, Σ_hat"
   ]
  },
  {
   "cell_type": "code",
   "execution_count": 35,
   "metadata": {
    "tags": []
   },
   "outputs": [],
   "source": [
    "mu3 = np.array([5,1,2])\n",
    "C = np.random.random((3, 3))\n",
    "cov3 = C @ C.T # positive semi-definite"
   ]
  },
  {
   "cell_type": "code",
   "execution_count": 36,
   "metadata": {},
   "outputs": [
    {
     "output_type": "execute_result",
     "data": {
      "text/plain": [
       "array([[1.4238332 , 1.01905832, 0.97673515],\n",
       "       [1.01905832, 1.12326847, 0.66184074],\n",
       "       [0.97673515, 0.66184074, 0.72402105]])"
      ]
     },
     "metadata": {},
     "execution_count": 36
    }
   ],
   "source": [
    "cov3"
   ]
  },
  {
   "cell_type": "code",
   "execution_count": 37,
   "metadata": {},
   "outputs": [],
   "source": [
    "eigv3 = np.linalg.eigvals(cov3)\n",
    "L = np.linalg.cholesky(cov3)"
   ]
  },
  {
   "cell_type": "code",
   "execution_count": 38,
   "metadata": {},
   "outputs": [
    {
     "output_type": "execute_result",
     "data": {
      "text/plain": [
       "(array([2.92852306, 0.03102488, 0.31157478]),\n",
       " array([[ 1.19324482,  0.        ,  0.        ],\n",
       "        [ 0.85402283,  0.62762526,  0.        ],\n",
       "        [ 0.81855386, -0.0593076 ,  0.22466249]]))"
      ]
     },
     "metadata": {},
     "execution_count": 38
    }
   ],
   "source": [
    "eigv3, L"
   ]
  },
  {
   "cell_type": "code",
   "execution_count": 39,
   "metadata": {},
   "outputs": [],
   "source": [
    "multi_normal = MultivariateNormal(mu3, cov3)"
   ]
  },
  {
   "cell_type": "code",
   "execution_count": 40,
   "metadata": {},
   "outputs": [],
   "source": [
    "k = 1\n",
    "multi_normal.partition(k)"
   ]
  },
  {
   "cell_type": "code",
   "execution_count": 41,
   "metadata": {},
   "outputs": [],
   "source": [
    "ind = 0\n",
    "z2 = np.array([2., 5.])\n",
    "\n",
    "μ1_hat, Σ1_hat = multi_normal.cond_dist(ind, z2)"
   ]
  },
  {
   "cell_type": "code",
   "execution_count": 42,
   "metadata": {},
   "outputs": [],
   "source": [
    "n = 2000\n",
    "data = np.random.multivariate_normal(mu3, cov3, size=n)\n",
    "z1_data = data[:, :k]\n",
    "z2_data = data[:, k:]"
   ]
  },
  {
   "cell_type": "code",
   "execution_count": 43,
   "metadata": {},
   "outputs": [],
   "source": [
    "μ1, μ2 = multi_normal.μs\n",
    "results = sm.OLS(z1_data - μ1, z2_data - μ2).fit()"
   ]
  },
  {
   "cell_type": "code",
   "execution_count": 44,
   "metadata": {},
   "outputs": [
    {
     "output_type": "execute_result",
     "data": {
      "text/plain": [
       "(array([[0.24351701, 1.12643918]]), array([0.22703765, 1.14483481]))"
      ]
     },
     "metadata": {},
     "execution_count": 44
    }
   ],
   "source": [
    "multi_normal.βs[0], results.params\n"
   ]
  },
  {
   "cell_type": "code",
   "execution_count": 45,
   "metadata": {},
   "outputs": [
    {
     "output_type": "execute_result",
     "data": {
      "text/plain": [
       "(array([[0.07544242]]), 0.07378335869479272)"
      ]
     },
     "metadata": {},
     "execution_count": 45
    }
   ],
   "source": [
    "Σ1_hat, results.resid @ results.resid.T / (n - 1)"
   ]
  },
  {
   "cell_type": "code",
   "execution_count": 46,
   "metadata": {},
   "outputs": [
    {
     "output_type": "execute_result",
     "data": {
      "text/plain": [
       "(array([8.62283455]), array([8.66154208]))"
      ]
     },
     "metadata": {},
     "execution_count": 46
    }
   ],
   "source": [
    "μ1_hat, results.predict(z2 - μ2) + μ1"
   ]
  },
  {
   "cell_type": "code",
   "execution_count": null,
   "metadata": {},
   "outputs": [],
   "source": []
  },
  {
   "cell_type": "code",
   "execution_count": null,
   "metadata": {},
   "outputs": [],
   "source": []
  },
  {
   "cell_type": "code",
   "execution_count": null,
   "metadata": {},
   "outputs": [],
   "source": []
  },
  {
   "cell_type": "code",
   "execution_count": null,
   "metadata": {},
   "outputs": [],
   "source": []
  },
  {
   "cell_type": "code",
   "execution_count": null,
   "metadata": {},
   "outputs": [],
   "source": []
  },
  {
   "cell_type": "code",
   "execution_count": null,
   "metadata": {},
   "outputs": [],
   "source": []
  },
  {
   "cell_type": "code",
   "execution_count": null,
   "metadata": {},
   "outputs": [],
   "source": []
  },
  {
   "cell_type": "code",
   "execution_count": 51,
   "metadata": {},
   "outputs": [],
   "source": [
    "# x = np.linspace(0, 5, 10)\n",
    "# mean = np.array([5,1,2])\n",
    "# cov = np.array([[20,11,-2], [11,2,8],[-2,8,7]])\n",
    "# mvn3 = multivariate_normal(x,mean,cov)"
   ]
  },
  {
   "cell_type": "code",
   "execution_count": 52,
   "metadata": {},
   "outputs": [],
   "source": [
    "# d = 3\n",
    "# mean = np.matrix([5,1,2])\n",
    "# cov = np.matrix([[20,11,-2], [11,2,8],[-2,8,7]])\n",
    "# # eval = np.linalg.eigvals(cov)\n",
    "# L = linalg.cholesky(cov)\n",
    "# n = 50  # Samples to draw\n",
    "# X = np.random.normal(size=(d, n))\n",
    "# # Apply the transformation\n",
    "# Y = L.dot(X) + mean\n",
    "# eval = np.linalg.eigvals(cov)\n",
    "# eval"
   ]
  },
  {
   "cell_type": "code",
   "execution_count": 4,
   "metadata": {},
   "outputs": [
    {
     "output_type": "execute_result",
     "data": {
      "text/plain": [
       "array([-7.68816417, 25.37549149, 11.31267269])"
      ]
     },
     "metadata": {},
     "execution_count": 4
    }
   ],
   "source": []
  },
  {
   "cell_type": "code",
   "execution_count": null,
   "metadata": {},
   "outputs": [],
   "source": []
  },
  {
   "cell_type": "code",
   "execution_count": null,
   "metadata": {},
   "outputs": [],
   "source": []
  },
  {
   "cell_type": "code",
   "execution_count": 20,
   "metadata": {},
   "outputs": [
    {
     "output_type": "execute_result",
     "data": {
      "text/plain": [
       "(array([0.64103298, 0.59192331, 0.41129166]),\n",
       " array([[1.19540972, 1.30570592, 1.29346098],\n",
       "        [1.30570592, 1.50171879, 1.39564807],\n",
       "        [1.29346098, 1.39564807, 2.09241537]]))"
      ]
     },
     "metadata": {},
     "execution_count": 20
    }
   ],
   "source": []
  },
  {
   "cell_type": "code",
   "execution_count": null,
   "metadata": {},
   "outputs": [],
   "source": []
  },
  {
   "cell_type": "code",
   "execution_count": null,
   "metadata": {},
   "outputs": [],
   "source": []
  }
 ]
}