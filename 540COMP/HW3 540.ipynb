{
 "metadata": {
  "language_info": {
   "codemirror_mode": {
    "name": "ipython",
    "version": 3
   },
   "file_extension": ".py",
   "mimetype": "text/x-python",
   "name": "python",
   "nbconvert_exporter": "python",
   "pygments_lexer": "ipython3",
   "version": "3.8.6-final"
  },
  "orig_nbformat": 2,
  "kernelspec": {
   "name": "python3",
   "display_name": "Python 3",
   "language": "python"
  }
 },
 "nbformat": 4,
 "nbformat_minor": 2,
 "cells": [
  {
   "source": [
    "HW 3 of Computational methods 540\n",
    "\n",
    "Review of basic statistics:MVN"
   ],
   "cell_type": "markdown",
   "metadata": {}
  },
  {
   "cell_type": "code",
   "execution_count": 6,
   "metadata": {},
   "outputs": [],
   "source": [
    "import numpy as np\n",
    "import pandas as pd\n",
    "import matplotlib.pyplot as plt\n",
    "from mpl_toolkits.mplot3d import Axes3D\n",
    "from matplotlib import cm\n",
    "import matplotlib as mpl\n",
    "import scipy.stats as st\n",
    "from scipy.stats import *"
   ]
  },
  {
   "cell_type": "code",
   "execution_count": 14,
   "metadata": {
    "tags": []
   },
   "outputs": [],
   "source": [
    "N = 2000\n",
    "d = 3\n",
    "x = np.random.normal(size=(d, N))\n",
    "mu3 = np.random.random(3)\n",
    "C = np.random.random((3, 3))\n",
    "cov3 = C @ C.T # positive semi-definite"
   ]
  },
  {
   "cell_type": "code",
   "execution_count": 15,
   "metadata": {},
   "outputs": [
    {
     "output_type": "execute_result",
     "data": {
      "text/plain": [
       "(array([0.07016291, 0.57533288, 0.39547161]),\n",
       " array([[0.53864383, 0.2472876 , 0.27038971],\n",
       "        [0.2472876 , 0.20232173, 0.13264607],\n",
       "        [0.27038971, 0.13264607, 0.13699239]]))"
      ]
     },
     "metadata": {},
     "execution_count": 15
    }
   ],
   "source": [
    "mu3 , cov3"
   ]
  },
  {
   "cell_type": "code",
   "execution_count": 16,
   "metadata": {},
   "outputs": [],
   "source": [
    "eigv3 = np.linalg.eigvals(cov3)\n",
    "L = np.linalg.cholesky(cov3)"
   ]
  },
  {
   "cell_type": "code",
   "execution_count": 17,
   "metadata": {},
   "outputs": [
    {
     "output_type": "execute_result",
     "data": {
      "text/plain": [
       "(array([8.05175293e-01, 7.24172104e-02, 3.65451169e-04]),\n",
       " array([[0.73392359, 0.        , 0.        ],\n",
       "        [0.33693916, 0.29798277, 0.        ],\n",
       "        [0.3684167 , 0.0285656 , 0.0211076 ]]))"
      ]
     },
     "metadata": {},
     "execution_count": 17
    }
   ],
   "source": [
    "eigv3, L"
   ]
  },
  {
   "cell_type": "code",
   "execution_count": 13,
   "metadata": {},
   "outputs": [
    {
     "output_type": "execute_result",
     "data": {
      "text/plain": [
       "array([[ 1.        , -0.90866959, -0.93974699],\n",
       "       [-0.90866959,  1.        ,  0.996656  ],\n",
       "       [-0.93974699,  0.996656  ,  1.        ]])"
      ]
     },
     "metadata": {},
     "execution_count": 13
    }
   ],
   "source": []
  },
  {
   "cell_type": "code",
   "execution_count": null,
   "metadata": {},
   "outputs": [],
   "source": []
  },
  {
   "cell_type": "code",
   "execution_count": null,
   "metadata": {},
   "outputs": [],
   "source": []
  },
  {
   "cell_type": "code",
   "execution_count": null,
   "metadata": {},
   "outputs": [],
   "source": []
  },
  {
   "cell_type": "code",
   "execution_count": null,
   "metadata": {},
   "outputs": [],
   "source": []
  },
  {
   "cell_type": "code",
   "execution_count": null,
   "metadata": {},
   "outputs": [],
   "source": []
  },
  {
   "cell_type": "code",
   "execution_count": 2,
   "metadata": {},
   "outputs": [],
   "source": [
    "# x = np.linspace(0, 5, 10)\n",
    "# mean = np.array([5,1,2])\n",
    "# cov = np.array([[20,11,-2], [11,2,8],[-2,8,7]])\n",
    "# mvn3 = multivariate_normal(x,mean,cov)"
   ]
  },
  {
   "cell_type": "code",
   "execution_count": 1,
   "metadata": {},
   "outputs": [],
   "source": [
    "# d = 3\n",
    "# mean = np.matrix([5,1,2])\n",
    "# cov = np.matrix([[20,11,-2], [11,2,8],[-2,8,7]])\n",
    "# # eval = np.linalg.eigvals(cov)\n",
    "# L = linalg.cholesky(cov)\n",
    "# n = 50  # Samples to draw\n",
    "# X = np.random.normal(size=(d, n))\n",
    "# # Apply the transformation\n",
    "# Y = L.dot(X) + mean\n",
    "# eval = np.linalg.eigvals(cov)\n",
    "# eval"
   ]
  },
  {
   "cell_type": "code",
   "execution_count": 4,
   "metadata": {},
   "outputs": [
    {
     "output_type": "execute_result",
     "data": {
      "text/plain": [
       "array([-7.68816417, 25.37549149, 11.31267269])"
      ]
     },
     "metadata": {},
     "execution_count": 4
    }
   ],
   "source": []
  },
  {
   "cell_type": "code",
   "execution_count": null,
   "metadata": {},
   "outputs": [],
   "source": []
  },
  {
   "cell_type": "code",
   "execution_count": null,
   "metadata": {},
   "outputs": [],
   "source": []
  },
  {
   "cell_type": "code",
   "execution_count": 20,
   "metadata": {},
   "outputs": [
    {
     "output_type": "execute_result",
     "data": {
      "text/plain": [
       "(array([0.64103298, 0.59192331, 0.41129166]),\n",
       " array([[1.19540972, 1.30570592, 1.29346098],\n",
       "        [1.30570592, 1.50171879, 1.39564807],\n",
       "        [1.29346098, 1.39564807, 2.09241537]]))"
      ]
     },
     "metadata": {},
     "execution_count": 20
    }
   ],
   "source": []
  },
  {
   "cell_type": "code",
   "execution_count": null,
   "metadata": {},
   "outputs": [],
   "source": []
  },
  {
   "cell_type": "code",
   "execution_count": null,
   "metadata": {},
   "outputs": [],
   "source": []
  }
 ]
}